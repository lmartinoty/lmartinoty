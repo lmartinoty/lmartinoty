{
 "cells": [
  {
   "cell_type": "markdown",
   "metadata": {},
   "source": [
    "# SCORE DE PROPENSION ET APPARIEMENT\n",
    "\n",
    "Cette application s'inspire de l'article de Douglas Almond, Kenneth Y. Chay, and David S. Lee : \"The Costs of Low Birth Weight\", *Quarterly Journal of Economics*, 120(3):1031-1083.\n",
    "\n",
    "L'objectif : étudier l'effet causal du fait que les mères fument durant leur grossesse sur le poids des enfants à la naissance. Connaître les déterminants du poids à la naissance hors facteurs génétiques est crucial car le poids à la naissance a une importante répercussion sur une série de variables en santé, développement, éducation, et *in fine* revenu des enfants.\n",
    "\n",
    "Les données sont issues du registre des naissances de Pennsylvanie en 1993. Chaque ligne rapporte des observations sur la mère et son enfant. Le codebook est disponible : **TD7_codebook.txt**."
   ]
  },
  {
   "cell_type": "markdown",
   "metadata": {},
   "source": [
    "## 1. Intuition et modèle linéaire\n",
    "\n",
    "Dans ce contexte, quelle est notre variable d'intérêt ou résultat ? Notre variable de traitement ? Identifiez ces variables dans le codebook : **TD7_codebook.txt**."
   ]
  },
  {
   "cell_type": "code",
   "execution_count": null,
   "metadata": {},
   "outputs": [],
   "source": []
  },
  {
   "cell_type": "markdown",
   "metadata": {},
   "source": [
    "Ouvrir les données **TD7_ps1_postdrop.dta**. "
   ]
  },
  {
   "cell_type": "code",
   "execution_count": null,
   "metadata": {},
   "outputs": [],
   "source": []
  },
  {
   "cell_type": "markdown",
   "metadata": {},
   "source": [
    "On souhaite travailler sur le sous échantillon des femmes de 32 ans. Créer le sous-échantillon que l'on nommera d. "
   ]
  },
  {
   "cell_type": "code",
   "execution_count": null,
   "metadata": {},
   "outputs": [],
   "source": []
  },
  {
   "cell_type": "markdown",
   "metadata": {},
   "source": [
    "Estimer le modèle simple. Quelle interprétation donner des résultats ? Doit-on interdire aux femmes enceintes de fumer au vu de ces résultats ?"
   ]
  },
  {
   "cell_type": "code",
   "execution_count": null,
   "metadata": {},
   "outputs": [],
   "source": []
  },
  {
   "cell_type": "markdown",
   "metadata": {},
   "source": [
    "Supposons que le fait pour une mère de fumer ou non est assigné de manière aléatoire, conditionnellement à d'autres variables prédéterminées qui déterminent le poids de l'enfant à la naissance. \n",
    "\n",
    "a) Quelle méthode économétrique utiliseriez-vous ? \n",
    "\n",
    "b) Quelles variables de contrôle choisiriez-vous ?\n",
    "\n",
    "c) Quelle est la source de mauvaise spécification du modèle si on choisit cette forme ? "
   ]
  },
  {
   "cell_type": "code",
   "execution_count": null,
   "metadata": {},
   "outputs": [],
   "source": []
  },
  {
   "cell_type": "markdown",
   "metadata": {},
   "source": [
    "Estimer le modèle multiple avec les variables prédéterminées : *pldel3* *ormoth* *mrace3* *dmeduc* *dmar* *dfage* *orfath* *dfeduc*."
   ]
  },
  {
   "cell_type": "code",
   "execution_count": null,
   "metadata": {},
   "outputs": [],
   "source": []
  },
  {
   "cell_type": "markdown",
   "metadata": {},
   "source": [
    "## 2. Création du score de propension\n",
    "\n",
    "Décrivez en quelques lignes en quoi consiste le score de propension et comment il contribue à estimer l'effet moyen causal du traitement (ici : le fait de fumer durant la grossesse) quand le traitement est assigné de manière aléatoire une fois conditionné par les variables prédéterminées."
   ]
  },
  {
   "cell_type": "markdown",
   "metadata": {},
   "source": [
    "Décrivez en quelques lignes comment s'obtient le score de propension que nous notons $\\hat{p}_{i}$ dans le modèle et que nous nommons *pr_score* dans les données."
   ]
  },
  {
   "cell_type": "code",
   "execution_count": null,
   "metadata": {},
   "outputs": [],
   "source": []
  },
  {
   "cell_type": "markdown",
   "metadata": {},
   "source": [
    "On estime le score de propension : "
   ]
  },
  {
   "cell_type": "code",
   "execution_count": null,
   "metadata": {},
   "outputs": [],
   "source": [
    "propensity <- glm(tobacco ~  dmage+ dmeduc+ dmar\n",
    "                     +dfage +dfeduc+ phyper +pre4000+ alcohol +wgain, binomial(probit), data=d)\n",
    "summary(propensity)"
   ]
  },
  {
   "cell_type": "markdown",
   "metadata": {},
   "source": [
    "Etes-vous d'accord avec cette estimation ? "
   ]
  },
  {
   "cell_type": "code",
   "execution_count": null,
   "metadata": {},
   "outputs": [],
   "source": []
  },
  {
   "cell_type": "markdown",
   "metadata": {},
   "source": [
    "Estimez à nouveau le score de propension avec les variables prédéterminées : *pldel3* *ormoth* *mrace3* *dmeduc* *dmar* *dfage* *orfath* *dfeduc*"
   ]
  },
  {
   "cell_type": "code",
   "execution_count": null,
   "metadata": {},
   "outputs": [],
   "source": []
  },
  {
   "cell_type": "markdown",
   "metadata": {},
   "source": [
    "On souhaite montrer graphiquement la distribution du score de propension selon le groupe (unités traitées, unités de contrôle -- ici mères fumeuses ou non-fumeuses), ainsi qu'un tableau donnant les statistiques descriptives de ce score par groupe. Pour cela on doit d'abord prédire le score :"
   ]
  },
  {
   "cell_type": "code",
   "execution_count": null,
   "metadata": {},
   "outputs": [],
   "source": []
  },
  {
   "cell_type": "markdown",
   "metadata": {},
   "source": [
    "Examinez les 6 premières lignes de ce dataframe : "
   ]
  },
  {
   "cell_type": "code",
   "execution_count": null,
   "metadata": {},
   "outputs": [],
   "source": []
  },
  {
   "cell_type": "markdown",
   "metadata": {},
   "source": [
    "On adopte deux types de représentations graphiques du support commun : \n",
    "- un hisogramme séparé, \n",
    "- ou une estimation empirique de la densité par fonction noyau\n",
    "\n",
    "Les deux graphiques donnent la même information sur la qualité du support commun des scores estimés) :"
   ]
  },
  {
   "cell_type": "code",
   "execution_count": null,
   "metadata": {
    "scrolled": true
   },
   "outputs": [],
   "source": [
    "##histogramme :\n",
    "library(plyr)\n",
    "library(dplyr)\n",
    "library(ggplot2)\n",
    "labs <- paste(\"Statut:\", c(\"Fumeur\", \"Non-fumeur\"))\n",
    "prs_df %>%\n",
    "  mutate(tobacco = ifelse(tobacco == 1, labs[1], labs[2])) %>%\n",
    "  ggplot(aes(x = pr_score)) +\n",
    "  geom_histogram(color = \"white\", bins=100) +\n",
    "  facet_wrap(~tobacco) +\n",
    "  xlab(\"Score de propension: probabilité de fumer pendant la grossesse\") +\n",
    "  ylab(\"\") +\n",
    "  theme_bw()"
   ]
  },
  {
   "cell_type": "code",
   "execution_count": null,
   "metadata": {},
   "outputs": [],
   "source": [
    "#ou encore densité empirique : \n",
    "plot(density(prs_df$pr_score[\n",
    "  prs_df$tobacco==0]),col=\"blue\",lty=\"dotted\",main=\"Densité noyau du score de propension\",ylab=\"Densité\",xlab=\"Score\")\n",
    "lines(density(prs_df$pr_score[\n",
    "  prs_df$tobacco==1]), col=\"red\")\n",
    "legend(\"topright\", c(\"Non-fumeurs\",\"Fumeurs\"), lty = c(3,1), col = c(\"blue\",\"red\"))"
   ]
  },
  {
   "cell_type": "markdown",
   "metadata": {},
   "source": [
    "Qu'en conclure ? "
   ]
  },
  {
   "cell_type": "code",
   "execution_count": null,
   "metadata": {},
   "outputs": [],
   "source": []
  },
  {
   "cell_type": "markdown",
   "metadata": {},
   "source": [
    "Que faire pour améliorer la qualité du support commun ?"
   ]
  },
  {
   "cell_type": "code",
   "execution_count": null,
   "metadata": {},
   "outputs": [],
   "source": []
  },
  {
   "cell_type": "markdown",
   "metadata": {},
   "source": [
    "## 3. Estimations avec score de propension\n",
    "\n",
    "Nous utilisons $\\hat{p}_{i}$ pour améliorer l'estimation de l'effet causal du fait de fumer sur le poids des nouveaux-nés. Commencer par ajouter le score *pr_score* au dataframe *d* et trimmer les données."
   ]
  },
  {
   "cell_type": "code",
   "execution_count": null,
   "metadata": {},
   "outputs": [],
   "source": []
  },
  {
   "cell_type": "markdown",
   "metadata": {},
   "source": [
    "### 3.1 Utilisation directe du score de propension\n",
    "\n",
    "Nous introduisons d'abord $\\hat{p}_{i}$ comme variable dans l'équation simple: $dbrwt_{i} = \\gamma D_{i} + u_{i}$. Estimer. Quel est l'effet moyen du traitement ? Commenter."
   ]
  },
  {
   "cell_type": "code",
   "execution_count": null,
   "metadata": {},
   "outputs": [],
   "source": []
  },
  {
   "cell_type": "markdown",
   "metadata": {},
   "source": [
    "Pourquoi l'introduction du score de propension n'a-t-elle que peu de valeur ajoutée pour résoudre notre problème de sélection sur observables par rapport à un modèle linéaire classique ?  "
   ]
  },
  {
   "cell_type": "code",
   "execution_count": null,
   "metadata": {},
   "outputs": [],
   "source": [
    "#pour rappel:\n",
    "coef(simple)[2]\n",
    "coef(multiple)[2]\n",
    "coef(simple_p)[2]"
   ]
  },
  {
   "cell_type": "markdown",
   "metadata": {},
   "source": [
    "### 3.2 Pondération par le score de propension\n",
    "\n",
    "Nous utilisons la méthode proposée par Hirano, Imbens et Ridder (2003) de pondération par score de propension.\n",
    "\n",
    "a) Donner la formule de la pondération.\n",
    "\n",
    "b) Expliquer en quoi cette pondération permet de mieux mesurer l'effet moyen du traitement. "
   ]
  },
  {
   "cell_type": "code",
   "execution_count": null,
   "metadata": {},
   "outputs": [],
   "source": []
  },
  {
   "cell_type": "markdown",
   "metadata": {},
   "source": [
    "Créer le poids. "
   ]
  },
  {
   "cell_type": "code",
   "execution_count": null,
   "metadata": {},
   "outputs": [],
   "source": []
  },
  {
   "cell_type": "markdown",
   "metadata": {},
   "source": [
    "Pour introduire les poids dans la régression, on utilise l'option **weights=** dans **lm()**. \n",
    "Estimer le modèle. Quel est l'effet moyen du traitement ?"
   ]
  },
  {
   "cell_type": "code",
   "execution_count": null,
   "metadata": {},
   "outputs": [],
   "source": []
  },
  {
   "cell_type": "markdown",
   "metadata": {},
   "source": [
    "Quel est le principal avantage de cette approche ? Le principal désavantage ? "
   ]
  },
  {
   "cell_type": "code",
   "execution_count": null,
   "metadata": {},
   "outputs": [],
   "source": []
  },
  {
   "cell_type": "markdown",
   "metadata": {},
   "source": [
    "### 3.3 Estimation par bloc sur le score de propension\n",
    "\n",
    "Nous utilisons la méthode proposée par Dehejia et Wahba (2002). \n",
    "\n",
    "a) Comment fonctionne la stratification ? Pourquoi le support commun est-il particulièrement crucial ? \n",
    "\n",
    "b) On calcule l'effet moyen du traitement grâce à 100 blocs. On obtient : $\\hat{\\tau}=-213,62$. Expliquez les différentes étapes du calcul. \n",
    "\n",
    "c) Que faudrait-il vérifier au sein de chaque bloc ? \n"
   ]
  },
  {
   "cell_type": "code",
   "execution_count": null,
   "metadata": {},
   "outputs": [],
   "source": []
  },
  {
   "cell_type": "markdown",
   "metadata": {},
   "source": [
    "### 3.4 Appariement par le score de propension\n",
    "\n",
    "Le score de propension peut être mobilisé pour construire un groupe de contrôle qui ressemble au groupe de traitement : ce sont les techniques d'appariement par score de propension. \n",
    "\n",
    "Citez une méthode simple d'appariement par score de propension."
   ]
  },
  {
   "cell_type": "code",
   "execution_count": null,
   "metadata": {},
   "outputs": [],
   "source": []
  },
  {
   "cell_type": "markdown",
   "metadata": {},
   "source": [
    "On souhaite calculer l'effet moyen du traitement avec cette méthode. A combien d'appariement va-t-on procéder ?"
   ]
  },
  {
   "cell_type": "code",
   "execution_count": null,
   "metadata": {},
   "outputs": [],
   "source": []
  },
  {
   "cell_type": "markdown",
   "metadata": {},
   "source": [
    "On estime le modèle avec appariement par le plus proche voisin (sur un sous-échantillon des fumeuses de 32 ans). Pour cela :\n",
    "- on charge le package \"MatchIt\" (et s'il le faut on l'installe d'abord)\n",
    "- on cherche les plus proches voisins avec la fonction matchit(y~x, method=\"nearest\", data=...), où y est le traitement, et x le score\n",
    "- on génère le dataframe qui inclut les observations traitées et leur plus proche voisin\n",
    "- on analyse la qualité de l'appariement\n"
   ]
  },
  {
   "cell_type": "markdown",
   "metadata": {},
   "source": [
    "Chargement :"
   ]
  },
  {
   "cell_type": "code",
   "execution_count": null,
   "metadata": {},
   "outputs": [],
   "source": []
  },
  {
   "cell_type": "markdown",
   "metadata": {},
   "source": [
    "Recherche des plus proches voisins : "
   ]
  },
  {
   "cell_type": "code",
   "execution_count": null,
   "metadata": {},
   "outputs": [],
   "source": []
  },
  {
   "cell_type": "markdown",
   "metadata": {},
   "source": [
    "Constitution du dataframe :"
   ]
  },
  {
   "cell_type": "code",
   "execution_count": null,
   "metadata": {},
   "outputs": [],
   "source": []
  },
  {
   "cell_type": "markdown",
   "metadata": {},
   "source": [
    "Qualité de l'appariement : refaire le graphique de votre choix de la partie 2 (histogramme ou densité), avec le dataframe crée ci-dessus."
   ]
  },
  {
   "cell_type": "code",
   "execution_count": null,
   "metadata": {},
   "outputs": [],
   "source": []
  },
  {
   "cell_type": "code",
   "execution_count": null,
   "metadata": {},
   "outputs": [],
   "source": [
    "#NOTE : MatchIt donne des informations sur la qualité de l'appariemment :\n",
    "summary(voisins) \n",
    "plot(voisins)"
   ]
  },
  {
   "cell_type": "markdown",
   "metadata": {},
   "source": [
    "Estimer le modèle simple sur les données appariées. "
   ]
  },
  {
   "cell_type": "code",
   "execution_count": null,
   "metadata": {},
   "outputs": [],
   "source": []
  },
  {
   "cell_type": "markdown",
   "metadata": {},
   "source": [
    "NOTE : On peut représenter graphiquement les effets mesurés par les différents modèles estimés :"
   ]
  },
  {
   "cell_type": "code",
   "execution_count": null,
   "metadata": {},
   "outputs": [],
   "source": [
    "#modèle simple\n",
    "est1<-coef(simple)[2]\n",
    "c1<-confint(simple)[2,]\n",
    "\n",
    "#multiple\n",
    "est2<-coef(multiple)[2]\n",
    "c2<-confint(multiple)[2,]\n",
    "\n",
    "#modèle simple avec score\n",
    "est3<-coef(simple_p)[2]\n",
    "c3<-confint(simple_p)[2,]\n",
    "\n",
    "#modèle repondéré simple\n",
    "est4<-coef(reweight)[2]\n",
    "c4<-confint(reweight)[2,]\n",
    "\n",
    "#modèle repondéré multiple\n",
    "est5<-coef(reweight_withcontrols)[2]\n",
    "c5<-confint(reweight_withcontrols)[2,]\n",
    "\n",
    "#appariement par le plus plus proche voisin\n",
    "est6<-coef(nn)[2]\n",
    "c6<-confint(nn)[2,]"
   ]
  },
  {
   "cell_type": "code",
   "execution_count": null,
   "metadata": {},
   "outputs": [],
   "source": [
    "#création du data frame \n",
    "est <- data.frame(est=c(est1,est2,est3,est4,est5,est6),\n",
    "                    c_inf=c(c1[1],c2[1],c3[1],c4[1],c5[1],c6[1]),\n",
    "                    c_sup=c(c1[2],c2[2],c3[2],c4[2],c5[2],c6[2]),\n",
    "                    model=c(\"Simple\",\"Multiple\",\"Simple+score\",\"Simple+repond\",\"Multiple+pond\",\"Plus proche voisin\"))\n",
    "\n",
    "est"
   ]
  },
  {
   "cell_type": "code",
   "execution_count": null,
   "metadata": {},
   "outputs": [],
   "source": [
    "#graphique\n",
    "ggplot(est,aes(x=model,y=est))+ geom_point() +\n",
    "    geom_errorbar(aes(ymin=c_inf,ymax=c_sup),width=0.2) +\n",
    "    geom_hline(yintercept=0, color=\"red\") +\n",
    "    xlab(\"Modèles\") +\n",
    "    ylab(\"Effet de fumer lors de la grossesse sur le poids à la naissance\")\n"
   ]
  },
  {
   "cell_type": "markdown",
   "metadata": {},
   "source": [
    "OPTIONNEL : En quoi consiste l'appariement par score de propension sur la base de la fonction noyau ?"
   ]
  },
  {
   "cell_type": "code",
   "execution_count": null,
   "metadata": {},
   "outputs": [],
   "source": []
  }
 ],
 "metadata": {
  "kernelspec": {
   "display_name": "R",
   "language": "R",
   "name": "ir"
  },
  "language_info": {
   "codemirror_mode": "r",
   "file_extension": ".r",
   "mimetype": "text/x-r-source",
   "name": "R",
   "pygments_lexer": "r",
   "version": "3.6.1"
  }
 },
 "nbformat": 4,
 "nbformat_minor": 2
}

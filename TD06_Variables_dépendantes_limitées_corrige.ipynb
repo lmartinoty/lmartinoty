{
 "cells": [
  {
   "cell_type": "markdown",
   "metadata": {},
   "source": [
    "# Modèles à variable dépendante limitée\n",
    "\n",
    "Cette application reprend la proposition de Stock et Watson (le manuel) qui utilisent les données de l'article de Alicia H Munnell, Geoffrey MB Tootell, Lynn E Browne, and James McEneaney : \"Mortgage lending in\n",
    "boston: Interpreting hmda data.\" *The American Economic Review*, pages 25-53, 1996.\n",
    "\n",
    "Dans cet article, les chercheurs de la Federal Reserve Bank de Boston souhaitent savoir les noirs américains sont discriminés dans l'accès au crédit immobilier. Ils collectent des données sur les demandes de prêts immobiliers en 1990 dans Boston et sa banlieue. Ils obtiennent 2380 observations de demandeurs blanc et noir-américain. \n",
    "\n",
    "Les données sont décrites dans le codebook simplifié : **TD6_codebook.png** : \n",
    "\n",
    "![title](TD6_codebook.png)"
   ]
  },
  {
   "cell_type": "markdown",
   "metadata": {},
   "source": [
    "## Intuition\n",
    "On ouvre la base de données : **TD6_hdma.dta**. "
   ]
  },
  {
   "cell_type": "code",
   "execution_count": 1,
   "metadata": {},
   "outputs": [
    {
     "data": {
      "text/html": [
       "<ol class=list-inline>\n",
       "\t<li>2380</li>\n",
       "\t<li>14</li>\n",
       "</ol>\n"
      ],
      "text/latex": [
       "\\begin{enumerate*}\n",
       "\\item 2380\n",
       "\\item 14\n",
       "\\end{enumerate*}\n"
      ],
      "text/markdown": [
       "1. 2380\n",
       "2. 14\n",
       "\n",
       "\n"
      ],
      "text/plain": [
       "[1] 2380   14"
      ]
     },
     "metadata": {},
     "output_type": "display_data"
    },
    {
     "data": {
      "text/html": [
       "<table>\n",
       "<thead><tr><th scope=col>deny</th><th scope=col>pi_rat</th><th scope=col>black</th><th scope=col>hse_inc</th><th scope=col>loan_val</th><th scope=col>ccred</th><th scope=col>mcred</th><th scope=col>pubrec</th><th scope=col>denpmi</th><th scope=col>selfemp</th><th scope=col>single</th><th scope=col>hischl</th><th scope=col>probunmp</th><th scope=col>condo</th></tr></thead>\n",
       "<tbody>\n",
       "\t<tr><td>0        </td><td>0.221    </td><td>0        </td><td>0.221    </td><td>0.8000000</td><td>5        </td><td>2        </td><td>0        </td><td>0        </td><td>0        </td><td>0        </td><td>1        </td><td>3.9      </td><td>0        </td></tr>\n",
       "\t<tr><td>0        </td><td>0.265    </td><td>0        </td><td>0.265    </td><td>0.9218750</td><td>2        </td><td>2        </td><td>0        </td><td>0        </td><td>0        </td><td>1        </td><td>1        </td><td>3.2      </td><td>0        </td></tr>\n",
       "\t<tr><td>0        </td><td>0.372    </td><td>0        </td><td>0.248    </td><td>0.9203980</td><td>1        </td><td>2        </td><td>0        </td><td>0        </td><td>0        </td><td>0        </td><td>1        </td><td>3.2      </td><td>0        </td></tr>\n",
       "\t<tr><td>0        </td><td>0.320    </td><td>0        </td><td>0.250    </td><td>0.8604651</td><td>1        </td><td>2        </td><td>0        </td><td>0        </td><td>0        </td><td>0        </td><td>1        </td><td>4.3      </td><td>0        </td></tr>\n",
       "\t<tr><td>0        </td><td>0.360    </td><td>0        </td><td>0.350    </td><td>0.6000000</td><td>1        </td><td>1        </td><td>0        </td><td>0        </td><td>0        </td><td>0        </td><td>1        </td><td>3.2      </td><td>0        </td></tr>\n",
       "\t<tr><td>0        </td><td>0.240    </td><td>0        </td><td>0.170    </td><td>0.5105263</td><td>1        </td><td>1        </td><td>0        </td><td>0        </td><td>0        </td><td>0        </td><td>1        </td><td>3.9      </td><td>0        </td></tr>\n",
       "</tbody>\n",
       "</table>\n"
      ],
      "text/latex": [
       "\\begin{tabular}{r|llllllllllllll}\n",
       " deny & pi\\_rat & black & hse\\_inc & loan\\_val & ccred & mcred & pubrec & denpmi & selfemp & single & hischl & probunmp & condo\\\\\n",
       "\\hline\n",
       "\t 0         & 0.221     & 0         & 0.221     & 0.8000000 & 5         & 2         & 0         & 0         & 0         & 0         & 1         & 3.9       & 0        \\\\\n",
       "\t 0         & 0.265     & 0         & 0.265     & 0.9218750 & 2         & 2         & 0         & 0         & 0         & 1         & 1         & 3.2       & 0        \\\\\n",
       "\t 0         & 0.372     & 0         & 0.248     & 0.9203980 & 1         & 2         & 0         & 0         & 0         & 0         & 1         & 3.2       & 0        \\\\\n",
       "\t 0         & 0.320     & 0         & 0.250     & 0.8604651 & 1         & 2         & 0         & 0         & 0         & 0         & 1         & 4.3       & 0        \\\\\n",
       "\t 0         & 0.360     & 0         & 0.350     & 0.6000000 & 1         & 1         & 0         & 0         & 0         & 0         & 1         & 3.2       & 0        \\\\\n",
       "\t 0         & 0.240     & 0         & 0.170     & 0.5105263 & 1         & 1         & 0         & 0         & 0         & 0         & 1         & 3.9       & 0        \\\\\n",
       "\\end{tabular}\n"
      ],
      "text/markdown": [
       "\n",
       "| deny | pi_rat | black | hse_inc | loan_val | ccred | mcred | pubrec | denpmi | selfemp | single | hischl | probunmp | condo |\n",
       "|---|---|---|---|---|---|---|---|---|---|---|---|---|---|\n",
       "| 0         | 0.221     | 0         | 0.221     | 0.8000000 | 5         | 2         | 0         | 0         | 0         | 0         | 1         | 3.9       | 0         |\n",
       "| 0         | 0.265     | 0         | 0.265     | 0.9218750 | 2         | 2         | 0         | 0         | 0         | 1         | 1         | 3.2       | 0         |\n",
       "| 0         | 0.372     | 0         | 0.248     | 0.9203980 | 1         | 2         | 0         | 0         | 0         | 0         | 1         | 3.2       | 0         |\n",
       "| 0         | 0.320     | 0         | 0.250     | 0.8604651 | 1         | 2         | 0         | 0         | 0         | 0         | 1         | 4.3       | 0         |\n",
       "| 0         | 0.360     | 0         | 0.350     | 0.6000000 | 1         | 1         | 0         | 0         | 0         | 0         | 1         | 3.2       | 0         |\n",
       "| 0         | 0.240     | 0         | 0.170     | 0.5105263 | 1         | 1         | 0         | 0         | 0         | 0         | 1         | 3.9       | 0         |\n",
       "\n"
      ],
      "text/plain": [
       "  deny pi_rat black hse_inc loan_val  ccred mcred pubrec denpmi selfemp single\n",
       "1 0    0.221  0     0.221   0.8000000 5     2     0      0      0       0     \n",
       "2 0    0.265  0     0.265   0.9218750 2     2     0      0      0       1     \n",
       "3 0    0.372  0     0.248   0.9203980 1     2     0      0      0       0     \n",
       "4 0    0.320  0     0.250   0.8604651 1     2     0      0      0       0     \n",
       "5 0    0.360  0     0.350   0.6000000 1     1     0      0      0       0     \n",
       "6 0    0.240  0     0.170   0.5105263 1     1     0      0      0       0     \n",
       "  hischl probunmp condo\n",
       "1 1      3.9      0    \n",
       "2 1      3.2      0    \n",
       "3 1      3.2      0    \n",
       "4 1      4.3      0    \n",
       "5 1      3.2      0    \n",
       "6 1      3.9      0    "
      ]
     },
     "metadata": {},
     "output_type": "display_data"
    }
   ],
   "source": [
    "library(foreign)\n",
    "hdma<-read.dta(\"TD6_hdma_v12.dta\")\n",
    "dim(hdma)\n",
    "head(hdma)"
   ]
  },
  {
   "cell_type": "markdown",
   "metadata": {},
   "source": [
    "Les noirs-américains (*black*) ont-ils effectivement une probabilité plus importante de voir leur demande de prêt rejetée (*deny*) ? \n",
    "\n",
    "*Indice : proposez un tableau de proportions, un test d'égalité de moyennes ou une régression linéaire simple.*"
   ]
  },
  {
   "cell_type": "code",
   "execution_count": null,
   "metadata": {},
   "outputs": [],
   "source": [
    "#tableau\n",
    "hdma$black<-factor(hdma$black, levels=c(0,1), labels=c(\"White\",\"Black\")) #on transforme Black en facteur pour plus de lisibilité\n",
    "table(hdma$black,hdma$deny)\n",
    "prop.table(table(hdma$black,hdma$deny), margin=1)"
   ]
  },
  {
   "cell_type": "code",
   "execution_count": null,
   "metadata": {},
   "outputs": [],
   "source": [
    "#test d'égalité de moyennes\n",
    "t.test(hdma$deny ~ hdma$black)"
   ]
  },
  {
   "cell_type": "code",
   "execution_count": null,
   "metadata": {},
   "outputs": [],
   "source": [
    "#régression linéaire simple\n",
    "lpm1 <- lm(hdma$deny~hdma$black)\n",
    "summary(lpm1)"
   ]
  },
  {
   "cell_type": "markdown",
   "metadata": {},
   "source": [
    "<font color=green> \n",
    "Réponse : Les noirs-américains ont une probabilité plus grande de voir leur demande de prêt rejetée. Un simple tableau croisé permet de le dire (en ligne 0/1 correspond à l’ethnie, en colonne on le taux de rejet). Alors que 9,1\\% des dossiers de demande des blanc-américains sont rejetés, c’est le cas de 28,3\\% des dossiers des noir-américains. \n",
    "    \n",
    "On retrouve exactement la même chose si on fait un test de moyenne, ou une régression simple de la variable binaire de rejet sur l’origine ethnique : la constante donne la proportion des rejets pour la population blanche (9,1) et le coefficient donne l’effet additionnel du fait d’être noir : +19,2 => ce qui donne bien 28.3\\%. Le test d'égalité de moyenne ou la régression permettent de dire que la différence est significativement différente de 0.\n",
    "</font>"
   ]
  },
  {
   "cell_type": "markdown",
   "metadata": {},
   "source": [
    "Grâce à des tests d'égalité de moyennes, déterminez si les blancs-américains sont de bons contrefactuels pour les noirs-américains. Peut-on donc interpréter la différence de traitement de la question précédente comme de la discrimination ?"
   ]
  },
  {
   "cell_type": "code",
   "execution_count": null,
   "metadata": {},
   "outputs": [],
   "source": [
    "a<-t.test(hdma$selfemp ~ hdma$black)\n",
    "b<-t.test(hdma$single ~ hdma$black)\n",
    "c<-t.test(hdma$hischl ~ hdma$black)\n",
    "d<-t.test(hdma$probunmp ~ hdma$black)\n",
    "print(c(a$statistic,b$statistic,c$statistic,d$statistic))\n",
    "print(c(a$p.value,b$p.value,c$p.value,d$p.value))\n"
   ]
  },
  {
   "cell_type": "markdown",
   "metadata": {},
   "source": [
    "<font color=green> L’ensemble de ces tests sont des tests d’égalité de moyenne entre blancs et noirs-américains pour différentes caractéristiques **prédéterminées**. On voit que ces deux populations sont très différentes pour l’ensemble des caractéristiques considérées. Problème : ces caractéristiques sont à la fois liées à l’ethnie et à la probabilité que le prêt soit rejeté. Les deux groupes ne sont pas de bons contrefactuels l’un pour l’autre.  L’effet de l’ethnie est biaisé. Les différences de 1 ne sont pas de la discrimination mais correspondent en partie à ces différences. </font>"
   ]
  },
  {
   "cell_type": "markdown",
   "metadata": {},
   "source": [
    "## 1. Modèle de probabilité linéaire \n",
    "On s'intéresse à contrôler en plus pour l'effet du ratio mensualité de l'emprunt / revenu total *pi_rat* sur la probabilité de rejet. Pourquoi ? Que s'attend-on à trouver?"
   ]
  },
  {
   "cell_type": "markdown",
   "metadata": {},
   "source": [
    "<font color=green> \n",
    "Pourquoi : On voit que cette variable diffère entre blancs et noirs et il se trouve que cette variable est également le premier critère de décision pour accorder un prêt. Clairement son absence dans la régression crée un biais de variable omise (surestimation de l’effet d’être noir car en parallèle les noirs ont également un taux d’endettement plus élevé ce qui explique certainement en partie le taux de rejet plus important).<br><br>\n",
    "On s’attend à trouver que la relation entre rejet et endettement est positive. On s’attend à ce que le coefficient associé à la variable ethnique baisse une fois que l’on contrôle pour l’endettement.<br><br>\n",
    "</font>"
   ]
  },
  {
   "cell_type": "markdown",
   "metadata": {},
   "source": [
    "Rappeler ce qu'est un modèle de probabilité linéaire."
   ]
  },
  {
   "cell_type": "markdown",
   "metadata": {},
   "source": [
    "<font color=green> \n",
    "Un modèle de probabilité linéaire n’est rien d’autre qu’un modèle de régression linéaire dans lequel la variable dépendant est binaire. Le modèle est un modèle de probabilité car les coefficients s’interprètent comme l’effet d’une variation des explicatives d’une unité sur la probabilité que Y=1 (ici que le dossier soit rejeté).\n",
    "</font>"
   ]
  },
  {
   "cell_type": "markdown",
   "metadata": {},
   "source": [
    "Estimer et interpréter."
   ]
  },
  {
   "cell_type": "code",
   "execution_count": null,
   "metadata": {},
   "outputs": [],
   "source": [
    "summary(hdma$pi_rat)\n",
    "lpm2 <- lm(deny~black+pi_rat,data=hdma)\n",
    "summary(lpm2)\n",
    "#coeftest(lpm2, vcov = vcovHC(lpm2, type=\"HC1\")) "
   ]
  },
  {
   "cell_type": "markdown",
   "metadata": {},
   "source": [
    "<font color=green> \n",
    "    Interprétation : Quand le ratio augmente de 10 points, la probabilité de rejet augmente de 5.5 points. Ceci quel que soit le ratio initial (modèle linéaire). Le coefficient de *black* ne baisse pas beaucoup.\n",
    "</font>"
   ]
  },
  {
   "cell_type": "markdown",
   "metadata": {},
   "source": [
    "## 2. Modèle de régression probit\n",
    "\n",
    "Ecrire le modèle de régression probit. Ecrire sa fonction de vraisemblance."
   ]
  },
  {
   "cell_type": "markdown",
   "metadata": {},
   "source": [
    "<font color=green> Ecriture du modèle de régression probit: $p(Y=1|X) = G(\\beta_0+\\beta_1 X_1 + ... + \\beta_k X_k) = G(z)$, avec $G(z) = \\Phi(z)$ fonction de répartition de la loi normale. L'évènement complémentaire $p(Y=0|X)$ est donc $1-G(z)$.<br><br>\n",
    "La loi de probabilité conditionnelle pour l'observation $i$ est donc: $p(Y_i=y_i|X_1,X_2...X_k) = G(z)^{y_i} (1-G(z))^{(1-y_i)}$.<br><br>\n",
    "Ecriture de la vraisemblance: la vraisemblance est la loi de probabilité jointe. Si ces évènements sont indépendants alors c'est le produit des probabilités: $L=\\prod_{i=1}^{n} G(z)^{y_i} (1-G(z))^{(1-y_i)}$.<br><br>\n",
    "La log-vraisemblance est plus aisée à maximiser est s'écrit en prenant le log de l'expression de la vraisemblance: $l=\\sum_{i=1}^{n} y_i log G(z)+ (1-y_i) log (1-G(z))$.</font>"
   ]
  },
  {
   "cell_type": "markdown",
   "metadata": {},
   "source": [
    "On estime le modèle de régression probit de *deny* sur *black* et *pi_rat* par maximum de vraisemblance : **glm( y~x, binomial(\"probit\"), data=... )**. Quel est le principe de l'estimation par maximum de vraisemblance ? Interpréter les résultats."
   ]
  },
  {
   "cell_type": "markdown",
   "metadata": {},
   "source": [
    "<font color=green> Maximum de vraisemblance : la fonction de vraisemblance est la fonction de distribution conditionnelle des données. L’estimateur par maximum de vraisemblance cherche les coefficients qui maximisent cette fonction de vraisemblance. Autrement dit cet estimateur cherche les paramètres qui maximisent a probabilité de tirer les données qui ont été observées.\n",
    " </font>"
   ]
  },
  {
   "cell_type": "code",
   "execution_count": null,
   "metadata": {},
   "outputs": [],
   "source": [
    "probit1 <- glm(deny ~ black + pi_rat, binomial(\"probit\"), data = hdma)\n",
    "summary(probit1)"
   ]
  },
  {
   "cell_type": "markdown",
   "metadata": {},
   "source": [
    "<font color=green> \n",
    "Interprétation : Le fait d’être noir influence positivement la probabilité de rejet. Plus le ratio d’endettement est important, plus le rejet sera probable. On ne peut commenter les amplitudes. \n",
    " </font>"
   ]
  },
  {
   "cell_type": "markdown",
   "metadata": {},
   "source": [
    "Pourquoi l'interprétation des résultats est-elle compliquée ? "
   ]
  },
  {
   "cell_type": "markdown",
   "metadata": {},
   "source": [
    "<font color=green> L’interprétation est rendue compliquée par le fait que les coefficients ne s’interprètent pas directement. Ils ont un impact linéaire sur l’argument de la fonction de répartition de la loi normale, mais pas sur la loi normale elle-même. <br><br>\n",
    "L’effet marginal n’est pas linéaire mais dépend de la valeur initiale des explicatives. <br><br>\n",
    "Calcul : On utilise la fonction de densité de la loi normale. On calcule d'abord l'argument de la fonction : $z$, puis on lit l'image par la fonction de répartition grâce à la table de valeur de la fonction de répartition de la loi normale.</font>"
   ]
  },
  {
   "cell_type": "markdown",
   "metadata": {},
   "source": [
    "#### 1. Effet marginal à la moyenne \n",
    "Rappeler ce qu'est l'effet marginal à la moyenne."
   ]
  },
  {
   "cell_type": "markdown",
   "metadata": {},
   "source": [
    "<font color=green> Effet marginal à la moyenne = effet marginal pour l'individu moyen.</font>"
   ]
  },
  {
   "cell_type": "markdown",
   "metadata": {},
   "source": [
    "En vous aidant du code ci-dessous, calculez l'effet marginal du fait d'être noir-américain sur la probabilité de rejet. Pour cela, calculez d'abord la probabilité de rejet de l'individu moyen noir, puis de l'individu moyen blanc. Calculez ensuite la différence.\n",
    "\n",
    "*Indice: La fonction de répartition de la loi normale s'écrit :* **pnorm()** "
   ]
  },
  {
   "cell_type": "code",
   "execution_count": null,
   "metadata": {},
   "outputs": [],
   "source": [
    "#voir les coefficients:\n",
    "coef(probit1)"
   ]
  },
  {
   "cell_type": "code",
   "execution_count": null,
   "metadata": {},
   "outputs": [],
   "source": [
    "#Prob for blacks at means\n",
    "z1  <- coef(probit1)[1] + coef(probit1)[2] + coef(probit1)[3]*mean(hdma$pi_rat)\n",
    "Gz1 <- pnorm(z1)\n",
    "#Prob for whites at means\n",
    "z0  <- coef(probit1)[1] +  coef(probit1)[3]*mean(hdma$pi_rat)\n",
    "Gz0 <- pnorm(z0)\n",
    "#Difference in probs\n",
    "Gz1-Gz0"
   ]
  },
  {
   "cell_type": "markdown",
   "metadata": {},
   "source": [
    "<font color=green> En moyenne, différence de 17 points selon la couleur de peu de l'individu moyen.  </font>"
   ]
  },
  {
   "cell_type": "markdown",
   "metadata": {},
   "source": [
    "Calculer l'effet marginal du fait d'avoir un ratio d'endettement de 10 points de pourcentage plus élevé pour l'individu moyen. Pour ce faire calculez la proba de rejet de l'individu moyen, puis de l'individu moyen avec 0.1 de ratio d'endettement supplémentaire. Calculez ensuite la différence."
   ]
  },
  {
   "cell_type": "code",
   "execution_count": null,
   "metadata": {},
   "outputs": [],
   "source": [
    "hdma$black2<-ifelse(hdma$black==\"Black\",1,0)   #j'ai besoin que black soit numérique\n",
    "\n",
    "###Calculer l'effet marginal du fait d'avoir un ratio d'endettement de 10 points de pourcentage plus ?lev? pour l'individu moyen.\n",
    "#Prob at means\n",
    "z0  <- coef(probit1)[1] + coef(probit1)[2]*mean(hdma$black2) + coef(probit1)[3]*mean(hdma$pi_rat)\n",
    "Gz0 <- pnorm(z0)\n",
    "z1  <- coef(probit1)[1] + coef(probit1)[2]*mean(hdma$black2) + coef(probit1)[3]*(mean(hdma$pi_rat)+0.1)\n",
    "Gz1 <- pnorm(z1)\n",
    "Gz1-Gz0"
   ]
  },
  {
   "cell_type": "markdown",
   "metadata": {},
   "source": [
    "<font color=green> $0.16-0.10=0.06$. En moyenne, différence de 6 points dans la proba de rejet suite à une augmentation de 0.1 du ratio d'endettement.  </font>"
   ]
  },
  {
   "cell_type": "markdown",
   "metadata": {},
   "source": [
    "#### 2. Effet marginal moyen\n",
    "\n",
    "Rappeler ce qu'est l'effet marginal moyen.\n",
    "\n",
    "\n",
    "\n"
   ]
  },
  {
   "cell_type": "markdown",
   "metadata": {},
   "source": [
    "<font color=green> L’effet marginal moyen = la moyenne des effets marginaux de l’échantillon.</font>"
   ]
  },
  {
   "cell_type": "markdown",
   "metadata": {},
   "source": [
    "\n",
    "Que mesure ce code ?\n",
    "\n",
    "*Indice: La fonction de densité de la loi normale s'écrit :* **dnorm()**"
   ]
  },
  {
   "cell_type": "code",
   "execution_count": null,
   "metadata": {},
   "outputs": [],
   "source": [
    "hdma$gg<-dnorm(coef(probit1)[1] + coef(probit1)[2]*hdma$black2 + coef(probit1)[3]*hdma$pi_rat)\n",
    "scalefactor<-mean(hdma$gg)\n",
    "scalefactor"
   ]
  },
  {
   "cell_type": "markdown",
   "metadata": {},
   "source": [
    "<font color=green> C'est le facteur d'échelle tel que défini dans le cours : $\\frac{\\sum_{i=1}^{n}g(\\hat{\\beta}_0+\\hat{\\beta}_1 black_i+\\hat{\\beta}_2 pi\\_rat_i)}{n}$. Il sert à calculer l'effet marginal moyen (moyenne des effets marginaux). </font>"
   ]
  },
  {
   "cell_type": "markdown",
   "metadata": {},
   "source": [
    "Calculer l'effet marginal moyen du ratio d'endettement. "
   ]
  },
  {
   "cell_type": "code",
   "execution_count": null,
   "metadata": {},
   "outputs": [],
   "source": [
    "effet_marginal_moyen <-scalefactor*coef(probit1)[3]\n",
    "effet_marginal_moyen"
   ]
  },
  {
   "cell_type": "markdown",
   "metadata": {},
   "source": [
    "<font color=green> Calculer l'effet marginal moyen du fait d'avoir un ratio d'endettement de 10 points de pourcentage plus élevé. Calcul : On calcule la moyenne des effets partiels sur l’échantillon. Cela revient à multiplier le terme de la question : 0.1828 par le coefficient en question. Ici : $0.1828*2.7417=0.5014$. C'est l'effet de l'augmentation du ratio de 0 à 1 soit +100 points. Je le divise par 10 pour trouver l'effet de 10 points: 0.050 soit + 5 points de pourcentage de probabilité de rejet. L'effet marginal moyen est généralement proche de l'effet mis en évidence par le modèle linéaire. Il peut être différent de l'effet marginal à la moyenne (= pour l'individu moyen, cf question précédente).  </font>"
   ]
  },
  {
   "cell_type": "code",
   "execution_count": null,
   "metadata": {},
   "outputs": [],
   "source": [
    "#NOTE : on peut calculer l'effet marginal très simplement avec margins :\n",
    "install.packages(\"margins\")\n",
    "library(margins)\n",
    "AME<-margins(probit1)\n",
    "summary(AME)"
   ]
  },
  {
   "cell_type": "markdown",
   "metadata": {},
   "source": [
    "## 3. Comparaison des deux modèles de régression\n",
    "\n",
    "Calculer la probabilité de rejet quand le demandeur est blanc avec un taux d'endettement de 0.1 selon le modèle de probabilité linéaire et le modèle probit. Commentez. \n",
    "\n"
   ]
  },
  {
   "cell_type": "code",
   "execution_count": null,
   "metadata": {},
   "outputs": [],
   "source": [
    "#Par MPL\n",
    "ypred <- coef(lpm2)[1] + coef(lpm2)[3]*0.1\n",
    "#Par Probit\n",
    "z <- coef(probit1)[1] + coef(probit1)[3]*0.1\n",
    "p=pnorm(z)\n",
    "ypred\n",
    "p"
   ]
  },
  {
   "cell_type": "markdown",
   "metadata": {},
   "source": [
    "<font color=green> Commentaire : on voit qu’en plus des effets non linéaires, la force du modèle non linéaire est de contraindre les probabilités prédites à appartenir à l’intervalle 0,1. </font>"
   ]
  },
  {
   "cell_type": "markdown",
   "metadata": {},
   "source": [
    "Que réprésentent les commandes et le graphique ci-dessous ?"
   ]
  },
  {
   "cell_type": "code",
   "execution_count": null,
   "metadata": {},
   "outputs": [],
   "source": [
    "library(ggplot2)\n",
    "hdma$p_rejet <- predict(probit1, hdma, type = \"response\")\n",
    "hdma$y_hat <- predict(lpm2, hdma, type = \"response\")\n",
    "ggplot(hdma, aes(x = pi_rat, y = p_rejet, colour = black))+ geom_point()+geom_line(aes(y = y_hat, colour = black))"
   ]
  },
  {
   "cell_type": "markdown",
   "metadata": {},
   "source": [
    "<font color=green>  \n",
    "$p\\_rejet$ est la proba prédite par le modèle probit. <br>\n",
    "$y\\_hat$ est la proba prédite par le modèle de proba linéaire. <br>\n",
    "Le graphique met en évidence les probabilités prédites de rejet pour l'ensemble des individus de l'échantillon, en fonction de $pi\\_rat$, par ethnie. Pour le modèle linéaire, elles sont linéaires en $pi\\_rat$. Pour le modèle non linéaire, elles sont non linéaires en $pi\\_rat$ et évoluent entre 0 et 1. \n",
    "</font>"
   ]
  },
  {
   "cell_type": "markdown",
   "metadata": {},
   "source": [
    "## 4. Modèle de régression probit complet\n",
    "\n",
    "Quelles sont les autres variables que vous souhaiteriez ajouter à la régression ? "
   ]
  },
  {
   "cell_type": "markdown",
   "metadata": {},
   "source": [
    "<font color=green> Presque toutes les variables du tableau. Trois catégories : cara de l’emprunt, de l’emprunteur, et cara individuelles. Les cara qu’il est important de tenir en compte : variables en lien avec l’ethnie ET en lien avec la probabilité de rejet du dossier de demande d’emprunt. </font>"
   ]
  },
  {
   "cell_type": "markdown",
   "metadata": {},
   "source": [
    "Sous quelle condition estimez-vous l'effet causal du traitement ?"
   ]
  },
  {
   "cell_type": "markdown",
   "metadata": {},
   "source": [
    "<font color=green> L’effet sera causal si l’hypothèse d’indépendance conditionnelle est respectée. Autrement dit si le traitement (l’ethnie) est aléatoirement distribué une fois que l’on contrôle pour les caractéristiques observables. Autrement dit si l’on contrôle pour toutes les différences inter-groupes autre que l’ethnie qui pourraient influencer le rejet/l’acceptation.  </font>"
   ]
  },
  {
   "cell_type": "markdown",
   "metadata": {},
   "source": [
    "Estimer le modèle probit de *black* sur *deny* en ajoutant 1 puis 2 puis 3 catégories de variables : \n",
    "- emprunt : pi_rat + hse_inc + loan_val \n",
    "- emprunteur : ccred + mcred + pubrec + denpmi\n",
    "- individuelles : selfemp + single + hischl + probunmp\n",
    "\n",
    "Afficher directement les effets marginaux en utilisant **summary(margins(** *objet estimé par glm()*)**)**. Interpréter les résultats."
   ]
  },
  {
   "cell_type": "code",
   "execution_count": null,
   "metadata": {},
   "outputs": [],
   "source": [
    "probit2<-glm(deny ~ black + pi_rat + hse_inc + loan_val  , binomial(\"probit\"), data = hdma)\n",
    "probit3<-glm(deny ~ black + pi_rat + hse_inc + loan_val + ccred + mcred + pubrec + denpmi  , binomial(\"probit\"), data = hdma)\n",
    "probit4<-glm(deny ~ black + pi_rat + hse_inc + loan_val + ccred + mcred + pubrec + denpmi + selfemp + single + hischl + probunmp , binomial(\"probit\"), data = hdma)\n",
    "\n",
    "summary(margins(probit1))\n",
    "summary(margins(probit2))\n",
    "summary(margins(probit3))\n",
    "summary(margins(probit4))"
   ]
  },
  {
   "cell_type": "markdown",
   "metadata": {},
   "source": [
    "<font color=green> On estime le modèle probit, on montre les effets marginaux moyens. \n",
    "Coefficient d’intérêt : l’amplitude a baissé avec l’introduction de 3 types de variables de contrôle : caractéristiques de la demande, caractéristiques de l’emprunteur (rapport au crédit) ; caractéristiques individuelles. Toutes choses égales par ailleurs, et notamment à caractéristique de projet et d’emprunteur constantes, le fait d’être noir-américain augmente la probabilité de rejet de 8 points. \n",
    "Autres variables : Le taux d’endettement et l’historique de crédit joue un rôle important. Le diplôme protège d’un rejet alors que l’indépendance expose (Interpréter ensemble). </font>"
   ]
  },
  {
   "cell_type": "markdown",
   "metadata": {},
   "source": [
    "Qu'ajouteriez-vous à la régression pour savoir si le ratio d'endettement a un effet différent sur la probabilité de voir son dossier rejeté par la banque selon si on est noir ou blanc ?"
   ]
  },
  {
   "cell_type": "markdown",
   "metadata": {},
   "source": [
    "<font color=green> On ajouterait des variables d’interaction : ethnie*ratio endettement. Le coefficient donnerait l’effet différentiel du ratio d’endettement pour les noirs (il se peut qu’il compte autant/plus/moins dans la décision que pour les blancs).  </font>"
   ]
  },
  {
   "cell_type": "markdown",
   "metadata": {},
   "source": [
    "Voici le pseudoR2 de McFadden pour le modèle simple et multiple. Commentez la qualité générale des régressions."
   ]
  },
  {
   "cell_type": "code",
   "execution_count": null,
   "metadata": {},
   "outputs": [],
   "source": [
    "pR2_1 <- 1 - probit1$deviance / probit1$null.deviance \n",
    "pR2_2 <- 1 - probit2$deviance / probit2$null.deviance \n",
    "pR2_3 <- 1 - probit3$deviance / probit3$null.deviance \n",
    "pR2_4 <- 1 - probit4$deviance / probit4$null.deviance \n",
    "pR2_1\n",
    "pR2_2\n",
    "pR2_3\n",
    "pR2_4"
   ]
  },
  {
   "cell_type": "markdown",
   "metadata": {},
   "source": [
    "<font color=green> \n",
    "*****************************************************************\n",
    "RAPPEL au cas où : Le **pseudo R2** est un équivalent du R2 pour les modèles de régression probit. Il y en a plusieurs. \n",
    "    \n",
    "On peut partir de celui de **McFadden : 1 – Lu/L0** avec:\n",
    "- Lu log vraisemblance du modèle \n",
    "- et L0 log vraisemblance du modèle estimé avec seulement une constante. \n",
    "\n",
    "=> Si le modèle avec variables n’a aucun pouvoir explicatif alors Lu sera égal à L0 et donc Le R2 sera égal à 0. \n",
    "\n",
    "=> Plus Lu se rapprocge de 0 (rappelons que l’on maximise Lu et que Lu est négative donc sa maximisation implique qu’elle se rapproche de 0), plus le ratio Lu/L0 se rapproche de 0 donc R2 se rapproche de 1. \n",
    "\n",
    "Calcul :\n",
    "- Use deviance since $deviance = -2 \\times ln(Lfull)$ and $null.deviance = -2 \\times ln(Lnull)$ donc pseudoR2 = 1 - (Lu/L0) = 1 - (deviance/null.deviance)\n",
    "- ICI: on a l’info sur la deviance (en bas du tableau de l'estimation probit) : pR2 = 1-(1264.9/1726.9)=0.2675. \n",
    "*****************************************************************\n",
    "\n",
    "INTERPRETATION : c'est logique, plus on a de variables explicatives, meilleure l'explication de la variation donc le pseudo R2. Notons que saut du pseudo R2 de 10 à 25 correspond au saut de modèle 2 à 3 où de nombreuses variables sont d'importantes explicatives. \n",
    "</font>"
   ]
  },
  {
   "cell_type": "code",
   "execution_count": null,
   "metadata": {},
   "outputs": [],
   "source": []
  }
 ],
 "metadata": {
  "kernelspec": {
   "display_name": "R",
   "language": "R",
   "name": "ir"
  },
  "language_info": {
   "codemirror_mode": "r",
   "file_extension": ".r",
   "mimetype": "text/x-r-source",
   "name": "R",
   "pygments_lexer": "r",
   "version": "3.6.1"
  }
 },
 "nbformat": 4,
 "nbformat_minor": 2
}

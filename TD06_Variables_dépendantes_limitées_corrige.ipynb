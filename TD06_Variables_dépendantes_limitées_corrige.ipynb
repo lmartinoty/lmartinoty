{
 "cells": [
  {
   "cell_type": "markdown",
   "metadata": {},
   "source": [
    "# Modèles à variable dépendante limitée\n",
    "\n",
    "Cette application reprend la proposition de Stock et Watson (le manuel) qui utilisent les données de l'article de Alicia H Munnell, Geoffrey MB Tootell, Lynn E Browne, and James McEneaney : \"Mortgage lending in\n",
    "boston: Interpreting hmda data.\" *The American Economic Review*, pages 25-53, 1996.\n",
    "\n",
    "Dans cet article, les chercheurs de la Federal Reserve Bank de Boston souhaitent savoir les noirs américains sont discriminés dans l'accès au crédit immobilier. Ils collectent des données sur les demandes de prêts immobiliers en 1990 dans Boston et sa banlieue. Ils obtiennent 2380 observations de demandeurs blanc et noir-américain. \n",
    "\n",
    "Les données sont décrites dans le codebook simplifié : **TD6_codebook.png** : \n",
    "\n",
    "![title](TD6_codebook.png)"
   ]
  },
  {
   "cell_type": "markdown",
   "metadata": {},
   "source": [
    "## Intuition\n",
    "On ouvre la base de données : **TD6_hdma_v12.dta**. "
   ]
  },
  {
   "cell_type": "code",
   "execution_count": 1,
   "metadata": {},
   "outputs": [
    {
     "data": {
      "text/html": [
       "<ol class=list-inline>\n",
       "\t<li>2380</li>\n",
       "\t<li>15</li>\n",
       "</ol>\n"
      ],
      "text/latex": [
       "\\begin{enumerate*}\n",
       "\\item 2380\n",
       "\\item 15\n",
       "\\end{enumerate*}\n"
      ],
      "text/markdown": [
       "1. 2380\n",
       "2. 15\n",
       "\n",
       "\n"
      ],
      "text/plain": [
       "[1] 2380   15"
      ]
     },
     "metadata": {},
     "output_type": "display_data"
    },
    {
     "data": {
      "text/html": [
       "<table>\n",
       "<thead><tr><th scope=col>deny</th><th scope=col>pi_rat</th><th scope=col>black</th><th scope=col>hse_inc</th><th scope=col>loan_val</th><th scope=col>ccred</th><th scope=col>mcred</th><th scope=col>pubrec</th><th scope=col>denpmi</th><th scope=col>selfemp</th><th scope=col>single</th><th scope=col>hischl</th><th scope=col>probunmp</th><th scope=col>condo</th><th scope=col>blackcategory</th></tr></thead>\n",
       "<tbody>\n",
       "\t<tr><td>0        </td><td>0.221    </td><td>0        </td><td>0.221    </td><td>0.8000000</td><td>5        </td><td>2        </td><td>0        </td><td>0        </td><td>0        </td><td>0        </td><td>1        </td><td>3.9      </td><td>0        </td><td>White    </td></tr>\n",
       "\t<tr><td>0        </td><td>0.265    </td><td>0        </td><td>0.265    </td><td>0.9218750</td><td>2        </td><td>2        </td><td>0        </td><td>0        </td><td>0        </td><td>1        </td><td>1        </td><td>3.2      </td><td>0        </td><td>White    </td></tr>\n",
       "\t<tr><td>0        </td><td>0.372    </td><td>0        </td><td>0.248    </td><td>0.9203980</td><td>1        </td><td>2        </td><td>0        </td><td>0        </td><td>0        </td><td>0        </td><td>1        </td><td>3.2      </td><td>0        </td><td>White    </td></tr>\n",
       "\t<tr><td>0        </td><td>0.320    </td><td>0        </td><td>0.250    </td><td>0.8604651</td><td>1        </td><td>2        </td><td>0        </td><td>0        </td><td>0        </td><td>0        </td><td>1        </td><td>4.3      </td><td>0        </td><td>White    </td></tr>\n",
       "\t<tr><td>0        </td><td>0.360    </td><td>0        </td><td>0.350    </td><td>0.6000000</td><td>1        </td><td>1        </td><td>0        </td><td>0        </td><td>0        </td><td>0        </td><td>1        </td><td>3.2      </td><td>0        </td><td>White    </td></tr>\n",
       "\t<tr><td>0        </td><td>0.240    </td><td>0        </td><td>0.170    </td><td>0.5105263</td><td>1        </td><td>1        </td><td>0        </td><td>0        </td><td>0        </td><td>0        </td><td>1        </td><td>3.9      </td><td>0        </td><td>White    </td></tr>\n",
       "</tbody>\n",
       "</table>\n"
      ],
      "text/latex": [
       "\\begin{tabular}{r|lllllllllllllll}\n",
       " deny & pi\\_rat & black & hse\\_inc & loan\\_val & ccred & mcred & pubrec & denpmi & selfemp & single & hischl & probunmp & condo & blackcategory\\\\\n",
       "\\hline\n",
       "\t 0         & 0.221     & 0         & 0.221     & 0.8000000 & 5         & 2         & 0         & 0         & 0         & 0         & 1         & 3.9       & 0         & White    \\\\\n",
       "\t 0         & 0.265     & 0         & 0.265     & 0.9218750 & 2         & 2         & 0         & 0         & 0         & 1         & 1         & 3.2       & 0         & White    \\\\\n",
       "\t 0         & 0.372     & 0         & 0.248     & 0.9203980 & 1         & 2         & 0         & 0         & 0         & 0         & 1         & 3.2       & 0         & White    \\\\\n",
       "\t 0         & 0.320     & 0         & 0.250     & 0.8604651 & 1         & 2         & 0         & 0         & 0         & 0         & 1         & 4.3       & 0         & White    \\\\\n",
       "\t 0         & 0.360     & 0         & 0.350     & 0.6000000 & 1         & 1         & 0         & 0         & 0         & 0         & 1         & 3.2       & 0         & White    \\\\\n",
       "\t 0         & 0.240     & 0         & 0.170     & 0.5105263 & 1         & 1         & 0         & 0         & 0         & 0         & 1         & 3.9       & 0         & White    \\\\\n",
       "\\end{tabular}\n"
      ],
      "text/markdown": [
       "\n",
       "| deny | pi_rat | black | hse_inc | loan_val | ccred | mcred | pubrec | denpmi | selfemp | single | hischl | probunmp | condo | blackcategory |\n",
       "|---|---|---|---|---|---|---|---|---|---|---|---|---|---|---|\n",
       "| 0         | 0.221     | 0         | 0.221     | 0.8000000 | 5         | 2         | 0         | 0         | 0         | 0         | 1         | 3.9       | 0         | White     |\n",
       "| 0         | 0.265     | 0         | 0.265     | 0.9218750 | 2         | 2         | 0         | 0         | 0         | 1         | 1         | 3.2       | 0         | White     |\n",
       "| 0         | 0.372     | 0         | 0.248     | 0.9203980 | 1         | 2         | 0         | 0         | 0         | 0         | 1         | 3.2       | 0         | White     |\n",
       "| 0         | 0.320     | 0         | 0.250     | 0.8604651 | 1         | 2         | 0         | 0         | 0         | 0         | 1         | 4.3       | 0         | White     |\n",
       "| 0         | 0.360     | 0         | 0.350     | 0.6000000 | 1         | 1         | 0         | 0         | 0         | 0         | 1         | 3.2       | 0         | White     |\n",
       "| 0         | 0.240     | 0         | 0.170     | 0.5105263 | 1         | 1         | 0         | 0         | 0         | 0         | 1         | 3.9       | 0         | White     |\n",
       "\n"
      ],
      "text/plain": [
       "  deny pi_rat black hse_inc loan_val  ccred mcred pubrec denpmi selfemp single\n",
       "1 0    0.221  0     0.221   0.8000000 5     2     0      0      0       0     \n",
       "2 0    0.265  0     0.265   0.9218750 2     2     0      0      0       1     \n",
       "3 0    0.372  0     0.248   0.9203980 1     2     0      0      0       0     \n",
       "4 0    0.320  0     0.250   0.8604651 1     2     0      0      0       0     \n",
       "5 0    0.360  0     0.350   0.6000000 1     1     0      0      0       0     \n",
       "6 0    0.240  0     0.170   0.5105263 1     1     0      0      0       0     \n",
       "  hischl probunmp condo blackcategory\n",
       "1 1      3.9      0     White        \n",
       "2 1      3.2      0     White        \n",
       "3 1      3.2      0     White        \n",
       "4 1      4.3      0     White        \n",
       "5 1      3.2      0     White        \n",
       "6 1      3.9      0     White        "
      ]
     },
     "metadata": {},
     "output_type": "display_data"
    }
   ],
   "source": [
    "library(foreign)\n",
    "hdma<-read.dta(\"TD6_hdma_v12.dta\")\n",
    "#on a la variable 'black' numérique qui nous donne l'ethnie\n",
    "#à partir de cette variable on crée une variable facteur 'hdma$blackcategory' pour définir dans R que cette variable n'est une variable continue mais une variable catégorielle\n",
    "hdma$blackcategory<-factor(hdma$black, levels=c(0,1), labels=c(\"White\",\"Black\")) #on transforme Black en facteur pour plus de l\n",
    "#la plupart du temps on utilisera la variable catégorielle 'hdma$blackcategory'\n",
    "#mais pour calculer les effets marginaux à la moyenne à la main on aura besoin de la porportion de Noirs américains'\n",
    "#et on utilisera exceptionnellement la numérique: 'hdma$black'\n",
    "dim(hdma)\n",
    "head(hdma)"
   ]
  },
  {
   "cell_type": "markdown",
   "metadata": {},
   "source": [
    "Les noirs-américains (*black*) ont-ils effectivement une probabilité plus importante de voir leur demande de prêt rejetée (*deny*) ? \n",
    "\n",
    "*Indice : proposez un tableau de proportions, un test d'égalité de moyennes ou une régression linéaire simple.*"
   ]
  },
  {
   "cell_type": "code",
   "execution_count": 2,
   "metadata": {},
   "outputs": [
    {
     "data": {
      "text/plain": [
       "\n",
       "\tWelch Two Sample t-test\n",
       "\n",
       "data:  deny by blackcategory\n",
       "t = -7.5232, df = 385.65, p-value = 3.8e-13\n",
       "alternative hypothesis: true difference in means is not equal to 0\n",
       "95 percent confidence interval:\n",
       " -0.2403921 -0.1407763\n",
       "sample estimates:\n",
       "mean in group White mean in group Black \n",
       "         0.09260167          0.28318584 \n"
      ]
     },
     "metadata": {},
     "output_type": "display_data"
    }
   ],
   "source": [
    "#test d'égalité de moyennes\n",
    "t.test(deny~blackcategory, data=hdma)"
   ]
  },
  {
   "cell_type": "code",
   "execution_count": 3,
   "metadata": {},
   "outputs": [
    {
     "data": {
      "text/plain": [
       "\n",
       "Call:\n",
       "lm(formula = deny ~ blackcategory, data = hdma)\n",
       "\n",
       "Residuals:\n",
       "    Min      1Q  Median      3Q     Max \n",
       "-0.2832 -0.0926 -0.0926 -0.0926  0.9074 \n",
       "\n",
       "Coefficients:\n",
       "                   Estimate Std. Error t value Pr(>|t|)    \n",
       "(Intercept)        0.092602   0.007037   13.16   <2e-16 ***\n",
       "blackcategoryBlack 0.190584   0.018644   10.22   <2e-16 ***\n",
       "---\n",
       "Signif. codes:  0 '***' 0.001 '**' 0.01 '*' 0.05 '.' 0.1 ' ' 1\n",
       "\n",
       "Residual standard error: 0.3179 on 2378 degrees of freedom\n",
       "Multiple R-squared:  0.04209,\tAdjusted R-squared:  0.04169 \n",
       "F-statistic: 104.5 on 1 and 2378 DF,  p-value: < 2.2e-16\n"
      ]
     },
     "metadata": {},
     "output_type": "display_data"
    }
   ],
   "source": [
    "#régression linéaire simple\n",
    "lpm1 <- lm(deny~blackcategory,data=hdma)\n",
    "summary(lpm1)"
   ]
  },
  {
   "cell_type": "markdown",
   "metadata": {},
   "source": [
    "<font color=green> \n",
    "Réponse : Les noirs-américains ont une probabilité plus grande de voir leur demande de prêt rejetée. Un simple tableau croisé permet de le dire (en ligne 0/1 correspond à l’ethnie, en colonne on le taux de rejet). Alors que 9,1\\% des dossiers de demande des blanc-américains sont rejetés, c’est le cas de 28,3\\% des dossiers des noir-américains. \n",
    "    \n",
    "On retrouve exactement la même chose si on fait un test de moyenne, ou une régression simple de la variable binaire de rejet sur l’origine ethnique : la constante donne la proportion des rejets pour la population blanche (9,1) et le coefficient donne l’effet additionnel du fait d’être noir : +19,2 => ce qui donne bien 28.3\\%. Le test d'égalité de moyenne ou la régression permettent de dire que la différence est significativement différente de 0.\n",
    "</font>"
   ]
  },
  {
   "cell_type": "markdown",
   "metadata": {},
   "source": [
    "Grâce à des tests d'égalité de moyennes, déterminez si les blancs-américains sont de bons contrefactuels pour les noirs-américains. Peut-on donc interpréter la différence de traitement de la question précédente comme de la discrimination ?"
   ]
  },
  {
   "cell_type": "code",
   "execution_count": 4,
   "metadata": {},
   "outputs": [
    {
     "data": {
      "text/plain": [
       "\n",
       "\tWelch Two Sample t-test\n",
       "\n",
       "data:  hdma$selfemp by hdma$blackcategory\n",
       "t = 3.1129, df = 532.66, p-value = 0.001952\n",
       "alternative hypothesis: true difference in means is not equal to 0\n",
       "95 percent confidence interval:\n",
       " 0.01834425 0.08110090\n",
       "sample estimates:\n",
       "mean in group White mean in group Black \n",
       "         0.12346889          0.07374631 \n"
      ]
     },
     "metadata": {},
     "output_type": "display_data"
    },
    {
     "data": {
      "text/plain": [
       "\n",
       "\tWelch Two Sample t-test\n",
       "\n",
       "data:  hdma$single by hdma$blackcategory\n",
       "t = -4.9074, df = 449.22, p-value = 1.293e-06\n",
       "alternative hypothesis: true difference in means is not equal to 0\n",
       "95 percent confidence interval:\n",
       " -0.20078194 -0.08595356\n",
       "sample estimates:\n",
       "mean in group White mean in group Black \n",
       "          0.3728564           0.5162242 \n"
      ]
     },
     "metadata": {},
     "output_type": "display_data"
    },
    {
     "data": {
      "text/plain": [
       "\n",
       "\tWelch Two Sample t-test\n",
       "\n",
       "data:  hdma$hischl by hdma$blackcategory\n",
       "t = 1.8775, df = 387.67, p-value = 0.0612\n",
       "alternative hypothesis: true difference in means is not equal to 0\n",
       "95 percent confidence interval:\n",
       " -0.0008840346  0.0383432592\n",
       "sample estimates:\n",
       "mean in group White mean in group Black \n",
       "          0.9862812           0.9675516 \n"
      ]
     },
     "metadata": {},
     "output_type": "display_data"
    },
    {
     "data": {
      "text/plain": [
       "\n",
       "\tWelch Two Sample t-test\n",
       "\n",
       "data:  hdma$probunmp by hdma$blackcategory\n",
       "t = 4.0982, df = 583.33, p-value = 4.753e-05\n",
       "alternative hypothesis: true difference in means is not equal to 0\n",
       "95 percent confidence interval:\n",
       " 0.2000072 0.5681301\n",
       "sample estimates:\n",
       "mean in group White mean in group Black \n",
       "           3.829201            3.445133 \n"
      ]
     },
     "metadata": {},
     "output_type": "display_data"
    }
   ],
   "source": [
    "t.test(hdma$selfemp ~ hdma$blackcategory)\n",
    "t.test(hdma$single ~ hdma$blackcategory)\n",
    "t.test(hdma$hischl ~ hdma$blackcategory)\n",
    "t.test(hdma$probunmp ~ hdma$blackcategory)"
   ]
  },
  {
   "cell_type": "markdown",
   "metadata": {},
   "source": [
    "<font color=green> L’ensemble de ces tests sont des tests d’égalité de moyenne entre blancs et noirs-américains pour différentes caractéristiques **prédéterminées**. On voit que ces deux populations sont très différentes pour l’ensemble des caractéristiques considérées. Problème : ces caractéristiques sont à la fois liées à l’ethnie et à la probabilité que le prêt soit rejeté. Les deux groupes ne sont pas de bons contrefactuels l’un pour l’autre.  L’effet de l’ethnie est biaisé. Les différences de 1 ne sont pas de la discrimination mais correspondent en partie à ces différences. </font>"
   ]
  },
  {
   "cell_type": "markdown",
   "metadata": {},
   "source": [
    "## 1. Modèle de probabilité linéaire \n",
    "On s'intéresse à contrôler en plus pour l'effet du ratio mensualité de l'emprunt / revenu total *pi_rat* sur la probabilité de rejet. Pourquoi ? Que s'attend-on à trouver?"
   ]
  },
  {
   "cell_type": "markdown",
   "metadata": {},
   "source": [
    "<font color=green> \n",
    "Pourquoi : On voit que cette variable diffère entre blancs et noirs et il se trouve que cette variable est également le premier critère de décision pour accorder un prêt. Clairement son absence dans la régression crée un biais de variable omise (surestimation de l’effet d’être noir car en parallèle les noirs ont également un taux d’endettement plus élevé ce qui explique certainement en partie le taux de rejet plus important).<br><br>\n",
    "On s’attend à trouver que la relation entre rejet et endettement est positive. On s’attend à ce que le coefficient associé à la variable ethnique baisse une fois que l’on contrôle pour l’endettement.<br><br>\n",
    "</font>"
   ]
  },
  {
   "cell_type": "markdown",
   "metadata": {},
   "source": [
    "Rappeler ce qu'est un modèle de probabilité linéaire."
   ]
  },
  {
   "cell_type": "markdown",
   "metadata": {},
   "source": [
    "<font color=green> \n",
    "Un modèle de probabilité linéaire n’est rien d’autre qu’un modèle de régression linéaire dans lequel la variable dépendant est binaire. Le modèle est un modèle de probabilité car les coefficients s’interprètent comme l’effet d’une variation des explicatives d’une unité sur la probabilité que Y=1 (ici que le dossier soit rejeté).\n",
    "</font>"
   ]
  },
  {
   "cell_type": "markdown",
   "metadata": {},
   "source": [
    "Estimer et interpréter."
   ]
  },
  {
   "cell_type": "code",
   "execution_count": 5,
   "metadata": {},
   "outputs": [
    {
     "data": {
      "text/plain": [
       "   Min. 1st Qu.  Median    Mean 3rd Qu.    Max. \n",
       " 0.0000  0.2800  0.3300  0.3308  0.3700  3.0000 "
      ]
     },
     "metadata": {},
     "output_type": "display_data"
    },
    {
     "data": {
      "text/plain": [
       "\n",
       "Call:\n",
       "lm(formula = deny ~ blackcategory + pi_rat, data = hdma)\n",
       "\n",
       "Residuals:\n",
       "     Min       1Q   Median       3Q      Max \n",
       "-0.62526 -0.11772 -0.09293 -0.05488  1.06815 \n",
       "\n",
       "Coefficients:\n",
       "                   Estimate Std. Error t value Pr(>|t|)    \n",
       "(Intercept)        -0.09051    0.02079  -4.354 1.39e-05 ***\n",
       "blackcategoryBlack  0.17743    0.01837   9.659  < 2e-16 ***\n",
       "pi_rat              0.55919    0.05987   9.340  < 2e-16 ***\n",
       "---\n",
       "Signif. codes:  0 '***' 0.001 '**' 0.01 '*' 0.05 '.' 0.1 ' ' 1\n",
       "\n",
       "Residual standard error: 0.3123 on 2377 degrees of freedom\n",
       "Multiple R-squared:  0.076,\tAdjusted R-squared:  0.07523 \n",
       "F-statistic: 97.76 on 2 and 2377 DF,  p-value: < 2.2e-16\n"
      ]
     },
     "metadata": {},
     "output_type": "display_data"
    }
   ],
   "source": [
    "summary(hdma$pi_rat)\n",
    "lpm2 <- lm(deny~blackcategory+pi_rat,data=hdma)\n",
    "summary(lpm2)\n",
    "#coeftest(lpm2, vcov = vcovHC(lpm2, type=\"HC1\")) "
   ]
  },
  {
   "cell_type": "markdown",
   "metadata": {},
   "source": [
    "<font color=green> \n",
    "    Interprétation : Quand le ratio augmente de 1point, la probabilité de rejet augmente de 0.55 points. Ceci quel que soit le ratio initial (modèle linéaire). Le coefficient de *black* ne baisse pas beaucoup.\n",
    "</font>"
   ]
  },
  {
   "cell_type": "markdown",
   "metadata": {},
   "source": [
    "## 2. Modèle de régression probit"
   ]
  },
  {
   "cell_type": "markdown",
   "metadata": {},
   "source": [
    "On estime le modèle de régression probit de *deny* sur *black* et *pi_rat* par maximum de vraisemblance : **glm( y~x, binomial(\"probit\"), data=... )**. Quel est le principe de l'estimation par maximum de vraisemblance ? Interpréter les résultats."
   ]
  },
  {
   "cell_type": "markdown",
   "metadata": {},
   "source": [
    "<font color=green> Maximum de vraisemblance : la fonction de vraisemblance est la fonction de distribution conditionnelle des données. L’estimateur par maximum de vraisemblance cherche les coefficients qui maximisent cette fonction de vraisemblance. Autrement dit cet estimateur cherche les paramètres qui maximisent a probabilité de tirer les données qui ont été observées.\n",
    " </font>"
   ]
  },
  {
   "cell_type": "code",
   "execution_count": 6,
   "metadata": {},
   "outputs": [
    {
     "data": {
      "text/plain": [
       "\n",
       "Call:\n",
       "glm(formula = deny ~ blackcategory + pi_rat, family = binomial(\"probit\"), \n",
       "    data = hdma)\n",
       "\n",
       "Deviance Residuals: \n",
       "    Min       1Q   Median       3Q      Max  \n",
       "-2.1208  -0.4762  -0.4251  -0.3550   2.8799  \n",
       "\n",
       "Coefficients:\n",
       "                   Estimate Std. Error z value Pr(>|z|)    \n",
       "(Intercept)        -2.25879    0.13669 -16.525  < 2e-16 ***\n",
       "blackcategoryBlack  0.70816    0.08335   8.496  < 2e-16 ***\n",
       "pi_rat              2.74178    0.38047   7.206 5.75e-13 ***\n",
       "---\n",
       "Signif. codes:  0 '***' 0.001 '**' 0.01 '*' 0.05 '.' 0.1 ' ' 1\n",
       "\n",
       "(Dispersion parameter for binomial family taken to be 1)\n",
       "\n",
       "    Null deviance: 1744.2  on 2379  degrees of freedom\n",
       "Residual deviance: 1594.3  on 2377  degrees of freedom\n",
       "AIC: 1600.3\n",
       "\n",
       "Number of Fisher Scoring iterations: 5\n"
      ]
     },
     "metadata": {},
     "output_type": "display_data"
    }
   ],
   "source": [
    "probit1 <- glm(deny ~ blackcategory + pi_rat, binomial(\"probit\"), data = hdma)\n",
    "summary(probit1)"
   ]
  },
  {
   "cell_type": "markdown",
   "metadata": {},
   "source": [
    "<font color=green> \n",
    "Interprétation : Le fait d’être noir influence positivement la probabilité de rejet. Plus le ratio d’endettement est important, plus le rejet sera probable. On ne peut commenter les amplitudes. \n",
    " </font>"
   ]
  },
  {
   "cell_type": "markdown",
   "metadata": {},
   "source": [
    "Pourquoi l'interprétation des résultats est-elle compliquée ? "
   ]
  },
  {
   "cell_type": "markdown",
   "metadata": {},
   "source": [
    "<font color=green> L’interprétation est rendue compliquée par le fait que les coefficients ne s’interprètent pas directement. Ils ont un impact linéaire sur l’argument de la fonction de répartition de la loi normale, mais pas sur la loi normale elle-même. <br><br>\n",
    "L’effet marginal n’est pas linéaire mais dépend de la valeur initiale des explicatives. <br><br>\n",
    "Calcul : On utilise la fonction de densité de la loi normale. On calcule d'abord l'argument de la fonction : $z$, puis on lit l'image par la fonction de répartition grâce à la table de valeur de la fonction de répartition de la loi normale.</font>"
   ]
  },
  {
   "cell_type": "markdown",
   "metadata": {},
   "source": [
    "#### 1. Effet marginal à la moyenne \n",
    "Rappeler ce qu'est l'effet marginal à la moyenne."
   ]
  },
  {
   "cell_type": "markdown",
   "metadata": {},
   "source": [
    "<font color=green> Effet marginal à la moyenne = effet marginal pour l'individu moyen.</font>"
   ]
  },
  {
   "cell_type": "markdown",
   "metadata": {},
   "source": [
    "En vous aidant du code ci-dessous, calculez l'effet marginal du fait d'être noir-américain sur la probabilité de rejet. Pour cela, calculez d'abord la probabilité de rejet de l'individu moyen noir, puis de l'individu moyen blanc. Calculez ensuite la différence.\n",
    "\n",
    "*Indice: La fonction de répartition de la loi normale s'écrit :* **pnorm()** "
   ]
  },
  {
   "cell_type": "code",
   "execution_count": 7,
   "metadata": {},
   "outputs": [
    {
     "data": {
      "text/html": [
       "<dl class=dl-horizontal>\n",
       "\t<dt>(Intercept)</dt>\n",
       "\t\t<dd>-2.2587870062049</dd>\n",
       "\t<dt>blackcategoryBlack</dt>\n",
       "\t\t<dd>0.708155354879806</dd>\n",
       "\t<dt>pi_rat</dt>\n",
       "\t\t<dd>2.74177944388858</dd>\n",
       "</dl>\n"
      ],
      "text/latex": [
       "\\begin{description*}\n",
       "\\item[(Intercept)] -2.2587870062049\n",
       "\\item[blackcategoryBlack] 0.708155354879806\n",
       "\\item[pi\\textbackslash{}\\_rat] 2.74177944388858\n",
       "\\end{description*}\n"
      ],
      "text/markdown": [
       "(Intercept)\n",
       ":   -2.2587870062049blackcategoryBlack\n",
       ":   0.708155354879806pi_rat\n",
       ":   2.74177944388858\n",
       "\n"
      ],
      "text/plain": [
       "       (Intercept) blackcategoryBlack             pi_rat \n",
       "        -2.2587870          0.7081554          2.7417794 "
      ]
     },
     "metadata": {},
     "output_type": "display_data"
    }
   ],
   "source": [
    "#voir les coefficients:\n",
    "coef(probit1)"
   ]
  },
  {
   "cell_type": "code",
   "execution_count": 8,
   "metadata": {},
   "outputs": [
    {
     "data": {
      "text/html": [
       "<strong>(Intercept):</strong> 0.171688360477799"
      ],
      "text/latex": [
       "\\textbf{(Intercept):} 0.171688360477799"
      ],
      "text/markdown": [
       "**(Intercept):** 0.171688360477799"
      ],
      "text/plain": [
       "(Intercept) \n",
       "  0.1716884 "
      ]
     },
     "metadata": {},
     "output_type": "display_data"
    }
   ],
   "source": [
    "#Prob for blacks at means\n",
    "z1  <- coef(probit1)[1] + coef(probit1)[2] + coef(probit1)[3]*mean(hdma$pi_rat)\n",
    "Gz1 <- pnorm(z1)\n",
    "#Prob for whites at means\n",
    "z0  <- coef(probit1)[1] + coef(probit1)[3]*mean(hdma$pi_rat)\n",
    "Gz0 <- pnorm(z0)\n",
    "#Difference in probs\n",
    "Gz1-Gz0"
   ]
  },
  {
   "cell_type": "markdown",
   "metadata": {},
   "source": [
    "<font color=green> En moyenne, différence de 17 points selon la couleur de peu de l'individu moyen.  </font>"
   ]
  },
  {
   "cell_type": "markdown",
   "metadata": {},
   "source": [
    "Calculer l'effet marginal du fait d'avoir un ratio d'endettement de 10 points de pourcentage plus élevé pour l'individu moyen. Pour ce faire calculez la proba de rejet de l'individu moyen, puis de l'individu moyen avec 0.1 de ratio d'endettement supplémentaire. Calculez ensuite la différence."
   ]
  },
  {
   "cell_type": "code",
   "execution_count": 9,
   "metadata": {},
   "outputs": [
    {
     "data": {
      "text/html": [
       "<strong>(Intercept):</strong> 0.0588677963776632"
      ],
      "text/latex": [
       "\\textbf{(Intercept):} 0.0588677963776632"
      ],
      "text/markdown": [
       "**(Intercept):** 0.0588677963776632"
      ],
      "text/plain": [
       "(Intercept) \n",
       "  0.0588678 "
      ]
     },
     "metadata": {},
     "output_type": "display_data"
    }
   ],
   "source": [
    "###Calculer l'effet marginal du fait d'avoir un ratio d'endettement de 10 points de pourcentage plus ?lev? pour l'individu moyen.\n",
    "#J'ai besoin de la proportion des noirs-américains: j'utilise la variable numérique 'black' plutôt que la variable catégorielle 'blackcategory'\n",
    "#Prob at means\n",
    "z0  <- coef(probit1)[1] + coef(probit1)[2]*mean(hdma$black) + coef(probit1)[3]*mean(hdma$pi_rat)\n",
    "Gz0 <- pnorm(z0)\n",
    "z1  <- coef(probit1)[1] + coef(probit1)[2]*mean(hdma$black) + coef(probit1)[3]*(mean(hdma$pi_rat)+0.1)\n",
    "Gz1 <- pnorm(z1)\n",
    "Gz1-Gz0"
   ]
  },
  {
   "cell_type": "markdown",
   "metadata": {},
   "source": [
    "<font color=green> $0.16-0.10=0.06$. En moyenne, différence de 6 points dans la proba de rejet suite à une augmentation de 0.1 du ratio d'endettement.  </font>"
   ]
  },
  {
   "cell_type": "markdown",
   "metadata": {},
   "source": [
    "#### 2. Effet marginal moyen\n",
    "\n",
    "Rappeler ce qu'est l'effet marginal moyen.\n",
    "\n",
    "\n",
    "\n"
   ]
  },
  {
   "cell_type": "markdown",
   "metadata": {},
   "source": [
    "<font color=green> L’effet marginal moyen = la moyenne des effets marginaux de l’échantillon.</font>"
   ]
  },
  {
   "cell_type": "markdown",
   "metadata": {},
   "source": [
    "\n",
    "Que mesure ce code ?\n",
    "\n",
    "*Indice: La fonction de densité de la loi normale s'écrit :* **dnorm()**"
   ]
  },
  {
   "cell_type": "code",
   "execution_count": 10,
   "metadata": {},
   "outputs": [
    {
     "data": {
      "text/html": [
       "0.182881311587532"
      ],
      "text/latex": [
       "0.182881311587532"
      ],
      "text/markdown": [
       "0.182881311587532"
      ],
      "text/plain": [
       "[1] 0.1828813"
      ]
     },
     "metadata": {},
     "output_type": "display_data"
    }
   ],
   "source": [
    "#J'ai besoin de la valeur numérique 0/1 signalant les noirs-américains: j'utilise la variable numérique 'black' plutôt que la variable catégorielle 'blackcategory'\n",
    "hdma$gg<-dnorm(coef(probit1)[1] + coef(probit1)[2]*hdma$black + coef(probit1)[3]*hdma$pi_rat)\n",
    "scalefactor<-mean(hdma$gg)\n",
    "scalefactor"
   ]
  },
  {
   "cell_type": "markdown",
   "metadata": {},
   "source": [
    "<font color=green> C'est le facteur d'échelle tel que défini dans le cours : $\\frac{\\sum_{i=1}^{n}g(\\hat{\\beta}_0+\\hat{\\beta}_1 black_i+\\hat{\\beta}_2 pi\\_rat_i)}{n}$. Il sert à calculer l'effet marginal moyen (moyenne des effets marginaux). </font>"
   ]
  },
  {
   "cell_type": "markdown",
   "metadata": {},
   "source": [
    "Calculer l'effet marginal moyen du ratio d'endettement. "
   ]
  },
  {
   "cell_type": "code",
   "execution_count": 11,
   "metadata": {},
   "outputs": [
    {
     "data": {
      "text/html": [
       "<strong>pi_rat:</strong> 0.501420220782076"
      ],
      "text/latex": [
       "\\textbf{pi\\textbackslash{}\\_rat:} 0.501420220782076"
      ],
      "text/markdown": [
       "**pi_rat:** 0.501420220782076"
      ],
      "text/plain": [
       "   pi_rat \n",
       "0.5014202 "
      ]
     },
     "metadata": {},
     "output_type": "display_data"
    }
   ],
   "source": [
    "effet_marginal_moyen <-scalefactor*coef(probit1)[3]\n",
    "effet_marginal_moyen"
   ]
  },
  {
   "cell_type": "markdown",
   "metadata": {},
   "source": [
    "<font color=green> Calculer l'effet marginal moyen du fait d'avoir un ratio d'endettement de 10 points de pourcentage plus élevé. Calcul : On calcule la moyenne des effets partiels sur l’échantillon. Cela revient à multiplier le terme de la question : 0.1828 par le coefficient en question. Ici : $0.1828*2.7417=0.5014$. C'est l'effet de l'augmentation du ratio de 0 à 1 soit +100 points. Je le divise par 10 pour trouver l'effet de 10 points: 0.050 soit + 5 points de pourcentage de probabilité de rejet. L'effet marginal moyen est généralement proche de l'effet mis en évidence par le modèle linéaire. Il peut être différent de l'effet marginal à la moyenne (= pour l'individu moyen, cf question précédente).  </font>"
   ]
  },
  {
   "cell_type": "code",
   "execution_count": 12,
   "metadata": {},
   "outputs": [
    {
     "name": "stdout",
     "output_type": "stream",
     "text": [
      "package 'margins' successfully unpacked and MD5 sums checked\n",
      "\n",
      "The downloaded binary packages are in\n",
      "\tC:\\Users\\lmartinoty\\AppData\\Local\\Temp\\RtmpYHPp3n\\downloaded_packages\n"
     ]
    },
    {
     "data": {
      "text/html": [
       "<table>\n",
       "<thead><tr><th scope=col>factor</th><th scope=col>AME</th><th scope=col>SE</th><th scope=col>z</th><th scope=col>p</th><th scope=col>lower</th><th scope=col>upper</th></tr></thead>\n",
       "<tbody>\n",
       "\t<tr><td>blackcategoryBlack</td><td>0.1695923         </td><td>0.02424322        </td><td>6.995453          </td><td>2.644039e-12      </td><td>0.1220764         </td><td>0.2171081         </td></tr>\n",
       "\t<tr><td>pi_rat            </td><td>0.5014205         </td><td>0.06901215        </td><td>7.265684          </td><td>3.711557e-13      </td><td>0.3661591         </td><td>0.6366818         </td></tr>\n",
       "</tbody>\n",
       "</table>\n"
      ],
      "text/latex": [
       "\\begin{tabular}{r|lllllll}\n",
       " factor & AME & SE & z & p & lower & upper\\\\\n",
       "\\hline\n",
       "\t blackcategoryBlack & 0.1695923          & 0.02424322         & 6.995453           & 2.644039e-12       & 0.1220764          & 0.2171081         \\\\\n",
       "\t pi\\_rat             & 0.5014205            & 0.06901215           & 7.265684             & 3.711557e-13         & 0.3661591            & 0.6366818           \\\\\n",
       "\\end{tabular}\n"
      ],
      "text/markdown": [
       "\n",
       "| factor | AME | SE | z | p | lower | upper |\n",
       "|---|---|---|---|---|---|---|\n",
       "| blackcategoryBlack | 0.1695923          | 0.02424322         | 6.995453           | 2.644039e-12       | 0.1220764          | 0.2171081          |\n",
       "| pi_rat             | 0.5014205          | 0.06901215         | 7.265684           | 3.711557e-13       | 0.3661591          | 0.6366818          |\n",
       "\n"
      ],
      "text/plain": [
       "  factor             AME       SE         z        p            lower    \n",
       "1 blackcategoryBlack 0.1695923 0.02424322 6.995453 2.644039e-12 0.1220764\n",
       "2 pi_rat             0.5014205 0.06901215 7.265684 3.711557e-13 0.3661591\n",
       "  upper    \n",
       "1 0.2171081\n",
       "2 0.6366818"
      ]
     },
     "metadata": {},
     "output_type": "display_data"
    }
   ],
   "source": [
    "#NOTE : on peut calculer l'effet marginal très simplement avec margins :\n",
    "install.packages(\"margins\")\n",
    "library(margins)\n",
    "AME<-margins(probit1)\n",
    "summary(AME)"
   ]
  },
  {
   "cell_type": "markdown",
   "metadata": {},
   "source": [
    "## 3. Comparaison des deux modèles de régression\n",
    "\n",
    "Calculer la probabilité de rejet quand le demandeur est blanc avec un taux d'endettement de 0.1 selon le modèle de probabilité linéaire et le modèle probit. Commentez. \n",
    "\n"
   ]
  },
  {
   "cell_type": "code",
   "execution_count": 13,
   "metadata": {},
   "outputs": [
    {
     "data": {
      "text/html": [
       "<strong>(Intercept):</strong> -0.0345941400626863"
      ],
      "text/latex": [
       "\\textbf{(Intercept):} -0.0345941400626863"
      ],
      "text/markdown": [
       "**(Intercept):** -0.0345941400626863"
      ],
      "text/plain": [
       "(Intercept) \n",
       "-0.03459414 "
      ]
     },
     "metadata": {},
     "output_type": "display_data"
    },
    {
     "data": {
      "text/html": [
       "<strong>(Intercept):</strong> 0.0235939916804261"
      ],
      "text/latex": [
       "\\textbf{(Intercept):} 0.0235939916804261"
      ],
      "text/markdown": [
       "**(Intercept):** 0.0235939916804261"
      ],
      "text/plain": [
       "(Intercept) \n",
       " 0.02359399 "
      ]
     },
     "metadata": {},
     "output_type": "display_data"
    }
   ],
   "source": [
    "#Par MPL\n",
    "ypred <- coef(lpm2)[1] + coef(lpm2)[3]*0.1\n",
    "#Par Probit\n",
    "z <- coef(probit1)[1] + coef(probit1)[3]*0.1\n",
    "p=pnorm(z)\n",
    "ypred\n",
    "p"
   ]
  },
  {
   "cell_type": "markdown",
   "metadata": {},
   "source": [
    "<font color=green> Commentaire : on voit qu’en plus des effets non linéaires, la force du modèle non linéaire est de contraindre les probabilités prédites à appartenir à l’intervalle 0,1. </font>"
   ]
  },
  {
   "cell_type": "markdown",
   "metadata": {},
   "source": [
    "Que réprésentent les commandes et le graphique ci-dessous ?"
   ]
  },
  {
   "cell_type": "code",
   "execution_count": 14,
   "metadata": {},
   "outputs": [
    {
     "data": {
      "image/png": "[encoded data removed]",
      "text/plain": [
       "plot without title"
      ]
     },
     "metadata": {},
     "output_type": "display_data"
    }
   ],
   "source": [
    "library(ggplot2)\n",
    "hdma$p_rejet <- predict(probit1, hdma, type = \"response\")\n",
    "hdma$y_hat <- predict(lpm2, hdma, type = \"response\")\n",
    "ggplot(hdma, aes(x = pi_rat, y = p_rejet, colour = blackcategory))+ geom_point()+geom_line(aes(y = y_hat, colour = blackcategory))"
   ]
  },
  {
   "cell_type": "markdown",
   "metadata": {},
   "source": [
    "<font color=green>  \n",
    "$p\\_rejet$ est la proba prédite par le modèle probit. <br>\n",
    "$y\\_hat$ est la proba prédite par le modèle de proba linéaire. <br>\n",
    "Le graphique met en évidence les probabilités prédites de rejet pour l'ensemble des individus de l'échantillon, en fonction de $pi\\_rat$, par ethnie. Pour le modèle linéaire, elles sont linéaires en $pi\\_rat$. Pour le modèle non linéaire, elles sont non linéaires en $pi\\_rat$ et évoluent entre 0 et 1. \n",
    "</font>"
   ]
  },
  {
   "cell_type": "markdown",
   "metadata": {},
   "source": [
    "## 4. Modèle de régression probit complet\n",
    "\n",
    "Quelles sont les autres variables que vous souhaiteriez ajouter à la régression ? "
   ]
  },
  {
   "cell_type": "markdown",
   "metadata": {},
   "source": [
    "<font color=green> Presque toutes les variables du tableau. Trois catégories : cara de l’emprunt, de l’emprunteur, et cara individuelles. Les cara qu’il est important de tenir en compte : variables en lien avec l’ethnie ET en lien avec la probabilité de rejet du dossier de demande d’emprunt. </font>"
   ]
  },
  {
   "cell_type": "markdown",
   "metadata": {},
   "source": [
    "Sous quelle condition estimez-vous l'effet causal du traitement ?"
   ]
  },
  {
   "cell_type": "markdown",
   "metadata": {},
   "source": [
    "<font color=green> L’effet sera causal si l’hypothèse d’indépendance conditionnelle est respectée. Autrement dit si le traitement (l’ethnie) est aléatoirement distribué une fois que l’on contrôle pour les caractéristiques observables. Autrement dit si l’on contrôle pour toutes les différences inter-groupes autre que l’ethnie qui pourraient influencer le rejet/l’acceptation.  </font>"
   ]
  },
  {
   "cell_type": "markdown",
   "metadata": {},
   "source": [
    "Estimer le modèle probit de *black* sur *deny* en ajoutant 1 puis 2 puis 3 catégories de variables : \n",
    "- emprunt : pi_rat + hse_inc + loan_val \n",
    "- emprunteur : ccred + mcred + pubrec + denpmi\n",
    "- individuelles : selfemp + single + hischl + probunmp\n",
    "\n",
    "Afficher directement les effets marginaux en utilisant **summary(margins(** *objet estimé par glm()*)**)**. Interpréter les résultats."
   ]
  },
  {
   "cell_type": "code",
   "execution_count": 15,
   "metadata": {},
   "outputs": [],
   "source": [
    "probit2<-glm(deny ~ blackcategory + pi_rat + hse_inc + loan_val  , binomial(\"probit\"), data = hdma)\n",
    "probit3<-glm(deny ~ blackcategory + pi_rat + hse_inc + loan_val + ccred + mcred + pubrec + denpmi  , binomial(\"probit\"), data = hdma)\n",
    "probit4<-glm(deny ~ blackcategory + pi_rat + hse_inc + loan_val + ccred + mcred + pubrec + denpmi + selfemp + single + hischl + probunmp , binomial(\"probit\"), data = hdma)\n",
    "\n",
    "#summary(margins(probit1))\n",
    "#summary(margins(probit2))\n",
    "#summary(margins(probit3))\n",
    "#summary(margins(probit4))"
   ]
  },
  {
   "cell_type": "markdown",
   "metadata": {},
   "source": [
    "On vous donne les résultats obtenus avec le package 'margins': pour le modèle simple probit1, puis pour les spécifications enrichies successivement: probit2, probit3, probit4. Commentez.\n",
    "\n",
    "![title](TD6_margins1.png)\n",
    "![title](TD6_margins2.png)"
   ]
  },
  {
   "cell_type": "markdown",
   "metadata": {},
   "source": [
    "<font color=green> On estime le modèle probit, on montre les effets marginaux moyens. \n",
    "Coefficient d’intérêt : l’amplitude a baissé avec l’introduction de 3 types de variables de contrôle : caractéristiques de la demande, caractéristiques de l’emprunteur (rapport au crédit) ; caractéristiques individuelles. Toutes choses égales par ailleurs, et notamment à caractéristique de projet et d’emprunteur constantes, le fait d’être noir-américain augmente la probabilité de rejet de 8 points. \n",
    "Autres variables : Le taux d’endettement et l’historique de crédit joue un rôle important. Le diplôme protège d’un rejet alors que l’indépendance expose (Interpréter ensemble). </font>"
   ]
  },
  {
   "cell_type": "markdown",
   "metadata": {},
   "source": [
    "Qu'ajouteriez-vous à la régression pour savoir si le ratio d'endettement a un effet différent sur la probabilité de voir son dossier rejeté par la banque selon si on est noir ou blanc ?"
   ]
  },
  {
   "cell_type": "markdown",
   "metadata": {},
   "source": [
    "<font color=green> On ajouterait des variables d’interaction : ethnie*ratio endettement. Le coefficient donnerait l’effet différentiel du ratio d’endettement pour les noirs (il se peut qu’il compte autant/plus/moins dans la décision que pour les blancs).  </font>"
   ]
  },
  {
   "cell_type": "markdown",
   "metadata": {},
   "source": [
    "Voici le pseudoR2 de McFadden pour le modèle simple et multiple. Commentez la qualité générale des régressions."
   ]
  },
  {
   "cell_type": "code",
   "execution_count": 16,
   "metadata": {},
   "outputs": [
    {
     "data": {
      "text/html": [
       "0.085942585171556"
      ],
      "text/latex": [
       "0.085942585171556"
      ],
      "text/markdown": [
       "0.085942585171556"
      ],
      "text/plain": [
       "[1] 0.08594259"
      ]
     },
     "metadata": {},
     "output_type": "display_data"
    },
    {
     "data": {
      "text/html": [
       "0.108382970853426"
      ],
      "text/latex": [
       "0.108382970853426"
      ],
      "text/markdown": [
       "0.108382970853426"
      ],
      "text/plain": [
       "[1] 0.108383"
      ]
     },
     "metadata": {},
     "output_type": "display_data"
    },
    {
     "data": {
      "text/html": [
       "0.257251715793347"
      ],
      "text/latex": [
       "0.257251715793347"
      ],
      "text/markdown": [
       "0.257251715793347"
      ],
      "text/plain": [
       "[1] 0.2572517"
      ]
     },
     "metadata": {},
     "output_type": "display_data"
    },
    {
     "data": {
      "text/html": [
       "0.272551887133772"
      ],
      "text/latex": [
       "0.272551887133772"
      ],
      "text/markdown": [
       "0.272551887133772"
      ],
      "text/plain": [
       "[1] 0.2725519"
      ]
     },
     "metadata": {},
     "output_type": "display_data"
    }
   ],
   "source": [
    "pR2_1 <- 1 - probit1$deviance / probit1$null.deviance \n",
    "pR2_2 <- 1 - probit2$deviance / probit2$null.deviance \n",
    "pR2_3 <- 1 - probit3$deviance / probit3$null.deviance \n",
    "pR2_4 <- 1 - probit4$deviance / probit4$null.deviance \n",
    "pR2_1\n",
    "pR2_2\n",
    "pR2_3\n",
    "pR2_4"
   ]
  },
  {
   "cell_type": "markdown",
   "metadata": {},
   "source": [
    "<font color=green> \n",
    "*****************************************************************\n",
    "RAPPEL au cas où : Le **pseudo R2** est un équivalent du R2 pour les modèles de régression probit. Il y en a plusieurs. \n",
    "    \n",
    "On peut partir de celui de **McFadden : 1 – Lu/L0** avec:\n",
    "- Lu log vraisemblance du modèle \n",
    "- et L0 log vraisemblance du modèle estimé avec seulement une constante. \n",
    "\n",
    "=> Si le modèle avec variables n’a aucun pouvoir explicatif alors Lu sera égal à L0 et donc Le R2 sera égal à 0. \n",
    "\n",
    "=> Plus Lu se rapprocge de 0 (rappelons que l’on maximise Lu et que Lu est négative donc sa maximisation implique qu’elle se rapproche de 0), plus le ratio Lu/L0 se rapproche de 0 donc R2 se rapproche de 1. \n",
    "\n",
    "Calcul :\n",
    "- Use deviance since $deviance = -2 \\times ln(Lfull)$ and $null.deviance = -2 \\times ln(Lnull)$ donc pseudoR2 = 1 - (Lu/L0) = 1 - (deviance/null.deviance)\n",
    "- ICI: on a l’info sur la deviance (en bas du tableau de l'estimation probit) : pR2 = 1-(1264.9/1726.9)=0.2675. \n",
    "*****************************************************************\n",
    "\n",
    "INTERPRETATION : c'est logique, plus on a de variables explicatives, meilleure l'explication de la variation donc le pseudo R2. Notons que saut du pseudo R2 de 10 à 25 correspond au saut de modèle 2 à 3 où de nombreuses variables sont d'importantes explicatives. \n",
    "</font>"
   ]
  }
 ],
 "metadata": {
  "kernelspec": {
   "display_name": "R",
   "language": "R",
   "name": "ir"
  },
  "language_info": {
   "codemirror_mode": "r",
   "file_extension": ".r",
   "mimetype": "text/x-r-source",
   "name": "R",
   "pygments_lexer": "r",
   "version": "3.6.1"
  }
 },
 "nbformat": 4,
 "nbformat_minor": 2
}

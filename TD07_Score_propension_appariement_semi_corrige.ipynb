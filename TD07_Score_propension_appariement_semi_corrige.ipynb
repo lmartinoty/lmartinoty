{
 "cells": [
  {
   "cell_type": "markdown",
   "metadata": {},
   "source": [
    "# SCORE DE PROPENSION ET APPARIEMENT\n",
    "\n",
    "Cette application s'inspire de l'article de Douglas Almond, Kenneth Y. Chay, and David S. Lee : \"The Costs of Low Birth Weight\", *Quarterly Journal of Economics*, 120(3):1031-1083.\n",
    "\n",
    "L'objectif : étudier l'effet causal du fait que les mères fument durant leur grossesse sur le poids des enfants à la naissance. Connaître les déterminants du poids à la naissance hors facteurs génétiques est crucial car le poids à la naissance a une importante répercussion sur une série de variables en santé, développement, éducation, et *in fine* revenu des enfants.\n",
    "\n",
    "Les données sont issues du registre des naissances de Pennsylvanie en 1993. Chaque ligne rapporte des observations sur la mère et son enfant. Le codebook est disponible : **TD7_codebook.txt**."
   ]
  },
  {
   "cell_type": "markdown",
   "metadata": {},
   "source": [
    "## 1. Intuition et modèle linéaire\n",
    "\n",
    "Dans ce contexte, quelle est notre variable d'intérêt ou résultat ? Notre variable de traitement ? Identifiez ces variables dans le codebook : **TD7_codebook.txt**."
   ]
  },
  {
   "cell_type": "markdown",
   "metadata": {},
   "source": [
    "Ouvrir les données **TD7_ps1_postdrop.dta**. "
   ]
  },
  {
   "cell_type": "code",
   "execution_count": 1,
   "metadata": {},
   "outputs": [],
   "source": [
    "#ouvrir\n",
    "library(foreign)\n",
    "d<-"
   ]
  },
  {
   "cell_type": "markdown",
   "metadata": {},
   "source": [
    "On souhaite travailler sur le sous échantillon des femmes de 32 ans. Créer le sous-échantillon que l'on nommera d. "
   ]
  },
  {
   "cell_type": "code",
   "execution_count": 2,
   "metadata": {},
   "outputs": [],
   "source": [
    "d<-"
   ]
  },
  {
   "cell_type": "markdown",
   "metadata": {},
   "source": [
    "Estimer le modèle simple. Quelle interprétation donner des résultats ? Doit-on interdire aux femmes enceintes de fumer au vu de ces résultats ?"
   ]
  },
  {
   "cell_type": "code",
   "execution_count": 3,
   "metadata": {},
   "outputs": [
    {
     "data": {
      "text/plain": [
       "\n",
       "   1    2 \n",
       " 770 5787 "
      ]
     },
     "metadata": {},
     "output_type": "display_data"
    },
    {
     "data": {
      "text/plain": [
       "   Min. 1st Qu.  Median    Mean 3rd Qu.    Max. \n",
       "    227    3105    3459    3424    3799    5897 "
      ]
     },
     "metadata": {},
     "output_type": "display_data"
    },
    {
     "data": {
      "text/plain": [
       "\n",
       "   0    1 \n",
       "5787  770 "
      ]
     },
     "metadata": {},
     "output_type": "display_data"
    },
    {
     "data": {
      "text/plain": [
       "\n",
       "Call:\n",
       "lm(formula = dbrwt ~ tobacco, data = d)\n",
       "\n",
       "Residuals:\n",
       "    Min      1Q  Median      3Q     Max \n",
       "-3228.1  -308.1    31.9   371.9  2441.9 \n",
       "\n",
       "Coefficients:\n",
       "            Estimate Std. Error t value Pr(>|t|)    \n",
       "(Intercept) 3455.057      7.687  449.44   <2e-16 ***\n",
       "tobacco     -260.951     22.433  -11.63   <2e-16 ***\n",
       "---\n",
       "Signif. codes:  0 '***' 0.001 '**' 0.01 '*' 0.05 '.' 0.1 ' ' 1\n",
       "\n",
       "Residual standard error: 584.8 on 6555 degrees of freedom\n",
       "Multiple R-squared:  0.02023,\tAdjusted R-squared:  0.02008 \n",
       "F-statistic: 135.3 on 1 and 6555 DF,  p-value: < 2.2e-16\n"
      ]
     },
     "metadata": {},
     "output_type": "display_data"
    }
   ],
   "source": [
    "#inspecter tobacco et recoder en une dummy qui vaut 1 si la mère est fumeuse, 0 sinon\n",
    "\n",
    "#estimer le modèle simple\n",
    "simple<-"
   ]
  },
  {
   "cell_type": "markdown",
   "metadata": {},
   "source": [
    "Supposons que le fait pour une mère de fumer ou non est assigné de manière aléatoire, conditionnellement à d'autres variables prédéterminées qui déterminent le poids de l'enfant à la naissance. \n",
    "\n",
    "a) Quelle méthode économétrique utiliseriez-vous ? \n",
    "\n",
    "b) Quelles variables de contrôle choisiriez-vous ?\n",
    "\n",
    "c) Quelle est la source de mauvaise spécification du modèle si on choisit cette forme ? "
   ]
  },
  {
   "cell_type": "markdown",
   "metadata": {},
   "source": [
    "Estimer le modèle multiple avec les variables prédéterminées : *pldel3* *ormoth* *mrace3* *dmeduc* *dmar* *dfage* *orfath* *dfeduc*."
   ]
  },
  {
   "cell_type": "code",
   "execution_count": 4,
   "metadata": {},
   "outputs": [
    {
     "data": {
      "text/plain": [
       "\n",
       "Call:\n",
       "lm(formula = dbrwt ~ tobacco + pldel3 + ormoth + mrace3 + dmeduc + \n",
       "    dmar + dfage + orfath + dfeduc, data = d)\n",
       "\n",
       "Residuals:\n",
       "    Min      1Q  Median      3Q     Max \n",
       "-3261.8  -314.6    28.4   365.6  2432.0 \n",
       "\n",
       "Coefficients:\n",
       "            Estimate Std. Error t value Pr(>|t|)    \n",
       "(Intercept) 3487.267    108.640  32.099  < 2e-16 ***\n",
       "tobacco     -229.332     23.696  -9.678  < 2e-16 ***\n",
       "pldel3       155.799     51.785   3.009 0.002635 ** \n",
       "ormoth       -16.400     25.088  -0.654 0.513332    \n",
       "mrace3      -118.927     15.620  -7.614 3.04e-14 ***\n",
       "dmeduc        -2.580      4.259  -0.606 0.544690    \n",
       "dmar         -98.892     29.107  -3.398 0.000684 ***\n",
       "dfage          2.994      1.752   1.708 0.087607 .  \n",
       "orfath       -18.057     22.101  -0.817 0.413954    \n",
       "dfeduc        -1.133      3.985  -0.284 0.776199    \n",
       "---\n",
       "Signif. codes:  0 '***' 0.001 '**' 0.01 '*' 0.05 '.' 0.1 ' ' 1\n",
       "\n",
       "Residual standard error: 580 on 6547 degrees of freedom\n",
       "Multiple R-squared:  0.03728,\tAdjusted R-squared:  0.03596 \n",
       "F-statistic: 28.17 on 9 and 6547 DF,  p-value: < 2.2e-16\n"
      ]
     },
     "metadata": {},
     "output_type": "display_data"
    }
   ],
   "source": [
    "#estimer ce modèle que l'on nommera multiple\n",
    "#multiple<-"
   ]
  },
  {
   "cell_type": "markdown",
   "metadata": {},
   "source": [
    "## 2. Création du score de propension\n",
    "\n",
    "Décrivez en quelques lignes en quoi consiste le score de propension et comment il contribue à estimer l'effet moyen causal du traitement (ici : le fait de fumer durant la grossesse) quand le traitement est assigné de manière aléatoire une fois conditionné par les variables prédéterminées."
   ]
  },
  {
   "cell_type": "markdown",
   "metadata": {},
   "source": [
    "Décrivez en quelques lignes comment s'obtient le score de propension que nous notons $\\hat{p}_{i}$ dans le modèle et que nous nommons *pr_score* dans les données."
   ]
  },
  {
   "cell_type": "markdown",
   "metadata": {},
   "source": [
    "On estime le score de propension : "
   ]
  },
  {
   "cell_type": "code",
   "execution_count": 5,
   "metadata": {},
   "outputs": [
    {
     "data": {
      "text/plain": [
       "\n",
       "Call:\n",
       "glm(formula = tobacco ~ dmage + dmeduc + dmar + dfage + dfeduc + \n",
       "    phyper + pre4000 + alcohol + wgain, family = binomial(probit), \n",
       "    data = d)\n",
       "\n",
       "Deviance Residuals: \n",
       "    Min       1Q   Median       3Q      Max  \n",
       "-2.1827  -0.5254  -0.3467  -0.2453   2.9261  \n",
       "\n",
       "Coefficients: (1 not defined because of singularities)\n",
       "             Estimate Std. Error z value Pr(>|z|)    \n",
       "(Intercept)  1.330409   0.633429   2.100   0.0357 *  \n",
       "dmage              NA         NA      NA       NA    \n",
       "dmeduc      -0.098972   0.013097  -7.557 4.13e-14 ***\n",
       "dmar         0.827510   0.062030  13.340  < 2e-16 ***\n",
       "dfage        0.010641   0.004910   2.167   0.0302 *  \n",
       "dfeduc      -0.093560   0.012056  -7.760 8.46e-15 ***\n",
       "phyper       0.216990   0.157036   1.382   0.1670    \n",
       "pre4000      0.476016   0.192413   2.474   0.0134 *  \n",
       "alcohol     -1.272093   0.162973  -7.806 5.92e-15 ***\n",
       "wgain       -0.002334   0.001903  -1.227   0.2200    \n",
       "---\n",
       "Signif. codes:  0 '***' 0.001 '**' 0.01 '*' 0.05 '.' 0.1 ' ' 1\n",
       "\n",
       "(Dispersion parameter for binomial family taken to be 1)\n",
       "\n",
       "    Null deviance: 4744.3  on 6556  degrees of freedom\n",
       "Residual deviance: 4037.7  on 6548  degrees of freedom\n",
       "AIC: 4055.7\n",
       "\n",
       "Number of Fisher Scoring iterations: 6\n"
      ]
     },
     "metadata": {},
     "output_type": "display_data"
    }
   ],
   "source": [
    "propensity <- glm(tobacco ~  dmage+ dmeduc+ dmar\n",
    "                     +dfage +dfeduc+ phyper +pre4000+ alcohol +wgain, binomial(probit), data=d)\n",
    "summary(propensity)"
   ]
  },
  {
   "cell_type": "markdown",
   "metadata": {},
   "source": [
    "Etes-vous d'accord avec cette estimation ? "
   ]
  },
  {
   "cell_type": "markdown",
   "metadata": {},
   "source": [
    "Estimez à nouveau le score de propension avec les variables prédéterminées : *pldel3* *ormoth* *mrace3* *dmeduc* *dmar* *dfage* *orfath* *dfeduc*"
   ]
  },
  {
   "cell_type": "code",
   "execution_count": 6,
   "metadata": {},
   "outputs": [
    {
     "data": {
      "text/plain": [
       "\n",
       "Call:\n",
       "glm(formula = tobacco ~ ormoth + mrace3 + dmeduc + dmar + dfage + \n",
       "    orfath + dfeduc + pldel3, family = binomial(probit), data = d)\n",
       "\n",
       "Deviance Residuals: \n",
       "    Min       1Q   Median       3Q      Max  \n",
       "-2.2904  -0.5348  -0.3454  -0.2363   3.4184  \n",
       "\n",
       "Coefficients:\n",
       "             Estimate Std. Error z value Pr(>|z|)    \n",
       "(Intercept)  1.610459   0.373945   4.307 1.66e-05 ***\n",
       "ormoth      -0.345688   0.120642  -2.865  0.00416 ** \n",
       "mrace3      -0.055118   0.043504  -1.267  0.20517    \n",
       "dmeduc      -0.108004   0.013274  -8.137 4.06e-16 ***\n",
       "dmar         0.884411   0.067610  13.081  < 2e-16 ***\n",
       "dfage        0.010925   0.004909   2.225  0.02605 *  \n",
       "orfath      -0.001063   0.073745  -0.014  0.98850    \n",
       "dfeduc      -0.103257   0.012189  -8.471  < 2e-16 ***\n",
       "pldel3      -1.230580   0.233267  -5.275 1.32e-07 ***\n",
       "---\n",
       "Signif. codes:  0 '***' 0.001 '**' 0.01 '*' 0.05 '.' 0.1 ' ' 1\n",
       "\n",
       "(Dispersion parameter for binomial family taken to be 1)\n",
       "\n",
       "    Null deviance: 4744.3  on 6556  degrees of freedom\n",
       "Residual deviance: 4048.9  on 6548  degrees of freedom\n",
       "AIC: 4066.9\n",
       "\n",
       "Number of Fisher Scoring iterations: 6\n"
      ]
     },
     "metadata": {},
     "output_type": "display_data"
    }
   ],
   "source": [
    "#propensity <- "
   ]
  },
  {
   "cell_type": "markdown",
   "metadata": {},
   "source": [
    "On souhaite montrer graphiquement la distribution du score de propension selon le groupe (unités traitées, unités de contrôle -- ici mères fumeuses ou non-fumeuses), ainsi qu'un tableau donnant les statistiques descriptives de ce score par groupe. Pour cela on doit d'abord prédire le score :"
   ]
  },
  {
   "cell_type": "code",
   "execution_count": 7,
   "metadata": {},
   "outputs": [],
   "source": [
    "#on prédit le score: \n",
    "prs_df <- data.frame(pr_score = predict(propensity, type = \"response\"),\n",
    "                     tobacco = d$tobacco)"
   ]
  },
  {
   "cell_type": "markdown",
   "metadata": {},
   "source": [
    "Examinez les 6 premières lignes de ce dataframe : "
   ]
  },
  {
   "cell_type": "code",
   "execution_count": 8,
   "metadata": {},
   "outputs": [
    {
     "data": {
      "text/html": [
       "<table>\n",
       "<thead><tr><th></th><th scope=col>pr_score</th><th scope=col>tobacco</th></tr></thead>\n",
       "<tbody>\n",
       "\t<tr><th scope=row>2</th><td>0.42075635</td><td>0         </td></tr>\n",
       "\t<tr><th scope=row>5</th><td>0.16444173</td><td>1         </td></tr>\n",
       "\t<tr><th scope=row>10</th><td>0.06122157</td><td>0         </td></tr>\n",
       "\t<tr><th scope=row>16</th><td>0.13669384</td><td>0         </td></tr>\n",
       "\t<tr><th scope=row>18</th><td>0.06776432</td><td>0         </td></tr>\n",
       "\t<tr><th scope=row>45</th><td>0.04446675</td><td>0         </td></tr>\n",
       "</tbody>\n",
       "</table>\n"
      ],
      "text/latex": [
       "\\begin{tabular}{r|ll}\n",
       "  & pr\\_score & tobacco\\\\\n",
       "\\hline\n",
       "\t2 & 0.42075635 & 0         \\\\\n",
       "\t5 & 0.16444173 & 1         \\\\\n",
       "\t10 & 0.06122157 & 0         \\\\\n",
       "\t16 & 0.13669384 & 0         \\\\\n",
       "\t18 & 0.06776432 & 0         \\\\\n",
       "\t45 & 0.04446675 & 0         \\\\\n",
       "\\end{tabular}\n"
      ],
      "text/markdown": [
       "\n",
       "| <!--/--> | pr_score | tobacco |\n",
       "|---|---|---|\n",
       "| 2 | 0.42075635 | 0          |\n",
       "| 5 | 0.16444173 | 1          |\n",
       "| 10 | 0.06122157 | 0          |\n",
       "| 16 | 0.13669384 | 0          |\n",
       "| 18 | 0.06776432 | 0          |\n",
       "| 45 | 0.04446675 | 0          |\n",
       "\n"
      ],
      "text/plain": [
       "   pr_score   tobacco\n",
       "2  0.42075635 0      \n",
       "5  0.16444173 1      \n",
       "10 0.06122157 0      \n",
       "16 0.13669384 0      \n",
       "18 0.06776432 0      \n",
       "45 0.04446675 0      "
      ]
     },
     "metadata": {},
     "output_type": "display_data"
    }
   ],
   "source": []
  },
  {
   "cell_type": "markdown",
   "metadata": {},
   "source": [
    "On adopte deux types de représentations graphiques du support commun : un hisogramme séparé, ou une estimation empirique de la densité par fonction noyau (les deux graphiques donnent la même information sur la qualité du support commun des scores estimés) :"
   ]
  },
  {
   "cell_type": "code",
   "execution_count": 9,
   "metadata": {
    "scrolled": true
   },
   "outputs": [
    {
     "name": "stderr",
     "output_type": "stream",
     "text": [
      "\n",
      "Attaching package: 'dplyr'\n",
      "\n",
      "The following objects are masked from 'package:plyr':\n",
      "\n",
      "    arrange, count, desc, failwith, id, mutate, rename, summarise,\n",
      "    summarize\n",
      "\n",
      "The following objects are masked from 'package:stats':\n",
      "\n",
      "    filter, lag\n",
      "\n",
      "The following objects are masked from 'package:base':\n",
      "\n",
      "    intersect, setdiff, setequal, union\n",
      "\n"
     ]
    },
    {
     "data": {
      "image/png": "[encoded data removed]",
      "text/plain": [
       "plot without title"
      ]
     },
     "metadata": {},
     "output_type": "display_data"
    }
   ],
   "source": [
    "##histogramme :\n",
    "library(plyr)\n",
    "library(dplyr)\n",
    "library(ggplot2)\n",
    "labs <- paste(\"Statut:\", c(\"Fumeur\", \"Non-fumeur\"))\n",
    "prs_df %>%\n",
    "  mutate(tobacco = ifelse(tobacco == 1, labs[1], labs[2])) %>%\n",
    "  ggplot(aes(x = pr_score)) +\n",
    "  geom_histogram(color = \"white\", bins=100) +\n",
    "  facet_wrap(~tobacco) +\n",
    "  xlab(\"Score de propension: probabilité de fumer pendant la grossesse\") +\n",
    "  ylab(\"\") +\n",
    "  theme_bw()"
   ]
  },
  {
   "cell_type": "code",
   "execution_count": 10,
   "metadata": {},
   "outputs": [
    {
     "data": {
      "image/png": "[encoded data removed]",
      "text/plain": [
       "Plot with title \"Densité noyau du score de propension\""
      ]
     },
     "metadata": {},
     "output_type": "display_data"
    }
   ],
   "source": [
    "#ou encore densité empirique : \n",
    "plot(density(prs_df$pr_score[\n",
    "  prs_df$tobacco==0]),col=\"blue\",lty=\"dotted\",main=\"Densité noyau du score de propension\",ylab=\"Densité\",xlab=\"Score\")\n",
    "lines(density(prs_df$pr_score[\n",
    "  prs_df$tobacco==1]), col=\"red\")\n",
    "legend(\"topright\", c(\"Non-fumeurs\",\"Fumeurs\"), lty = c(3,1), col = c(\"blue\",\"red\"))"
   ]
  },
  {
   "cell_type": "markdown",
   "metadata": {},
   "source": [
    "Qu'en conclure ? "
   ]
  },
  {
   "cell_type": "markdown",
   "metadata": {},
   "source": [
    "Que faire pour améliorer la qualité du support commun ?"
   ]
  },
  {
   "cell_type": "code",
   "execution_count": 11,
   "metadata": {},
   "outputs": [
    {
     "data": {
      "text/plain": [
       "     Min.   1st Qu.    Median      Mean   3rd Qu.      Max. \n",
       "0.0001324 0.0342722 0.0729724 0.1023786 0.1501191 0.9274084 "
      ]
     },
     "metadata": {},
     "output_type": "display_data"
    },
    {
     "data": {
      "text/plain": [
       "    Min.  1st Qu.   Median     Mean  3rd Qu.     Max. \n",
       "0.002901 0.116557 0.167162 0.225582 0.351488 0.746474 "
      ]
     },
     "metadata": {},
     "output_type": "display_data"
    }
   ],
   "source": [
    "summary(prs_df$pr_score[prs_df$tobacco==0])\n",
    "summary(prs_df$pr_score[prs_df$tobacco==1])"
   ]
  },
  {
   "cell_type": "markdown",
   "metadata": {},
   "source": [
    "## 3. Estimations avec score de propension\n",
    "\n",
    "Nous utilisons $\\hat{p}_{i}$ pour améliorer l'estimation de l'effet causal du fait de fumer sur le poids des nouveaux-nés. Commencer par ajouter le score *pr_score* au dataframe *d* et trimmer les données."
   ]
  },
  {
   "cell_type": "code",
   "execution_count": 12,
   "metadata": {},
   "outputs": [
    {
     "data": {
      "text/html": [
       "<ol class=list-inline>\n",
       "\t<li>6557</li>\n",
       "\t<li>49</li>\n",
       "</ol>\n"
      ],
      "text/latex": [
       "\\begin{enumerate*}\n",
       "\\item 6557\n",
       "\\item 49\n",
       "\\end{enumerate*}\n"
      ],
      "text/markdown": [
       "1. 6557\n",
       "2. 49\n",
       "\n",
       "\n"
      ],
      "text/plain": [
       "[1] 6557   49"
      ]
     },
     "metadata": {},
     "output_type": "display_data"
    },
    {
     "data": {
      "text/html": [
       "<ol class=list-inline>\n",
       "\t<li>6486</li>\n",
       "\t<li>49</li>\n",
       "</ol>\n"
      ],
      "text/latex": [
       "\\begin{enumerate*}\n",
       "\\item 6486\n",
       "\\item 49\n",
       "\\end{enumerate*}\n"
      ],
      "text/markdown": [
       "1. 6486\n",
       "2. 49\n",
       "\n",
       "\n"
      ],
      "text/plain": [
       "[1] 6486   49"
      ]
     },
     "metadata": {},
     "output_type": "display_data"
    }
   ],
   "source": [
    "#ajout du score de propension dans le dataframe d\n",
    "\n",
    "\n",
    "#trimming: suppression des observations pour lesquelles il n'y a pas de contrefactuel:\n"
   ]
  },
  {
   "cell_type": "markdown",
   "metadata": {},
   "source": [
    "### 3.1 Utilisation directe du score de propension\n",
    "\n",
    "Nous introduisons d'abord $\\hat{p}_{i}$ comme variable dans l'équation simple: $dbrwt_{i} = \\gamma D_{i} + u_{i}$. Estimer. Quel est l'effet moyen du traitement ? Commenter."
   ]
  },
  {
   "cell_type": "code",
   "execution_count": 13,
   "metadata": {},
   "outputs": [
    {
     "data": {
      "text/plain": [
       "\n",
       "Call:\n",
       "lm(formula = dbrwt ~ tobacco + pr_score, data = d)\n",
       "\n",
       "Residuals:\n",
       "    Min      1Q  Median      3Q     Max \n",
       "-3233.5  -315.5    27.2   369.4  2433.5 \n",
       "\n",
       "Coefficients:\n",
       "            Estimate Std. Error t value Pr(>|t|)    \n",
       "(Intercept)  3480.78      10.42 334.132  < 2e-16 ***\n",
       "tobacco      -227.09      23.93  -9.491  < 2e-16 ***\n",
       "pr_score     -264.15      67.89  -3.891 0.000101 ***\n",
       "---\n",
       "Signif. codes:  0 '***' 0.001 '**' 0.01 '*' 0.05 '.' 0.1 ' ' 1\n",
       "\n",
       "Residual standard error: 584.3 on 6483 degrees of freedom\n",
       "Multiple R-squared:  0.02246,\tAdjusted R-squared:  0.02216 \n",
       "F-statistic: 74.49 on 2 and 6483 DF,  p-value: < 2.2e-16\n"
      ]
     },
     "metadata": {},
     "output_type": "display_data"
    }
   ],
   "source": [
    "#estimation\n",
    "#simple_p <- "
   ]
  },
  {
   "cell_type": "markdown",
   "metadata": {},
   "source": [
    "Pourquoi l'introduction du score de propension n'a-t-elle que peu de valeur ajoutée pour résoudre notre problème de sélection sur observables par rapport à un modèle linéaire classique ?  "
   ]
  },
  {
   "cell_type": "code",
   "execution_count": 14,
   "metadata": {},
   "outputs": [
    {
     "data": {
      "text/html": [
       "<strong>tobacco:</strong> -260.951483957549"
      ],
      "text/latex": [
       "\\textbf{tobacco:} -260.951483957549"
      ],
      "text/markdown": [
       "**tobacco:** -260.951483957549"
      ],
      "text/plain": [
       "  tobacco \n",
       "-260.9515 "
      ]
     },
     "metadata": {},
     "output_type": "display_data"
    },
    {
     "data": {
      "text/html": [
       "<strong>tobacco:</strong> -229.331659993343"
      ],
      "text/latex": [
       "\\textbf{tobacco:} -229.331659993343"
      ],
      "text/markdown": [
       "**tobacco:** -229.331659993343"
      ],
      "text/plain": [
       "  tobacco \n",
       "-229.3317 "
      ]
     },
     "metadata": {},
     "output_type": "display_data"
    },
    {
     "data": {
      "text/html": [
       "<strong>tobacco:</strong> -227.088538713876"
      ],
      "text/latex": [
       "\\textbf{tobacco:} -227.088538713876"
      ],
      "text/markdown": [
       "**tobacco:** -227.088538713876"
      ],
      "text/plain": [
       "  tobacco \n",
       "-227.0885 "
      ]
     },
     "metadata": {},
     "output_type": "display_data"
    }
   ],
   "source": [
    "#pour rappel:\n",
    "coef(simple)[2]\n",
    "coef(multiple)[2]\n",
    "coef(simple_p)[2]"
   ]
  },
  {
   "cell_type": "markdown",
   "metadata": {},
   "source": [
    "### 3.2 Pondération par le score de propension\n",
    "\n",
    "Nous utilisons la méthode proposée par Hirano, Imbens et Ridder (2003) de pondération par score de propension.\n",
    "\n",
    "a) Donner la formule de la pondération.\n",
    "\n",
    "b) Expliquer en quoi cette pondération permet de mieux mesurer l'effet moyen du traitement. "
   ]
  },
  {
   "cell_type": "markdown",
   "metadata": {},
   "source": [
    "Créer le poids. "
   ]
  },
  {
   "cell_type": "code",
   "execution_count": 15,
   "metadata": {},
   "outputs": [],
   "source": [
    "#poids\n",
    "#d$w <- "
   ]
  },
  {
   "cell_type": "markdown",
   "metadata": {},
   "source": [
    "Pour introduire les poids dans la régression, on utilise l'option **weights=** dans **lm()**. \n",
    "Estimer le modèle. Quel est l'effet moyen du traitement ?"
   ]
  },
  {
   "cell_type": "code",
   "execution_count": 16,
   "metadata": {},
   "outputs": [
    {
     "data": {
      "text/html": [
       "<strong>tobacco:</strong> -165.257161553029"
      ],
      "text/latex": [
       "\\textbf{tobacco:} -165.257161553029"
      ],
      "text/markdown": [
       "**tobacco:** -165.257161553029"
      ],
      "text/plain": [
       "  tobacco \n",
       "-165.2572 "
      ]
     },
     "metadata": {},
     "output_type": "display_data"
    },
    {
     "data": {
      "text/html": [
       "<strong>tobacco:</strong> -208.481662690479"
      ],
      "text/latex": [
       "\\textbf{tobacco:} -208.481662690479"
      ],
      "text/markdown": [
       "**tobacco:** -208.481662690479"
      ],
      "text/plain": [
       "  tobacco \n",
       "-208.4817 "
      ]
     },
     "metadata": {},
     "output_type": "display_data"
    },
    {
     "data": {
      "text/html": [
       "<strong>tobacco:</strong> -260.951483957549"
      ],
      "text/latex": [
       "\\textbf{tobacco:} -260.951483957549"
      ],
      "text/markdown": [
       "**tobacco:** -260.951483957549"
      ],
      "text/plain": [
       "  tobacco \n",
       "-260.9515 "
      ]
     },
     "metadata": {},
     "output_type": "display_data"
    },
    {
     "data": {
      "text/html": [
       "<strong>tobacco:</strong> -229.331659993343"
      ],
      "text/latex": [
       "\\textbf{tobacco:} -229.331659993343"
      ],
      "text/markdown": [
       "**tobacco:** -229.331659993343"
      ],
      "text/plain": [
       "  tobacco \n",
       "-229.3317 "
      ]
     },
     "metadata": {},
     "output_type": "display_data"
    },
    {
     "data": {
      "text/html": [
       "<strong>tobacco:</strong> -227.088538713876"
      ],
      "text/latex": [
       "\\textbf{tobacco:} -227.088538713876"
      ],
      "text/markdown": [
       "**tobacco:** -227.088538713876"
      ],
      "text/plain": [
       "  tobacco \n",
       "-227.0885 "
      ]
     },
     "metadata": {},
     "output_type": "display_data"
    }
   ],
   "source": [
    "#estimation\n",
    "#reweight <- \n",
    "#reweight_withcontrols <- \n",
    "coef(reweight)[2]\n",
    "coef(reweight_withcontrols)[2]\n",
    "#pour rappel:\n",
    "coef(simple)[2]\n",
    "coef(multiple)[2]\n",
    "coef(simple_p)[2]"
   ]
  },
  {
   "cell_type": "markdown",
   "metadata": {},
   "source": [
    "Quel est le principal avantage de cette approche ? Le principal désavantage ? "
   ]
  },
  {
   "cell_type": "markdown",
   "metadata": {},
   "source": [
    "### 3.3 Estimation par bloc sur le score de propension\n",
    "\n",
    "Nous utilisons la méthode proposée par Dehejia et Wahba (2002). \n",
    "\n",
    "a) Comment fonctionne la stratification ? Pourquoi le support commun est-il particulièrement crucial ? \n",
    "\n",
    "b) On calcule l'effet moyen du traitement grâce à 100 blocs. On obtient : $\\hat{\\tau}=-213,62$. Expliquez les différentes étapes du calcul. \n",
    "\n",
    "c) Que faudrait-il vérifier au sein de chaque bloc ? \n"
   ]
  },
  {
   "cell_type": "markdown",
   "metadata": {},
   "source": [
    "### 3.4 Appariement par le score de propension\n",
    "\n",
    "Le score de propension peut être mobilisé pour construire un groupe de contrôle qui ressemble au groupe de traitement : ce sont les techniques d'appariement par score de propension. \n",
    "\n",
    "Citez une méthode simple d'appariement par score de propension."
   ]
  },
  {
   "cell_type": "markdown",
   "metadata": {},
   "source": [
    "On souhaite calculer l'effet moyen du traitement avec cette méthode. A combien d'appariement va-t-on procéder ?"
   ]
  },
  {
   "cell_type": "code",
   "execution_count": 17,
   "metadata": {},
   "outputs": [
    {
     "data": {
      "text/plain": [
       "\n",
       "   0    1 \n",
       "5716  770 "
      ]
     },
     "metadata": {},
     "output_type": "display_data"
    }
   ],
   "source": [
    "table(d$tobacco) "
   ]
  },
  {
   "cell_type": "markdown",
   "metadata": {},
   "source": [
    "On estime le modèle avec appariement par le plus proche voisin (sur un sous-échantillon des fumeuses de 32 ans). Pour cela :\n",
    "- on charge le package \"MatchIt\" (et s'il le faut on l'installe d'abord)\n",
    "- on cherche les plus proches voisins avec la fonction matchit(y~x, method=\"nearest\", data=...), où y est le traitement, et x le score\n",
    "- on génère le dataframe qui inclut les observations traitées et leur plus proche voisin\n",
    "- on analyse la qualité de l'appariement\n"
   ]
  },
  {
   "cell_type": "markdown",
   "metadata": {},
   "source": [
    "Chargement :"
   ]
  },
  {
   "cell_type": "code",
   "execution_count": 18,
   "metadata": {},
   "outputs": [
    {
     "name": "stdout",
     "output_type": "stream",
     "text": [
      "package 'MatchIt' successfully unpacked and MD5 sums checked\n",
      "\n",
      "The downloaded binary packages are in\n",
      "\tC:\\Users\\lmartinoty\\AppData\\Local\\Temp\\Rtmpy2yuEk\\downloaded_packages\n"
     ]
    }
   ],
   "source": [
    "#a)package\n",
    "install.packages(\"MatchIt\")\n",
    "library(MatchIt)"
   ]
  },
  {
   "cell_type": "markdown",
   "metadata": {},
   "source": [
    "Recherche des plus proches voisins : "
   ]
  },
  {
   "cell_type": "code",
   "execution_count": 19,
   "metadata": {},
   "outputs": [],
   "source": [
    "#b)plus proches voisins\n",
    "voisins <- matchit(tobacco ~ pr_score,\n",
    "                     method = \"nearest\", data = d)"
   ]
  },
  {
   "cell_type": "markdown",
   "metadata": {},
   "source": [
    "Constitution du dataframe :"
   ]
  },
  {
   "cell_type": "code",
   "execution_count": 20,
   "metadata": {},
   "outputs": [
    {
     "data": {
      "text/html": [
       "<ol class=list-inline>\n",
       "\t<li>1540</li>\n",
       "\t<li>52</li>\n",
       "</ol>\n"
      ],
      "text/latex": [
       "\\begin{enumerate*}\n",
       "\\item 1540\n",
       "\\item 52\n",
       "\\end{enumerate*}\n"
      ],
      "text/markdown": [
       "1. 1540\n",
       "2. 52\n",
       "\n",
       "\n"
      ],
      "text/plain": [
       "[1] 1540   52"
      ]
     },
     "metadata": {},
     "output_type": "display_data"
    }
   ],
   "source": [
    "#c)dataframe\n",
    "matchedsample <- match.data(voisins)\n",
    "#soit NT le nombre d'unités dans le groupe de traitement, on a bien NT*2 observations (1 contrôle pour chaque traité T)\n",
    "dim(matchedsample) "
   ]
  },
  {
   "cell_type": "markdown",
   "metadata": {},
   "source": [
    "Qualité de l'appariement : refaire le graphique de votre choix de la partie 2 (histogramme ou densité), avec le dataframe crée ci-dessus."
   ]
  },
  {
   "cell_type": "code",
   "execution_count": 21,
   "metadata": {},
   "outputs": [
    {
     "data": {
      "image/png": "[encoded data removed]",
      "text/plain": [
       "Plot with title \"Densité noyau du score de propension\""
      ]
     },
     "metadata": {},
     "output_type": "display_data"
    },
    {
     "data": {
      "image/png": "[encoded data removed]",
      "text/plain": [
       "plot without title"
      ]
     },
     "metadata": {},
     "output_type": "display_data"
    }
   ],
   "source": [
    "#d)quality of nearest neighbour: \n",
    "\n",
    "#densité\n",
    "plot(density(matchedsample$pr_score[\n",
    "  matchedsample$tobacco==0]),col=\"blue\",lty=\"dotted\",main=\"Densité noyau du score de propension\",ylab=\"Densité\",xlab=\"Score\")\n",
    "lines(density(matchedsample$pr_score[\n",
    "  matchedsample$tobacco==1]), col=\"red\")\n",
    "legend(\"topright\", c(\"Non-fumeurs\",\"Fumeurs\"), lty = c(3,1), col = c(\"blue\",\"red\")) "
   ]
  },
  {
   "cell_type": "code",
   "execution_count": 22,
   "metadata": {},
   "outputs": [
    {
     "data": {
      "text/plain": [
       "\n",
       "Call:\n",
       "matchit(formula = tobacco ~ pr_score, data = d, method = \"nearest\")\n",
       "\n",
       "Summary of balance for all data:\n",
       "         Means Treated Means Control SD Control Mean Diff eQQ Med eQQ Mean\n",
       "distance        0.2227        0.1047     0.0943    0.1179  0.0559   0.1176\n",
       "pr_score        0.2256        0.1029     0.0978    0.1227  0.0951   0.1224\n",
       "         eQQ Max\n",
       "distance  0.4301\n",
       "pr_score  0.3105\n",
       "\n",
       "\n",
       "Summary of balance for matched data:\n",
       "         Means Treated Means Control SD Control Mean Diff eQQ Med eQQ Mean\n",
       "distance        0.2227        0.2174     0.1806    0.0052       0   0.0053\n",
       "pr_score        0.2256        0.2223     0.1533    0.0033       0   0.0034\n",
       "         eQQ Max\n",
       "distance  0.0621\n",
       "pr_score  0.0388\n",
       "\n",
       "Percent Balance Improvement:\n",
       "         Mean Diff. eQQ Med eQQ Mean eQQ Max\n",
       "distance    95.5555     100  95.4591 85.5683\n",
       "pr_score    97.3109     100  97.2321 87.5100\n",
       "\n",
       "Sample sizes:\n",
       "          Control Treated\n",
       "All          5716     770\n",
       "Matched       770     770\n",
       "Unmatched    4946       0\n",
       "Discarded       0       0\n"
      ]
     },
     "metadata": {},
     "output_type": "display_data"
    },
    {
     "data": {
      "image/png": "[encoded data removed]",
      "text/plain": [
       "plot without title"
      ]
     },
     "metadata": {},
     "output_type": "display_data"
    }
   ],
   "source": [
    "#NOTE : MatchIt donne des informations sur la qualité de l'appariemment :\n",
    "#summary(voisins) \n",
    "#plot(voisins)"
   ]
  },
  {
   "cell_type": "markdown",
   "metadata": {},
   "source": [
    "Estimer le modèle simple sur les données appariées."
   ]
  },
  {
   "cell_type": "code",
   "execution_count": 23,
   "metadata": {},
   "outputs": [
    {
     "data": {
      "text/html": [
       "<dl class=dl-horizontal>\n",
       "\t<dt>tobacco</dt>\n",
       "\t\t<dd>-225.915584415584</dd>\n",
       "\t<dt>2.5 %</dt>\n",
       "\t\t<dd>-285.973159189765</dd>\n",
       "\t<dt>97.5 %</dt>\n",
       "\t\t<dd>-165.858009641404</dd>\n",
       "</dl>\n"
      ],
      "text/latex": [
       "\\begin{description*}\n",
       "\\item[tobacco] -225.915584415584\n",
       "\\item[2.5 \\textbackslash{}\\%] -285.973159189765\n",
       "\\item[97.5 \\textbackslash{}\\%] -165.858009641404\n",
       "\\end{description*}\n"
      ],
      "text/markdown": [
       "tobacco\n",
       ":   -225.9155844155842.5 %\n",
       ":   -285.97315918976597.5 %\n",
       ":   -165.858009641404\n",
       "\n"
      ],
      "text/plain": [
       "  tobacco     2.5 %    97.5 % \n",
       "-225.9156 -285.9732 -165.8580 "
      ]
     },
     "metadata": {},
     "output_type": "display_data"
    }
   ],
   "source": [
    "nn <- lm(dbrwt ~ tobacco, data=matchedsample)\n",
    "c(coef(nn)[2],     confint(nn)[2,])"
   ]
  },
  {
   "cell_type": "markdown",
   "metadata": {},
   "source": [
    "On peut représenter graphiquement les effets mesurés par les différents modèles estimés :"
   ]
  },
  {
   "cell_type": "code",
   "execution_count": 24,
   "metadata": {},
   "outputs": [],
   "source": [
    "#modèle simple\n",
    "est1<-coef(simple)[2]\n",
    "c1<-confint(simple)[2,]\n",
    "\n",
    "#multiple\n",
    "\n",
    "\n",
    "#modèle simple avec score\n",
    "\n",
    "\n",
    "#modèle repondéré simple\n",
    "\n",
    "\n",
    "#modèle repondéré multiple\n",
    "\n",
    "#appariement par le plus plus proche voisin\n"
   ]
  },
  {
   "cell_type": "code",
   "execution_count": 1,
   "metadata": {},
   "outputs": [
    {
     "ename": "ERROR",
     "evalue": "Error in data.frame(est = c(est1, est2, est3, est4, est5, est6), c_inf = c(c1[1], : objet 'est1' introuvable\n",
     "output_type": "error",
     "traceback": [
      "Error in data.frame(est = c(est1, est2, est3, est4, est5, est6), c_inf = c(c1[1], : objet 'est1' introuvable\nTraceback:\n",
      "1. data.frame(est = c(est1, est2, est3, est4, est5, est6), c_inf = c(c1[1], \n .     c2[1], c3[1], c4[1], c5[1], c6[1]), c_sup = c(c1[2], c2[2], \n .     c3[2], c4[2], c5[2], c6[2]), model = c(\"Simple\", \"Multiple\", \n .     \"Simple+score\", \"Simple+repond\", \"Multiple+pond\", \"Plus proche voisin\"))"
     ]
    }
   ],
   "source": [
    "#création du data frame \n"
   ]
  },
  {
   "cell_type": "code",
   "execution_count": 26,
   "metadata": {},
   "outputs": [
    {
     "data": {
      "image/png": "[encoded data removed]",
      "text/plain": [
       "plot without title"
      ]
     },
     "metadata": {},
     "output_type": "display_data"
    }
   ],
   "source": [
    "#graphique\n"
   ]
  }
 ],
 "metadata": {
  "kernelspec": {
   "display_name": "R",
   "language": "R",
   "name": "ir"
  },
  "language_info": {
   "codemirror_mode": "r",
   "file_extension": ".r",
   "mimetype": "text/x-r-source",
   "name": "R",
   "pygments_lexer": "r",
   "version": "3.6.1"
  }
 },
 "nbformat": 4,
 "nbformat_minor": 2
}

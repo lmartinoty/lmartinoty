{
 "cells": [
  {
   "cell_type": "markdown",
   "metadata": {
    "deletable": true,
    "editable": true
   },
   "source": [
    "# INTRODUCTION\n",
    "\n",
    "*Note : cette introduction et les exercices suivants s'inspirent des Tutoriels de Simon Ejdemyr, disponible (en anglais) ici: https://sejdemyr.github.io/r-tutorials/statistics/. *\n",
    "\n",
    "Pourquoi utiliser R ? Parce que c'est un outil puissant et gratuit d'analyse de données. Parce que cela vous servira pour toute demande d'analyse de données - même si on ne vous fournit pas d'accès au logiciel. Parce que cela ressemble à Python et que c'est le futur. Parce que vous serez encore plus à l'aise si vous choisissez ensuite le master 2 Fintech. "
   ]
  },
  {
   "cell_type": "markdown",
   "metadata": {
    "deletable": true,
    "editable": true
   },
   "source": [
    "# 1. Structure des données dans R. \n",
    "\n",
    "Il existe 4 types d'objets: scalaires, caractères (strings), vecteurs, dataframes (données). \n",
    "\n",
    "Pour créer des objets on utilise l'opérateur de création: $<-$"
   ]
  },
  {
   "cell_type": "markdown",
   "metadata": {
    "deletable": true,
    "editable": true
   },
   "source": [
    "### 1.1 Scalaires"
   ]
  },
  {
   "cell_type": "code",
   "execution_count": 2,
   "metadata": {
    "collapsed": true,
    "deletable": true,
    "editable": true
   },
   "outputs": [],
   "source": [
    "#création du scalaire nommé a\n",
    "a <- 9"
   ]
  },
  {
   "cell_type": "code",
   "execution_count": 3,
   "metadata": {
    "collapsed": false,
    "deletable": true,
    "editable": true
   },
   "outputs": [
    {
     "data": {
      "text/html": [
       "9"
      ],
      "text/latex": [
       "9"
      ],
      "text/markdown": [
       "9"
      ],
      "text/plain": [
       "[1] 9"
      ]
     },
     "metadata": {},
     "output_type": "display_data"
    }
   ],
   "source": [
    "#pour le voir \n",
    "a"
   ]
  },
  {
   "cell_type": "code",
   "execution_count": 4,
   "metadata": {
    "collapsed": false,
    "deletable": true,
    "editable": true
   },
   "outputs": [
    {
     "data": {
      "text/html": [
       "10"
      ],
      "text/latex": [
       "10"
      ],
      "text/markdown": [
       "10"
      ],
      "text/plain": [
       "[1] 10"
      ]
     },
     "metadata": {},
     "output_type": "display_data"
    }
   ],
   "source": [
    "#de même on crée b\n",
    "b <- a+1\n",
    "b"
   ]
  },
  {
   "cell_type": "code",
   "execution_count": 5,
   "metadata": {
    "collapsed": false,
    "deletable": true,
    "editable": true
   },
   "outputs": [],
   "source": [
    "#on peut écraser b en le redéfinissant\n",
    "b<-b-a\n"
   ]
  },
  {
   "cell_type": "code",
   "execution_count": 6,
   "metadata": {
    "collapsed": false,
    "deletable": true,
    "editable": true
   },
   "outputs": [
    {
     "data": {
      "text/html": [
       "1"
      ],
      "text/latex": [
       "1"
      ],
      "text/markdown": [
       "1"
      ],
      "text/plain": [
       "[1] 1"
      ]
     },
     "metadata": {},
     "output_type": "display_data"
    }
   ],
   "source": [
    "#que contient alors b?\n",
    "#réponse: \n",
    "b"
   ]
  },
  {
   "cell_type": "markdown",
   "metadata": {
    "deletable": true,
    "editable": true
   },
   "source": [
    "### 1.2 Strings (caractères)"
   ]
  },
  {
   "cell_type": "code",
   "execution_count": 7,
   "metadata": {
    "collapsed": false,
    "deletable": true,
    "editable": true
   },
   "outputs": [
    {
     "data": {
      "text/html": [
       "'Hello world'"
      ],
      "text/latex": [
       "'Hello world'"
      ],
      "text/markdown": [
       "'Hello world'"
      ],
      "text/plain": [
       "[1] \"Hello world\""
      ]
     },
     "metadata": {},
     "output_type": "display_data"
    }
   ],
   "source": [
    "#création d'un objet 'caractères'\n",
    "c <- \"Hello world\"\n",
    "#pour le voir: \n",
    "c"
   ]
  },
  {
   "cell_type": "code",
   "execution_count": 8,
   "metadata": {
    "collapsed": false,
    "deletable": true,
    "editable": true
   },
   "outputs": [
    {
     "data": {
      "text/html": [
       "'character'"
      ],
      "text/latex": [
       "'character'"
      ],
      "text/markdown": [
       "'character'"
      ],
      "text/plain": [
       "[1] \"character\""
      ]
     },
     "metadata": {},
     "output_type": "display_data"
    },
    {
     "data": {
      "text/html": [
       "'numeric'"
      ],
      "text/latex": [
       "'numeric'"
      ],
      "text/markdown": [
       "'numeric'"
      ],
      "text/plain": [
       "[1] \"numeric\""
      ]
     },
     "metadata": {},
     "output_type": "display_data"
    }
   ],
   "source": [
    "#connaître le type (class) d'un objet:\n",
    "class(c)\n",
    "class(a)"
   ]
  },
  {
   "cell_type": "markdown",
   "metadata": {
    "deletable": true,
    "editable": true
   },
   "source": [
    "### 1.3 Vecteurs"
   ]
  },
  {
   "cell_type": "code",
   "execution_count": null,
   "metadata": {
    "collapsed": false,
    "deletable": true,
    "editable": true
   },
   "outputs": [],
   "source": [
    "#création d'un vecteur v\n",
    "v <- c(1, 2, 3, 4)\n",
    "#le voir\n",
    "v\n",
    "#obtenir des informations\n",
    "class(v)\n",
    "length(v)\n",
    "mean(v)"
   ]
  },
  {
   "cell_type": "code",
   "execution_count": null,
   "metadata": {
    "collapsed": false,
    "deletable": true,
    "editable": true
   },
   "outputs": [],
   "source": [
    "#on peut utiliser des scalaires pour former des vecteurs\n",
    "v <- c(b, 2, a) \n",
    "v"
   ]
  },
  {
   "cell_type": "code",
   "execution_count": null,
   "metadata": {
    "collapsed": false,
    "deletable": true,
    "editable": true
   },
   "outputs": [],
   "source": [
    "#aussi des caractères\n",
    "v_string <- c(\"cat\", \"dog\")\n",
    "v_string"
   ]
  },
  {
   "cell_type": "code",
   "execution_count": null,
   "metadata": {
    "collapsed": false,
    "deletable": true,
    "editable": true
   },
   "outputs": [],
   "source": [
    "#extraire un élément d'un vecteur peut être très utile\n",
    "#par exemple pour extraire le second élément de v_string:\n",
    "v_string[2]\n"
   ]
  },
  {
   "cell_type": "code",
   "execution_count": null,
   "metadata": {
    "collapsed": false,
    "deletable": true,
    "editable": true
   },
   "outputs": [],
   "source": [
    "#et le sauver\n",
    "n2<-v_string[2]\n",
    "n2"
   ]
  },
  {
   "cell_type": "markdown",
   "metadata": {
    "deletable": true,
    "editable": true
   },
   "source": [
    "### 1.4 Data frames\n",
    "\n",
    "Les 'data frames' sont très utiles. Il faut les comprendre comme des bases de données dans lesquelles chaque colonne représnete une variable et chaque ligen représente une unité d'observation. \n",
    "\n",
    "On peut créer un data frame, mais le plus souvent on travaillera sur un dataframe existant qu'on ouvrira avec R. \n",
    "\n",
    "Commençons par créer un data frame avec les noms des patients d'un hôpital, leur taille en centimètres, et le nombre de jours passés à l'hôpital."
   ]
  },
  {
   "cell_type": "code",
   "execution_count": null,
   "metadata": {
    "collapsed": true,
    "deletable": true,
    "editable": true
   },
   "outputs": [],
   "source": [
    "#création du data frame ou base de données\n",
    "nom <- c(\"Matthieu\", \"Sonia\", \"Bilel\", \"Sasha\", \"Ingrid\")\n",
    "taille <- c(176, 175, 167, 154, 170)\n",
    "jours <- c(2, 4, 5, 1, 1)\n",
    "df_patients <- data.frame(nom, taille, jours)   #piecing vectors together"
   ]
  },
  {
   "cell_type": "code",
   "execution_count": null,
   "metadata": {
    "collapsed": false,
    "deletable": true,
    "editable": true
   },
   "outputs": [],
   "source": [
    "#on peut voir la base de données:\n",
    "df_patients"
   ]
  },
  {
   "cell_type": "markdown",
   "metadata": {
    "deletable": true,
    "editable": true
   },
   "source": [
    "Voici la base avec trois vecteurs: un vecteur contenant des caractères (qualitatif), deux vecteurs contenant des scalaires (quantitatifs). Chaque colonne est une variable et chaque ligne une observation individuelle. \n",
    "\n",
    "On peut créer le dataframe directement sans passer par la création séparée de chaque vecteur:"
   ]
  },
  {
   "cell_type": "code",
   "execution_count": null,
   "metadata": {
    "collapsed": false,
    "deletable": true,
    "editable": true
   },
   "outputs": [],
   "source": [
    "df_patients <- data.frame(nom = c(\"Matthieu\", \"Sonia\", \"Bilel\", \"Sasha\", \"Ingrid\"), \n",
    "                          taille = c(176, 175, 167, 154, 170), \n",
    "                          jours = c(2, 4, 5, 1, 1))\n",
    "df_patients"
   ]
  },
  {
   "cell_type": "markdown",
   "metadata": {
    "deletable": true,
    "editable": true
   },
   "source": [
    "On peut faire différentes opérations, que l'on va lister ci-dessous."
   ]
  },
  {
   "cell_type": "code",
   "execution_count": null,
   "metadata": {
    "collapsed": false,
    "deletable": true,
    "editable": true
   },
   "outputs": [],
   "source": [
    "#connaître la taille d'un data frame: \n",
    "dim(df_patients)"
   ]
  },
  {
   "cell_type": "code",
   "execution_count": null,
   "metadata": {
    "collapsed": false,
    "deletable": true,
    "editable": true
   },
   "outputs": [],
   "source": [
    "#créer une variable, par exemple si le patient est allergique aux antibiotiques:\n",
    "df_patients$allergie<-c(0,0,0,0,1)\n",
    "df_patients"
   ]
  },
  {
   "cell_type": "code",
   "execution_count": null,
   "metadata": {
    "collapsed": false,
    "deletable": true,
    "editable": true
   },
   "outputs": [],
   "source": [
    "#extraire et sauvegarder un élément d'un data frame, par exemple le nombre de nuits d'hôpital de Sonia:\n",
    "df_patients[2, 3]\n",
    "#NOTE, on aurait aussi pu sélectionner à patir de la variable qui est un vecteur\n",
    "df_patients$jours[2]"
   ]
  },
  {
   "cell_type": "code",
   "execution_count": null,
   "metadata": {
    "collapsed": false,
    "deletable": true,
    "editable": true
   },
   "outputs": [],
   "source": [
    "#extraire une ligne entière, par exemple les informations concernant Sonia:\n",
    "df_patients[2,]\n"
   ]
  },
  {
   "cell_type": "code",
   "execution_count": null,
   "metadata": {
    "collapsed": false,
    "deletable": true,
    "editable": true
   },
   "outputs": [],
   "source": [
    "#extraire une colonne entière, par exemple les informations sur la taille:\n",
    "df_patients[,2]\n",
    "#NOTE, on peut aussi appeler le vecteur directement:\n",
    "df_patients$taille"
   ]
  },
  {
   "cell_type": "code",
   "execution_count": null,
   "metadata": {
    "collapsed": false,
    "deletable": true,
    "editable": true
   },
   "outputs": [],
   "source": [
    "#on peut modifier une information\n",
    "df_patients[4, 2] <- 168       #redéfinir la taille de Sasha dans le data frame\n",
    "df_patients$taille[4] <- 168   #idem, autre manière de le faire à partir du vecteur\n",
    "df_patients"
   ]
  },
  {
   "cell_type": "markdown",
   "metadata": {
    "collapsed": true,
    "deletable": true,
    "editable": true
   },
   "source": [
    "### Exercice 1\n",
    "\n",
    "Créez 4 scalaires. Chaque scalaire est l'âge des membres d'une famille. Nommez les comme bon vous semble. Avec R, calculez: l'âge total des membres de la famille, et leur âge moyen. Calculez la différence d'âge entre le plus jeune et le plus vieux. "
   ]
  },
  {
   "cell_type": "code",
   "execution_count": null,
   "metadata": {
    "collapsed": false,
    "deletable": true,
    "editable": true
   },
   "outputs": [],
   "source": []
  },
  {
   "cell_type": "markdown",
   "metadata": {
    "deletable": true,
    "editable": true
   },
   "source": [
    "Créez un vecteur qui contient les 4 scalaires. Avec R, recalculez les mêmes informations: l'âge total des membres de la famille, et leur âge moyen. Calculez la différence d'âge entre le plus jeune et le plus vieux. \n",
    "\n",
    "Quel âge auront les membres de votre famille dans 10 ans? (on peut ajouter un nombre n à un vecteur v en écrivant v+n). "
   ]
  },
  {
   "cell_type": "code",
   "execution_count": null,
   "metadata": {
    "collapsed": false,
    "deletable": true,
    "editable": true
   },
   "outputs": [],
   "source": []
  },
  {
   "cell_type": "markdown",
   "metadata": {
    "deletable": true,
    "editable": true
   },
   "source": [
    "Créez un dataframe qui contient trois variables : le nom des membres de votre famille fictive, leur âge et leur genre.\n",
    "Utilisez R pour connaître le type/la nature de ces objets. "
   ]
  },
  {
   "cell_type": "code",
   "execution_count": null,
   "metadata": {
    "collapsed": false,
    "deletable": true,
    "editable": true
   },
   "outputs": [],
   "source": []
  },
  {
   "cell_type": "markdown",
   "metadata": {
    "deletable": true,
    "editable": true
   },
   "source": [
    "Ajoutez une variable au data frame qui donne en quelle année les membres de votre famille vont avoir 100 ans. Calculez aussi la moyenne d'âge des femmes de la famille. "
   ]
  },
  {
   "cell_type": "code",
   "execution_count": null,
   "metadata": {
    "collapsed": false,
    "deletable": true,
    "editable": true
   },
   "outputs": [],
   "source": []
  },
  {
   "cell_type": "markdown",
   "metadata": {
    "deletable": true,
    "editable": true
   },
   "source": [
    "# 2. Lire des données"
   ]
  },
  {
   "cell_type": "markdown",
   "metadata": {
    "deletable": true,
    "editable": true
   },
   "source": [
    "On utilise des données fournies par Simon Ejdemyr. Certes, nous savons maintenant créer des objets simples sur R, mais le plus souvent nous allons travailler avec des données existantes. \n",
    "\n",
    "Les données ont différents formats, et R est capable de lire la plupart de ces formats. \n",
    "\n",
    "Pour lire des données nous auront besoin: \n",
    "- de spécifier où le fichier se trouve sur l'ordinateur (working directory, ou répertoire de travail)\n",
    "- d'exécuter une commande qui va lire le fichier depuis le répertoire de travail.\n"
   ]
  },
  {
   "cell_type": "markdown",
   "metadata": {
    "deletable": true,
    "editable": true
   },
   "source": [
    "### 2.1 Définir le répertoire de travail"
   ]
  },
  {
   "cell_type": "markdown",
   "metadata": {
    "deletable": true,
    "editable": true
   },
   "source": [
    "Deux manières: le faire manuellement sur Rstudio, ou inclure une ligne de code dans le script R.\n",
    "Il est recommandé d'inclure une ligne systématiquement pour éviter toute erreur.\n",
    "\n",
    "- Manuellement: **Session –> Set Working Directory –> Choose Directory… ** et on choisit le dossier où se trouvent les données. \n",
    "- Ligne de code: **setwd(\"chemin\")** où **chemin** est l'adresse du dossier où se trouvent les données. "
   ]
  },
  {
   "cell_type": "markdown",
   "metadata": {
    "deletable": true,
    "editable": true
   },
   "source": [
    "### 2.2 Lire les données depuis le répertoire"
   ]
  },
  {
   "cell_type": "markdown",
   "metadata": {
    "deletable": true,
    "editable": true
   },
   "source": [
    "R peut lire tout type de données. ici notre fichier est un .csv. Voici la syntaxe pour lire ce type de fichier. Nous verrons par la suite d'autres commandes pour d'autres types de données. "
   ]
  },
  {
   "cell_type": "code",
   "execution_count": 5,
   "metadata": {
    "collapsed": false,
    "deletable": true,
    "editable": true
   },
   "outputs": [],
   "source": [
    "world <- read.csv(\"TD1_world_small.csv\")\n",
    "#Note: ici nous n'avons pas défini de répertoire car les données sont dans le même serveur que le notebook en ligne. \n",
    "#Sur Rstudio il ne faudra pas manquer l'étape 2.1 !"
   ]
  },
  {
   "cell_type": "markdown",
   "metadata": {
    "collapsed": true,
    "deletable": true,
    "editable": true
   },
   "source": [
    "Inspectons un peu notre base: "
   ]
  },
  {
   "cell_type": "code",
   "execution_count": 8,
   "metadata": {
    "collapsed": false,
    "deletable": true,
    "editable": true
   },
   "outputs": [
    {
     "data": {
      "text/html": [
       "'data.frame'"
      ],
      "text/latex": [
       "'data.frame'"
      ],
      "text/markdown": [
       "'data.frame'"
      ],
      "text/plain": [
       "[1] \"data.frame\""
      ]
     },
     "metadata": {},
     "output_type": "display_data"
    },
    {
     "data": {
      "text/html": [
       "<ol class=list-inline>\n",
       "\t<li>145</li>\n",
       "\t<li>4</li>\n",
       "</ol>\n"
      ],
      "text/latex": [
       "\\begin{enumerate*}\n",
       "\\item 145\n",
       "\\item 4\n",
       "\\end{enumerate*}\n"
      ],
      "text/markdown": [
       "1. 145\n",
       "2. 4\n",
       "\n",
       "\n"
      ],
      "text/plain": [
       "[1] 145   4"
      ]
     },
     "metadata": {},
     "output_type": "display_data"
    },
    {
     "data": {
      "text/html": [
       "<table>\n",
       "<thead><tr><th scope=col>country</th><th scope=col>region</th><th scope=col>gdppcap08</th><th scope=col>polityIV</th></tr></thead>\n",
       "<tbody>\n",
       "\t<tr><td><span style=white-space:pre-wrap>Albania  </span>       </td><td><span style=white-space:pre-wrap>C&amp;E Europe  </span></td><td> 7715                                                   </td><td>17.8                                                    </td></tr>\n",
       "\t<tr><td>Algeria     </td><td>Africa      </td><td> 8033       </td><td>10.0        </td></tr>\n",
       "\t<tr><td>Angola      </td><td>Africa      </td><td> 5899       </td><td> 8.0        </td></tr>\n",
       "\t<tr><td>Argentina   </td><td>S. America  </td><td>14333       </td><td>18.0        </td></tr>\n",
       "\t<tr><td><span style=white-space:pre-wrap>Armenia  </span>       </td><td><span style=white-space:pre-wrap>C&amp;E Europe  </span></td><td> 6070                                                   </td><td>15.0                                                    </td></tr>\n",
       "\t<tr><td>Australia   </td><td>Asia-Pacific</td><td>35677       </td><td>20.0        </td></tr>\n",
       "</tbody>\n",
       "</table>\n"
      ],
      "text/latex": [
       "\\begin{tabular}{r|llll}\n",
       " country & region & gdppcap08 & polityIV\\\\\n",
       "\\hline\n",
       "\t Albania        & C\\&E Europe   &  7715          & 17.8          \\\\\n",
       "\t Algeria      & Africa       &  8033        & 10.0        \\\\\n",
       "\t Angola       & Africa       &  5899        &  8.0        \\\\\n",
       "\t Argentina    & S. America   & 14333        & 18.0        \\\\\n",
       "\t Armenia        & C\\&E Europe   &  6070          & 15.0          \\\\\n",
       "\t Australia    & Asia-Pacific & 35677        & 20.0        \\\\\n",
       "\\end{tabular}\n"
      ],
      "text/markdown": [
       "\n",
       "country | region | gdppcap08 | polityIV | \n",
       "|---|---|---|---|---|---|\n",
       "| Albania      | C&E Europe   |  7715        | 17.8         | \n",
       "| Algeria      | Africa       |  8033        | 10.0         | \n",
       "| Angola       | Africa       |  5899        |  8.0         | \n",
       "| Argentina    | S. America   | 14333        | 18.0         | \n",
       "| Armenia      | C&E Europe   |  6070        | 15.0         | \n",
       "| Australia    | Asia-Pacific | 35677        | 20.0         | \n",
       "\n",
       "\n"
      ],
      "text/plain": [
       "  country   region       gdppcap08 polityIV\n",
       "1 Albania   C&E Europe    7715     17.8    \n",
       "2 Algeria   Africa        8033     10.0    \n",
       "3 Angola    Africa        5899      8.0    \n",
       "4 Argentina S. America   14333     18.0    \n",
       "5 Armenia   C&E Europe    6070     15.0    \n",
       "6 Australia Asia-Pacific 35677     20.0    "
      ]
     },
     "metadata": {},
     "output_type": "display_data"
    },
    {
     "data": {
      "text/plain": [
       "      country             region     gdppcap08        polityIV     \n",
       " Albania  :  1   Africa      :42   Min.   :  188   Min.   : 0.000  \n",
       " Algeria  :  1   C&E Europe  :25   1st Qu.: 2153   1st Qu.: 7.667  \n",
       " Angola   :  1   Asia-Pacific:24   Median : 7271   Median :16.000  \n",
       " Argentina:  1   S. America  :19   Mean   :13252   Mean   :13.408  \n",
       " Armenia  :  1   Middle East :16   3rd Qu.:19330   3rd Qu.:19.000  \n",
       " Australia:  1   W. Europe   :12   Max.   :85868   Max.   :20.000  \n",
       " (Other)  :139   (Other)     : 7                                   "
      ]
     },
     "metadata": {},
     "output_type": "display_data"
    }
   ],
   "source": [
    "class(world)\n",
    "dim(world)\n",
    "head(world) #revient à écrire: world[1:6, ]\n",
    "summary(world)"
   ]
  },
  {
   "cell_type": "markdown",
   "metadata": {
    "deletable": true,
    "editable": true
   },
   "source": [
    "### Exercice 2 \n",
    "\n",
    "1. Télécharger TD1_world_small.csv. L'enregistrer dans un répertoire de travail qui vous servira pour le TD tout le semestre (pas sur le bureau !). \n",
    "\n",
    "2. Ouvrir Rstudio. Ouvrir et enregistrer un script nommé TD1 dans le même dossier. Définir le répertoire de travail. \n",
    "\n",
    "3. Enfin, écrire la ligne de code qui permettra de lire la base à partir de Rstudio. "
   ]
  },
  {
   "cell_type": "markdown",
   "metadata": {
    "deletable": true,
    "editable": true
   },
   "source": [
    "# 3. Installer et charger les packages (progiciels)"
   ]
  },
  {
   "cell_type": "markdown",
   "metadata": {
    "deletable": true,
    "editable": true
   },
   "source": [
    "R est un logiciel open-source, ce qui signifie que chacun d'entre nous peut écrire un progiciel ou package pour étendre ses fonctionnalités. Nous ferons usage de certains progiciels en classe. Pour utiliser un progiciel / package, il faut :\n",
    "- l'installer si ce n'est pas déjà fait.\n",
    "- le charger, car à chaque fois que l'on ferme R, les progiciels ne seront plus en mémoire. "
   ]
  },
  {
   "cell_type": "markdown",
   "metadata": {
    "deletable": true,
    "editable": true
   },
   "source": [
    "### 3.1 Installer un package\n",
    "\n",
    "Des packages sont souvent utilisés, comme plyr, dplyr, ou ggplot2. pour installer ces packages, on écrira dans le script : \n",
    "\n",
    "**install.packages(\"plyr\")**\n",
    "\n",
    "Pour plusieurs packages en même temps on écrira: \n",
    "\n",
    "**install.packages(c(\"plyr\",\"dplyr\",\"ggplot2\"), dep=T)**"
   ]
  },
  {
   "cell_type": "markdown",
   "metadata": {
    "deletable": true,
    "editable": true
   },
   "source": [
    "### 3.2 Charger un package\n",
    "\n",
    "On écrira dans le script : \n",
    "\n",
    "**library(plyr)**\n",
    "\n",
    "**library(dplyr)**\n",
    "\n",
    "**library(ggplot2)**"
   ]
  },
  {
   "cell_type": "markdown",
   "metadata": {
    "deletable": true,
    "editable": true
   },
   "source": [
    "### Exercice 3\n",
    "Ouvrir à nouveau votre script TD1 sur Rstudio. Installer et charger les packages **plyr**, **dplyr**, **ggplot2**."
   ]
  },
  {
   "cell_type": "code",
   "execution_count": null,
   "metadata": {
    "collapsed": true,
    "deletable": true,
    "editable": true
   },
   "outputs": [],
   "source": []
  }
 ],
 "metadata": {
  "kernelspec": {
   "display_name": "R",
   "language": "R",
   "name": "ir"
  },
  "language_info": {
   "codemirror_mode": "r",
   "file_extension": ".r",
   "mimetype": "text/x-r-source",
   "name": "R",
   "pygments_lexer": "r",
   "version": "3.3.3"
  }
 },
 "nbformat": 4,
 "nbformat_minor": 2
}

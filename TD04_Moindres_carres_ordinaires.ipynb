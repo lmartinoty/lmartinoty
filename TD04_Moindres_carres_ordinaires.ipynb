{
 "cells": [
  {
   "cell_type": "markdown",
   "metadata": {},
   "source": [
    "### MOINDRES CARRES ORDINAIRES\n",
    "\n",
    "*Source: cette série d'exercices s'inpire très largement des tutoriels de Simon Ejdemyr: https://sejdemyr.github.io/r-tutorials/statistics/*\n",
    "\n",
    "On commence par charger les mêmes données que dans le TD3, avec les mêmes codes strictement (à un petit détail près, cf. note en bas de code):"
   ]
  },
  {
   "cell_type": "code",
   "execution_count": null,
   "metadata": {},
   "outputs": [],
   "source": [
    "#ouverture des données:\n",
    "library(foreign) #pour ouvrir les données dta de version 14 ou inférieure\n",
    "anes <- read.dta(\"TD3_anescum_small_v12.dta\")\n",
    "\n",
    "#on garde seulement quelques variables et on les renomme pour plus de clarté:\n",
    "library(plyr)\n",
    "library(dplyr)\n",
    "anes <- anes %>% \n",
    "        dplyr::select(year = VCF0004,\n",
    "               age = VCF0101,\n",
    "               gender = VCF0104,\n",
    "               race = VCF0106,\n",
    "               edu = VCF0140,\n",
    "               south = VCF0113,\n",
    "               income = VCF0114,\n",
    "               partyid = VCF0301,\n",
    "               interest = VCF0310,\n",
    "               govtrust = VCF0604,\n",
    "               abortion = VCF0838,\n",
    "               demtherm = VCF0218)\n",
    "head(anes)\n",
    "\n",
    "#note: ici, \"select\" est précédé de \"dplyr::\". pourquoi ? car nous chargeons aussi le package \"arm\" qui a aussi sa propre fonction \"select\" et qui va venir dominer la fonction \"select\" du package \"dplyr\". \n",
    "#il faut donc préciser de quel package on nécessite la fonction \"select\""
   ]
  },
  {
   "cell_type": "markdown",
   "metadata": {},
   "source": [
    "En plus de **foreign**, **plyr**, **dplyr**, on va avoir besoin des packages : **ggplot2** et un nouveau package: **arm** qui permet de montrer les résultats MCO plus lisiblement et d'extraire les écart-types :"
   ]
  },
  {
   "cell_type": "code",
   "execution_count": null,
   "metadata": {},
   "outputs": [],
   "source": [
    "library(arm)\n",
    "library(ggplot2)"
   ]
  },
  {
   "cell_type": "markdown",
   "metadata": {},
   "source": [
    "Rappel : le codebook est disponible : TD3_codebook_anescum_small_v12.txt."
   ]
  },
  {
   "cell_type": "markdown",
   "metadata": {},
   "source": [
    "# 1. Modèle de régression simple\n",
    "Nous allons maintenant estimer un modèle simple par MCO et nous allons en donner une représentation graphique (de plus en plus courant). Un modèle simple est un modèle qui met en relation une variable dépendante y avec une explicative x."
   ]
  },
  {
   "cell_type": "markdown",
   "metadata": {},
   "source": [
    "### 1.1 Estimation\n",
    "Nous souhaitons savoir si les préférences pour les démocrates varient selon le genre. \n",
    "Commençons par regarder les variables:"
   ]
  },
  {
   "cell_type": "code",
   "execution_count": null,
   "metadata": {},
   "outputs": [],
   "source": [
    "#on recode gender\n",
    "levels(anes$gender)\n",
    "levels(anes$gender) <- c(NA, \"Homme\", \"Femme\")\n",
    "#on inspecte dermtherm et gender\n",
    "summary(anes$demtherm)\n",
    "summary(anes$gender)"
   ]
  },
  {
   "cell_type": "markdown",
   "metadata": {},
   "source": [
    "Nous régressons ensuite *gender* sur *demtherm* (qui varie de 0 à 100), grâce à **lm()** (lm(y~x))."
   ]
  },
  {
   "cell_type": "code",
   "execution_count": null,
   "metadata": {},
   "outputs": [],
   "source": [
    "#on régresse grâce à lm()\n",
    "lm1 <- lm(demtherm ~ gender, data = anes)\n",
    "display(lm1)"
   ]
  },
  {
   "cell_type": "markdown",
   "metadata": {},
   "source": [
    "### 1.2 Représentation graphique\n",
    "A partir de cette estimation on peut faire deux types de représentations graphiques: \n",
    "\n",
    "- l'effet moyen d'être une femme (relativement à l'homme)\n",
    "- l'opinion moyenne d'un homme et l'opinion moyenne d'une femme (la différence étant l'effet moyen d'être d'un genre plutôt que d'un autre)\n",
    "\n",
    "L'option 1 revient à représenter le coefficient de *gender* estimé par MCO. \n",
    "\n",
    "L'option 2 revient à représenter la valeur prédite moyenne de l'opinion des hommes d'un côté et des femmes de l'autre."
   ]
  },
  {
   "cell_type": "markdown",
   "metadata": {},
   "source": [
    "### 1.2.1  Option 1 : représenter le coefficient\n",
    "\n",
    "On peut extraire les coefficients avec **coef()**, les écart-types avec **se.coef()**, et l'intervalle de confiance avec **confint()**."
   ]
  },
  {
   "cell_type": "code",
   "execution_count": null,
   "metadata": {},
   "outputs": [],
   "source": [
    "coef(lm1)"
   ]
  },
  {
   "cell_type": "code",
   "execution_count": null,
   "metadata": {},
   "outputs": [],
   "source": [
    "coef(lm1)[2]"
   ]
  },
  {
   "cell_type": "code",
   "execution_count": null,
   "metadata": {},
   "outputs": [],
   "source": [
    "se.coef(lm1)\n",
    "se.coef(lm1)[2]"
   ]
  },
  {
   "cell_type": "code",
   "execution_count": null,
   "metadata": {},
   "outputs": [],
   "source": [
    "confint(lm1, level=0.95)[1]"
   ]
  },
  {
   "cell_type": "code",
   "execution_count": null,
   "metadata": {},
   "outputs": [],
   "source": [
    "confint(lm1, level=0.95)"
   ]
  },
  {
   "cell_type": "markdown",
   "metadata": {},
   "source": [
    "On peut donc les utiiser pour créer un data frame avec toutes les informations nécessaires à contruire un graphique de notre résultat principal. Nous avons besoin: \n",
    "- du coefficient de 'gender'\n",
    "- de l'intervalle de confiance autour de ce coefficient\n",
    "- que nous devons intégrer un à dataframe"
   ]
  },
  {
   "cell_type": "code",
   "execution_count": null,
   "metadata": {},
   "outputs": [],
   "source": [
    "#coefficient de gender\n",
    "est1<-coef(lm1)[2]\n",
    "est1\n",
    "#intervalle de confiance: \n",
    "c1<-confint(lm1,level=0.95)[2,]  #option2\n",
    "c1\n",
    "#création du data frame:\n",
    "est1 <- data.frame(est=est1,\n",
    "                    c_inf=c1[1],\n",
    "                    c_sup=c1[2],\n",
    "                    model=\"Modèle simple\")\n",
    "#le dataframe crée:\n",
    "est1\n",
    "est1[1]"
   ]
  },
  {
   "cell_type": "markdown",
   "metadata": {},
   "source": [
    "On peut ensuite réaliser le graphique avec **ggplot()**."
   ]
  },
  {
   "cell_type": "code",
   "execution_count": null,
   "metadata": {},
   "outputs": [],
   "source": [
    "ggplot(est1, aes(x=model,y=est)) +\n",
    "    geom_point()"
   ]
  },
  {
   "cell_type": "markdown",
   "metadata": {},
   "source": [
    "On ajoute l'intervalle de confiance :"
   ]
  },
  {
   "cell_type": "code",
   "execution_count": null,
   "metadata": {},
   "outputs": [],
   "source": [
    "ggplot(est1, aes(x=model,y=est)) +\n",
    "    geom_point() + \n",
    "    geom_errorbar(aes(ymin = c_inf, ymax = c_sup), width = 0.1) \n",
    "    "
   ]
  },
  {
   "cell_type": "markdown",
   "metadata": {},
   "source": [
    "On change l'échelle de y pour améliorer la lecture du graphique:"
   ]
  },
  {
   "cell_type": "code",
   "execution_count": null,
   "metadata": {},
   "outputs": [],
   "source": [
    "ggplot(est1, aes(x=model,y=est)) +\n",
    "    geom_point() + \n",
    "    geom_errorbar(aes(ymin = c_inf, ymax = c_sup), width = 0.1) +\n",
    "    geom_hline(yintercept = 0, lty = 2, color = \"red\") "
   ]
  },
  {
   "cell_type": "markdown",
   "metadata": {},
   "source": [
    "On ajoute des labels aux axes :"
   ]
  },
  {
   "cell_type": "code",
   "execution_count": null,
   "metadata": {},
   "outputs": [],
   "source": [
    "ggplot(est1, aes(x=model,y=est)) +\n",
    "    geom_point() + \n",
    "    geom_errorbar(aes(ymin = c_inf, ymax = c_sup), width = 0.1) +\n",
    "    geom_hline(yintercept = 0, lty = 2, color = \"red\") +\n",
    "    xlab(\"\") +\n",
    "    ylab(\"Opinion des femmes sur le parti démocrate (relativement aux hommes)\")"
   ]
  },
  {
   "cell_type": "markdown",
   "metadata": {},
   "source": [
    "### 1.2.2 Option 2 : représenter la moyenne conditionnelle de la variable dépendante y selon les différentes catégories de x\n",
    "\n",
    "On extrait de l'estimation \"lm1\" les valeurs prédites du score pro démocrate du thermomètre, ainsi que l'intervalle de confiance autour de ces valeurs prédites. "
   ]
  },
  {
   "cell_type": "code",
   "execution_count": null,
   "metadata": {},
   "outputs": [],
   "source": [
    "predict_for <- data.frame(gender = c(\"Homme\", \"Femme\"))\n",
    "\n",
    "pred1 <- predict(lm1,\n",
    "                 newdata = predict_for,\n",
    "                 se.fit = T,\n",
    "                 interval = \"confidence\")"
   ]
  },
  {
   "cell_type": "markdown",
   "metadata": {},
   "source": [
    "Regardons ce que ça donne :"
   ]
  },
  {
   "cell_type": "code",
   "execution_count": null,
   "metadata": {},
   "outputs": [],
   "source": [
    "predict_for\n",
    "pred1"
   ]
  },
  {
   "cell_type": "markdown",
   "metadata": {},
   "source": [
    "Ce qui nous intéresse se trouve dans $fit. On crée un nouveau dataframe *pred1* dans leuel on crée la variable *Genre* pour la légende du graphique :"
   ]
  },
  {
   "cell_type": "code",
   "execution_count": null,
   "metadata": {},
   "outputs": [],
   "source": [
    "pred1 <- data.frame(cbind(pred1$fit, predict_for))\n",
    "pred1"
   ]
  },
  {
   "cell_type": "markdown",
   "metadata": {},
   "source": [
    "On peut maintenant représenter les coefficients graphiquement par **ggplot** et **geom_point()** :"
   ]
  },
  {
   "cell_type": "code",
   "execution_count": null,
   "metadata": {},
   "outputs": [],
   "source": [
    "ggplot(pred1, aes(x = gender, y = fit, color = gender)) +\n",
    "    geom_point() "
   ]
  },
  {
   "cell_type": "markdown",
   "metadata": {},
   "source": [
    "On ajoute les intervalles de confiance (**geom_errorbar()**) et des labels aux axes (**xlab()** et **ylab()**) : "
   ]
  },
  {
   "cell_type": "code",
   "execution_count": null,
   "metadata": {},
   "outputs": [],
   "source": [
    "\n",
    "ggplot(pred1, aes(x = gender, y = fit, color = gender)) +\n",
    "    geom_point() +\n",
    "    geom_errorbar(aes(ymin = lwr, ymax = upr), width = 0.1) +\n",
    "    xlab(\"\") +\n",
    "    ylab(\"Moyenne du score pro-démocrate (entre 0 et 100)\")"
   ]
  },
  {
   "cell_type": "markdown",
   "metadata": {},
   "source": [
    "Discussion: Que conclure ? Quelle est la relation entre le premier graphique (option 1) et le second graphique (option 2) ?"
   ]
  },
  {
   "cell_type": "markdown",
   "metadata": {},
   "source": [
    "# 2. Modèle de régression multiple\n",
    "On peut également estimer un modèle à plusieurs variables explicatives. On ajoute à notre modèle simple deux variables: *income* et *age*."
   ]
  },
  {
   "cell_type": "markdown",
   "metadata": {},
   "source": [
    "### 2.1 Estimation\n",
    "\n",
    "Avant toute chose on vérifie quelle est la nature des données, et on les inspecte pour vérifier que les variables manquantes sont bien encodées NA (not available)."
   ]
  },
  {
   "cell_type": "code",
   "execution_count": null,
   "metadata": {},
   "outputs": [],
   "source": [
    "class(anes$age)\n",
    "class(anes$income)"
   ]
  },
  {
   "cell_type": "code",
   "execution_count": null,
   "metadata": {},
   "outputs": [],
   "source": [
    "sort(unique(anes$age))\n",
    "levels(anes$income)"
   ]
  },
  {
   "cell_type": "markdown",
   "metadata": {},
   "source": [
    "On voit que certaines personnes ont un âge de 0. On voit aussi que la catégorie 1 de *income* correspond en fait à de l'information manquante.\n",
    "\n",
    "Nous ne souhaitons pas que la régression tienne compte des observations pour lesquelles la valeur est en fait manquante. Pour cela, on effectue les modifications nécessaires concernant les valeurs manquantes : "
   ]
  },
  {
   "cell_type": "code",
   "execution_count": null,
   "metadata": {},
   "outputs": [],
   "source": [
    "#correction de age\n",
    "anes$age[anes$age==0]<-NA\n",
    "sort(unique(anes$age))\n",
    "\n",
    "#correction des quintiles\n",
    "levels(anes$income)[1]<-NA\n",
    "levels(anes$income)"
   ]
  },
  {
   "cell_type": "markdown",
   "metadata": {},
   "source": [
    "On peut alors régresser :"
   ]
  },
  {
   "cell_type": "code",
   "execution_count": null,
   "metadata": {
    "scrolled": true
   },
   "outputs": [],
   "source": [
    "lm2 <- lm(demtherm~gender+income+age, data=anes)"
   ]
  },
  {
   "cell_type": "markdown",
   "metadata": {},
   "source": [
    "Pour visualiser : "
   ]
  },
  {
   "cell_type": "code",
   "execution_count": null,
   "metadata": {},
   "outputs": [],
   "source": [
    "display(lm2) #infos de base"
   ]
  },
  {
   "cell_type": "code",
   "execution_count": null,
   "metadata": {},
   "outputs": [],
   "source": [
    "summary(lm2) #avec les étoiles"
   ]
  },
  {
   "cell_type": "markdown",
   "metadata": {},
   "source": [
    "Discussion : interpréter les coefficients estimés par le modèle lm2."
   ]
  },
  {
   "cell_type": "markdown",
   "metadata": {},
   "source": [
    "### 2.2 Représentation graphique"
   ]
  },
  {
   "cell_type": "markdown",
   "metadata": {
    "collapsed": true
   },
   "source": [
    "**Exercice 1** : \n",
    "\n",
    "Réaliser le graphique type 'Option 1' qui montre l'effet du genre sur le thermomètre démocrate, avec le nouveau modèle lm2."
   ]
  },
  {
   "cell_type": "code",
   "execution_count": null,
   "metadata": {},
   "outputs": [],
   "source": [
    "#voir les objets\n",
    "coef(lm2)\n",
    "confint(lm2,level=0.95)\n",
    "\n",
    "#sélection des objets pertinents\n",
    "est2<-coef(lm2)[2]\n",
    "c2<-confint(lm2,level=0.95)[2,]\n",
    "\n",
    "#création d'un dataframe\n",
    "est2 <- data.frame(est = est2,\n",
    "                   c_inf = c2[1],\n",
    "                   c_sup = c2[2], \n",
    "                   model = \"Modèle multiple\")\n",
    "\n",
    "#voir le dataframe crée:\n",
    "est2"
   ]
  },
  {
   "cell_type": "code",
   "execution_count": null,
   "metadata": {},
   "outputs": [],
   "source": [
    "#graphique\n",
    "ggplot(est2,aes(x=model,y=est)) +\n",
    "    geom_point() +\n",
    "    geom_errorbar(aes(ymin=c_inf,ymax=c_sup,width=0.1)) +\n",
    "    geom_hline(yintercept=0, color=\"white\") +\n",
    "    xlab(\"\") +\n",
    "    ylab(\"Opinion des femmes sur le parti démocrate (relativement aux hommes)\")"
   ]
  },
  {
   "cell_type": "markdown",
   "metadata": {},
   "source": [
    "Note: \n",
    "\n",
    "- Si l'on a bien nommé les éléments des dataframes est1 et est2 de la même manière, à savoir par exemple ici: est, c_inf, c_sup et model, \n",
    "- Alors on pourra facilement représenter les deux estimations sur un même graphique à titre de comparaison, \n",
    "- En utilisant **rbind()** pour ajouter les lignes (row) des dataframes *est1* et *est2*\n",
    "- Ce qui donne un seul dataframe combiné :"
   ]
  },
  {
   "cell_type": "code",
   "execution_count": null,
   "metadata": {},
   "outputs": [],
   "source": [
    "est<-rbind(est1,est2)\n",
    "est"
   ]
  },
  {
   "cell_type": "code",
   "execution_count": null,
   "metadata": {},
   "outputs": [],
   "source": [
    "ggplot(est,aes(x=model, y=est)) + \n",
    "    geom_point() +\n",
    "    geom_errorbar(aes(ymin=c_inf,ymax=c_sup), width=0.1) +\n",
    "    geom_hline(yintercept = 0, color=\"white\") +\n",
    "    xlab(\"\") +\n",
    "    ylab(\"Opinion des femmes sur le parti démocrate (relativement aux hommes)\")"
   ]
  },
  {
   "cell_type": "markdown",
   "metadata": {},
   "source": [
    "### 2.3 Interactions\n",
    "On peut souhaiter savoir si l'effet du genre sur le score pro-démocrate varie selon l'âge de la personne. \n",
    "\n",
    "Pour ce faire, il est nécessaire d'introduire un terme d'interaction dans la régression, entre l'âge et le genre. \n",
    "\n",
    "On estime le modèle suivant: "
   ]
  },
  {
   "cell_type": "code",
   "execution_count": null,
   "metadata": {},
   "outputs": [],
   "source": [
    "lm3 <- lm(demtherm~gender+age+income+age:gender, data = anes)"
   ]
  },
  {
   "cell_type": "code",
   "execution_count": null,
   "metadata": {},
   "outputs": [],
   "source": [
    "summary(lm3)"
   ]
  },
  {
   "cell_type": "markdown",
   "metadata": {},
   "source": [
    "Discussion: interpréter."
   ]
  },
  {
   "cell_type": "markdown",
   "metadata": {},
   "source": [
    "On peut également imaginer représenter l'effet différencié du genre selon l'âge de la personne par un graphique : "
   ]
  },
  {
   "cell_type": "code",
   "execution_count": null,
   "metadata": {},
   "outputs": [],
   "source": [
    "#on crée les catégories:\n",
    "predict_for <- data.frame(expand.grid(gender = c(\"Homme\", \"Femme\"),\n",
    "                                 age = 18:85), \n",
    "                     income = \"3. 34 to 67 percentile\")"
   ]
  },
  {
   "cell_type": "code",
   "execution_count": null,
   "metadata": {},
   "outputs": [],
   "source": [
    "#on prédit les valeurs du score pro-démocrate correspondant à ces catégories\n",
    "pred3 <- predict(lm3,\n",
    "             newdata=predict_for,\n",
    "             se.fit=T,\n",
    "             interval=\"confidence\")"
   ]
  },
  {
   "cell_type": "code",
   "execution_count": null,
   "metadata": {},
   "outputs": [],
   "source": [
    "#pour voir:\n",
    "head(predict_for)\n",
    "head(pred3)"
   ]
  },
  {
   "cell_type": "code",
   "execution_count": null,
   "metadata": {},
   "outputs": [],
   "source": [
    "#on combine les colonnes de pred3 et predict_for en un seul dataframe pred3:\n",
    "pred3 <- data.frame(cbind(pred3$fit,predict_for))\n",
    "head(pred3)"
   ]
  },
  {
   "cell_type": "code",
   "execution_count": null,
   "metadata": {},
   "outputs": [],
   "source": [
    "#on utilise ce dataframe pour créer le graphique:\n",
    "ggplot(pred3, aes(x=age,y=fit,color=gender)) +\n",
    "    geom_line() + geom_point() +\n",
    "    geom_line(aes(y=lwr),lty=3) + geom_line(aes(y=upr),lty=3)"
   ]
  },
  {
   "cell_type": "markdown",
   "metadata": {},
   "source": [
    "Discussion: conclure sur le graphique."
   ]
  },
  {
   "cell_type": "markdown",
   "metadata": {},
   "source": [
    "On sauve les données avec **saveRDS()** :"
   ]
  },
  {
   "cell_type": "code",
   "execution_count": null,
   "metadata": {},
   "outputs": [],
   "source": [
    "# Save an object to a file\n",
    "saveRDS(anes, file = \"TD4_mydata.rds\")"
   ]
  },
  {
   "cell_type": "markdown",
   "metadata": {},
   "source": [
    "Note: Pour ouvrir un objet dans R : \n",
    "**readRDS(file = \"TD4_my_data.rds\")**"
   ]
  },
  {
   "cell_type": "markdown",
   "metadata": {
    "collapsed": true
   },
   "source": [
    "### Exercice 2\n",
    "On souhaite connaître l'impact de l'ethnie sur le score pro-démocrate. On estime un modèle où le score *demtherm* dépend: du genre *gender*, de l'âge *age*, du niveau d'éducation *edu*, de l'ethnie *race*. Le codebook nous apprend que *race* prend 3 valeurs: 1 si 'white', 2 si 'black', 3 si 'other', 9 si 'missing'.\n",
    "\n",
    "Commencez par restaurer l'objet *\"TD4_mydata.rds\"*. Créez un dataframequi contient uniquement les données qui nous intéressent (rappel: TD2: **library(dplyr)**, piping **%>%**, fonction **select()**)."
   ]
  },
  {
   "cell_type": "code",
   "execution_count": null,
   "metadata": {},
   "outputs": [],
   "source": [
    "library(plyr)\n",
    "library(dplyr)\n",
    "d<-readRDS(file=\"TD4_mydata.rds\")\n",
    "d<-d%>%dplyr::select(demtherm,age,gender,edu,race)"
   ]
  },
  {
   "cell_type": "markdown",
   "metadata": {},
   "source": [
    "Produisez des statistiques descriptives basiques sur ces variables (summary())."
   ]
  },
  {
   "cell_type": "code",
   "execution_count": null,
   "metadata": {},
   "outputs": [],
   "source": [
    "summary(d)"
   ]
  },
  {
   "cell_type": "markdown",
   "metadata": {
    "collapsed": true
   },
   "source": [
    "Créez deux variables : \n",
    "- *white* qui vaudra 1 si l'individu se définit comme blanc américain, 0 s'il se définit comme noir américain ou autre\n",
    "- *edu3* qui regroupera 1. et 2. en 'Pre-bac', 3. et 4. en 'Bac', 5 et 6. en 'Université', 8. et 9 en NA"
   ]
  },
  {
   "cell_type": "code",
   "execution_count": null,
   "metadata": {},
   "outputs": [],
   "source": [
    "#white\n",
    "d$white<-ifelse(d$race==1,1,0) #1 si blanc, 0 sinon\n",
    "d$white[d$race==9]<-NA  #attention à bien coder les variables manquantes en 'NA'\n",
    "table(d$white, exclude=NULL) #on vérifie\n",
    "d$white<-as.factor(d$white) #on définit cette variable comme facteur\n",
    "levels(d$white)<-c(\"Non-White\",\"White\")\n",
    "\n",
    "#edu3\n",
    "summary(d$edu)\n",
    "levels(d$edu)\n",
    "d$edu3<-d$edu\n",
    "levels(d$edu3)<-c(\"Pre-bac\",\"Pre-bac\",\"Bac\",\"Bac\",\"Université\",\"Université\",NA,NA)\n",
    "levels(d$edu3)  #on vérifie\n",
    "summary(d$edu3)"
   ]
  },
  {
   "cell_type": "markdown",
   "metadata": {
    "collapsed": true
   },
   "source": [
    "Effectuer la régression de *demtherm* sur *age*, *genre*, et les deux variables nouvellement crées: *edu3* et *white*. Commenter."
   ]
  },
  {
   "cell_type": "code",
   "execution_count": null,
   "metadata": {},
   "outputs": [],
   "source": [
    "lm1<-lm(demtherm~gender+age+edu3+white, data=d)\n",
    "summary(lm1)"
   ]
  },
  {
   "cell_type": "markdown",
   "metadata": {
    "collapsed": true
   },
   "source": [
    "Représenter graphiquement le score moyen des blancs américains et non-blancs (on prendra les hommes de niveau bac et d'âge de 40)."
   ]
  },
  {
   "cell_type": "code",
   "execution_count": null,
   "metadata": {},
   "outputs": [],
   "source": [
    "#catégorie pour laquelle on va prédire :\n",
    "predict_for <- data.frame(expand.grid(gender = \"Homme\",\n",
    "                                     age = 40, \n",
    "                                     edu3 = \"Bac\",\n",
    "                                     white = c(\"Non-White\",\"White\")))\n",
    "predict_for\n",
    "\n",
    "#on prédit :\n",
    "pred1<-predict(lm1,\n",
    "             newdata=predict_for,\n",
    "             se.fit=T,\n",
    "             interval=\"confidence\"\n",
    "             )\n",
    "pred1\n",
    "\n",
    "#on associe:\n",
    "pred1 <- data.frame(cbind(pred1$fit,predict_for))\n",
    "pred1\n",
    "\n",
    "#graphique :\n",
    "library(ggplot2)\n",
    "ggplot(pred1, aes(x=white,y=fit)) + geom_point() + geom_errorbar(aes(ymin=lwr,ymax=upr), width=0.1)  + xlab(\"\") + ylab(\"Opinion pro-démocrate\")"
   ]
  },
  {
   "cell_type": "markdown",
   "metadata": {},
   "source": [
    "Refaire l'estimation en interagissant l'ethnie avec l'éducation :"
   ]
  },
  {
   "cell_type": "code",
   "execution_count": null,
   "metadata": {},
   "outputs": [],
   "source": [
    "lm2 <- lm(demtherm~gender+age+edu3+white+white:edu3, data=d)\n",
    "summary(lm2)"
   ]
  },
  {
   "cell_type": "markdown",
   "metadata": {},
   "source": [
    "OPTIONNEL : Représenter graphiquement les scores moyens des hommes de 40 ans selon leur niveau d'étude, pour les non-whites et whites (les scores moyens avec leu rintervalle de confiance en ordonnée, les niveaux d'éducation en absisse, et les origines ethniques en légende)."
   ]
  },
  {
   "cell_type": "code",
   "execution_count": null,
   "metadata": {},
   "outputs": [],
   "source": [
    "#catégories pour lesquelles on prédit:\n",
    "predict_for<-data.frame(expand.grid(gender=\"Homme\",\n",
    "                                   age=40,\n",
    "                                   white=c(\"Non-White\",\"White\"),\n",
    "                                   edu3=c(\"Pre-bac\",\"Bac\",\"Université\")))\n",
    "predict_for\n",
    "\n",
    "#valeurs prédites:\n",
    "pred2<-predict(lm2,\n",
    "              newdata=predict_for,\n",
    "              se.fit=T,\n",
    "              interval=\"confidence\")\n",
    "pred2\n",
    "\n",
    "#combinaison des deux objets en 1 dataframe\n",
    "pred2<-data.frame(cbind(pred2$fit,predict_for))\n",
    "pred2\n",
    "\n",
    "#on utilise ce dataframe pour créer le graphique:\n",
    "ggplot(pred2, aes(x=edu3,y=fit,color=white)) +\n",
    "    geom_point() +\n",
    "    geom_errorbar(aes(ymin=lwr,ymax=upr),width=0.1) "
   ]
  },
  {
   "cell_type": "markdown",
   "metadata": {},
   "source": [
    "Conclure."
   ]
  }
 ],
 "metadata": {
  "kernelspec": {
   "display_name": "R",
   "language": "R",
   "name": "ir"
  },
  "language_info": {
   "codemirror_mode": "r",
   "file_extension": ".r",
   "mimetype": "text/x-r-source",
   "name": "R",
   "pygments_lexer": "r",
   "version": "3.6.1"
  }
 },
 "nbformat": 4,
 "nbformat_minor": 2
}

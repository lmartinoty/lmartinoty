{
 "cells": [
  {
   "cell_type": "markdown",
   "metadata": {},
   "source": [
    "# Modèles à variable dépendante limitée\n",
    "\n",
    "Cette application reprend la proposition de Stock et Watson (le manuel) qui utilisent les données de l'article de Alicia H Munnell, Geoffrey MB Tootell, Lynn E Browne, and James McEneaney : \"Mortgage lending in\n",
    "boston: Interpreting hmda data.\" *The American Economic Review*, pages 25-53, 1996.\n",
    "\n",
    "Dans cet article, les chercheurs de la Federal Reserve Bank de Boston souhaitent savoir les noirs américains sont discriminés dans l'accès au crédit immobilier. Ils collectent des données sur les demandes de prêts immobiliers en 1990 dans Boston et sa banlieue. Ils obtiennent 2380 observations de demandeurs blanc et noir-américain. \n",
    "\n",
    "Les données sont décrites dans le codebook simplifié : **TD6_codebook.png**."
   ]
  },
  {
   "cell_type": "markdown",
   "metadata": {},
   "source": [
    "## Intuition\n",
    "On ouvre la base de données : **TD6_hdma_v12.dta**. "
   ]
  },
  {
   "cell_type": "code",
   "execution_count": null,
   "metadata": {},
   "outputs": [],
   "source": []
  },
  {
   "cell_type": "markdown",
   "metadata": {},
   "source": [
    "On a la variable 'black' numérique qui nous donne l'ethnie ; à partir de cette variable on crée une variable facteur 'blackcategory' pour définir dans R que cette variable n'est une variable continue mais une variable catégorielle qui vaut \"White\" si black=0, \"Black\" si black=1. \n",
    "\n",
    "NB: la plupart du temps on utilisera la variable catégorielle 'hdma$blackcategory', mais pour calculer les effets marginaux à la moyenne à la main on aura besoin de la porportion de Noirs américains', et on utilisera exceptionnellement la numérique: 'black'."
   ]
  },
  {
   "cell_type": "code",
   "execution_count": null,
   "metadata": {},
   "outputs": [],
   "source": []
  },
  {
   "cell_type": "markdown",
   "metadata": {},
   "source": [
    "Les noirs-américains (*black*) ont-ils effectivement une probabilité plus importante de voir leur demande de prêt rejetée (*deny*) ? \n",
    "\n",
    "*Indice : proposez un test d'égalité de moyennes ou une régression linéaire simple.*"
   ]
  },
  {
   "cell_type": "code",
   "execution_count": null,
   "metadata": {},
   "outputs": [],
   "source": [
    "#test d'égalité de moyennes\n",
    "#"
   ]
  },
  {
   "cell_type": "code",
   "execution_count": null,
   "metadata": {},
   "outputs": [],
   "source": [
    "#régression linéaire simple\n",
    "#lpm1 <- \n",
    "summary(lpm1)"
   ]
  },
  {
   "cell_type": "markdown",
   "metadata": {},
   "source": [
    "Grâce à des tests d'égalité de moyennes sur les vraiables prédéterminées : *selfemp, single, hischl, probunmp*, déterminez si les blancs-américains sont de bons contrefactuels pour les noirs-américains. Peut-on donc interpréter la différence de traitement de la question précédente comme de la discrimination ?"
   ]
  },
  {
   "cell_type": "code",
   "execution_count": null,
   "metadata": {},
   "outputs": [],
   "source": []
  },
  {
   "cell_type": "markdown",
   "metadata": {},
   "source": [
    "## 1. Modèle de probabilité linéaire \n",
    "On s'intéresse à contrôler en plus pour l'effet du ratio mensualité de l'emprunt / revenu total *pi_rat* sur la probabilité de rejet. Pourquoi ? Que s'attend-on à trouver?"
   ]
  },
  {
   "cell_type": "code",
   "execution_count": null,
   "metadata": {},
   "outputs": [],
   "source": []
  },
  {
   "cell_type": "markdown",
   "metadata": {},
   "source": [
    "Rappeler ce qu'est un modèle de probabilité linéaire."
   ]
  },
  {
   "cell_type": "code",
   "execution_count": null,
   "metadata": {},
   "outputs": [],
   "source": []
  },
  {
   "cell_type": "markdown",
   "metadata": {},
   "source": [
    "Estimer et interpréter."
   ]
  },
  {
   "cell_type": "code",
   "execution_count": null,
   "metadata": {},
   "outputs": [],
   "source": []
  },
  {
   "cell_type": "markdown",
   "metadata": {},
   "source": [
    "## 2. Modèle de régression probit\n"
   ]
  },
  {
   "cell_type": "markdown",
   "metadata": {},
   "source": [
    "On estime le modèle de régression probit de *deny* sur *black* et *pi_rat* par maximum de vraisemblance : **glm( y~x, binomial(\"probit\"), data=... )**. Quel est le principe de l'estimation par maximum de vraisemblance ? Interpréter les résultats."
   ]
  },
  {
   "cell_type": "code",
   "execution_count": null,
   "metadata": {},
   "outputs": [],
   "source": [
    "probit1<-"
   ]
  },
  {
   "cell_type": "markdown",
   "metadata": {},
   "source": [
    "Pourquoi l'interprétation des résultats est-elle compliquée ? "
   ]
  },
  {
   "cell_type": "code",
   "execution_count": null,
   "metadata": {},
   "outputs": [],
   "source": []
  },
  {
   "cell_type": "markdown",
   "metadata": {},
   "source": [
    "#### 1. Effet marginal à la moyenne \n",
    "Rappeler ce qu'est l'effet marginal à la moyenne."
   ]
  },
  {
   "cell_type": "code",
   "execution_count": null,
   "metadata": {},
   "outputs": [],
   "source": []
  },
  {
   "cell_type": "markdown",
   "metadata": {},
   "source": [
    "En vous aidant du code ci-dessous, calculez l'effet marginal du fait d'être noir-américain sur la probabilité de rejet. Pour cela, calculez d'abord la probabilité de rejet de l'individu moyen noir, puis de l'individu moyen blanc. Calculez ensuite la différence.\n",
    "\n",
    "*Indice: La fonction de répartition de la loi normale s'écrit :* **pnorm()**. Les coefficients de la régression probit1 sont stockés dans le vecteur **coef(probit1)**."
   ]
  },
  {
   "cell_type": "code",
   "execution_count": null,
   "metadata": {},
   "outputs": [],
   "source": [
    "#Voir coef probit1\n",
    "\n",
    "#Prob for blacks at means\n",
    "\n",
    "#Prob for whites at means\n",
    "\n",
    "#Difference in probs\n"
   ]
  },
  {
   "cell_type": "markdown",
   "metadata": {},
   "source": [
    "Sur un modèle similaire, calculez maintenant l'effet marginal du fait d'avoir un ratio d'endettement de 10 points de pourcentage plus élevé pour l'individu moyen. Pour ce faire calculez la proba de rejet de l'individu moyen, puis de l'individu moyen avec 0.1 de ratio d'endettement supplémentaire. Calculez ensuite la différence."
   ]
  },
  {
   "cell_type": "code",
   "execution_count": null,
   "metadata": {},
   "outputs": [],
   "source": []
  },
  {
   "cell_type": "markdown",
   "metadata": {},
   "source": [
    "#### 2. Effet marginal moyen\n",
    "\n",
    "Rappeler ce qu'est l'effet marginal moyen.\n",
    "\n",
    "\n",
    "\n"
   ]
  },
  {
   "cell_type": "code",
   "execution_count": null,
   "metadata": {},
   "outputs": [],
   "source": []
  },
  {
   "cell_type": "markdown",
   "metadata": {},
   "source": [
    "Que mesure ce code ? \n",
    "\n",
    "*Indice: La fonction de densité de la loi normale s'écrit :* **dnorm()**"
   ]
  },
  {
   "cell_type": "code",
   "execution_count": null,
   "metadata": {},
   "outputs": [],
   "source": [
    "hdma$gg<-dnorm(coef(probit1)[1] + coef(probit1)[2]*hdma$black2 + coef(probit1)[3]*hdma$pi_rat)\n",
    "scalefactor<-mean(hdma$gg)\n",
    "scalefactor"
   ]
  },
  {
   "cell_type": "code",
   "execution_count": null,
   "metadata": {},
   "outputs": [],
   "source": []
  },
  {
   "cell_type": "markdown",
   "metadata": {},
   "source": [
    "Calculer l'effet marginal moyen du ratio d'endettement. "
   ]
  },
  {
   "cell_type": "code",
   "execution_count": null,
   "metadata": {},
   "outputs": [],
   "source": []
  },
  {
   "cell_type": "markdown",
   "metadata": {},
   "source": [
    "<font color=red> NOTE : On n'a jamais besoin de faire ces calculs à la main ! R calcule pour vous les effets marginaux moyens grâce au package 'margins'. \n",
    "\n",
    "Vous pouvez essayer et retrouver les résultats de pi_rat en tapant: \n",
    "\n",
    "*install.packages(\"margins\")*\n",
    "\n",
    "*library(margins)*\n",
    "*AME<-margins(probit1)*\n",
    "*summary(AME)*\n",
    "\n",
    "Attention, dans votre régression, si la variable est un facteur (une variable catégorielle), il doit bien être défini comme tel ! Sinon l'effet marginal à la moyenne sera mal calculé car R appliquera la méthode des variables continues (et non des variables discrètes, alors que la variable catégorielle est discrète). \n",
    "</font>"
   ]
  },
  {
   "cell_type": "code",
   "execution_count": null,
   "metadata": {},
   "outputs": [],
   "source": [
    "#NOTE : on peut calculer l'effet marginal très simplement avec margins :\n",
    "install.packages(\"margins\")\n",
    "library(margins)\n",
    "AME<-margins(probit1)\n",
    "summary(AME)"
   ]
  },
  {
   "cell_type": "markdown",
   "metadata": {},
   "source": [
    "## 3. Comparaison des deux modèles de régression\n",
    "\n",
    "Calculer la probabilité de rejet quand le demandeur est blanc avec un taux d'endettement de 0.1 selon le modèle de probabilité linéaire et le modèle probit. Commentez. \n",
    "\n"
   ]
  },
  {
   "cell_type": "code",
   "execution_count": null,
   "metadata": {},
   "outputs": [],
   "source": []
  },
  {
   "cell_type": "markdown",
   "metadata": {},
   "source": [
    "Que réprésentent les commandes et le graphique ci-dessous ?"
   ]
  },
  {
   "cell_type": "code",
   "execution_count": null,
   "metadata": {},
   "outputs": [],
   "source": [
    "library(ggplot2)\n",
    "hdma$p_rejet <- predict(probit1, hdma, type = \"response\")\n",
    "hdma$y_hat <- predict(lpm2, hdma, type = \"response\")\n",
    "ggplot(hdma, aes(x = pi_rat, y = p_rejet, colour = black))+ geom_point()+geom_line(aes(y = y_hat, colour = black))"
   ]
  },
  {
   "cell_type": "code",
   "execution_count": null,
   "metadata": {},
   "outputs": [],
   "source": []
  },
  {
   "cell_type": "markdown",
   "metadata": {},
   "source": [
    "## 4. Modèle de régression probit complet\n",
    "\n",
    "Quelles sont les autres variables que vous souhaiteriez ajouter à la régression ? "
   ]
  },
  {
   "cell_type": "code",
   "execution_count": null,
   "metadata": {},
   "outputs": [],
   "source": []
  },
  {
   "cell_type": "markdown",
   "metadata": {},
   "source": [
    "Sous quelle condition estimez-vous l'effet causal du traitement ?"
   ]
  },
  {
   "cell_type": "code",
   "execution_count": null,
   "metadata": {},
   "outputs": [],
   "source": []
  },
  {
   "cell_type": "markdown",
   "metadata": {},
   "source": [
    "Estimer le modèle probit de *black* sur *deny* en ajoutant 1 puis 2 puis 3 catégories de variables : \n",
    "- emprunt : pi_rat + hse_inc + loan_val \n",
    "- emprunteur : ccred + mcred + pubrec + denpmi\n",
    "- individuelles : selfemp + single + hischl + probunmp\n",
    "\n",
    "Afficher directement les effets marginaux en utilisant **summary(margins(** *objet estimé par glm()*)**)**. Interpréter les résultats."
   ]
  },
  {
   "cell_type": "code",
   "execution_count": null,
   "metadata": {},
   "outputs": [],
   "source": []
  },
  {
   "cell_type": "markdown",
   "metadata": {},
   "source": [
    "Qu'ajouteriez-vous à la régression pour savoir si le ratio d'endettement a un effet différent sur la probabilité de voir son dossier rejeté par la banque selon si on est noir ou blanc ?"
   ]
  },
  {
   "cell_type": "code",
   "execution_count": null,
   "metadata": {},
   "outputs": [],
   "source": []
  },
  {
   "cell_type": "markdown",
   "metadata": {},
   "source": [
    "Voici le pseudoR2 de McFadden pour le modèle simple et multiple. Commentez la qualité générale des régressions."
   ]
  },
  {
   "cell_type": "code",
   "execution_count": null,
   "metadata": {},
   "outputs": [],
   "source": [
    "pR2_1 <- 1 - probit1$deviance / probit1$null.deviance \n",
    "pR2_2 <- 1 - probit2$deviance / probit2$null.deviance \n",
    "pR2_3 <- 1 - probit3$deviance / probit3$null.deviance \n",
    "pR2_4 <- 1 - probit4$deviance / probit4$null.deviance \n",
    "pR2_1\n",
    "pR2_2\n",
    "pR2_3\n",
    "pR2_4"
   ]
  },
  {
   "cell_type": "code",
   "execution_count": null,
   "metadata": {},
   "outputs": [],
   "source": []
  }
 ],
 "metadata": {
  "kernelspec": {
   "display_name": "R",
   "language": "R",
   "name": "ir"
  },
  "language_info": {
   "codemirror_mode": "r",
   "file_extension": ".r",
   "mimetype": "text/x-r-source",
   "name": "R",
   "pygments_lexer": "r",
   "version": "3.6.1"
  }
 },
 "nbformat": 4,
 "nbformat_minor": 2
}

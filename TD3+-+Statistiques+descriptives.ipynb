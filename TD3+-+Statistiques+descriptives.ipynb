{
 "cells": [
  {
   "cell_type": "markdown",
   "metadata": {
    "collapsed": true,
    "deletable": true,
    "editable": true
   },
   "source": [
    "# STATISTIQUES DESCRIPTIVES\n",
    "\n",
    "Pour produire quelques statistiques descriptives et graphiques, commençons par ouvrir la base de données : *anescum_small_v12.dta* et sélectionner quelques variables qui nous intéressent : \n",
    "\n",
    "*(notons que les données sont sous format Stata dta mais que R n'a aucune difficulté à les ouvrir avec le package **foreign** et la commande **read.dta**, pourvu qu'elles soient sauvées par une version Stata 14 ou antérieure)*"
   ]
  },
  {
   "cell_type": "code",
   "execution_count": 3,
   "metadata": {
    "collapsed": false,
    "deletable": true,
    "editable": true
   },
   "outputs": [],
   "source": [
    "#ouverture des données:\n",
    "library(foreign) #pour ouvrir les données dta de version 14 ou inférieure\n",
    "anes <- read.dta(\"TD3_anescum_small_v12.dta\")"
   ]
  },
  {
   "cell_type": "code",
   "execution_count": 4,
   "metadata": {
    "collapsed": false,
    "deletable": true,
    "editable": true
   },
   "outputs": [
    {
     "data": {
      "text/html": [
       "<table>\n",
       "<thead><tr><th scope=col>year</th><th scope=col>age</th><th scope=col>gender</th><th scope=col>race</th><th scope=col>edu</th><th scope=col>south</th><th scope=col>income</th><th scope=col>partyid</th><th scope=col>interest</th><th scope=col>govtrust</th><th scope=col>abortion</th><th scope=col>demtherm</th></tr></thead>\n",
       "<tbody>\n",
       "\t<tr><td>1948                   </td><td>NA                     </td><td>1. Male                </td><td>1                      </td><td>NA                     </td><td>NA                     </td><td>3. 34 to 67 percentile </td><td>NA                     </td><td>NA                     </td><td>NA                     </td><td>NA                     </td><td>NA                     </td></tr>\n",
       "\t<tr><td>1948                   </td><td>NA                     </td><td>2. Female              </td><td>1                      </td><td>NA                     </td><td>NA                     </td><td>5. 96 to 100 percentile</td><td>NA                     </td><td>NA                     </td><td>NA                     </td><td>NA                     </td><td>NA                     </td></tr>\n",
       "\t<tr><td>1948                   </td><td>NA                     </td><td>2. Female              </td><td>1                      </td><td>NA                     </td><td>NA                     </td><td>4. 68 to 95 percentile </td><td>NA                     </td><td>NA                     </td><td>NA                     </td><td>NA                     </td><td>NA                     </td></tr>\n",
       "\t<tr><td>1948                   </td><td>NA                     </td><td>2. Female              </td><td>1                      </td><td>NA                     </td><td>NA                     </td><td>5. 96 to 100 percentile</td><td>NA                     </td><td>NA                     </td><td>NA                     </td><td>NA                     </td><td>NA                     </td></tr>\n",
       "\t<tr><td>1948                   </td><td>NA                     </td><td>1. Male                </td><td>1                      </td><td>NA                     </td><td>NA                     </td><td>4. 68 to 95 percentile </td><td>NA                     </td><td>NA                     </td><td>NA                     </td><td>NA                     </td><td>NA                     </td></tr>\n",
       "\t<tr><td>1948                   </td><td>NA                     </td><td>2. Female              </td><td>1                      </td><td>NA                     </td><td>NA                     </td><td>5. 96 to 100 percentile</td><td>NA                     </td><td>NA                     </td><td>NA                     </td><td>NA                     </td><td>NA                     </td></tr>\n",
       "</tbody>\n",
       "</table>\n"
      ],
      "text/latex": [
       "\\begin{tabular}{r|llllllllllll}\n",
       " year & age & gender & race & edu & south & income & partyid & interest & govtrust & abortion & demtherm\\\\\n",
       "\\hline\n",
       "\t 1948                    & NA                      & 1. Male                 & 1                       & NA                      & NA                      & 3. 34 to 67 percentile  & NA                      & NA                      & NA                      & NA                      & NA                     \\\\\n",
       "\t 1948                    & NA                      & 2. Female               & 1                       & NA                      & NA                      & 5. 96 to 100 percentile & NA                      & NA                      & NA                      & NA                      & NA                     \\\\\n",
       "\t 1948                    & NA                      & 2. Female               & 1                       & NA                      & NA                      & 4. 68 to 95 percentile  & NA                      & NA                      & NA                      & NA                      & NA                     \\\\\n",
       "\t 1948                    & NA                      & 2. Female               & 1                       & NA                      & NA                      & 5. 96 to 100 percentile & NA                      & NA                      & NA                      & NA                      & NA                     \\\\\n",
       "\t 1948                    & NA                      & 1. Male                 & 1                       & NA                      & NA                      & 4. 68 to 95 percentile  & NA                      & NA                      & NA                      & NA                      & NA                     \\\\\n",
       "\t 1948                    & NA                      & 2. Female               & 1                       & NA                      & NA                      & 5. 96 to 100 percentile & NA                      & NA                      & NA                      & NA                      & NA                     \\\\\n",
       "\\end{tabular}\n"
      ],
      "text/markdown": [
       "\n",
       "year | age | gender | race | edu | south | income | partyid | interest | govtrust | abortion | demtherm | \n",
       "|---|---|---|---|---|---|\n",
       "| 1948                    | NA                      | 1. Male                 | 1                       | NA                      | NA                      | 3. 34 to 67 percentile  | NA                      | NA                      | NA                      | NA                      | NA                      | \n",
       "| 1948                    | NA                      | 2. Female               | 1                       | NA                      | NA                      | 5. 96 to 100 percentile | NA                      | NA                      | NA                      | NA                      | NA                      | \n",
       "| 1948                    | NA                      | 2. Female               | 1                       | NA                      | NA                      | 4. 68 to 95 percentile  | NA                      | NA                      | NA                      | NA                      | NA                      | \n",
       "| 1948                    | NA                      | 2. Female               | 1                       | NA                      | NA                      | 5. 96 to 100 percentile | NA                      | NA                      | NA                      | NA                      | NA                      | \n",
       "| 1948                    | NA                      | 1. Male                 | 1                       | NA                      | NA                      | 4. 68 to 95 percentile  | NA                      | NA                      | NA                      | NA                      | NA                      | \n",
       "| 1948                    | NA                      | 2. Female               | 1                       | NA                      | NA                      | 5. 96 to 100 percentile | NA                      | NA                      | NA                      | NA                      | NA                      | \n",
       "\n",
       "\n"
      ],
      "text/plain": [
       "  year age gender    race edu south income                  partyid interest\n",
       "1 1948 NA  1. Male   1    NA  NA    3. 34 to 67 percentile  NA      NA      \n",
       "2 1948 NA  2. Female 1    NA  NA    5. 96 to 100 percentile NA      NA      \n",
       "3 1948 NA  2. Female 1    NA  NA    4. 68 to 95 percentile  NA      NA      \n",
       "4 1948 NA  2. Female 1    NA  NA    5. 96 to 100 percentile NA      NA      \n",
       "5 1948 NA  1. Male   1    NA  NA    4. 68 to 95 percentile  NA      NA      \n",
       "6 1948 NA  2. Female 1    NA  NA    5. 96 to 100 percentile NA      NA      \n",
       "  govtrust abortion demtherm\n",
       "1 NA       NA       NA      \n",
       "2 NA       NA       NA      \n",
       "3 NA       NA       NA      \n",
       "4 NA       NA       NA      \n",
       "5 NA       NA       NA      \n",
       "6 NA       NA       NA      "
      ]
     },
     "metadata": {},
     "output_type": "display_data"
    }
   ],
   "source": [
    "#on garde seulement quelques variables et on les renomme pour plus de clarté:\n",
    "library(plyr)\n",
    "library(dplyr)\n",
    "anes <- anes %>% \n",
    "        select(year = VCF0004,\n",
    "               age = VCF0101,\n",
    "               gender = VCF0104,\n",
    "               race = VCF0106,\n",
    "               edu = VCF0140,\n",
    "               south = VCF0113,\n",
    "               income = VCF0114,\n",
    "               partyid = VCF0301,\n",
    "               interest = VCF0310,\n",
    "               govtrust = VCF0604,\n",
    "               abortion = VCF0838,\n",
    "               demtherm = VCF0218)\n",
    "#on regarde les 6 premières observations:\n",
    "head(anes)"
   ]
  },
  {
   "cell_type": "markdown",
   "metadata": {
    "deletable": true,
    "editable": true
   },
   "source": [
    "# 1. Travail préparatoire\n",
    "\n",
    "Nous avons besoin de créer une variable quantitative à partir d'une variable catégorielle: avortement (*abortion*). "
   ]
  },
  {
   "cell_type": "code",
   "execution_count": null,
   "metadata": {
    "collapsed": false,
    "deletable": true,
    "editable": true
   },
   "outputs": [],
   "source": [
    "class(anes$abortion)"
   ]
  },
  {
   "cell_type": "code",
   "execution_count": null,
   "metadata": {
    "collapsed": false,
    "deletable": true,
    "editable": true
   },
   "outputs": [],
   "source": [
    "table(anes$abortion)"
   ]
  },
  {
   "cell_type": "markdown",
   "metadata": {
    "collapsed": false,
    "deletable": true,
    "editable": true
   },
   "source": [
    "\n",
    "On va distinguer trois cas: la variable est manquante (NA), la personne est opposée à l'avortement sauf cas extrême (0), la personne est favorable à l'avortement (1). "
   ]
  },
  {
   "cell_type": "code",
   "execution_count": null,
   "metadata": {
    "collapsed": false,
    "deletable": true,
    "editable": true
   },
   "outputs": [],
   "source": [
    "# Option 1 (avec ifelse que 'on a déjà rencontré)\n",
    "anes$abortionD <- with(anes,\n",
    "   ifelse(abortion == \"4. By law, a woman should always be able to obtain an\", 1,\n",
    "   ifelse(abortion == \"1. By law, abortion should never be permitted\" |\n",
    "          abortion == \"2. The law should permit abortion only in case of rape,\" |\n",
    "          abortion == \"3. The law should permit abortion for reasons other than\", 0, NA)))\n",
    "table(anes$abortionD)\n",
    "table(anes$abortionD, exclude=NULL)"
   ]
  },
  {
   "cell_type": "code",
   "execution_count": null,
   "metadata": {
    "collapsed": false,
    "deletable": true,
    "editable": true
   },
   "outputs": [],
   "source": [
    "# Option 2 (on recode les catégories et on convertit en format 'numeric')\n",
    "anes$abortionD <- anes$abortion                               #dupliquer \n",
    "levels(anes$abortionD) <- c(NA, 0, 0, 0, 1, NA)               #recoder\n",
    "anes$abortionD <- as.numeric(as.character(anes$abortionD))    #convertir en numérique ce qui passe par convertir d'abord en caractères\n",
    "table(anes$abortionD)\n",
    "table(anes$abortionD, exclude=NULL)"
   ]
  },
  {
   "cell_type": "code",
   "execution_count": null,
   "metadata": {
    "collapsed": false,
    "deletable": true,
    "editable": true
   },
   "outputs": [],
   "source": [
    "class(anes$abortion)\n",
    "class(anes$abortionD)"
   ]
  },
  {
   "cell_type": "markdown",
   "metadata": {
    "collapsed": false,
    "deletable": true,
    "editable": true
   },
   "source": [
    "# 1. Statistiques descriptives univariées\n",
    "\n",
    "Pour analyser des données il est important d'avoir une idée de leur distribution. Onutilisera généralement le package **ggplot2** pour les graphiques. \n",
    "\n",
    "Le type de statistique diffère selon si la variable est discrète ou continue. "
   ]
  },
  {
   "cell_type": "markdown",
   "metadata": {
    "deletable": true,
    "editable": true
   },
   "source": [
    "### 1.1 Variables discrètes\n",
    "\n",
    "On s'intéresse à l'opinion politique des américains: variable *partyid*. Cette variable est catégorielle/discrète: "
   ]
  },
  {
   "cell_type": "code",
   "execution_count": null,
   "metadata": {
    "collapsed": false,
    "deletable": true,
    "editable": true
   },
   "outputs": [],
   "source": [
    "levels(anes$partyid)\n",
    "table(anes$partyid)"
   ]
  },
  {
   "cell_type": "markdown",
   "metadata": {
    "deletable": true,
    "editable": true
   },
   "source": [
    "On la recode en 3 catégories: démocrate, indépendant, républicain:"
   ]
  },
  {
   "cell_type": "code",
   "execution_count": null,
   "metadata": {
    "collapsed": false,
    "deletable": true,
    "editable": true
   },
   "outputs": [],
   "source": [
    "anes$partyid3 <- anes$partyid #dupliquer\n",
    "\n",
    "levels(anes$partyid3)<-c(NA,\n",
    "                         \"Democrat\",\"Democrat\",\"Democrat\",\n",
    "                         \"Independent\",\n",
    "                         \"Republican\",\"Republican\",\"Republican\") #redéfinir catégories\n",
    "\n",
    "table(anes$partyid3) #nombre\n",
    "prop.table(table(anes$partyid3)) #proportion"
   ]
  },
  {
   "cell_type": "markdown",
   "metadata": {
    "deletable": true,
    "editable": true
   },
   "source": [
    "On peut faire un examen rapide de la distribution de la variable par un simple **barplot()** avec les proprtions :"
   ]
  },
  {
   "cell_type": "code",
   "execution_count": null,
   "metadata": {
    "collapsed": false,
    "deletable": true,
    "editable": true
   },
   "outputs": [],
   "source": [
    "barplot(prop.table(table(anes$partyid3)))"
   ]
  },
  {
   "cell_type": "markdown",
   "metadata": {
    "deletable": true,
    "editable": true
   },
   "source": [
    "### 1.2 Variables continues\n",
    "Beaucoup de commandes nous aident à connnaître la distribution: **mean()**, **median()**, **min()**, **max()**, **sd()**.\n",
    "\n",
    "*NOTE: ne pas oublier d'ajouter **na.rm = T** si on veut ignorer les observations variables manquantes.*"
   ]
  },
  {
   "cell_type": "code",
   "execution_count": null,
   "metadata": {
    "collapsed": false,
    "deletable": true,
    "editable": true
   },
   "outputs": [],
   "source": [
    "mean(anes$demtherm)\n",
    "mean(anes$demtherm, na.rm=T)\n",
    "\n",
    "median(anes$demtherm, na.rm = T)\n",
    "min(anes$demtherm, na.rm = T)\n",
    "max(anes$demtherm, na.rm = T)\n",
    "sd(anes$demtherm, na.rm=T)"
   ]
  },
  {
   "cell_type": "markdown",
   "metadata": {
    "deletable": true,
    "editable": true
   },
   "source": [
    "On retrouve beaucup de ces commandes en une: **summary()**."
   ]
  },
  {
   "cell_type": "code",
   "execution_count": null,
   "metadata": {
    "collapsed": false,
    "deletable": true,
    "editable": true,
    "scrolled": true
   },
   "outputs": [],
   "source": [
    "summary(anes$demtherm)"
   ]
  },
  {
   "cell_type": "markdown",
   "metadata": {
    "deletable": true,
    "editable": true
   },
   "source": [
    "Pour obtenir un quantile spécifique: "
   ]
  },
  {
   "cell_type": "code",
   "execution_count": null,
   "metadata": {
    "collapsed": false,
    "deletable": true,
    "editable": true
   },
   "outputs": [],
   "source": [
    "quantile(anes$demtherm, probs = c(0.1, 0.5, 0.9), na.rm = T)"
   ]
  },
  {
   "cell_type": "markdown",
   "metadata": {
    "deletable": true,
    "editable": true
   },
   "source": [
    "Ou de manière incrémentale:"
   ]
  },
  {
   "cell_type": "code",
   "execution_count": null,
   "metadata": {
    "collapsed": false,
    "deletable": true,
    "editable": true
   },
   "outputs": [],
   "source": [
    "quantile(anes$demtherm, probs = seq(0, 1, by = 0.05), na.rm = T)"
   ]
  },
  {
   "cell_type": "markdown",
   "metadata": {
    "deletable": true,
    "editable": true
   },
   "source": [
    "On peut faire un histogramme rapide: "
   ]
  },
  {
   "cell_type": "code",
   "execution_count": null,
   "metadata": {
    "collapsed": false,
    "deletable": true,
    "editable": true
   },
   "outputs": [],
   "source": [
    "hist(anes$demtherm)"
   ]
  },
  {
   "cell_type": "markdown",
   "metadata": {
    "deletable": true,
    "editable": true
   },
   "source": [
    "### Exercice 1\n",
    "\n",
    "Etudier la distribution de la variable *interest* (une variable catégorielle qui mesure 'intérêt porté à la politique), c'est-à-dire : \n",
    "- le nombre \n",
    "- et la proportion d'observations pour chaque catégorie de la variable."
   ]
  },
  {
   "cell_type": "code",
   "execution_count": null,
   "metadata": {
    "collapsed": false,
    "deletable": true,
    "editable": true
   },
   "outputs": [],
   "source": [
    "class(anes$interest)\n",
    "levels(anes$interest)<-c(NA,\"Not much\",\"Somewhat\",\"Very\",NA)\n",
    "table(anes$interest, exclude=NULL)\n",
    "t<-prop.table(table(anes$interest))\n",
    "t\n",
    "barplot(t)"
   ]
  },
  {
   "cell_type": "markdown",
   "metadata": {
    "deletable": true,
    "editable": true
   },
   "source": [
    "Trouver les statistiques descriptives d'une variable numérique de votre choix: moyenne, médiane, écart type, minimum, maximum, 7 et 45ème percentile. "
   ]
  },
  {
   "cell_type": "code",
   "execution_count": null,
   "metadata": {
    "collapsed": false,
    "deletable": true,
    "editable": true
   },
   "outputs": [],
   "source": [
    "head(anes)\n",
    "class(anes)\n",
    "class(anes$govtrust)\n",
    "class(anes$age) #celle-ci est numérique\n",
    "\n",
    "summary(anes$age)\n",
    "sd(anes$age, na.rm=T)\n",
    "quantile(anes$age, probs=c(0.07,0.45), na.rm=T)"
   ]
  },
  {
   "cell_type": "markdown",
   "metadata": {
    "deletable": true,
    "editable": true
   },
   "source": [
    "# 2. Statistiques descriptives bivariées\n",
    "Il est encore plus intéressant d'étudier la relation entre deux variables et plus. \n",
    "\n",
    "Les statistiques bivariées prennent la forme de moyennes conditionnelles, de tableaux croisés, de graphiques. \n",
    "\n",
    "Encore une fois, le typde de statistique dépend de la nature discrète ou continue des données. "
   ]
  },
  {
   "cell_type": "markdown",
   "metadata": {
    "deletable": true,
    "editable": true
   },
   "source": [
    "### 2.1 Deux variables discrètes/catégorielles\n",
    "Par exemple, quelle est la relation entre genre et parti politique? On veut un tableau croisé. On peut l'obtenir en fréquence (**table()**) ou en proportion (**prop.table()**). "
   ]
  },
  {
   "cell_type": "code",
   "execution_count": null,
   "metadata": {
    "collapsed": false,
    "deletable": true,
    "editable": true
   },
   "outputs": [],
   "source": [
    "#on examine la variable genre \n",
    "levels(anes$gender) \n",
    "\n",
    "#et on la recode en simplifiant:\n",
    "levels(anes$gender)<- c(NA, \"Male\", \"Female\")\n",
    "levels(anes$gender) \n",
    "\n",
    "#tablau simple\n",
    "table(anes$gender)"
   ]
  },
  {
   "cell_type": "code",
   "execution_count": null,
   "metadata": {
    "collapsed": false,
    "deletable": true,
    "editable": true
   },
   "outputs": [],
   "source": [
    "#tableau croisé:\n",
    "table(anes$gender, anes$partyid3)   #option1\n",
    "with(anes, table(gender, partyid3)) #option2"
   ]
  },
  {
   "cell_type": "code",
   "execution_count": null,
   "metadata": {
    "collapsed": false,
    "deletable": true,
    "editable": true
   },
   "outputs": [],
   "source": [
    "#proportions, somme 100 en ligne\n",
    "t <- with(anes, table(gender, partyid3))\n",
    "prop.table(t, margin = 1)"
   ]
  },
  {
   "cell_type": "markdown",
   "metadata": {
    "deletable": true,
    "editable": true
   },
   "source": [
    "NOTE 1: Pourquoi 'margin=1' ? Comparer **prop.table(t, margin = 1)** avec ce qui suit et expliquer la différence."
   ]
  },
  {
   "cell_type": "code",
   "execution_count": null,
   "metadata": {
    "collapsed": false,
    "deletable": true,
    "editable": true
   },
   "outputs": [],
   "source": [
    "prop.table(t)          \n",
    "prop.table(t,margin=2) "
   ]
  },
  {
   "cell_type": "markdown",
   "metadata": {
    "deletable": true,
    "editable": true
   },
   "source": [
    "NOTE 2: Fonction **ddply**\n",
    "On peut retrouver ces statistiques avec une fonction très utile du package **plyr**. Cette fonction est beaucoup plus utilisée que **prop.table()**. \n",
    "- argument 1 : data frame\n",
    "- argument 2 : variable indépendante, à partir de laquelle on souhaite étudier les sous-groupes\n",
    "- argument 3 : ici summarise car on veut une stat des\n",
    "- argument 4 : une foncion, ici la moyenne de la variable continue par groupe\n",
    "\n",
    "Exemple :"
   ]
  },
  {
   "cell_type": "code",
   "execution_count": null,
   "metadata": {
    "collapsed": false,
    "deletable": true,
    "editable": true
   },
   "outputs": [],
   "source": [
    "anes$democrat <- anes$partyid3\n",
    "levels(anes$democrat) <- c(1, 0, 0)\n",
    "anes$democrat <- as.numeric(as.character(anes$democrat)) #on transforme la variable catégorielle en variable numérique\n",
    "\n",
    "ddply(anes, .(gender), summarise,\n",
    "         mean = mean(democrat, na.rm = T),\n",
    "         median = median(democrat, na.rm = T))"
   ]
  },
  {
   "cell_type": "markdown",
   "metadata": {
    "deletable": true,
    "editable": true
   },
   "source": [
    "### 2.2 Une variable discrète et une variable continue\n",
    "On cherche alors les moyennes conditionnelles en utilisant encore la fonction **ddply()**. \n",
    "\n",
    "Par exempe, si je cherche la moyenne conditionnelle de la sympathie pour les démocrates (*demtherm*, variable continue) le long de la distribution du revenu en quintiles (*income*, variable catégorielle), j'écris:"
   ]
  },
  {
   "cell_type": "code",
   "execution_count": null,
   "metadata": {
    "collapsed": false,
    "deletable": true,
    "editable": true
   },
   "outputs": [],
   "source": [
    "ddply(anes, .(income), summarise, mean = mean(demtherm, na.rm = T),\n",
    "                                  median = median(demtherm, na.rm = T))"
   ]
  },
  {
   "cell_type": "markdown",
   "metadata": {
    "deletable": true,
    "editable": true
   },
   "source": [
    "### 2.3 Deux variables continues\n",
    "Ce type de relation est davantage étudié graphiquement. Il exitse toute de même la corrélation de Pearson entre deux variables, par exemple l'âge (*age*) et la symaptahie pour les démocrates (*demtherm*) :"
   ]
  },
  {
   "cell_type": "code",
   "execution_count": null,
   "metadata": {
    "collapsed": false,
    "deletable": true,
    "editable": true
   },
   "outputs": [],
   "source": [
    "cor(anes$age, anes$demtherm, use = \"complete.obs\")"
   ]
  },
  {
   "cell_type": "markdown",
   "metadata": {
    "deletable": true,
    "editable": true
   },
   "source": [
    "### Exercice 2\n",
    "\n",
    "Créer un tableau croisé entre *south* (Sud/Nord) et la variable *partyid3* (parti démocrate, répubicain ou indépendant), séparément pour 1952 et 2008 (variable *year*). Analyser l'évolution."
   ]
  },
  {
   "cell_type": "code",
   "execution_count": null,
   "metadata": {
    "collapsed": false,
    "deletable": true,
    "editable": true
   },
   "outputs": [],
   "source": []
  },
  {
   "cell_type": "markdown",
   "metadata": {
    "deletable": true,
    "editable": true
   },
   "source": [
    "Utiliser la variable *democrat* crée ci-dessus et la fonction **ddply()** pour trouver la proportion de démocrates, et l'écart type de *democrat*, par région (sud/non-sud) et année (toutes les valeurs, pas seulement 1952 et 2008).  "
   ]
  },
  {
   "cell_type": "code",
   "execution_count": null,
   "metadata": {
    "collapsed": false,
    "deletable": true,
    "editable": true
   },
   "outputs": [],
   "source": []
  },
  {
   "cell_type": "markdown",
   "metadata": {
    "deletable": true,
    "editable": true
   },
   "source": [
    "# 3. Réaliser des graphiques avec ggplot\n",
    "\n",
    "**ggplot2** est le package performant de R pour faire tout type de graphique. \n",
    "\n",
    "L'idée ici n'est pas de faire un compte rendu exhaustif de **ggplot2** mais de donner quelques exemples. \n",
    "\n",
    "Un lien pour davantage d'exemples: http://www.cookbook-r.com/Graphs/"
   ]
  },
  {
   "cell_type": "markdown",
   "metadata": {
    "deletable": true,
    "editable": true
   },
   "source": [
    "### 3.1 Exemple 1 : Proprtion de démocrates par genre et année"
   ]
  },
  {
   "cell_type": "code",
   "execution_count": null,
   "metadata": {
    "collapsed": false,
    "deletable": true,
    "editable": true
   },
   "outputs": [],
   "source": [
    "#On calcule d'abord ces proportions: \n",
    "t<-ddply(anes, .(gender,year), summarise, mean=mean(democrat, na.rm = T))\n",
    "tail(t)"
   ]
  },
  {
   "cell_type": "code",
   "execution_count": null,
   "metadata": {
    "collapsed": false,
    "deletable": true,
    "editable": true
   },
   "outputs": [],
   "source": [
    "#On crée un graphique\n",
    "library(ggplot2)\n",
    "ggplot(t, aes(x = year, y = mean, color = gender)) +\n",
    "    geom_point() "
   ]
  },
  {
   "cell_type": "code",
   "execution_count": null,
   "metadata": {
    "collapsed": false,
    "deletable": true,
    "editable": true
   },
   "outputs": [],
   "source": [
    "#on relie les points\n",
    "library(ggplot2)\n",
    "ggplot(t, aes(x = year, y = mean, color = gender)) +\n",
    "    geom_point() + geom_line()"
   ]
  },
  {
   "cell_type": "code",
   "execution_count": null,
   "metadata": {
    "collapsed": false,
    "deletable": true,
    "editable": true,
    "scrolled": false
   },
   "outputs": [],
   "source": [
    "#on ajoute une légende à y et on change le fond\n",
    "ggplot(t, aes(x = year, y = mean, color = gender)) +\n",
    "    geom_point() +\n",
    "    geom_line() +\n",
    "    xlab(\"\") +\n",
    "    ylab(\"Proportion de Démocrates\") +\n",
    "    theme_bw()"
   ]
  },
  {
   "cell_type": "markdown",
   "metadata": {
    "deletable": true,
    "editable": true
   },
   "source": [
    "### 3.2 Exemple 2 : Thermomètre démocrate"
   ]
  },
  {
   "cell_type": "code",
   "execution_count": null,
   "metadata": {
    "collapsed": false,
    "deletable": true,
    "editable": true
   },
   "outputs": [],
   "source": [
    "#Densité du thermoùètre par genre:\n",
    "ggplot(anes, aes(demtherm, fill = gender)) +\n",
    "    geom_density()"
   ]
  },
  {
   "cell_type": "code",
   "execution_count": null,
   "metadata": {
    "collapsed": false,
    "deletable": true,
    "editable": true
   },
   "outputs": [],
   "source": [
    "#transparence 0.3, fenêtre plus large (adjust), pas de contour \n",
    "ggplot(anes, aes(demtherm, fill = gender)) +\n",
    "    geom_density(alpha = 0.3, adjust = 2, colour = NA)"
   ]
  },
  {
   "cell_type": "code",
   "execution_count": null,
   "metadata": {
    "collapsed": false,
    "deletable": true,
    "editable": true
   },
   "outputs": [],
   "source": [
    "#label des axes, changement de couleurs et de fond\n",
    "ggplot(anes, aes(demtherm, fill = gender)) +\n",
    "    geom_density(alpha = 0.3, adjust = 2, colour = NA) +\n",
    "    xlab(\"Democratic Thermometer\") +\n",
    "    ylab(\"Density\") +\n",
    "    scale_fill_manual(values = c(\"black\", \"darkblue\")) +\n",
    "    theme_bw()"
   ]
  },
  {
   "cell_type": "code",
   "execution_count": null,
   "metadata": {
    "collapsed": false,
    "deletable": true,
    "editable": true
   },
   "outputs": [],
   "source": [
    "#une combinsaison de graphiques avec facet_wrap:\n",
    "years <- seq(1980, 2008, by = 4)\n",
    "anes_sub <- subset(anes, year %in% years)\n",
    "\n",
    "ggplot(anes_sub, aes(demtherm, fill = gender)) +\n",
    "    geom_density(alpha = 0.3, adjust = 1.8, colour = NA) +\n",
    "    xlab(\"Democratic Thermometer\") +\n",
    "    ylab(\"Density\") +\n",
    "    scale_fill_manual(values = c(\"black\", \"darkblue\")) +\n",
    "    theme_bw() +\n",
    "    facet_wrap(~year)"
   ]
  },
  {
   "cell_type": "markdown",
   "metadata": {
    "deletable": true,
    "editable": true
   },
   "source": [
    "### 3.3 Sauvegarder les graphiques\n",
    "\n",
    "NOTE: Pour sauvegarder et insérer dans des documents, le mieux est le format pdf. \n",
    "- On sauvegarde le graphique comme objet, \n",
    "- et on l'encadre entre **pdf()** et **dev.off()**\n",
    "\n",
    "L'image sera dans le répertoire de travail.\n",
    "\n",
    "Exemple:\n",
    "\n",
    "g1<- ggplot(anes_sub, aes(demtherm, fill = gender)) +\n",
    "    geom_density(alpha = 0.3, adjust = 1.8, colour = NA) +\n",
    "    xlab(\"Democratic Thermometer\") +\n",
    "    ylab(\"Density\") +\n",
    "    scale_fill_manual(values = c(\"black\", \"darkblue\")) +\n",
    "    theme_bw() +\n",
    "    facet_wrap(~year)\n",
    "    \n",
    "pdf(file = \"TD1_density.pdf\", height = 6, width = 8)\n",
    "    \n",
    "p\n",
    "\n",
    "dev.off()"
   ]
  },
  {
   "cell_type": "markdown",
   "metadata": {
    "deletable": true,
    "editable": true
   },
   "source": [
    "### Exercice 3\n",
    "\n",
    "Représenter le nuage de points (scatter plot) du thermomètre démocrate (*demtherm*) en fonction de l'âge (*age*) pour 1978. "
   ]
  },
  {
   "cell_type": "code",
   "execution_count": null,
   "metadata": {
    "collapsed": false,
    "deletable": true,
    "editable": true
   },
   "outputs": [],
   "source": []
  },
  {
   "cell_type": "markdown",
   "metadata": {
    "deletable": true,
    "editable": true
   },
   "source": [
    "Refaire le même nuage de points pour les années 1978, 1886, 1994 et 1998. Utiliser **facet_wrap()**."
   ]
  },
  {
   "cell_type": "code",
   "execution_count": null,
   "metadata": {
    "collapsed": false,
    "deletable": true,
    "editable": true
   },
   "outputs": [],
   "source": []
  },
  {
   "cell_type": "markdown",
   "metadata": {
    "deletable": true,
    "editable": true
   },
   "source": [
    "Dans l'exercice 2 nous avons calculé la proportion de démocrates par région (*south*) et année (*year*). Utiliser **ggplot** pour représenter ces estimations. Le temps est en abscisse, l'appartenance au parti démocrate en ordonnée. Relier les points par des lignes. Conclure. "
   ]
  },
  {
   "cell_type": "code",
   "execution_count": null,
   "metadata": {
    "collapsed": true,
    "deletable": true,
    "editable": true
   },
   "outputs": [],
   "source": []
  }
 ],
 "metadata": {
  "kernelspec": {
   "display_name": "R",
   "language": "R",
   "name": "ir"
  },
  "language_info": {
   "codemirror_mode": "r",
   "file_extension": ".r",
   "mimetype": "text/x-r-source",
   "name": "R",
   "pygments_lexer": "r",
   "version": "3.3.3"
  }
 },
 "nbformat": 4,
 "nbformat_minor": 2
}

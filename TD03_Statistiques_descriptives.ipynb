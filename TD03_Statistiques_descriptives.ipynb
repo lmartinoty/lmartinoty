{
 "cells": [
  {
   "cell_type": "markdown",
   "metadata": {
    "collapsed": true
   },
   "source": [
    "# STATISTIQUES DESCRIPTIVES\n",
    "\n",
    "*Source: cette série d'exercices s'inpire très largement des tutoriels de Simon Ejdemyr: https://sejdemyr.github.io/r-tutorials/statistics/*\n",
    "\n",
    "Pour produire quelques statistiques descriptives et graphiques, commençons par ouvrir la base de données : *anescum_small_v12.dta* et sélectionner quelques variables qui nous intéressent : \n",
    "\n",
    "*(notons que les données sont sous format Stata dta mais que R n'a aucune difficulté à les ouvrir avec le package **foreign** et la commande **read.dta**, pourvu qu'elles soient sauvées par une version Stata 14 ou antérieure)*"
   ]
  },
  {
   "cell_type": "code",
   "execution_count": null,
   "metadata": {},
   "outputs": [],
   "source": [
    "#ouverture des données:\n",
    "library(foreign) #pour ouvrir les données dta de version 14 ou inférieure\n",
    "anes <- read.dta(\"TD3_anescum_small_v12.dta\")"
   ]
  },
  {
   "cell_type": "code",
   "execution_count": null,
   "metadata": {
    "scrolled": true
   },
   "outputs": [],
   "source": [
    "#on garde seulement quelques variables et on les renomme pour plus de clarté:\n",
    "library(plyr)\n",
    "library(dplyr)\n",
    "anes <- anes %>% \n",
    "        select(year = VCF0004,\n",
    "               age = VCF0101,\n",
    "               gender = VCF0104,\n",
    "               race = VCF0106,\n",
    "               edu = VCF0140,\n",
    "               south = VCF0113,\n",
    "               income = VCF0114,\n",
    "               partyid = VCF0301,\n",
    "               interest = VCF0310,\n",
    "               govtrust = VCF0604,\n",
    "               abortion = VCF0838,\n",
    "               demtherm = VCF0218)\n",
    "#on regarde les 6 premières observations:\n",
    "head(anes)"
   ]
  },
  {
   "cell_type": "markdown",
   "metadata": {},
   "source": [
    "Codebook de ces données : TD3_codebook_anescum_small_v12.txt"
   ]
  },
  {
   "cell_type": "markdown",
   "metadata": {},
   "source": [
    "# 1. Statistiques descriptives univariées\n",
    "\n",
    "Pour analyser des données il est important d'avoir une idée de leur distribution. Onutilisera généralement le package **ggplot2** pour les graphiques. \n",
    "\n",
    "Le type de statistique diffère selon si la variable est discrète ou continue. "
   ]
  },
  {
   "cell_type": "markdown",
   "metadata": {},
   "source": [
    "### 1.1 Variables discrètes\n",
    "\n",
    "On s'intéresse à l'opinion politique des américains: variable *partyid*. Cette variable est catégorielle/discrète: "
   ]
  },
  {
   "cell_type": "code",
   "execution_count": null,
   "metadata": {},
   "outputs": [],
   "source": [
    "levels(anes$partyid)\n",
    "table(anes$partyid)"
   ]
  },
  {
   "cell_type": "markdown",
   "metadata": {},
   "source": [
    "On la recode en 3 catégories: démocrate, indépendant, républicain:"
   ]
  },
  {
   "cell_type": "code",
   "execution_count": null,
   "metadata": {},
   "outputs": [],
   "source": [
    "anes$partyid3 <- anes$partyid #dupliquer\n",
    "\n",
    "levels(anes$partyid3)<-c(NA,\n",
    "                         \"Democrat\",\"Democrat\",\"Democrat\",\n",
    "                         \"Independent\",\n",
    "                         \"Republican\",\"Republican\",\"Republican\") #redéfinir catégories\n",
    "\n",
    "table(anes$partyid3) #nombre\n",
    "prop.table(table(anes$partyid3)) #proportion"
   ]
  },
  {
   "cell_type": "markdown",
   "metadata": {},
   "source": [
    "On peut faire un examen rapide de la distribution de la variable par un simple **barplot()** avec les proprtions :"
   ]
  },
  {
   "cell_type": "code",
   "execution_count": null,
   "metadata": {},
   "outputs": [],
   "source": [
    "barplot(prop.table(table(anes$partyid3)))"
   ]
  },
  {
   "cell_type": "markdown",
   "metadata": {},
   "source": [
    "### 1.2 Variables continues\n",
    "Beaucoup de commandes nous aident à connnaître la distribution: **mean()**, **median()**, **min()**, **max()**, **sd()**.\n",
    "\n",
    "*NOTE: ne pas oublier d'ajouter **na.rm = T** si on veut ignorer les observations variables manquantes.*"
   ]
  },
  {
   "cell_type": "code",
   "execution_count": null,
   "metadata": {},
   "outputs": [],
   "source": [
    "mean(anes$demtherm)\n",
    "mean(anes$demtherm, na.rm=T)\n",
    "\n",
    "median(anes$demtherm, na.rm = T)\n",
    "min(anes$demtherm, na.rm = T)\n",
    "max(anes$demtherm, na.rm = T)\n",
    "sd(anes$demtherm, na.rm=T)"
   ]
  },
  {
   "cell_type": "markdown",
   "metadata": {},
   "source": [
    "On retrouve beaucup de ces commandes en une: **summary()**."
   ]
  },
  {
   "cell_type": "code",
   "execution_count": null,
   "metadata": {
    "scrolled": true
   },
   "outputs": [],
   "source": [
    "summary(anes$demtherm)"
   ]
  },
  {
   "cell_type": "markdown",
   "metadata": {},
   "source": [
    "Pour obtenir un quantile spécifique: "
   ]
  },
  {
   "cell_type": "code",
   "execution_count": null,
   "metadata": {},
   "outputs": [],
   "source": [
    "quantile(anes$demtherm, probs = c(0.1, 0.5, 0.9), na.rm = T)"
   ]
  },
  {
   "cell_type": "markdown",
   "metadata": {},
   "source": [
    "Ou de manière incrémentale:"
   ]
  },
  {
   "cell_type": "code",
   "execution_count": null,
   "metadata": {},
   "outputs": [],
   "source": [
    "quantile(anes$demtherm, probs = seq(0, 1, by = 0.05), na.rm = T)"
   ]
  },
  {
   "cell_type": "markdown",
   "metadata": {},
   "source": [
    "On peut faire un histogramme rapide: "
   ]
  },
  {
   "cell_type": "code",
   "execution_count": null,
   "metadata": {},
   "outputs": [],
   "source": [
    "hist(anes$demtherm)"
   ]
  },
  {
   "cell_type": "markdown",
   "metadata": {},
   "source": [
    "### Exercice 1\n",
    "\n",
    "Etudier la distribution de la variable *interest* (une variable catégorielle qui mesure 'intérêt porté à la politique), c'est-à-dire : \n",
    "- le nombre \n",
    "- et la proportion d'observations pour chaque catégorie de la variable."
   ]
  },
  {
   "cell_type": "code",
   "execution_count": null,
   "metadata": {},
   "outputs": [],
   "source": [
    "class(anes$interest)\n",
    "levels(anes$interest)<-c(NA,\"Not much\",\"Somewhat\",\"Very\",NA)\n",
    "table(anes$interest, exclude=NULL)\n",
    "t<-prop.table(table(anes$interest))\n",
    "t\n",
    "barplot(t)"
   ]
  },
  {
   "cell_type": "markdown",
   "metadata": {},
   "source": [
    "Trouver les statistiques descriptives d'une variable numérique de votre choix: moyenne, médiane, écart type, minimum, maximum, 7 et 45ème percentile. "
   ]
  },
  {
   "cell_type": "code",
   "execution_count": null,
   "metadata": {},
   "outputs": [],
   "source": [
    "head(anes)\n",
    "class(anes)\n",
    "class(anes$govtrust)\n",
    "class(anes$age) #celle-ci est numérique\n",
    "\n",
    "summary(anes$age)\n",
    "sd(anes$age, na.rm=T)\n",
    "quantile(anes$age, probs=c(0.07,0.45), na.rm=T)"
   ]
  },
  {
   "cell_type": "markdown",
   "metadata": {},
   "source": [
    "# 2. Statistiques descriptives bivariées\n",
    "Il est encore plus intéressant d'étudier la relation entre deux variables et plus. \n",
    "\n",
    "Les statistiques bivariées prennent la forme de moyennes conditionnelles, de tableaux croisés, de graphiques. \n",
    "\n",
    "Encore une fois, le typde de statistique dépend de la nature discrète ou continue des données. "
   ]
  },
  {
   "cell_type": "markdown",
   "metadata": {},
   "source": [
    "### 2.1 Deux variables discrètes/catégorielles\n",
    "Par exemple, quelle est la relation entre genre et parti politique? On veut un tableau croisé. On peut l'obtenir en fréquence (**table()**) ou en proportion (**prop.table()**). "
   ]
  },
  {
   "cell_type": "code",
   "execution_count": null,
   "metadata": {},
   "outputs": [],
   "source": [
    "#on examine la variable genre \n",
    "levels(anes$gender) \n",
    "\n",
    "#et on la recode en simplifiant:\n",
    "levels(anes$gender)<- c(NA, \"Male\", \"Female\")\n",
    "levels(anes$gender) \n",
    "\n",
    "#tablau simple\n",
    "table(anes$gender)"
   ]
  },
  {
   "cell_type": "code",
   "execution_count": null,
   "metadata": {},
   "outputs": [],
   "source": [
    "#tableau croisé:\n",
    "table(anes$gender, anes$partyid3)   #option1\n",
    "with(anes, table(gender, partyid3)) #option2"
   ]
  },
  {
   "cell_type": "code",
   "execution_count": null,
   "metadata": {},
   "outputs": [],
   "source": [
    "#proportions, somme 100 en ligne\n",
    "t <- with(anes, table(gender, partyid3))\n",
    "prop.table(t, margin = 1)"
   ]
  },
  {
   "cell_type": "markdown",
   "metadata": {},
   "source": [
    "NOTE 1: Pourquoi 'margin=1' ? Comparer **prop.table(t, margin = 1)** avec ce qui suit et expliquer la différence."
   ]
  },
  {
   "cell_type": "code",
   "execution_count": null,
   "metadata": {},
   "outputs": [],
   "source": [
    "prop.table(t)          \n",
    "prop.table(t,margin=2) "
   ]
  },
  {
   "cell_type": "markdown",
   "metadata": {},
   "source": [
    "NOTE 2: Fonction **ddply**\n",
    "On peut retrouver ces statistiques avec une fonction très utile du package **plyr**. Cette fonction est beaucoup plus utilisée que **prop.table()**. \n",
    "- argument 1 : data frame\n",
    "- argument 2 : variable indépendante, à partir de laquelle on souhaite étudier les sous-groupes\n",
    "- argument 3 : ici summarise car on veut une stat des\n",
    "- argument 4 : une foncion, ici la moyenne de la variable continue par groupe\n",
    "\n",
    "Exemple :"
   ]
  },
  {
   "cell_type": "code",
   "execution_count": null,
   "metadata": {},
   "outputs": [],
   "source": [
    "anes$democrat <- anes$partyid3\n",
    "levels(anes$democrat) <- c(1, 0, 0)\n",
    "anes$democrat <- as.numeric(as.character(anes$democrat)) #on transforme la variable catégorielle en variable numérique\n",
    "\n",
    "ddply(anes, .(gender), summarise,\n",
    "         mean = mean(democrat, na.rm = T),\n",
    "         median = median(democrat, na.rm = T))"
   ]
  },
  {
   "cell_type": "markdown",
   "metadata": {},
   "source": [
    "### 2.2 Une variable discrète et une variable continue\n",
    "On cherche alors les moyennes conditionnelles en utilisant encore la fonction **ddply()**. \n",
    "\n",
    "Par exempe, si je cherche la moyenne conditionnelle de la sympathie pour les démocrates (*demtherm*, variable continue) le long de la distribution du revenu en quintiles (*income*, variable catégorielle), j'écris:"
   ]
  },
  {
   "cell_type": "code",
   "execution_count": null,
   "metadata": {},
   "outputs": [],
   "source": [
    "ddply(anes, .(income), summarise, mean = mean(demtherm, na.rm = T),\n",
    "                                  median = median(demtherm, na.rm = T))"
   ]
  },
  {
   "cell_type": "markdown",
   "metadata": {},
   "source": [
    "### 2.3 Deux variables continues\n",
    "Ce type de relation est davantage étudié graphiquement. Il exitse toute de même la corrélation de Pearson entre deux variables, par exemple l'âge (*age*) et la symaptahie pour les démocrates (*demtherm*) :"
   ]
  },
  {
   "cell_type": "code",
   "execution_count": null,
   "metadata": {},
   "outputs": [],
   "source": [
    "cor(anes$age, anes$demtherm, use = \"complete.obs\")"
   ]
  },
  {
   "cell_type": "markdown",
   "metadata": {},
   "source": [
    "### Exercice 2\n",
    "\n",
    "Créer un tableau croisé entre *south* (Sud/Nord) et la variable *partyid3* (parti démocrate, répubicain ou indépendant), séparément pour 1952 et 2008 (variable *year*). Analyser l'évolution."
   ]
  },
  {
   "cell_type": "code",
   "execution_count": null,
   "metadata": {},
   "outputs": [],
   "source": []
  },
  {
   "cell_type": "markdown",
   "metadata": {},
   "source": [
    "Utiliser la variable *democrat* crée ci-dessus et la fonction **ddply()** pour trouver la proportion de démocrates, et l'écart type de *democrat*, par région (sud/non-sud) et année (toutes les valeurs, pas seulement 1952 et 2008).  "
   ]
  },
  {
   "cell_type": "code",
   "execution_count": null,
   "metadata": {},
   "outputs": [],
   "source": []
  },
  {
   "cell_type": "markdown",
   "metadata": {},
   "source": [
    "# 3. Réaliser des graphiques avec ggplot\n",
    "\n",
    "**ggplot2** est le package performant de R pour faire tout type de graphique. \n",
    "\n",
    "L'idée ici n'est pas de faire un compte rendu exhaustif de **ggplot2** mais de donner quelques exemples. \n",
    "\n",
    "Un lien pour davantage d'exemples: http://www.cookbook-r.com/Graphs/"
   ]
  },
  {
   "cell_type": "markdown",
   "metadata": {},
   "source": [
    "### 3.1 Exemple 1 : Proprtion de démocrates par genre et année"
   ]
  },
  {
   "cell_type": "code",
   "execution_count": null,
   "metadata": {},
   "outputs": [],
   "source": [
    "#On calcule d'abord ces proportions: \n",
    "t<-ddply(anes, .(gender,year), summarise, mean=mean(democrat, na.rm = T))\n",
    "tail(t)"
   ]
  },
  {
   "cell_type": "code",
   "execution_count": null,
   "metadata": {},
   "outputs": [],
   "source": [
    "#On crée un graphique\n",
    "library(ggplot2)\n",
    "ggplot(t, aes(x = year, y = mean, color = gender)) +\n",
    "    geom_point() "
   ]
  },
  {
   "cell_type": "code",
   "execution_count": null,
   "metadata": {},
   "outputs": [],
   "source": [
    "#on relie les points\n",
    "library(ggplot2)\n",
    "ggplot(t, aes(x = year, y = mean, color = gender)) +\n",
    "    geom_point() + geom_line()"
   ]
  },
  {
   "cell_type": "code",
   "execution_count": null,
   "metadata": {
    "scrolled": false
   },
   "outputs": [],
   "source": [
    "#on ajoute une légende à y et on change le fond\n",
    "ggplot(t, aes(x = year, y = mean, color = gender)) +\n",
    "    geom_point() +\n",
    "    geom_line() +\n",
    "    xlab(\"\") +\n",
    "    ylab(\"Proportion de Démocrates\") +\n",
    "    theme_bw()"
   ]
  },
  {
   "cell_type": "markdown",
   "metadata": {},
   "source": [
    "### 3.2 Exemple 2 : Thermomètre démocrate"
   ]
  },
  {
   "cell_type": "code",
   "execution_count": null,
   "metadata": {},
   "outputs": [],
   "source": [
    "#Densité du thermoùètre par genre:\n",
    "ggplot(anes, aes(demtherm, fill = gender)) +\n",
    "    geom_density()"
   ]
  },
  {
   "cell_type": "code",
   "execution_count": null,
   "metadata": {},
   "outputs": [],
   "source": [
    "#transparence 0.3, fenêtre plus large (adjust), pas de contour \n",
    "ggplot(anes, aes(demtherm, fill = gender)) +\n",
    "    geom_density(alpha = 0.3, adjust = 2, colour = NA)"
   ]
  },
  {
   "cell_type": "code",
   "execution_count": null,
   "metadata": {},
   "outputs": [],
   "source": [
    "#label des axes, changement de couleurs et de fond\n",
    "ggplot(anes, aes(demtherm, fill = gender)) +\n",
    "    geom_density(alpha = 0.3, adjust = 2, colour = NA) +\n",
    "    xlab(\"Democratic Thermometer\") +\n",
    "    ylab(\"Density\") +\n",
    "    scale_fill_manual(values = c(\"black\", \"darkblue\")) +\n",
    "    theme_bw()"
   ]
  },
  {
   "cell_type": "code",
   "execution_count": null,
   "metadata": {},
   "outputs": [],
   "source": [
    "#une combinsaison de graphiques avec facet_wrap:\n",
    "years <- seq(1980, 2008, by = 4)\n",
    "anes_sub <- subset(anes, year %in% years)\n",
    "\n",
    "ggplot(anes_sub, aes(demtherm, fill = gender)) +\n",
    "    geom_density(alpha = 0.3, adjust = 1.8, colour = NA) +\n",
    "    xlab(\"Democratic Thermometer\") +\n",
    "    ylab(\"Density\") +\n",
    "    scale_fill_manual(values = c(\"black\", \"darkblue\")) +\n",
    "    theme_bw() +\n",
    "    facet_wrap(~year)"
   ]
  },
  {
   "cell_type": "markdown",
   "metadata": {},
   "source": [
    "### 3.3 Sauvegarder les graphiques\n",
    "\n",
    "NOTE: Pour sauvegarder et insérer dans des documents, le mieux est le format pdf. \n",
    "- On sauvegarde le graphique comme objet, \n",
    "- et on l'encadre entre **pdf()** et **dev.off()**\n",
    "\n",
    "L'image sera dans le répertoire de travail.\n",
    "\n",
    "Exemple:\n",
    "\n",
    "g1<- ggplot(anes_sub, aes(demtherm, fill = gender)) +\n",
    "    geom_density(alpha = 0.3, adjust = 1.8, colour = NA) +\n",
    "    xlab(\"Democratic Thermometer\") +\n",
    "    ylab(\"Density\") +\n",
    "    scale_fill_manual(values = c(\"black\", \"darkblue\")) +\n",
    "    theme_bw() +\n",
    "    facet_wrap(~year)\n",
    "    \n",
    "pdf(file = \"TD1_density.pdf\", height = 6, width = 8)\n",
    "    \n",
    "p\n",
    "\n",
    "dev.off()"
   ]
  },
  {
   "cell_type": "markdown",
   "metadata": {},
   "source": [
    "### Exercice 3\n",
    "\n",
    "Représenter le nuage de points (scatter plot) du thermomètre démocrate (*demtherm*) en fonction de l'âge (*age*) pour 1978. "
   ]
  },
  {
   "cell_type": "code",
   "execution_count": null,
   "metadata": {},
   "outputs": [],
   "source": []
  },
  {
   "cell_type": "markdown",
   "metadata": {},
   "source": [
    "Refaire le même nuage de points pour les années 1978, 1886, 1994 et 1998. Utiliser **facet_wrap()**."
   ]
  },
  {
   "cell_type": "code",
   "execution_count": null,
   "metadata": {},
   "outputs": [],
   "source": []
  },
  {
   "cell_type": "markdown",
   "metadata": {},
   "source": [
    "Dans l'exercice 2 nous avons calculé la proportion de démocrates par région (*south*) et année (*year*). Utiliser **ggplot** pour représenter ces estimations. Le temps est en abscisse, l'appartenance au parti démocrate en ordonnée. Relier les points par des lignes. Conclure. "
   ]
  },
  {
   "cell_type": "code",
   "execution_count": null,
   "metadata": {},
   "outputs": [],
   "source": []
  }
 ],
 "metadata": {
  "kernelspec": {
   "display_name": "R",
   "language": "R",
   "name": "ir"
  },
  "language_info": {
   "codemirror_mode": "r",
   "file_extension": ".r",
   "mimetype": "text/x-r-source",
   "name": "R",
   "pygments_lexer": "r",
   "version": "3.6.1"
  }
 },
 "nbformat": 4,
 "nbformat_minor": 2
}

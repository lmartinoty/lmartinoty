{
 "cells": [
  {
   "cell_type": "markdown",
   "metadata": {},
   "source": [
    "# EXPERIENCES ALEATOIRES CONTROLEES"
   ]
  },
  {
   "cell_type": "markdown",
   "metadata": {},
   "source": [
    "Nous avons maintenant suffisamment de connaissances du logiciel pour étudier un exemple d'expérience aléatoire contrôlée. \n",
    "\n",
    "L'exercice suivant se base sur l'article de Pascaline Dupas and Jonathan Robinson : \n",
    "\n",
    "\"Savings Constraints and Microenterprise Development: Evidence\n",
    "from a Field Experiment in Kenya\". *American Economic Journal: Applied Economics*, 5(1):163-192, 2013\"\n",
    "\n",
    "Les auteurs souhaitent savoir si l'accès limité à la possibilité d'épargner pour les travailleurs ruraux indépendants empêche le développement de leur petite entreprise (donc in fine la croissance économique et le développement).\n",
    "\n",
    "Pour vérifier cela, ils ont recours à une expérience contrôlée dans le village de Bumala au Kenya. Ils s'intéressent à deux types de microentrepreneurs : les taxi-bicyclettes (buda), et les vendeurs de rue. "
   ]
  },
  {
   "cell_type": "markdown",
   "metadata": {},
   "source": [
    "### 1. Données\n",
    "\n",
    "Dans une **première étape**, les enquêteurs sur place à Bumala dressent une liste la plus exhaustive possible des vendeurs de rue et des taxi-bicyclettes en les accostant.\n",
    "\n",
    "Ouvrir la base de données: **TD5_database.dta** et l'inspecter grâce à un résumé rapide de statistiques descriptives."
   ]
  },
  {
   "cell_type": "code",
   "execution_count": 1,
   "metadata": {},
   "outputs": [
    {
     "data": {
      "text/plain": [
       "       id             wave1            wave2            wave3       \n",
       " Min.   : 364.0   Min.   :0.0000   Min.   :0.0000   Min.   :0.0000  \n",
       " 1st Qu.: 618.8   1st Qu.:0.0000   1st Qu.:0.0000   1st Qu.:0.0000  \n",
       " Median :2023.5   Median :0.0000   Median :0.0000   Median :0.0000  \n",
       " Mean   :1867.1   Mean   :0.2746   Mean   :0.3057   Mean   :0.4197  \n",
       " 3rd Qu.:3064.2   3rd Qu.:1.0000   3rd Qu.:1.0000   3rd Qu.:1.0000  \n",
       " Max.   :3162.0   Max.   :1.0000   Max.   :1.0000   Max.   :1.0000  \n",
       "                  NA's   :6        NA's   :6        NA's   :6       \n",
       "   treatment      not_traced_account_opening     inlogs         filled_log    \n",
       " Min.   :0.0000   Min.   :0.0                Min.   :0.0000   Min.   :0.1321  \n",
       " 1st Qu.:0.0000   1st Qu.:0.0                1st Qu.:0.0000   1st Qu.:0.9158  \n",
       " Median :0.0000   Median :0.0                Median :1.0000   Median :0.9780  \n",
       " Mean   :0.4974   Mean   :0.2                Mean   :0.6378   Mean   :0.9503  \n",
       " 3rd Qu.:1.0000   3rd Qu.:0.0                3rd Qu.:1.0000   3rd Qu.:1.0000  \n",
       " Max.   :1.0000   Max.   :1.0                Max.   :1.0000   Max.   :1.0000  \n",
       "                  NA's   :197                                 NA's   :142     \n",
       "   bg_gender         bg_boda       bg_malevendor     bg_femalevendor \n",
       " Min.   :0.0000   Min.   :0.0000   Min.   :0.00000   Min.   :0.0000  \n",
       " 1st Qu.:0.0000   1st Qu.:0.0000   1st Qu.:0.00000   1st Qu.:0.0000  \n",
       " Median :0.0000   Median :0.0000   Median :0.00000   Median :1.0000  \n",
       " Mean   :0.3316   Mean   :0.2388   Mean   :0.08673   Mean   :0.6531  \n",
       " 3rd Qu.:1.0000   3rd Qu.:0.0000   3rd Qu.:0.00000   3rd Qu.:1.0000  \n",
       " Max.   :1.0000   Max.   :1.0000   Max.   :1.00000   Max.   :1.0000  \n",
       "                  NA's   :11                                         \n",
       "   bg_married     bg_num_children      bg_age      bg_kis_read    \n",
       " Min.   :0.0000   Min.   : 0.000   Min.   :18.0   Min.   :0.0000  \n",
       " 1st Qu.:0.0000   1st Qu.: 2.000   1st Qu.:25.0   1st Qu.:1.0000  \n",
       " Median :1.0000   Median : 3.000   Median :32.0   Median :1.0000  \n",
       " Mean   :0.7265   Mean   : 3.189   Mean   :33.5   Mean   :0.7653  \n",
       " 3rd Qu.:1.0000   3rd Qu.: 5.000   3rd Qu.:40.0   3rd Qu.:1.0000  \n",
       " Max.   :1.0000   Max.   :10.000   Max.   :80.0   Max.   :1.0000  \n",
       " NA's   :19       NA's   :11       NA's   :18     NA's   :17      \n",
       "  bg_kis_write    bg_rosca_contrib_lyr    bg_educ         bg_rosca     \n",
       " Min.   :0.0000   Min.   :    0        Min.   : 0.00   Min.   :0.0000  \n",
       " 1st Qu.:0.5000   1st Qu.:    0        1st Qu.: 5.00   1st Qu.:0.0000  \n",
       " Median :1.0000   Median : 2090        Median : 7.00   Median :1.0000  \n",
       " Mean   :0.7493   Mean   : 3662        Mean   : 6.35   Mean   :0.7392  \n",
       " 3rd Qu.:1.0000   3rd Qu.: 5200        3rd Qu.: 8.00   3rd Qu.:1.0000  \n",
       " Max.   :1.0000   Max.   :42000        Max.   :12.00   Max.   :1.0000  \n",
       " NA's   :17       NA's   :12           NA's   :23      NA's   :20      \n",
       " bg_animalsvalue bg_durvalue_hh  bg_totalinc_lastweek  bg_loan_bank    \n",
       " Min.   :    0   Min.   :    0   Min.   :   0.0       Min.   :0.00000  \n",
       " 1st Qu.:    0   1st Qu.:    0   1st Qu.: 300.0       1st Qu.:0.00000  \n",
       " Median : 1200   Median :    0   Median : 500.0       Median :0.00000  \n",
       " Mean   : 5013   Mean   : 4072   Mean   : 912.1       Mean   :0.02804  \n",
       " 3rd Qu.: 4525   3rd Qu.: 5012   3rd Qu.:1000.0       3rd Qu.:0.00000  \n",
       " Max.   :73432   Max.   :83250   Max.   :8000.0       Max.   :1.00000  \n",
       " NA's   :20      NA's   :20      NA's   :187          NA's   :178      \n",
       " bg_loan_friend   bg_healthstatus per_hard_save    per_invest_choice2\n",
       " Min.   :0.0000   Min.   :2.00    Min.   :0.0000   Min.   :  0.00    \n",
       " 1st Qu.:0.0000   1st Qu.:3.00    1st Qu.:1.0000   1st Qu.: 50.00    \n",
       " Median :0.0000   Median :3.00    Median :1.0000   Median : 60.00    \n",
       " Mean   :0.3662   Mean   :3.47    Mean   :0.8562   Mean   : 65.61    \n",
       " 3rd Qu.:1.0000   3rd Qu.:4.00    3rd Qu.:1.0000   3rd Qu.: 80.00    \n",
       " Max.   :1.0000   Max.   :5.00    Max.   :1.0000   Max.   :100.00    \n",
       " NA's   :179      NA's   :175     NA's   :246      NA's   :87        \n",
       " per_somewhat_patient per_time_consistent per_hyperbolic\n",
       " Min.   :0.0000       Min.   :0.0000      Min.   :0.00  \n",
       " 1st Qu.:0.0000       1st Qu.:0.0000      1st Qu.:0.00  \n",
       " Median :0.0000       Median :0.0000      Median :0.00  \n",
       " Mean   :0.1279       Mean   :0.2467      Mean   :0.22  \n",
       " 3rd Qu.:0.0000       3rd Qu.:0.0000      3rd Qu.:0.00  \n",
       " Max.   :1.0000       Max.   :1.0000      Max.   :1.00  \n",
       " NA's   :87           NA's   :92          NA's   :92    \n",
       " per_pat_now_impat_later  per_maximpat    per_fwd_digit_score2\n",
       " Min.   :0.00            Min.   :0.0000   Min.   :1.0         \n",
       " 1st Qu.:0.00            1st Qu.:0.0000   1st Qu.:2.0         \n",
       " Median :0.00            Median :0.0000   Median :3.0         \n",
       " Mean   :0.17            Mean   :0.3633   Mean   :3.0         \n",
       " 3rd Qu.:0.00            3rd Qu.:1.0000   3rd Qu.:3.5         \n",
       " Max.   :1.00            Max.   :1.0000   Max.   :7.0         \n",
       " NA's   :92              NA's   :92       NA's   :245         \n",
       " per_ravens_matrix total_dep_savings num_trans_savings first6_num_trans_savings\n",
       " Min.   :0.08333   Min.   :    0     Min.   : 0.000    Min.   : 0.0000         \n",
       " 1st Qu.:0.25000   1st Qu.:    0     1st Qu.: 0.000    1st Qu.: 0.0000         \n",
       " Median :0.41667   Median :   50     Median : 1.000    Median : 0.0000         \n",
       " Mean   :0.47400   Mean   : 4497     Mean   : 4.029    Mean   : 0.9249         \n",
       " 3rd Qu.:0.64583   3rd Qu.:  950     3rd Qu.: 4.000    3rd Qu.: 0.0000         \n",
       " Max.   :1.00000   Max.   :93100     Max.   :71.000    Max.   :26.0000         \n",
       " NA's   :246       NA's   :217       NA's   :217       NA's   :19              \n",
       " num_dep_savings  first6_dep_savings num_wd_savings   first6_wd_savings\n",
       " Min.   : 0.000   Min.   :    0.0    Min.   : 0.000   Min.   :    0    \n",
       " 1st Qu.: 0.000   1st Qu.:    0.0    1st Qu.: 0.000   1st Qu.:    0    \n",
       " Median : 1.000   Median :    0.0    Median : 0.000   Median :    0    \n",
       " Mean   : 2.846   Mean   : 1726.1    Mean   : 1.183   Mean   : 1038    \n",
       " 3rd Qu.: 3.000   3rd Qu.:  237.5    3rd Qu.: 1.000   3rd Qu.:    0    \n",
       " Max.   :56.000   Max.   :91200.0    Max.   :19.000   Max.   :37625    \n",
       " NA's   :217      NA's   :182        NA's   :217      NA's   :214      \n",
       "   mean_dep_b       median_dep_b       mean_wd_b       median_wd_b     \n",
       " Min.   :   20.0   Min.   :   20.0   Min.   : 100.0   Min.   :  100.0  \n",
       " 1st Qu.:  100.0   1st Qu.:  100.0   1st Qu.: 306.2   1st Qu.:  306.2  \n",
       " Median :  100.0   Median :  100.0   Median : 975.0   Median :  875.0  \n",
       " Mean   :  704.0   Mean   :  663.1   Mean   :1821.0   Mean   : 1802.6  \n",
       " 3rd Qu.:  237.5   3rd Qu.:  200.0   3rd Qu.:2325.0   3rd Qu.: 2187.5  \n",
       " Max.   :19675.0   Max.   :19675.0   Max.   :8333.3   Max.   :10000.0  \n",
       " NA's   :272       NA's   :272       NA's   :358      NA's   :358      \n",
       " total_dep_shares  first6_dep_shares total_dep_loan    first6_dep_loan  \n",
       " Min.   :    0.0   Min.   :    0.0   Min.   :    0.0   Min.   :   0.00  \n",
       " 1st Qu.:    0.0   1st Qu.:    0.0   1st Qu.:    0.0   1st Qu.:   0.00  \n",
       " Median :    0.0   Median :    0.0   Median :    0.0   Median :   0.00  \n",
       " Mean   :  642.9   Mean   :  134.8   Mean   :  909.1   Mean   :  35.21  \n",
       " 3rd Qu.:  300.0   3rd Qu.:    0.0   3rd Qu.:    0.0   3rd Qu.:   0.00  \n",
       " Max.   :36300.0   Max.   :13800.0   Max.   :89147.0   Max.   :4600.00  \n",
       " NA's   :217       NA's   :214       NA's   :217       NA's   :214      \n",
       " total_wd_loan    first6_wd_loan       exp_total         exp_food      \n",
       " Min.   :     0   Min.   :     0.0   Min.   :   0.0   Min.   :  8.805  \n",
       " 1st Qu.:     0   1st Qu.:     0.0   1st Qu.:  75.2   1st Qu.: 44.320  \n",
       " Median :     0   Median :     0.0   Median : 125.2   Median : 70.511  \n",
       " Mean   :  1557   Mean   :   674.2   Mean   : 171.9   Mean   : 85.216  \n",
       " 3rd Qu.:     0   3rd Qu.:     0.0   3rd Qu.: 214.6   3rd Qu.:109.780  \n",
       " Max.   :180000   Max.   :110000.0   Max.   :1003.2   Max.   :425.926  \n",
       " NA's   :217      NA's   :214        NA's   :141      NA's   :142      \n",
       " exp_tot_private    tot_flow_out       tot_flow_spouse     bank_savings     \n",
       " Min.   :  0.000   Min.   :-228.0769   Min.   :-269.286   Min.   :-312.500  \n",
       " 1st Qu.:  7.077   1st Qu.: -18.7903   1st Qu.: -19.881   1st Qu.:   0.000  \n",
       " Median : 16.533   Median :  -4.6296   Median :   0.000   Median :   0.000  \n",
       " Mean   : 27.213   Mean   :  -0.7628   Mean   :  -6.341   Mean   :   2.675  \n",
       " 3rd Qu.: 36.038   3rd Qu.:   1.3433   3rd Qu.:   8.798   3rd Qu.:   1.096  \n",
       " Max.   :214.092   Max.   :2160.0806   Max.   : 117.143   Max.   : 158.228  \n",
       " NA's   :142       NA's   :143         NA's   :190        NA's   :142       \n",
       " rosca_contrib     animal_savings      total_hours       investment     \n",
       " Min.   :  0.000   Min.   :   0.000   Min.   : 0.000   Min.   :   0.00  \n",
       " 1st Qu.:  2.542   1st Qu.:   0.000   1st Qu.: 3.704   1st Qu.:  12.81  \n",
       " Median : 12.778   Median :   0.000   Median : 5.717   Median :  86.37  \n",
       " Mean   : 29.230   Mean   :   9.960   Mean   : 6.149   Mean   : 353.18  \n",
       " 3rd Qu.: 31.339   3rd Qu.:   2.482   3rd Qu.: 8.346   3rd Qu.: 330.71  \n",
       " Max.   :657.143   Max.   :1142.857   Max.   :14.457   Max.   :8451.48  \n",
       " NA's   :142       NA's   :142        NA's   :143      NA's   :148      \n",
       " investment_t5        revenues        revenues_t5       opened_acct    \n",
       " Min.   :   0.00   Min.   :   0.00   Min.   :   0.00   Min.   :0.0000  \n",
       " 1st Qu.:  12.36   1st Qu.:  60.34   1st Qu.:  57.39   1st Qu.:0.0000  \n",
       " Median :  70.67   Median : 140.44   Median : 121.90   Median :0.0000  \n",
       " Mean   : 212.86   Mean   : 381.40   Mean   : 216.09   Mean   :0.4158  \n",
       " 3rd Qu.: 273.11   3rd Qu.: 375.50   3rd Qu.: 278.45   3rd Qu.:1.0000  \n",
       " Max.   :2965.31   Max.   :5634.65   Max.   :1496.00   Max.   :1.0000  \n",
       " NA's   :148       NA's   :151       NA's   :151                       \n",
       "   occupation   \n",
       " Min.   :1.000  \n",
       " 1st Qu.:2.000  \n",
       " Median :2.000  \n",
       " Mean   :1.842  \n",
       " 3rd Qu.:2.000  \n",
       " Max.   :3.000  \n",
       "                "
      ]
     },
     "metadata": {},
     "output_type": "display_data"
    }
   ],
   "source": [
    "library(foreign)\n",
    "d<-read.dta(\"TD5_database.dta\")\n",
    "summary(d)"
   ]
  },
  {
   "cell_type": "markdown",
   "metadata": {},
   "source": [
    "*Occupation* est la variable qui donne l'occupation des personnes : =1 si buda (homme taxi-bicyclette), =2 si femme vendeuse, =3 si homme vendeur. Transformer la variable en catégorie: \"Buda\", \"Vendeur Femme\", \"Vendeur Homme\"."
   ]
  },
  {
   "cell_type": "code",
   "execution_count": 2,
   "metadata": {},
   "outputs": [
    {
     "data": {
      "text/html": [
       "<ol class=list-inline>\n",
       "\t<li>'Buda'</li>\n",
       "\t<li>'Vendeur Femme'</li>\n",
       "\t<li>'Vendeur Homme'</li>\n",
       "</ol>\n"
      ],
      "text/latex": [
       "\\begin{enumerate*}\n",
       "\\item 'Buda'\n",
       "\\item 'Vendeur Femme'\n",
       "\\item 'Vendeur Homme'\n",
       "\\end{enumerate*}\n"
      ],
      "text/markdown": [
       "1. 'Buda'\n",
       "2. 'Vendeur Femme'\n",
       "3. 'Vendeur Homme'\n",
       "\n",
       "\n"
      ],
      "text/plain": [
       "[1] \"Buda\"          \"Vendeur Femme\" \"Vendeur Homme\""
      ]
     },
     "metadata": {},
     "output_type": "display_data"
    }
   ],
   "source": [
    "d$occupation<-factor(d$occupation, labels = c(\"Buda\",\"Vendeur Femme\",\"Vendeur Homme\"))\n",
    "levels(d$occupation)"
   ]
  },
  {
   "cell_type": "markdown",
   "metadata": {},
   "source": [
    "Combien de vendeuses, vendeurs et taxis ont été recensés au début de l'expérience et intégrés à notre échantillon initial (variable *occupation*) ? Quelle est leur proportion respective dans l'échantillon ? "
   ]
  },
  {
   "cell_type": "code",
   "execution_count": 3,
   "metadata": {},
   "outputs": [
    {
     "data": {
      "text/plain": [
       "\n",
       "         Buda Vendeur Femme Vendeur Homme \n",
       "           96           262            34 "
      ]
     },
     "metadata": {},
     "output_type": "display_data"
    },
    {
     "data": {
      "text/plain": [
       "\n",
       "         Buda Vendeur Femme Vendeur Homme \n",
       "   0.24489796    0.66836735    0.08673469 "
      ]
     },
     "metadata": {},
     "output_type": "display_data"
    }
   ],
   "source": [
    "table(d$occupation)\n",
    "prop.table(table(d$occupation))"
   ]
  },
  {
   "cell_type": "markdown",
   "metadata": {},
   "source": [
    "Ces individus sont ensuite affectés de manière aléatoire entre groupe de traitement et groupe de contrôle suivant une stratification par genre et occupation (homme/femme, et vendeur/taxi-bicyclette). \n",
    "\n",
    "a) Définir la stratification. Pourquoi stratifier l'échantillon par genre et occupation ? \n",
    "\n",
    "b) Combien a-t-on d'hommes taxi-bicyclette dans le groupe de traitement/contrôle (variables *occupation* et *treatment* ? Quelle est la proportion des hommes taxi dans le groupe de traitement ? Note: traitement = 1, contrôle = 0."
   ]
  },
  {
   "cell_type": "code",
   "execution_count": 4,
   "metadata": {},
   "outputs": [
    {
     "data": {
      "text/plain": [
       "               \n",
       "                  0   1\n",
       "  Buda           48  48\n",
       "  Vendeur Femme 132 130\n",
       "  Vendeur Homme  17  17"
      ]
     },
     "metadata": {},
     "output_type": "display_data"
    },
    {
     "data": {
      "text/plain": [
       "               \n",
       "                         0          1\n",
       "  Buda          0.12244898 0.12244898\n",
       "  Vendeur Femme 0.33673469 0.33163265\n",
       "  Vendeur Homme 0.04336735 0.04336735"
      ]
     },
     "metadata": {},
     "output_type": "display_data"
    },
    {
     "data": {
      "text/plain": [
       "               \n",
       "                         0          1\n",
       "  Buda          0.24365482 0.24615385\n",
       "  Vendeur Femme 0.67005076 0.66666667\n",
       "  Vendeur Homme 0.08629442 0.08717949"
      ]
     },
     "metadata": {},
     "output_type": "display_data"
    }
   ],
   "source": [
    "#b) Combien a-t-on d'hommes taxi-bicyclette dans le groupe de traitement/contrôle (variables *occupation* et *treatment* ?\n",
    "table(d$occupation,d$treatment) \n",
    "#proportion de chque groupe dans l'échantillon: attention ce n'est pas la réponse à la question mais ça montre bien la stratification.\n",
    "prop.table(table(d$occupation,d$treatment))\n",
    "#proportion des hommes taxi dans le groupe de traitement: c'est la réponse : 8%.\n",
    "prop.table(table(d$occupation,d$treatment),margin=2)"
   ]
  },
  {
   "cell_type": "markdown",
   "metadata": {},
   "source": [
    "### 2. Design de l'expérience \n",
    "Au groupe de traitement est donnée la possibilité d'ouvrir un compte épargne gratuitement (ce qui est normalement payant, et plutôt cher). Au groupe de contrôle n'est pas offerte cette possibilité. Ensuite, les individus des deux groupes reportent chaque jour pendant trois mois des informations détaillées sur leur revenu, leurs dépenses, les transferts monétaires, leurs heures de travail dans un livret."
   ]
  },
  {
   "cell_type": "markdown",
   "metadata": {},
   "source": [
    "Selon vous, quels sont les différents problèmes posés par le design de cette expérience ?"
   ]
  },
  {
   "cell_type": "markdown",
   "metadata": {},
   "source": [
    "En général, dans quel cas l'attrition pose-t-elle un problème ? Donner un exemple ici."
   ]
  },
  {
   "cell_type": "markdown",
   "metadata": {},
   "source": [
    "Calculer le taux d'attrition pour les femmes et les hommes, puis pour les femmes et les\n",
    "hommes par groupe de traitement/contrôle. On utilise pour cela la variable *bg_gender* qui vaut 1 si la personne est un homme, 0 sinon. On utilise aussi la variable *inlogs* qui vaut 1 si la personne a rempli son livret jusqu'au bout, 0 sinon. Commenter."
   ]
  },
  {
   "cell_type": "code",
   "execution_count": 7,
   "metadata": {},
   "outputs": [
    {
     "data": {
      "text/plain": [
       ", ,  = 0\n",
       "\n",
       "            \n",
       "             Female Male\n",
       "  Non rempli     36   26\n",
       "  Rempli         96   39\n",
       "\n",
       ", ,  = 1\n",
       "\n",
       "            \n",
       "             Female Male\n",
       "  Non rempli     56   24\n",
       "  Rempli         74   41\n"
      ]
     },
     "metadata": {},
     "output_type": "display_data"
    },
    {
     "data": {
      "text/plain": [
       "            \n",
       "                Female      Male\n",
       "  Non rempli 0.2727273 0.4000000\n",
       "  Rempli     0.7272727 0.6000000"
      ]
     },
     "metadata": {},
     "output_type": "display_data"
    },
    {
     "data": {
      "text/plain": [
       "            \n",
       "                Female      Male\n",
       "  Non rempli 0.4307692 0.3692308\n",
       "  Rempli     0.5692308 0.6307692"
      ]
     },
     "metadata": {},
     "output_type": "display_data"
    }
   ],
   "source": [
    "#Optionnel : on recode ces variables en facteurs pour avoir un beau tableau. \n",
    "d$bg_gender<-factor(d$bg_gender, labels=c(\"Female\",\"Male\"))\n",
    "d$inlogs<-factor(d$inlogs, labels=c(\"Non rempli\",\"Rempli\"))\n",
    "#Tableau\n",
    "table(d$inlogs,d$bg_gender,d$treatment) \n",
    "prop.table(table(d[d$treatment==0,]$inlogs,d[d$treatment==0,]$bg_gender), margin=2)\n",
    "prop.table(table(d[d$treatment==1,]$inlogs,d[d$treatment==1,]$bg_gender), margin=2)"
   ]
  },
  {
   "cell_type": "markdown",
   "metadata": {},
   "source": [
    "Comment vérifier que la procédure d'assignation aléatoire (randomization) n'est pas\n",
    "remise en cause par l'attrition ? Conduire ce test pour la sous-population des hommes\n",
    "qui ont rempli leur livret, puis des femmes. \n",
    "\n",
    "On devrait appliquer ce test à l'ensemble des variables de baseline : *bg_age*, *bg_married*, *bg_num_children*, *bg_educ*, *bg_rosca*, *bg_rosca_contrib_lyr*. **Mais pour être plus bref on fera le test sur deux variables : *bg_age*, et *bg_educ***. Conclure."
   ]
  },
  {
   "cell_type": "code",
   "execution_count": 11,
   "metadata": {},
   "outputs": [
    {
     "name": "stdout",
     "output_type": "stream",
     "text": [
      "         t          t \n",
      "-1.2280369  0.3365827 \n",
      "[1] 0.2211853 0.7369495\n",
      "         t          t \n",
      "-0.2729892 -2.6872280 \n",
      "[1] 0.785583043 0.008820165\n"
     ]
    }
   ],
   "source": [
    "#test pour les femmes sans attrition: on teste H0 égalité des moyennes entre groupes C/T (contre H1)\n",
    "#sous échantillon : d[d$bg_gender == \"Female\" & d$inlogs == \"Rempli\",]\n",
    "a<-t.test(bg_age ~ treatment, data=d[d$bg_gender == \"Female\" & d$inlogs == \"Rempli\",])\n",
    "b<-t.test(bg_educ ~ treatment, data=d[d$bg_gender == \"Female\" & d$inlogs == \"Rempli\",])\n",
    "print(c(a$statistic,b$statistic))\n",
    "print(c(a$p.value,b$p.value))\n",
    "#malgré l'attrition, les groupes sont toujours équilibrés (pas de différence de moyenne)\n",
    "\n",
    "#idem pour les hommes sans attrition\n",
    "#sous échantillon : d[d$bg_gender == \"Male\" & d$inlogs == \"Rempli\",]\n",
    "a<-t.test(bg_age ~ treatment, data=d[d$bg_gender == \"Male\" & d$inlogs == \"Rempli\",])\n",
    "b<-t.test(bg_educ ~ treatment, data=d[d$bg_gender == \"Male\" & d$inlogs == \"Rempli\",])\n",
    "print(c(a$statistic,b$statistic))\n",
    "print(c(a$p.value,b$p.value))\n",
    "#l'attrition n'a pas été aléatoire pour les hommes car le niveau d'éducation n'est plus le même en moyenne entre C et T"
   ]
  },
  {
   "cell_type": "markdown",
   "metadata": {},
   "source": [
    "On dispose de la variable d'ouverture du compte : *opened_acct* = 1 si le compte épargne a été ouvert par l'individu, 0 sinon. L'adhésion au traitement (ouverture effective d'un compte-épargne suite à assignation\n",
    "au traitement) est-elle parfaite ?"
   ]
  },
  {
   "cell_type": "code",
   "execution_count": null,
   "metadata": {},
   "outputs": [],
   "source": [
    "d$opened_acct<-factor(d$opened_acct, labels=c(\"Non ouvert\",\"Ouvert\"))\n",
    "table(d$opened_acct,d$treatment)\n",
    "prop.table(table(d$opened_acct,d$treatment),margin=2)"
   ]
  },
  {
   "cell_type": "markdown",
   "metadata": {},
   "source": [
    "On aurait souhaité imposer que tous les traités adoptent le compte épargne, tandis\n",
    "qu'aucun des individus du groupe de contrôle n'y ait accès. Quel est le problème que\n",
    "poserait une telle expérience ?"
   ]
  },
  {
   "cell_type": "markdown",
   "metadata": {},
   "source": [
    "### 3. Analyse des résultats\n",
    "\n",
    "On s'intéresse maintenant à l'effet du programme de gratuité du compte\n",
    "épargne sur le niveau d'épargne, et au delà sur le niveau d'investissement dans la microentreprise.\n",
    "\n",
    "Soient :\n",
    "- $Y_i$ la variable dépendante (niveau d'épargne : *bank_savings*, niveau d'investissement : *investment_t5*, nombre d'heures travaillées : *total_hours*, revenus de l'entreprise : *revenues_t5*) ;\n",
    "- $D_i$ une variable qui vaut 1 si l'individu a été assigné au groupe de traitement : *treatment*,\n",
    "- $X_i$ la matrice de l'ensemble des variables de contrôle : statut marital *bg_married*, nombre d'enfants *bg_num_children*, âge *bg_age*, alphabétisation *bg_kis_read*, et enfin les variables de stratification : hommes vendeurs *bg_malevendor*, taxi-bicyclettes\n",
    "*bg_boda*."
   ]
  },
  {
   "cell_type": "markdown",
   "metadata": {},
   "source": [
    "On se retreint au sous-échantillon des personnes qui ont rempli lelivret jusqu'à la fin (*inlogs*=\"Rempli\"). On estime d'abord un modèle très simple par MCO : $Y_{i} = \\alpha +  \\gamma D_{i} + \\epsilon_{i}$\n",
    "\n",
    "a) Mesure-t-on le TOT ou l'ITT ?\n",
    "\n",
    "b) Estimer avec comme variable dépendante l'épargne : *bank_savings*. Interpréter.\n",
    "\n",
    "c) Calculer le TOT. Est-ce logique qu'il soit plus élevé que l'ITT ?"
   ]
  },
  {
   "cell_type": "code",
   "execution_count": null,
   "metadata": {},
   "outputs": [],
   "source": [
    "#b) \n",
    "#attention on doit d'abord remplacer d par son sous-échantillon sans attrition !\n",
    "d <- subset(d,d$inlogs == \"Rempli\") \n",
    "# écrire ensuite la régression : on l'appelle lm1\n",
    "#lm1<-"
   ]
  },
  {
   "cell_type": "code",
   "execution_count": null,
   "metadata": {},
   "outputs": [],
   "source": [
    "#c)TOT=ITT/pi1-pi0\n",
    "coef(lm1)\n",
    "ITT <- coef(lm1)[2]\n",
    "\n",
    "pi<-data.frame(prop.table(table(d$opened_acct,d$treatment),margin=2))\n",
    "pi\n",
    "\n",
    "# calculer le TOT à partir de lm1 et de pi: \n",
    "#TOT<-"
   ]
  },
  {
   "cell_type": "markdown",
   "metadata": {},
   "source": [
    "On estime ensuite l'ITT avec un modèle linéaire multiple: $Y_{i} = \\alpha + X_{i} \\beta + \\gamma D_{i} + \\epsilon_{i}$. \n",
    "\n",
    "a) Pourquoi ajouter des variables de contrôle à la régression simple?"
   ]
  },
  {
   "cell_type": "markdown",
   "metadata": {},
   "source": [
    "b) Estimer (cf. ci-dessus pour définition de $X_i$) et interpréter. "
   ]
  },
  {
   "cell_type": "code",
   "execution_count": null,
   "metadata": {},
   "outputs": [],
   "source": [
    "#lm2<-\n",
    "#lm3<-\n",
    "#lm4<-\n",
    "#lm5<-"
   ]
  },
  {
   "cell_type": "markdown",
   "metadata": {},
   "source": [
    "<font color=green> \n",
    "    En moyenne, le groupe qui s'est vu offrir le compte épargne épargne près de 10 shillings de plus que l'autre par jour. Il investit 74 shillings de plus et gagne 62 shillings de plus par jour. L'épargne n'a pas d'impact sur le nombre d'heures travaillées.\n",
    "    </font>"
   ]
  },
  {
   "cell_type": "markdown",
   "metadata": {},
   "source": [
    "c) Ajouter \"femmes vendeurs\" ($bg\\_femalevendor$, soit la troisième catégorie de stratification avec hommes vendeurs et taxi-bicyclette) dans la matrice des variables de contrôle $X_{i}$. Que se passe-t-il? Pourquoi?"
   ]
  },
  {
   "cell_type": "code",
   "execution_count": null,
   "metadata": {},
   "outputs": [],
   "source": [
    "lm6<-lm(bank_savings~treatment+bg_married+bg_age+bg_educ+bg_num_children+bg_kis_read+bg_malevendor+bg_boda+bg_femalevendor, data=d)\n",
    "summary(lm6)"
   ]
  },
  {
   "cell_type": "markdown",
   "metadata": {},
   "source": [
    "Représentez côte à côte dans un graphique l'effet causal de la possibilité d'ouvrir un compte sur l'épargne, selon le modèle simple et le modèle multiple. "
   ]
  },
  {
   "cell_type": "code",
   "execution_count": null,
   "metadata": {},
   "outputs": [],
   "source": [
    "#on utilise lm1 pour extraire coef et intervalle:\n",
    "coef(lm1)\n",
    "confint(lm1)\n",
    "est1<-coef(lm1)[2]\n",
    "c1<-confint(lm1)[2,]\n",
    "\n",
    "#idem lm2:\n",
    "coef(lm2)\n",
    "confint(lm2)\n",
    "est2<-coef(lm2)[2]\n",
    "c2<-confint(lm2)[2,]"
   ]
  },
  {
   "cell_type": "code",
   "execution_count": null,
   "metadata": {},
   "outputs": [],
   "source": [
    "#création du data frame \n",
    "est <- data.frame(est=c(est1,est2),\n",
    "                    c_inf=c(c1[1],c2[1]),\n",
    "                    c_sup=c(c1[2],c2[2]),\n",
    "                    model=c(\"Modèle simple\",\"Modèle multiple\"))\n",
    "\n",
    "est"
   ]
  },
  {
   "cell_type": "code",
   "execution_count": null,
   "metadata": {},
   "outputs": [],
   "source": [
    "#graphique\n",
    "install.packages(\"ggplot2\")\n",
    "library(ggplot2)\n",
    "ggplot(est,aes(x=model,y=est))+ geom_point() +\n",
    "    geom_errorbar(aes(ymin=c_inf,ymax=c_sup),width=0.2) +\n",
    "    geom_hline(yintercept=0, color=\"red\") +\n",
    "    xlab(\"Modèles\") +\n",
    "    ylab(\"Effet de la possibilité d'ouvrir un compte sur le niveau d'épargne (en dollars)\")\n"
   ]
  },
  {
   "cell_type": "markdown",
   "metadata": {},
   "source": [
    "### 4. Réflexion\n",
    "\n",
    "Il s'avère que ce compte épargne n'est pas comme un compte standard : il ne rapporte pas d'intérêt, et il comporte même un coût de dépôt et de retrait ; pour ainsi dire, le taux d'intérêt\n",
    "réel est négatif ( !)\n",
    "\n",
    "Pourquoi utiliser ce compte dans ces conditions ? Au delà de l'étude de la causalité, l'économiste doit chercher à expliquer le mécanisme qui amène les individus à bénéficier d'un compte épargne même à taux d'intéret négatif.\n",
    "\n",
    "a) Selon vous, quelles peuvent être les motivations des individus pour épargner sur ce compte au lieu de réinvestir directement dans leur entreprise (ce qui leur éviterait le taux négatif) ?\n",
    "\n",
    "b) Selon vous, quelles peuvent être les motivations des individus pour épargner sur ce compte au lieu d'épargner chez soi ?"
   ]
  }
 ],
 "metadata": {
  "kernelspec": {
   "display_name": "R",
   "language": "R",
   "name": "ir"
  },
  "language_info": {
   "codemirror_mode": "r",
   "file_extension": ".r",
   "mimetype": "text/x-r-source",
   "name": "R",
   "pygments_lexer": "r",
   "version": "3.6.1"
  }
 },
 "nbformat": 4,
 "nbformat_minor": 2
}

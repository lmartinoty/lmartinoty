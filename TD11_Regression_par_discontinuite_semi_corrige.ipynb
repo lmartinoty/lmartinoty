{
 "cells": [
  {
   "cell_type": "markdown",
   "metadata": {},
   "source": [
    "# REGRESSION PAR DISCONTINUITE"
   ]
  },
  {
   "cell_type": "markdown",
   "metadata": {},
   "source": [
    "Cette application utilise les données de l'article de Basten et Betz (2013) : \"Beyond Work Ethic: Religion, Individual, and Political Preferences\", *American Economic Journal: Economic Policy*, 5(3):67-91.\n",
    "\n",
    "En 1904, Max Weber, dans son célèbre ouvrage L'éthique protestante et l'esprit du capitalisme (1904), situe l'essor du capitalisme dans la religion protestante. Selon son texte, à l'origine, la religion protestante voit dans l'enrichissement personnel le signe de l'élection divine. Cette recherche du signe électif par les protestants serait à l'origine d'une éthique bien particulière du travail, fondée sur l'effort, l'accumulation et le mérite personnel.\n",
    "\n",
    "On veut tester si la religion protestante a vraiment un impact sur l'éthique du travail (= l'importance donnée à l'effort au travail). \n",
    "\n",
    "Pour identifier l'effet causal du protestantisme sur l’éthique du travail, on s'intéresse au cas de la Suisse , au sein de laquelle coexistent des religions majoritaires différentes dans les différents cantons : protestantisme, ou catholicisme."
   ]
  },
  {
   "cell_type": "markdown",
   "metadata": {},
   "source": [
    "# 1. Introduction"
   ]
  },
  {
   "cell_type": "markdown",
   "metadata": {},
   "source": [
    "De manière générale, pourquoi est-il très difficile de mesurer l'impact causal d'une religion sur un résultat économique ? "
   ]
  },
  {
   "cell_type": "markdown",
   "metadata": {},
   "source": [
    "\n",
    "# 2 Données\n",
    "\n",
    "On ouvre les donnée : **TD11_weber.dta** :"
   ]
  },
  {
   "cell_type": "code",
   "execution_count": null,
   "metadata": {},
   "outputs": [],
   "source": [
    "library(foreign)\n",
    "d<-read.dta(\"TD11_weber.dta\")\n",
    "head(d)"
   ]
  },
  {
   "cell_type": "markdown",
   "metadata": {},
   "source": [
    "Voici le *codebook* :\n",
    "![](TD11_codebook.png)"
   ]
  },
  {
   "cell_type": "markdown",
   "metadata": {},
   "source": [
    "Quel est le niveau d'observation de la base de données (= à quoi correspond chaque ligne de la base de données) : individu ? municipalité ? canton ? pays ?"
   ]
  },
  {
   "cell_type": "markdown",
   "metadata": {},
   "source": [
    "Quelle est la mesure de la religion ? Comment peut-on mesurer l'éthique du travail ? "
   ]
  },
  {
   "cell_type": "markdown",
   "metadata": {},
   "source": [
    "Produire un graphique mettant en relation cette mesure de la religion (absisse) avec la mesure de préférence pour le loisir (ordonnée)."
   ]
  },
  {
   "cell_type": "code",
   "execution_count": null,
   "metadata": {},
   "outputs": [],
   "source": [
    "library(ggplot2)\n",
    "ggplot(d, aes(x=prot_share,y=pfl))+geom_point()"
   ]
  },
  {
   "cell_type": "markdown",
   "metadata": {},
   "source": [
    "Que constate-t-on ? Est-ce compatible avec la théorie de Weber selon laquelle les protestants ont une plus forte éthique du travail ?"
   ]
  },
  {
   "cell_type": "markdown",
   "metadata": {},
   "source": [
    "# 3. Stratégie d'identification\n",
    "\n",
    "Pour nous aider à définir une stratégie, voilà ce que nous savons sur la religion des différents cantons en Suisse : \n",
    "\n",
    "- Les cantons les plus ruraux et montagneux sont catholiques, les cantons les plus urbains sont protestants.\n",
    "- Les cantons germanophones sont protestants, les cantons francophones et italophones sont catholiques. \n",
    "- Les cantons qui étaient corporatistes (plus de mobilité sociale) ont plutôt choisi le protestantisme, les cantons avec aristocratie sont restés catholiques. "
   ]
  },
  {
   "cell_type": "markdown",
   "metadata": {},
   "source": [
    "Les auteurs pensent d'abord à comparer les préférences des municipalités suisses en fonction de leur pourcentage de protestants. Pourquoi est-ce une mauvaise idée ? "
   ]
  },
  {
   "cell_type": "markdown",
   "metadata": {},
   "source": [
    "Dans le sud-est de la Suisse d'aujourd'hui, il existe une région francophone homogène avant 1530, qui perd un conflit et se trouve partagée en deux : \n",
    "\n",
    "- une partie intègre un canton catholique : canton de Fribourg (127 municipalités), \n",
    "- une autre intègre de force un canton protestant : canton de Vaud (382 municipalités). \n",
    "\n",
    "a) Quelle stratégie d'identification proposeriez-vous ? "
   ]
  },
  {
   "cell_type": "markdown",
   "metadata": {},
   "source": [
    "b) Quel est alors le traitement ? La variable dépendante ? "
   ]
  },
  {
   "cell_type": "markdown",
   "metadata": {},
   "source": [
    "c) Quand a eu lieu l'assignation au traitement ? A priori, l'adhésion est-elle parfaite ? "
   ]
  },
  {
   "cell_type": "markdown",
   "metadata": {},
   "source": [
    "d) En conséquence, quel modèle estimeriez vous, avec quel estimateur ?"
   ]
  },
  {
   "cell_type": "markdown",
   "metadata": {},
   "source": [
    "e) Il s'avère que nos données **TD11_weber** se concentrent justement déjà sur l'ensemble des municipalités du canton de Vaud et de Fribourg. Estimer le modèle que vous proposez. "
   ]
  },
  {
   "cell_type": "code",
   "execution_count": null,
   "metadata": {},
   "outputs": [],
   "source": [
    "##si l'éadhésion avait été parfaite : \n",
    "#simple2<-lm(pfl~vaud,data=d)\n",
    "#summary(simple2)\n",
    "\n",
    "#comme l'adhésion est imparfaite : \n",
    "library(AER)\n",
    "iv<-ivreg(pfl~prot_share|vaud,data=d)\n",
    "summary(iv)"
   ]
  },
  {
   "cell_type": "markdown",
   "metadata": {},
   "source": [
    "# 3. Estimation : régression par discontinuité"
   ]
  },
  {
   "cell_type": "markdown",
   "metadata": {},
   "source": [
    "Les chercheurs remarquent que malgré leur homogénéité de prime abord, les cantons de Fribourg et Vaud ont quand même des différences géographiques : l'un est plus montagneuse que l'autre. Or historiquement les régions montagneuses sont plus égalitaires en Suisse. Ceci pourrait biaiser les résultats. \n",
    "\n",
    "Les auteurs décident d'affiner encore leur stratégie et de se concentrer sur la frontière entre ces deux régions, et proposent une **régression par discontinuité spatiale**. "
   ]
  },
  {
   "cell_type": "markdown",
   "metadata": {},
   "source": [
    "### 3.1 Questions préliminaires"
   ]
  },
  {
   "cell_type": "markdown",
   "metadata": {},
   "source": [
    "Quel est le principe d'identification ?"
   ]
  },
  {
   "cell_type": "markdown",
   "metadata": {},
   "source": [
    "Quel est le seuil ? Quelle est la running variable ? Définir une fenêtre de votre choix autour du seuil. "
   ]
  },
  {
   "cell_type": "markdown",
   "metadata": {},
   "source": [
    "### 3.2 Sharp design\n",
    "\n",
    "On suppose d'abord que l'adhésion est parfaite : on imagine que les municipalités d'un côté de la frontière sont toutes à 100% protestantes, et de l'autre à 100% catholiques.\n",
    "\n",
    "On va donc estimer un modèle de régression par discontinuité *sharp*. On commence par l'estimer séparément d'un côté et de l'autre du seuil. "
   ]
  },
  {
   "cell_type": "code",
   "execution_count": null,
   "metadata": {},
   "outputs": [],
   "source": [
    "vaud0<-lm(pfl~borderdis,data=d[d$vaud==0 & d$borderdis<10 & d$borderdis>-10,])\n",
    "vaud1<-lm(pfl~borderdis,data=d[d$vaud==1 & d$borderdis<10 & d$borderdis>-10,])"
   ]
  },
  {
   "cell_type": "markdown",
   "metadata": {},
   "source": [
    "Puis on utilise les coefficients estimés pour calculer l'effet du protestantisme sur la préférence pour le loisir : "
   ]
  },
  {
   "cell_type": "code",
   "execution_count": null,
   "metadata": {},
   "outputs": [],
   "source": [
    "effet<-coef(vaud1)[1]-coef(vaud0)[1]\n",
    "effet"
   ]
  },
  {
   "cell_type": "markdown",
   "metadata": {},
   "source": [
    "Retrouvez ce même résultat en estimant le modèle en une seule équation."
   ]
  },
  {
   "cell_type": "code",
   "execution_count": null,
   "metadata": {},
   "outputs": [],
   "source": [
    "rdd_sharp<-lm(pfl~vaud+borderdis+vaud:borderdis,data=d[d$borderdis<10&d$borderdis>-10,])\n",
    "summary(rdd_sharp)"
   ]
  },
  {
   "cell_type": "markdown",
   "metadata": {},
   "source": [
    "Conclure."
   ]
  },
  {
   "cell_type": "markdown",
   "metadata": {},
   "source": [
    "### 3.3 Fuzzy design\n",
    "\n",
    "On sait que l'adhésion est imparfaite : en réalité, le design est *fuzzy*. Les communes nes sont pas toutes à 100% protestantes ou catholiques selon le côté de la frontière. Sachant cela, qu'a-t-on en fait estimé en 3.2 ? "
   ]
  },
  {
   "cell_type": "markdown",
   "metadata": {},
   "source": [
    "Estimer le modèle de régression fuzzy."
   ]
  },
  {
   "cell_type": "code",
   "execution_count": null,
   "metadata": {},
   "outputs": [],
   "source": [
    "library(AER)\n",
    "rdd_fuzzy<-ivreg(pfl~prot_share+borderdis+vaud:borderdis|vaud+borderdis+vaud:borderdis,data=d[d$borderdis<10&d$borderdis>-10,])\n",
    "summary(rdd_fuzzy)"
   ]
  },
  {
   "cell_type": "markdown",
   "metadata": {},
   "source": [
    "Conclure. "
   ]
  },
  {
   "cell_type": "markdown",
   "metadata": {},
   "source": [
    "# 4. Analyse graphique"
   ]
  },
  {
   "cell_type": "markdown",
   "metadata": {},
   "source": [
    "Grâce au cours, on sait que les régressions par discontinuité sont particulièrement parlantes lorsqu'on présente les résultats graphiquement. \n",
    "\n",
    "1) Que permet de montrer le graphique issu du code ci-dessous ?"
   ]
  },
  {
   "cell_type": "code",
   "execution_count": null,
   "metadata": {},
   "outputs": [],
   "source": [
    "library(ggplot2)\n",
    "d$Annee1530<-factor(d$vaud)\n",
    "levels(d$Annee1530)<-c(\"Catholique\",\"Protestant\")\n",
    "\n",
    "ggplot(d, aes(x = borderdis, y = prot_share,colour=Annee1530)) + \n",
    "  geom_point() + ylim(0,1) + stat_smooth(method = \"lm\")"
   ]
  },
  {
   "cell_type": "markdown",
   "metadata": {},
   "source": [
    "\n",
    "2) Produire un graphique dans le même esprit pour montrer l'effet de la décision de 1530 sur les scores aux référendas des différentes municipalités (=l'effet d'intention de traiter)."
   ]
  },
  {
   "cell_type": "code",
   "execution_count": null,
   "metadata": {},
   "outputs": [],
   "source": [
    "ggplot(d, aes(x = borderdis, y = pfl,colour=Annee1530)) + \n",
    "  geom_point() + ylim(25,60) + stat_smooth(method = \"lm\")"
   ]
  },
  {
   "cell_type": "markdown",
   "metadata": {},
   "source": [
    "3) Quel serait l'intérêt de produire le même graphique que (2) mais en remplaçant l'outcome et en utilisant des variables de contrôle à sa place, comme *income* ou encore *altitude* ?"
   ]
  },
  {
   "cell_type": "code",
   "execution_count": null,
   "metadata": {},
   "outputs": [],
   "source": [
    "#OPTIONNEL : \n",
    "ggplot(d, aes(x = borderdis, y = income,colour=Annee1530)) + \n",
    "  geom_point() + stat_smooth(method = \"lm\")\n",
    "ggplot(d, aes(x = borderdis, y = altitude,colour=Annee1530)) + \n",
    "  geom_point() + stat_smooth(method = \"lm\")"
   ]
  },
  {
   "cell_type": "markdown",
   "metadata": {},
   "source": [
    "4. Changer l'option de stat_smooth() **lm** par **loess**. Commentez."
   ]
  },
  {
   "cell_type": "code",
   "execution_count": null,
   "metadata": {},
   "outputs": [],
   "source": [
    "ggplot(d, aes(x = borderdis, y = prot_share,colour=Annee1530)) + \n",
    "  geom_point() + ylim(0,1) + stat_smooth(method = \"loess\")"
   ]
  },
  {
   "cell_type": "markdown",
   "metadata": {},
   "source": [
    "<font color=blue> NOTE: LOESS est une méthode de régression non paramétrique, qui permet de fitter des données de manière non linéaire. \n",
    "\n",
    "Extrait de définition sur WIKIPEDIA : La régression locale, ou LOESS, est une méthode de régression non paramétrique fortement connexe qui combine plusieurs modèles de régression multiple au sein d'un méta-modèle qui repose sur la méthode des k plus proches voisins. « LOESS » est un acronyme qui peut être compris comme signifiant, en anglais, « LOcally weighted Scatterplot Smoother ».\n",
    "\n",
    "La régression locale est une alternative possible aux méthodes habituelles de régression, comme la régression par les moindres carrés linéaire ou non linéaire, dans les cas où ces dernières s'avèrent mal adaptées. Elle combine la simplicité de régression linéaire par les moindres carrés avec la flexibilité de la régression non linéaire, en effectuant une régression simple sur des sous-ensembles locaux de données. L'un des principaux avantages de cette méthode est qu'elle rend inutile la définition d'une unique fonction globale qui décrirait le modèle de régression, puisque la méthode consiste à calculer autant de fonctions locales qu'il y a de segments de données. \n",
    "\n",
    "</font>"
   ]
  }
 ],
 "metadata": {
  "kernelspec": {
   "display_name": "R",
   "language": "R",
   "name": "ir"
  },
  "language_info": {
   "codemirror_mode": "r",
   "file_extension": ".r",
   "mimetype": "text/x-r-source",
   "name": "R",
   "pygments_lexer": "r",
   "version": "3.6.1"
  }
 },
 "nbformat": 4,
 "nbformat_minor": 2
}

{
 "cells": [
  {
   "cell_type": "markdown",
   "metadata": {},
   "source": [
    "# VARIABLES INSTRUMENTALES\n",
    "\n",
    "Cette application s'inspire étroitement du chapitre : \n",
    "\n",
    "https://www.econometrics-with-r.org/12-ivr.html qui est lui même un suppélment R au manuel de Stock et Watson (cf. bibliographie du cours). \n",
    "\n",
    "On cherche à savoir quel est l'impact de l'augmentation du prix du paquet de cigarette sur la consommation. \n",
    "\n",
    "Pour cela on utilise la base de données CigarettesSW du package AER, et on sélectionne un sous échantillon que l'on nomme d : "
   ]
  },
  {
   "cell_type": "code",
   "execution_count": 1,
   "metadata": {},
   "outputs": [
    {
     "name": "stdout",
     "output_type": "stream",
     "text": [
      "package 'AER' successfully unpacked and MD5 sums checked\n",
      "\n",
      "The downloaded binary packages are in\n",
      "\tC:\\Users\\lmartinoty\\AppData\\Local\\Temp\\RtmpCkXKg6\\downloaded_packages\n"
     ]
    },
    {
     "name": "stderr",
     "output_type": "stream",
     "text": [
      "Loading required package: car\n",
      "Loading required package: carData\n",
      "Loading required package: lmtest\n",
      "Loading required package: zoo\n",
      "\n",
      "Attaching package: 'zoo'\n",
      "\n",
      "The following objects are masked from 'package:base':\n",
      "\n",
      "    as.Date, as.Date.numeric\n",
      "\n",
      "Loading required package: sandwich\n",
      "Loading required package: survival\n"
     ]
    },
    {
     "data": {
      "text/html": [
       "'data.frame'"
      ],
      "text/latex": [
       "'data.frame'"
      ],
      "text/markdown": [
       "'data.frame'"
      ],
      "text/plain": [
       "[1] \"data.frame\""
      ]
     },
     "metadata": {},
     "output_type": "display_data"
    },
    {
     "data": {
      "text/html": [
       "<table>\n",
       "<thead><tr><th></th><th scope=col>state</th><th scope=col>year</th><th scope=col>cpi</th><th scope=col>population</th><th scope=col>packs</th><th scope=col>income</th><th scope=col>tax</th><th scope=col>price</th><th scope=col>taxs</th></tr></thead>\n",
       "<tbody>\n",
       "\t<tr><th scope=row>49</th><td>AL       </td><td>1995     </td><td>1.524    </td><td> 4262731 </td><td>101.08543</td><td> 83903280</td><td>40.50000 </td><td>158.3713 </td><td>41.90467 </td></tr>\n",
       "\t<tr><th scope=row>50</th><td>AR       </td><td>1995     </td><td>1.524    </td><td> 2480121 </td><td>111.04297</td><td> 45995496</td><td>55.50000 </td><td>175.5425 </td><td>63.85917 </td></tr>\n",
       "\t<tr><th scope=row>51</th><td>AZ       </td><td>1995     </td><td>1.524    </td><td> 4306908 </td><td> 71.95417</td><td> 88870496</td><td>65.33333 </td><td>198.6075 </td><td>74.79082 </td></tr>\n",
       "\t<tr><th scope=row>52</th><td>CA       </td><td>1995     </td><td>1.524    </td><td>31493524 </td><td> 56.85931</td><td>771470144</td><td>61.00000 </td><td>210.5047 </td><td>74.77133 </td></tr>\n",
       "\t<tr><th scope=row>53</th><td>CO       </td><td>1995     </td><td>1.524    </td><td> 3738061 </td><td> 82.58292</td><td> 92946544</td><td>44.00000 </td><td>167.3500 </td><td>44.00000 </td></tr>\n",
       "\t<tr><th scope=row>54</th><td>CT       </td><td>1995     </td><td>1.524    </td><td> 3265293 </td><td> 79.47219</td><td>104315120</td><td>74.00000 </td><td>218.2805 </td><td>86.35550 </td></tr>\n",
       "</tbody>\n",
       "</table>\n"
      ],
      "text/latex": [
       "\\begin{tabular}{r|lllllllll}\n",
       "  & state & year & cpi & population & packs & income & tax & price & taxs\\\\\n",
       "\\hline\n",
       "\t49 & AL        & 1995      & 1.524     &  4262731  & 101.08543 &  83903280 & 40.50000  & 158.3713  & 41.90467 \\\\\n",
       "\t50 & AR        & 1995      & 1.524     &  2480121  & 111.04297 &  45995496 & 55.50000  & 175.5425  & 63.85917 \\\\\n",
       "\t51 & AZ        & 1995      & 1.524     &  4306908  &  71.95417 &  88870496 & 65.33333  & 198.6075  & 74.79082 \\\\\n",
       "\t52 & CA        & 1995      & 1.524     & 31493524  &  56.85931 & 771470144 & 61.00000  & 210.5047  & 74.77133 \\\\\n",
       "\t53 & CO        & 1995      & 1.524     &  3738061  &  82.58292 &  92946544 & 44.00000  & 167.3500  & 44.00000 \\\\\n",
       "\t54 & CT        & 1995      & 1.524     &  3265293  &  79.47219 & 104315120 & 74.00000  & 218.2805  & 86.35550 \\\\\n",
       "\\end{tabular}\n"
      ],
      "text/markdown": [
       "\n",
       "| <!--/--> | state | year | cpi | population | packs | income | tax | price | taxs |\n",
       "|---|---|---|---|---|---|---|---|---|---|\n",
       "| 49 | AL        | 1995      | 1.524     |  4262731  | 101.08543 |  83903280 | 40.50000  | 158.3713  | 41.90467  |\n",
       "| 50 | AR        | 1995      | 1.524     |  2480121  | 111.04297 |  45995496 | 55.50000  | 175.5425  | 63.85917  |\n",
       "| 51 | AZ        | 1995      | 1.524     |  4306908  |  71.95417 |  88870496 | 65.33333  | 198.6075  | 74.79082  |\n",
       "| 52 | CA        | 1995      | 1.524     | 31493524  |  56.85931 | 771470144 | 61.00000  | 210.5047  | 74.77133  |\n",
       "| 53 | CO        | 1995      | 1.524     |  3738061  |  82.58292 |  92946544 | 44.00000  | 167.3500  | 44.00000  |\n",
       "| 54 | CT        | 1995      | 1.524     |  3265293  |  79.47219 | 104315120 | 74.00000  | 218.2805  | 86.35550  |\n",
       "\n"
      ],
      "text/plain": [
       "   state year cpi   population packs     income    tax      price    taxs    \n",
       "49 AL    1995 1.524  4262731   101.08543  83903280 40.50000 158.3713 41.90467\n",
       "50 AR    1995 1.524  2480121   111.04297  45995496 55.50000 175.5425 63.85917\n",
       "51 AZ    1995 1.524  4306908    71.95417  88870496 65.33333 198.6075 74.79082\n",
       "52 CA    1995 1.524 31493524    56.85931 771470144 61.00000 210.5047 74.77133\n",
       "53 CO    1995 1.524  3738061    82.58292  92946544 44.00000 167.3500 44.00000\n",
       "54 CT    1995 1.524  3265293    79.47219 104315120 74.00000 218.2805 86.35550"
      ]
     },
     "metadata": {},
     "output_type": "display_data"
    }
   ],
   "source": [
    "install.packages(\"AER\")\n",
    "library(AER)\n",
    "d <- data(\"CigarettesSW\",package=\"AER\")\n",
    "d <- subset(CigarettesSW, year == \"1995\")\n",
    "class(d)\n",
    "head(d)"
   ]
  },
  {
   "cell_type": "markdown",
   "metadata": {},
   "source": [
    "Pour le codebook, on entre ?CigarettesSW :"
   ]
  },
  {
   "cell_type": "code",
   "execution_count": 2,
   "metadata": {},
   "outputs": [],
   "source": [
    "?CigarettesSW"
   ]
  },
  {
   "cell_type": "markdown",
   "metadata": {},
   "source": [
    "# 1. Régression simple\n",
    "\n",
    "Le plus simple est de commencer par estimer un modèle de base. On estime un modèle de régression de la demande $packs$ sur le prix $price$. \n",
    "\n",
    "On souhaite estimer **l'élasticité** de la demande au prix. Effectuer les transformations de données qui s'imposent."
   ]
  },
  {
   "cell_type": "code",
   "execution_count": 3,
   "metadata": {},
   "outputs": [
    {
     "data": {
      "text/html": [
       "<table>\n",
       "<thead><tr><th></th><th scope=col>state</th><th scope=col>year</th><th scope=col>cpi</th><th scope=col>population</th><th scope=col>packs</th><th scope=col>income</th><th scope=col>tax</th><th scope=col>price</th><th scope=col>taxs</th><th scope=col>lprice</th><th scope=col>lpacks</th></tr></thead>\n",
       "<tbody>\n",
       "\t<tr><th scope=row>49</th><td>AL       </td><td>1995     </td><td>1.524    </td><td> 4262731 </td><td>101.08543</td><td> 83903280</td><td>40.50000 </td><td>158.3713 </td><td>41.90467 </td><td>5.064943 </td><td>4.615966 </td></tr>\n",
       "\t<tr><th scope=row>50</th><td>AR       </td><td>1995     </td><td>1.524    </td><td> 2480121 </td><td>111.04297</td><td> 45995496</td><td>55.50000 </td><td>175.5425 </td><td>63.85917 </td><td>5.167881 </td><td>4.709917 </td></tr>\n",
       "\t<tr><th scope=row>51</th><td>AZ       </td><td>1995     </td><td>1.524    </td><td> 4306908 </td><td> 71.95417</td><td> 88870496</td><td>65.33333 </td><td>198.6075 </td><td>74.79082 </td><td>5.291331 </td><td>4.276029 </td></tr>\n",
       "\t<tr><th scope=row>52</th><td>CA       </td><td>1995     </td><td>1.524    </td><td>31493524 </td><td> 56.85931</td><td>771470144</td><td>61.00000 </td><td>210.5047 </td><td>74.77133 </td><td>5.349508 </td><td>4.040580 </td></tr>\n",
       "\t<tr><th scope=row>53</th><td>CO       </td><td>1995     </td><td>1.524    </td><td> 3738061 </td><td> 82.58292</td><td> 92946544</td><td>44.00000 </td><td>167.3500 </td><td>44.00000 </td><td>5.120087 </td><td>4.413803 </td></tr>\n",
       "\t<tr><th scope=row>54</th><td>CT       </td><td>1995     </td><td>1.524    </td><td> 3265293 </td><td> 79.47219</td><td>104315120</td><td>74.00000 </td><td>218.2805 </td><td>86.35550 </td><td>5.385781 </td><td>4.375407 </td></tr>\n",
       "</tbody>\n",
       "</table>\n"
      ],
      "text/latex": [
       "\\begin{tabular}{r|lllllllllll}\n",
       "  & state & year & cpi & population & packs & income & tax & price & taxs & lprice & lpacks\\\\\n",
       "\\hline\n",
       "\t49 & AL        & 1995      & 1.524     &  4262731  & 101.08543 &  83903280 & 40.50000  & 158.3713  & 41.90467  & 5.064943  & 4.615966 \\\\\n",
       "\t50 & AR        & 1995      & 1.524     &  2480121  & 111.04297 &  45995496 & 55.50000  & 175.5425  & 63.85917  & 5.167881  & 4.709917 \\\\\n",
       "\t51 & AZ        & 1995      & 1.524     &  4306908  &  71.95417 &  88870496 & 65.33333  & 198.6075  & 74.79082  & 5.291331  & 4.276029 \\\\\n",
       "\t52 & CA        & 1995      & 1.524     & 31493524  &  56.85931 & 771470144 & 61.00000  & 210.5047  & 74.77133  & 5.349508  & 4.040580 \\\\\n",
       "\t53 & CO        & 1995      & 1.524     &  3738061  &  82.58292 &  92946544 & 44.00000  & 167.3500  & 44.00000  & 5.120087  & 4.413803 \\\\\n",
       "\t54 & CT        & 1995      & 1.524     &  3265293  &  79.47219 & 104315120 & 74.00000  & 218.2805  & 86.35550  & 5.385781  & 4.375407 \\\\\n",
       "\\end{tabular}\n"
      ],
      "text/markdown": [
       "\n",
       "| <!--/--> | state | year | cpi | population | packs | income | tax | price | taxs | lprice | lpacks |\n",
       "|---|---|---|---|---|---|---|---|---|---|---|---|\n",
       "| 49 | AL        | 1995      | 1.524     |  4262731  | 101.08543 |  83903280 | 40.50000  | 158.3713  | 41.90467  | 5.064943  | 4.615966  |\n",
       "| 50 | AR        | 1995      | 1.524     |  2480121  | 111.04297 |  45995496 | 55.50000  | 175.5425  | 63.85917  | 5.167881  | 4.709917  |\n",
       "| 51 | AZ        | 1995      | 1.524     |  4306908  |  71.95417 |  88870496 | 65.33333  | 198.6075  | 74.79082  | 5.291331  | 4.276029  |\n",
       "| 52 | CA        | 1995      | 1.524     | 31493524  |  56.85931 | 771470144 | 61.00000  | 210.5047  | 74.77133  | 5.349508  | 4.040580  |\n",
       "| 53 | CO        | 1995      | 1.524     |  3738061  |  82.58292 |  92946544 | 44.00000  | 167.3500  | 44.00000  | 5.120087  | 4.413803  |\n",
       "| 54 | CT        | 1995      | 1.524     |  3265293  |  79.47219 | 104315120 | 74.00000  | 218.2805  | 86.35550  | 5.385781  | 4.375407  |\n",
       "\n"
      ],
      "text/plain": [
       "   state year cpi   population packs     income    tax      price    taxs    \n",
       "49 AL    1995 1.524  4262731   101.08543  83903280 40.50000 158.3713 41.90467\n",
       "50 AR    1995 1.524  2480121   111.04297  45995496 55.50000 175.5425 63.85917\n",
       "51 AZ    1995 1.524  4306908    71.95417  88870496 65.33333 198.6075 74.79082\n",
       "52 CA    1995 1.524 31493524    56.85931 771470144 61.00000 210.5047 74.77133\n",
       "53 CO    1995 1.524  3738061    82.58292  92946544 44.00000 167.3500 44.00000\n",
       "54 CT    1995 1.524  3265293    79.47219 104315120 74.00000 218.2805 86.35550\n",
       "   lprice   lpacks  \n",
       "49 5.064943 4.615966\n",
       "50 5.167881 4.709917\n",
       "51 5.291331 4.276029\n",
       "52 5.349508 4.040580\n",
       "53 5.120087 4.413803\n",
       "54 5.385781 4.375407"
      ]
     },
     "metadata": {},
     "output_type": "display_data"
    }
   ],
   "source": [
    "d$lprice<-log(d$price)\n",
    "d$lpacks<-log(d$packs)\n",
    "head(d)"
   ]
  },
  {
   "cell_type": "markdown",
   "metadata": {},
   "source": [
    "Estimer le modèle. Interpréter."
   ]
  },
  {
   "cell_type": "code",
   "execution_count": 4,
   "metadata": {
    "scrolled": true
   },
   "outputs": [
    {
     "data": {
      "text/plain": [
       "\n",
       "Call:\n",
       "lm(formula = d$lpacks ~ d$lprice)\n",
       "\n",
       "Residuals:\n",
       "     Min       1Q   Median       3Q      Max \n",
       "-0.64676 -0.09030  0.01787  0.11245  0.40779 \n",
       "\n",
       "Coefficients:\n",
       "            Estimate Std. Error t value Pr(>|t|)    \n",
       "(Intercept)  10.8500     1.1265   9.632 1.32e-12 ***\n",
       "d$lprice     -1.2131     0.2164  -5.604 1.13e-06 ***\n",
       "---\n",
       "Signif. codes:  0 '***' 0.001 '**' 0.01 '*' 0.05 '.' 0.1 ' ' 1\n",
       "\n",
       "Residual standard error: 0.1896 on 46 degrees of freedom\n",
       "Multiple R-squared:  0.4058,\tAdjusted R-squared:  0.3928 \n",
       "F-statistic: 31.41 on 1 and 46 DF,  p-value: 1.13e-06\n"
      ]
     },
     "metadata": {},
     "output_type": "display_data"
    }
   ],
   "source": [
    "simple<-lm(d$lpacks~d$lprice)\n",
    "summary(simple)"
   ]
  },
  {
   "cell_type": "markdown",
   "metadata": {},
   "source": [
    "<font color=green> Une hausse du prix de 1% est associée à une baisse de la demande de 1.21% Attention, pas de causalité à ce stade.</font>"
   ]
  },
  {
   "cell_type": "markdown",
   "metadata": {},
   "source": [
    "Jusque là, nous avons estimé nos modèles linéaires par MCO sans ajsuter nos écart-types pour l'hétéroscédasticité. Sur R il est possible de calculer des écart-type robustes de White en post-estimation par la ligne de commande : **coeftest(model, vcov = vcovHC, type = \"HC1\")**.\n",
    "\n",
    "Recaclulez les écart-types associés aux coefficients du modèle que nous venons d'estimer. Sont-ils plus ou moins élevés ? "
   ]
  },
  {
   "cell_type": "code",
   "execution_count": 5,
   "metadata": {},
   "outputs": [
    {
     "data": {
      "text/plain": [
       "\n",
       "t test of coefficients:\n",
       "\n",
       "            Estimate Std. Error t value  Pr(>|t|)    \n",
       "(Intercept) 10.85003    1.01678 10.6710 4.955e-14 ***\n",
       "d$lprice    -1.21306    0.19459 -6.2339 1.290e-07 ***\n",
       "---\n",
       "Signif. codes:  0 '***' 0.001 '**' 0.01 '*' 0.05 '.' 0.1 ' ' 1\n"
      ]
     },
     "metadata": {},
     "output_type": "display_data"
    }
   ],
   "source": [
    "coeftest(simple, vcov = vcovHC, type = \"HC1\")"
   ]
  },
  {
   "cell_type": "markdown",
   "metadata": {},
   "source": [
    "<font color=green> Ils sont moins élevés, ce qui veut dire que nous rejeterons H0 de nullité du coeff plus facilement. C'est loin d'être toujours le cas, le plus souvent ils sont plus élevés. </font>"
   ]
  },
  {
   "cell_type": "markdown",
   "metadata": {},
   "source": [
    "Pourquoi le coefficient est-il biaisé selon toute probabilité ?"
   ]
  },
  {
   "cell_type": "markdown",
   "metadata": {},
   "source": [
    "<font color=green> La relation entre la demande d'un bien et son prix est un problème classique en économie. \n",
    "\n",
    "En théorie, la question est simple : si le prix augmente, la demande baisse. \n",
    "- Cependant, en retour, le prix est également affecté par la demande (causalité inverse). \n",
    "- De plus, il est également affecté par l'offre, indissociable de la demande (variable omise). Ainsi la relation entre demande et prix ne dit que peu de choses sur l'effet causal du prix sur la demande. </font>"
   ]
  },
  {
   "cell_type": "markdown",
   "metadata": {},
   "source": [
    "# 2. Instrumentation : modèle simple\n",
    "\n",
    "La relation entre la demande d'un bien et son prix est un problème classique en économie. \n",
    "\n",
    "En théorie, la question est simple : si le prix augmente, la demande baisse. \n",
    "- Cependant, en retour, le prix est également affecté par la demande (causalité inverse). \n",
    "- De plus, il est également affecté par l'offre, indissociable de la demande (variable omise). Ainsi la relation entre demande et prix ne dit que peu de choses sur l'effet causal du prix sur la demande. \n",
    "\n",
    "Comment limiter le biais d'estimation ?\n",
    "\n",
    "C'est une question importante en économie de la santé. En effet, imaginons que l'on veuille limiter la mortalité liée au tabac, autrement dit faire baisser la consommation de cigarettes. Certains vont proposer une augmentation du prix du paquet pour faire diminuer la demande. Il est important de connaître précisément comment la demande va répondre.\n",
    "\n",
    "Or si je régresse la demande sur le prix j'obtiendrai une corrélation entre les deux. \n",
    "\n",
    "Si l'on veut connaître l'effet causal du prix sur la demande, il faut donc trouver un facteur : \n",
    "- qui affecte le prix mais qui n'est pas lié à la demande (enfin pas autrement qu'à travers le prix), \n",
    "- qui affecte le prix mais pas l'offre. \n",
    "\n",
    "**On réfléchit à un instrument pour le prix, et on propose la taxe à la consommation** (*sales tax* en anglais, TVA en français)."
   ]
  },
  {
   "cell_type": "markdown",
   "metadata": {},
   "source": [
    "### 2.1 Instrument : création et discussion "
   ]
  },
  {
   "cell_type": "markdown",
   "metadata": {},
   "source": [
    "On crée la variable *TVA*  à partir des variables disponibles. "
   ]
  },
  {
   "cell_type": "code",
   "execution_count": 6,
   "metadata": {},
   "outputs": [],
   "source": [
    "d$TVA<-d$taxs-d$tax"
   ]
  },
  {
   "cell_type": "markdown",
   "metadata": {},
   "source": [
    "Vérifiez graphiquement que cette taxe varie bien entre les différents Etats américains."
   ]
  },
  {
   "cell_type": "code",
   "execution_count": 7,
   "metadata": {},
   "outputs": [
    {
     "data": {
      "image/png": "[encoded data removed]",
      "text/plain": [
       "plot without title"
      ]
     },
     "metadata": {},
     "output_type": "display_data"
    }
   ],
   "source": [
    "library(ggplot2)\n",
    "ggplot(d, aes(x=state,y=TVA)) + geom_point()"
   ]
  },
  {
   "cell_type": "markdown",
   "metadata": {},
   "source": [
    "Expliquez pourquoi cette taxe peut être un bon instrument pour le prix du paquet."
   ]
  },
  {
   "cell_type": "markdown",
   "metadata": {},
   "source": [
    "<font color=green> \n",
    "- Pertinence : il est évident que la taxe a un impact sur le prix puisque la TVA est généralement retransmise par les industriels. \n",
    "- Exogénéité : on voit mal comment la TVA affecterait la demande autrement qu'à travers le prix du paquet.\n",
    "</font>"
   ]
  },
  {
   "cell_type": "markdown",
   "metadata": {},
   "source": [
    "### 2.2 Intuition : Estimation par étape\n",
    "\n",
    "Estimer la première étape (avec erreurs-types robustes). Quel signe s'attend-on à trouver ? Que penser du $R^2$ ?"
   ]
  },
  {
   "cell_type": "code",
   "execution_count": 8,
   "metadata": {},
   "outputs": [
    {
     "data": {
      "text/plain": [
       "\n",
       "t test of coefficients:\n",
       "\n",
       "             Estimate Std. Error  t value  Pr(>|t|)    \n",
       "(Intercept) 5.0378847  0.0289177 174.2147 < 2.2e-16 ***\n",
       "TVA         0.0201633  0.0031729   6.3549 8.489e-08 ***\n",
       "---\n",
       "Signif. codes:  0 '***' 0.001 '**' 0.01 '*' 0.05 '.' 0.1 ' ' 1\n"
      ]
     },
     "metadata": {},
     "output_type": "display_data"
    }
   ],
   "source": [
    "ivsimple_FS <- lm(lprice ~ TVA, data = d)\n",
    "coeftest(ivsimple_FS, vcov = vcovHC, type = \"HC1\")"
   ]
  },
  {
   "cell_type": "markdown",
   "metadata": {},
   "source": [
    "<font color=green> On remarque que la relation est bien positive et significative : plus les taxes sont élevées, plus les prix le sont. \n",
    "La taxe est donc bien répercutée aux consommateurs. \n",
    "\n",
    "On remarque que l'instrument peut être pertinent puisque le R2 est élevé : la variation des taxes peut rendre compte de 47% de la variation des prix. </font>"
   ]
  },
  {
   "cell_type": "markdown",
   "metadata": {},
   "source": [
    "Prédire le prix des cigarettes que l'on nommera *instrumented_lprice*."
   ]
  },
  {
   "cell_type": "code",
   "execution_count": 9,
   "metadata": {},
   "outputs": [],
   "source": [
    "d$instrumented_lprice <- ivsimple_FS$fitted.values"
   ]
  },
  {
   "cell_type": "markdown",
   "metadata": {},
   "source": [
    "Estimer la seconde étape (avec erreurs-types robustes) et conclure. "
   ]
  },
  {
   "cell_type": "code",
   "execution_count": 10,
   "metadata": {},
   "outputs": [
    {
     "data": {
      "text/plain": [
       "\n",
       "t test of coefficients:\n",
       "\n",
       "                    Estimate Std. Error t value  Pr(>|t|)    \n",
       "(Intercept)          10.1764     1.7377  5.8563 4.753e-07 ***\n",
       "instrumented_lprice  -1.0836     0.3337 -3.2472  0.002178 ** \n",
       "---\n",
       "Signif. codes:  0 '***' 0.001 '**' 0.01 '*' 0.05 '.' 0.1 ' ' 1\n"
      ]
     },
     "metadata": {},
     "output_type": "display_data"
    }
   ],
   "source": [
    "ivsimple_SS <- lm(lpacks ~ instrumented_lprice, data = d)\n",
    "coeftest(ivsimple_SS, vcov = vcovHC, type = \"HC1\")"
   ]
  },
  {
   "cell_type": "markdown",
   "metadata": {},
   "source": [
    "<font color=green> Quand le prix augmente de 1%, la demande baisse de 1,08%. </font>"
   ]
  },
  {
   "cell_type": "markdown",
   "metadata": {},
   "source": [
    "Retrouver ce résultat en estimant la forme réduite. *Indice : dans le modèle simple, l'estimateur par variable instrumentale est le rapport de la forme réduite sur la première étape.*"
   ]
  },
  {
   "cell_type": "code",
   "execution_count": 11,
   "metadata": {},
   "outputs": [
    {
     "data": {
      "text/html": [
       "<strong>TVA:</strong> -1.08358676430933"
      ],
      "text/latex": [
       "\\textbf{TVA:} -1.08358676430933"
      ],
      "text/markdown": [
       "**TVA:** -1.08358676430933"
      ],
      "text/plain": [
       "      TVA \n",
       "-1.083587 "
      ]
     },
     "metadata": {},
     "output_type": "display_data"
    }
   ],
   "source": [
    "ivsimple_RF <- lm(lpacks ~ TVA, data = d)\n",
    "RF_FS <- coef(ivsimple_RF)[2]/coef(ivsimple_FS)[2]\n",
    "RF_FS"
   ]
  },
  {
   "cell_type": "markdown",
   "metadata": {},
   "source": [
    "### 2.3 Estimation jointe des deux étapes par *ivreg*\n",
    "Il existe une commande sur R intégrant les deux étapes : **ivreg()** du package **AER**. En effet les deux étapes doivent être estimées de manière jointe car autrement, le fait que le prix soit une valeur prédite par un modèle est ignoré dans l'estimation des écarts-types. On remplace **lm()** par **ivreg(y~x|z,data=...)**. On estime le modèle directement par l'estimateur des variables instrumentales (et avec erreurs-types robustes)."
   ]
  },
  {
   "cell_type": "code",
   "execution_count": 12,
   "metadata": {},
   "outputs": [
    {
     "data": {
      "text/plain": [
       "\n",
       "t test of coefficients:\n",
       "\n",
       "            Estimate Std. Error t value Pr(>|t|)    \n",
       "(Intercept) 10.17643    1.66268  6.1205 1.91e-07 ***\n",
       "lprice      -1.08359    0.31892 -3.3977 0.001411 ** \n",
       "---\n",
       "Signif. codes:  0 '***' 0.001 '**' 0.01 '*' 0.05 '.' 0.1 ' ' 1\n"
      ]
     },
     "metadata": {},
     "output_type": "display_data"
    }
   ],
   "source": [
    "ivsimple<-ivreg(lpacks ~ lprice | TVA , data=d)\n",
    "coeftest(ivsimple, vcov = vcovHC, type = \"HC1\")"
   ]
  },
  {
   "cell_type": "markdown",
   "metadata": {},
   "source": [
    "# 3. Estimateur des variables instrumentales avec plusieurs variables"
   ]
  },
  {
   "cell_type": "markdown",
   "metadata": {},
   "source": [
    "### 3.1 Estimation\n",
    "\n",
    "On estime le modèle complet, c'est-à-dire le modèle comprenant également des variables de contrôle exogènes. \n",
    "\n",
    "*Indice : la structure est ivreg(y~x+w|z+w) avec x variables endogènes, w variables exogènes, z instruments.*"
   ]
  },
  {
   "cell_type": "code",
   "execution_count": 13,
   "metadata": {},
   "outputs": [
    {
     "data": {
      "text/plain": [
       "\n",
       "t test of coefficients:\n",
       "\n",
       "             Estimate Std. Error t value  Pr(>|t|)    \n",
       "(Intercept) 10.153224   1.606881  6.3186 1.049e-07 ***\n",
       "lprice      -1.003058   0.321948 -3.1156  0.003192 ** \n",
       "log(income) -0.021801   0.027334 -0.7976  0.429304    \n",
       "---\n",
       "Signif. codes:  0 '***' 0.001 '**' 0.01 '*' 0.05 '.' 0.1 ' ' 1\n"
      ]
     },
     "metadata": {},
     "output_type": "display_data"
    }
   ],
   "source": [
    "ivmultiple <- ivreg(lpacks ~ lprice + log(income) | log(income) + \n",
    "                    TVA, data = d)\n",
    "coeftest(ivmultiple, vcov = vcovHC, type = \"HC1\")"
   ]
  },
  {
   "cell_type": "markdown",
   "metadata": {},
   "source": [
    "### 3.2 Instrument faible : test de la pertinence"
   ]
  },
  {
   "cell_type": "markdown",
   "metadata": {},
   "source": [
    "Quel est le problème si notre instrument est faible ?"
   ]
  },
  {
   "cell_type": "markdown",
   "metadata": {},
   "source": [
    "<font color=green> \n",
    "Biais de variable omise : même un petit biais d’estimation dans la\n",
    "forme réduite sera amplifié lors de la réévaluation par la première\n",
    "étape.\n",
    "\n",
    "</font>"
   ]
  },
  {
   "cell_type": "markdown",
   "metadata": {},
   "source": [
    "Pour savoir si on a un problème d'instrument faible que calcule-t-on? Quelle est la règle de décision? "
   ]
  },
  {
   "cell_type": "markdown",
   "metadata": {},
   "source": [
    "<font color=green> \n",
    "    \n",
    "Statistique de Fischer de la première étape (égalité du coeff du modèle à 0). \n",
    "\n",
    "Régle de décision à la louche : si le Fstat de la première étape est\n",
    "inférieur à 10, alors les instruments sont faibles.\n",
    "\n",
    "</font>"
   ]
  },
  {
   "cell_type": "markdown",
   "metadata": {},
   "source": [
    "Réaliser l'estimation et le test ( Indice : le test se réalise avec **linearHypothesis(model,\"coeff=0\", vcov=vcovHC, type=\"HC1\")**. Conclure."
   ]
  },
  {
   "cell_type": "code",
   "execution_count": 14,
   "metadata": {},
   "outputs": [],
   "source": [
    "mod_relevance <- lm(lprice ~ TVA + log(income), data=d)"
   ]
  },
  {
   "cell_type": "code",
   "execution_count": 15,
   "metadata": {},
   "outputs": [
    {
     "ename": "ERROR",
     "evalue": "Error in linearHypothesis(mod_relevance1, \"TVA = 0\", vcov = vcovHC, type = \"HC1\"): objet 'mod_relevance1' introuvable\n",
     "output_type": "error",
     "traceback": [
      "Error in linearHypothesis(mod_relevance1, \"TVA = 0\", vcov = vcovHC, type = \"HC1\"): objet 'mod_relevance1' introuvable\nTraceback:\n",
      "1. linearHypothesis(mod_relevance1, \"TVA = 0\", vcov = vcovHC, type = \"HC1\")"
     ]
    }
   ],
   "source": [
    "linearHypothesis(mod_relevance1, \n",
    "                 \"TVA = 0\", \n",
    "                 vcov = vcovHC, type = \"HC1\")"
   ]
  },
  {
   "cell_type": "markdown",
   "metadata": {},
   "source": [
    "Plutôt que se fatiguer, on peut obtenir le test directement avec l'option de **summary()**: **diagnostics=TRUE**. Vérifier le résultat précédent.  "
   ]
  },
  {
   "cell_type": "code",
   "execution_count": null,
   "metadata": {},
   "outputs": [],
   "source": [
    "summary(ivmultiple, diagnostics = TRUE, vcov = vcovHC, type = \"HC1\")"
   ]
  },
  {
   "cell_type": "markdown",
   "metadata": {},
   "source": [
    "# 4. Estimateur des variables instrumentales avec plusieurs variables et plusieurs intruments"
   ]
  },
  {
   "cell_type": "markdown",
   "metadata": {},
   "source": [
    "### 4.1 Estimation\n",
    "\n",
    "On a un second instrument : les taxes spécifiques sur les cigarettes : *tax*. Estimer le modèle multiple avec deux instruments par l'estimateur des variables instrumentales, et comparer avec le résultat de 3.1. "
   ]
  },
  {
   "cell_type": "code",
   "execution_count": null,
   "metadata": {},
   "outputs": [],
   "source": [
    "ivmultiple2 <- ivreg(lpacks ~ lprice + log(income) | \n",
    "                    log(income) + TVA + tax, data = d)\n",
    "coeftest(ivmultiple2, vcov = vcovHC, type = \"HC1\")"
   ]
  },
  {
   "cell_type": "markdown",
   "metadata": {},
   "source": [
    "<font color=green> Coefficient plus élevé (Elasticité de 1.09 contre 1.00). Ecart-type plus faible (0.19 contre 0.32) donc davantage de précision avec ce modèle. On garde ce modèle **SI et seulement si les deux instruments sont valides bien sûr**. </font>"
   ]
  },
  {
   "cell_type": "markdown",
   "metadata": {},
   "source": [
    "### 4.2 Test de suridentification : test de l'exogénéité\n",
    "\n"
   ]
  },
  {
   "cell_type": "markdown",
   "metadata": {},
   "source": [
    "En quoi consiste le test de suridentification ?"
   ]
  },
  {
   "cell_type": "markdown",
   "metadata": {},
   "source": [
    "<font color=green> One crucial property of instruments is that they ought to be uncorrelated to the regression error terms $u$. Instrument exogeneity is set as the null hypothesis of this following test with the alternative hypothesis being that the instruments are endogenous. This test can only be applied if you have more instruments than endogenous variables. It is therefore sometimes also called the test for overidentifying restrictions.\n",
    "\n",
    "The test is rather simple to implement. Take the residuals from the 2SLS regression in 4.1 and use them as the dependent variable in a new regression in which you regress them on all exogenous explanatory variables and all instruments.\n",
    "\n",
    "If the instruments are valid (null hypothesis), they should be uncorrelated to these residuals and hence we apply the following $\\chi^2$ test. We use the $R^2$ of this regression and calculate $n*R^2$\n",
    "\n",
    "\n",
    "</font>"
   ]
  },
  {
   "cell_type": "markdown",
   "metadata": {},
   "source": [
    "Calculer la statistique de test. "
   ]
  },
  {
   "cell_type": "code",
   "execution_count": null,
   "metadata": {},
   "outputs": [],
   "source": [
    "sargan_reg <- lm(residuals(ivmultiple2) ~ log(income) + TVA + tax, data=d)\n",
    "sargan_reg_sum <- summary(sargan_reg)\n",
    "Sargan_test <- sargan_reg_sum$r.squared*nrow(d)\n",
    "Sargan_test"
   ]
  },
  {
   "cell_type": "markdown",
   "metadata": {},
   "source": [
    "Calculer la p-value associée (sous H0, la statistique suit une loi de Chi2 à (m-k) degrés de liberté)."
   ]
  },
  {
   "cell_type": "code",
   "execution_count": null,
   "metadata": {},
   "outputs": [],
   "source": [
    "#rappel : une pvalue est l'aire à la droite de la valeur calculée (sous H0, proba que la stat de test soit au moins égale à ce chiffre, ou supérieure)\n",
    "#degrés de liberté : m-k=nb d'instruments-nb de variabels instrumentées = 1 ici\n",
    "#pchisq() donne l'aire à GAUCHE du chi2 calculé : Sargan_test\n",
    "pchisq(Sargan_test,1)\n",
    "#nous souhaitons la valeur à droite du chi2 calculé : \n",
    "1-pchisq(Sargan_test,1)  "
   ]
  },
  {
   "cell_type": "markdown",
   "metadata": {},
   "source": [
    "Conclure. "
   ]
  },
  {
   "cell_type": "markdown",
   "metadata": {},
   "source": [
    "<font color=green> La pvalue est largement supérieure à 0.10 : on ne rejette pas H0. Les deux instruments sont exogènes (ou alors endogènes de la même manière...). </font>"
   ]
  },
  {
   "cell_type": "markdown",
   "metadata": {},
   "source": [
    "Vérifier que l'option **diagnostics** de **summary()** donne le même nombre (dans le tableau, c'est le 'Sargan test'). "
   ]
  },
  {
   "cell_type": "code",
   "execution_count": null,
   "metadata": {},
   "outputs": [],
   "source": [
    "summary(ivmultiple2, diagnostics=TRUE)"
   ]
  },
  {
   "cell_type": "markdown",
   "metadata": {},
   "source": [
    "# 5. Tableau de résultat : Pour produire un beau tableau"
   ]
  },
  {
   "cell_type": "markdown",
   "metadata": {},
   "source": [
    "### 5.1 Installer le package stargazer"
   ]
  },
  {
   "cell_type": "code",
   "execution_count": null,
   "metadata": {},
   "outputs": [],
   "source": [
    "install.packages(\"stargazer\")"
   ]
  },
  {
   "cell_type": "markdown",
   "metadata": {},
   "source": [
    "### 5.2 Charger la library stargazer"
   ]
  },
  {
   "cell_type": "code",
   "execution_count": null,
   "metadata": {},
   "outputs": [],
   "source": [
    "library(stargazer)"
   ]
  },
  {
   "cell_type": "markdown",
   "metadata": {},
   "source": [
    "### 5.3 Faire tourner ce code "
   ]
  },
  {
   "cell_type": "code",
   "execution_count": null,
   "metadata": {},
   "outputs": [],
   "source": [
    "# écarts-type robustes\n",
    "rob_se <- list(sqrt(diag(vcovHC(ivsimple,    type = \"HC1\"))),\n",
    "               sqrt(diag(vcovHC(ivmultiple,  type = \"HC1\"))),\n",
    "               sqrt(diag(vcovHC(ivmultiple2, type = \"HC1\"))))\n",
    "\n",
    "# tableau\n",
    "stargazer(ivsimple, ivmultiple,ivmultiple2,\n",
    "  header = FALSE, \n",
    "  type = \"text\",\n",
    "  omit.table.layout = \"n\",\n",
    "  digits = 3, \n",
    "  column.labels = c(\"Modèle simple\", \"Modèle multiple\", \"Modèle multiple <br> deux IV\"),\n",
    "  dep.var.labels.include = FALSE,\n",
    "  dep.var.caption = \"Dependent Variable: 1985-1995 Difference in Log per Pack Price\",\n",
    "  se = rob_se)"
   ]
  },
  {
   "cell_type": "markdown",
   "metadata": {},
   "source": [
    "### Remarque : On peut créer le tableau avec **type = \"html\"** (que l'on peut ouvrir avec word ensuite)"
   ]
  },
  {
   "cell_type": "markdown",
   "metadata": {},
   "source": [
    "<table style=\"text-align:center\"><tr><td colspan=\"4\" style=\"border-bottom: 1px solid black\"></td></tr><tr><td style=\"text-align:left\"></td><td colspan=\"3\">Dependent Variable: 1985-1995 Difference in Log per Pack Price</td></tr>\n",
    "<tr><td></td><td colspan=\"3\" style=\"border-bottom: 1px solid black\"></td></tr>\n",
    "<tr><td style=\"text-align:left\"></td><td>Modèle simple</td><td>Modèle multiple</td><td>Modèle multiple <br> deux IV</td></tr>\n",
    "<tr><td style=\"text-align:left\"></td><td>(1)</td><td>(2)</td><td>(3)</td></tr>\n",
    "<tr><td colspan=\"4\" style=\"border-bottom: 1px solid black\"></td></tr><tr><td style=\"text-align:left\">lprice</td><td>-1.084<sup>***</sup></td><td>-1.003<sup>***</sup></td><td>-1.093<sup>***</sup></td></tr>\n",
    "<tr><td style=\"text-align:left\"></td><td>(0.319)</td><td>(0.322)</td><td>(0.199)</td></tr>\n",
    "<tr><td style=\"text-align:left\"></td><td></td><td></td><td></td></tr>\n",
    "<tr><td style=\"text-align:left\">log(income)</td><td></td><td>-0.022</td><td>-0.019</td></tr>\n",
    "<tr><td style=\"text-align:left\"></td><td></td><td>(0.027)</td><td>(0.027)</td></tr>\n",
    "<tr><td style=\"text-align:left\"></td><td></td><td></td><td></td></tr>\n",
    "<tr><td style=\"text-align:left\">Constant</td><td>10.176<sup>***</sup></td><td>10.153<sup>***</sup></td><td>10.562<sup>***</sup></td></tr>\n",
    "<tr><td style=\"text-align:left\"></td><td>(1.663)</td><td>(1.607)</td><td>(1.044)</td></tr>\n",
    "<tr><td style=\"text-align:left\"></td><td></td><td></td><td></td></tr>\n",
    "<tr><td colspan=\"4\" style=\"border-bottom: 1px solid black\"></td></tr><tr><td style=\"text-align:left\">Observations</td><td>48</td><td>48</td><td>48</td></tr>\n",
    "<tr><td style=\"text-align:left\">R<sup>2</sup></td><td>0.401</td><td>0.402</td><td>0.408</td></tr>\n",
    "<tr><td style=\"text-align:left\">Adjusted R<sup>2</sup></td><td>0.388</td><td>0.376</td><td>0.382</td></tr>\n",
    "<tr><td style=\"text-align:left\">Residual Std. Error</td><td>0.190 (df = 46)</td><td>0.192 (df = 45)</td><td>0.191 (df = 45)</td></tr>\n",
    "<tr><td colspan=\"4\" style=\"border-bottom: 1px solid black\"></td></tr></table>"
   ]
  },
  {
   "cell_type": "markdown",
   "metadata": {},
   "source": [
    "On peut aussi avoir un format de tableau pour LaTex en remplaçant **type = \"text\"** par **type = \"latex\"**."
   ]
  }
 ],
 "metadata": {
  "kernelspec": {
   "display_name": "R",
   "language": "R",
   "name": "ir"
  },
  "language_info": {
   "codemirror_mode": "r",
   "file_extension": ".r",
   "mimetype": "text/x-r-source",
   "name": "R",
   "pygments_lexer": "r",
   "version": "3.6.1"
  }
 },
 "nbformat": 4,
 "nbformat_minor": 2
}

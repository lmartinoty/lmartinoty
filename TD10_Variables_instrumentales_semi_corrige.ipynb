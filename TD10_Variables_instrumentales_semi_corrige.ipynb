{
 "cells": [
  {
   "cell_type": "markdown",
   "metadata": {},
   "source": [
    "# VARIABLES INSTRUMENTALES\n",
    "\n",
    "Cette application s'inspire étroitement du chapitre : \n",
    "\n",
    "https://www.econometrics-with-r.org/12-ivr.html qui est lui même un suppélment R au manuel de Stock et Watson (cf. bibliographie du cours). \n",
    "\n",
    "On cherche à savoir quel est l'impact de l'augmentation du prix du paquet de cigarette sur la consommation. \n",
    "\n",
    "Pour cela on utilise la base de données CigarettesSW du package AER, et on sélectionne un sous échantillon que l'on nomme d : "
   ]
  },
  {
   "cell_type": "code",
   "execution_count": null,
   "metadata": {},
   "outputs": [],
   "source": [
    "install.packages(\"AER\")\n",
    "library(AER)\n",
    "d <- data(\"CigarettesSW\",package=\"AER\")\n",
    "d <- subset(CigarettesSW, year == \"1995\")\n",
    "class(d)\n",
    "head(d)"
   ]
  },
  {
   "cell_type": "markdown",
   "metadata": {},
   "source": [
    "Pour le codebook, on entre ?CigarettesSW :"
   ]
  },
  {
   "cell_type": "code",
   "execution_count": null,
   "metadata": {},
   "outputs": [],
   "source": [
    "?CigarettesSW"
   ]
  },
  {
   "cell_type": "markdown",
   "metadata": {},
   "source": [
    "# 1. Régression simple\n",
    "\n",
    "Le plus simple est de commencer par estimer un modèle de base. On estime un modèle de régression de la demande $packs$ sur le prix $price$. \n",
    "\n",
    "On souhaite estimer **l'élasticité** de la demande au prix. Effectuer les transformations de données qui s'imposent."
   ]
  },
  {
   "cell_type": "code",
   "execution_count": null,
   "metadata": {},
   "outputs": [],
   "source": [
    "d$lprice<-log(d$price)\n",
    "d$lpacks<-log(d$packs)\n",
    "head(d)"
   ]
  },
  {
   "cell_type": "markdown",
   "metadata": {},
   "source": [
    "Estimer le modèle. Interpréter."
   ]
  },
  {
   "cell_type": "code",
   "execution_count": null,
   "metadata": {
    "scrolled": true
   },
   "outputs": [],
   "source": [
    "simple<-lm(d$lpacks~d$lprice)\n",
    "summary(simple)"
   ]
  },
  {
   "cell_type": "markdown",
   "metadata": {},
   "source": [
    "Jusque là, nous avons estimé nos modèles linéaires par MCO sans ajsuter nos écart-types pour l'hétéroscédasticité. Sur R il est possible de calculer des écart-type robustes de White en post-estimation par la ligne de commande : **coeftest(model, vcov = vcovHC, type = \"HC1\")**.\n",
    "\n",
    "Recaclulez les écart-types associés aux coefficients du modèle que nous venons d'estimer. Sont-ils plus ou moins élevés ? "
   ]
  },
  {
   "cell_type": "code",
   "execution_count": null,
   "metadata": {},
   "outputs": [],
   "source": [
    "coeftest(simple, vcov = vcovHC, type = \"HC1\")"
   ]
  },
  {
   "cell_type": "markdown",
   "metadata": {},
   "source": [
    "Pourquoi le coefficient est-il biaisé selon toute probabilité ?"
   ]
  },
  {
   "cell_type": "markdown",
   "metadata": {},
   "source": [
    "# 2. Instrumentation : modèle simple\n",
    "\n",
    "La relation entre la demande d'un bien et son prix est un problème classique en économie. \n",
    "\n",
    "En théorie, la question est simple : si le prix augmente, la demande baisse. \n",
    "- Cependant, en retour, le prix est également affecté par la demande (causalité inverse). \n",
    "- De plus, il est également affecté par l'offre, indissociable de la demande (variable omise). Ainsi la relation entre demande et prix ne dit que peu de choses sur l'effet causal du prix sur la demande. \n",
    "\n",
    "Comment limiter le biais d'estimation ?\n",
    "\n",
    "C'est une question importante en économie de la santé. En effet, imaginons que l'on veuille limiter la mortalité liée au tabac, autrement dit faire baisser la consommation de cigarettes. Certains vont proposer une augmentation du prix du paquet pour faire diminuer la demande. Il est important de connaître précisément comment la demande va répondre.\n",
    "\n",
    "Or si je régresse la demande sur le prix j'obtiendrai une corrélation entre les deux. \n",
    "\n",
    "Si l'on veut connaître l'effet causal du prix sur la demande, il faut donc trouver un facteur : \n",
    "- qui affecte le prix mais qui n'est pas lié à la demande (enfin pas autrement qu'à travers le prix), \n",
    "- qui affecte le prix mais pas l'offre. \n",
    "\n",
    "**On réfléchit à un instrument pour le prix, et on propose la taxe à la consommation** (*sales tax* en anglais, TVA en français)."
   ]
  },
  {
   "cell_type": "markdown",
   "metadata": {},
   "source": [
    "### 2.1 Instrument : création et discussion "
   ]
  },
  {
   "cell_type": "markdown",
   "metadata": {},
   "source": [
    "On crée la variable *TVA*  à partir des variables disponibles. "
   ]
  },
  {
   "cell_type": "code",
   "execution_count": null,
   "metadata": {},
   "outputs": [],
   "source": [
    "d$TVA<-d$taxs-d$tax"
   ]
  },
  {
   "cell_type": "markdown",
   "metadata": {},
   "source": [
    "Vérifiez graphiquement que cette taxe varie bien entre les différents Etats américains."
   ]
  },
  {
   "cell_type": "code",
   "execution_count": null,
   "metadata": {},
   "outputs": [],
   "source": [
    "library(ggplot2)\n",
    "ggplot(d, aes(x=state,y=TVA)) + geom_point()"
   ]
  },
  {
   "cell_type": "markdown",
   "metadata": {},
   "source": [
    "Expliquez pourquoi cette taxe peut être un bon instrument pour le prix du paquet."
   ]
  },
  {
   "cell_type": "markdown",
   "metadata": {},
   "source": [
    "### 2.2 Intuition : Estimation par étape\n",
    "\n",
    "Estimer la première étape (avec erreurs-types robustes). Quel signe s'attend-on à trouver ? Que penser du $R^2$ ?"
   ]
  },
  {
   "cell_type": "code",
   "execution_count": null,
   "metadata": {},
   "outputs": [],
   "source": [
    "ivsimple_FS <- lm(lprice ~ TVA, data = d)\n",
    "coeftest(ivsimple_FS, vcov = vcovHC, type = \"HC1\")"
   ]
  },
  {
   "cell_type": "markdown",
   "metadata": {},
   "source": [
    "Prédire le prix des cigarettes que l'on nommera *instrumented_lprice*."
   ]
  },
  {
   "cell_type": "code",
   "execution_count": null,
   "metadata": {},
   "outputs": [],
   "source": [
    "d$instrumented_lprice <- ivsimple_FS$fitted.values"
   ]
  },
  {
   "cell_type": "markdown",
   "metadata": {},
   "source": [
    "Estimer la seconde étape (avec erreurs-types robustes) et conclure. "
   ]
  },
  {
   "cell_type": "code",
   "execution_count": null,
   "metadata": {},
   "outputs": [],
   "source": [
    "ivsimple_SS <- lm(lpacks ~ instrumented_lprice, data = d)\n",
    "coeftest(ivsimple_SS, vcov = vcovHC, type = \"HC1\")"
   ]
  },
  {
   "cell_type": "markdown",
   "metadata": {},
   "source": [
    "Retrouver ce résultat en estimant la forme réduite. *Indice : dans le modèle simple, l'estimateur par variable instrumentale est le rapport de la forme réduite sur la première étape.*"
   ]
  },
  {
   "cell_type": "code",
   "execution_count": null,
   "metadata": {},
   "outputs": [],
   "source": [
    "ivsimple_RF <- lm(lpacks ~ TVA, data = d)\n",
    "RF_FS <- coef(ivsimple_RF)[2]/coef(ivsimple_FS)[2]\n",
    "RF_FS"
   ]
  },
  {
   "cell_type": "markdown",
   "metadata": {},
   "source": [
    "### 2.3 Estimation jointe des deux étapes par *ivreg*\n",
    "Il existe une commande sur R intégrant les deux étapes : **ivreg()** du package **AER**. En effet les deux étapes doivent être estimées de manière jointe car autrement, le fait que le prix soit une valeur prédite par un modèle est ignoré dans l'estimation des écarts-types. On remplace **lm()** par **ivreg(y~x|z,data=...)**. On estime le modèle directement par l'estimateur des variables instrumentales (et avec erreurs-types robustes)."
   ]
  },
  {
   "cell_type": "code",
   "execution_count": null,
   "metadata": {},
   "outputs": [],
   "source": [
    "ivsimple<-ivreg(lpacks ~ lprice | TVA , data=d)\n",
    "coeftest(ivsimple, vcov = vcovHC, type = \"HC1\")"
   ]
  },
  {
   "cell_type": "markdown",
   "metadata": {},
   "source": [
    "# 3. Estimateur des variables instrumentales avec plusieurs variables"
   ]
  },
  {
   "cell_type": "markdown",
   "metadata": {},
   "source": [
    "### 3.1 Estimation\n",
    "\n",
    "On estime le modèle complet, c'est-à-dire le modèle comprenant également des variables de contrôle exogènes. \n",
    "\n",
    "*Indice : la structure est ivreg(y~x+w|z+w) avec x variables endogènes, w variables exogènes, z instruments.*"
   ]
  },
  {
   "cell_type": "code",
   "execution_count": null,
   "metadata": {},
   "outputs": [],
   "source": [
    "ivmultiple <- ivreg(lpacks ~ lprice + log(income) | log(income) + \n",
    "                    TVA, data = d)\n",
    "coeftest(ivmultiple, vcov = vcovHC, type = \"HC1\")"
   ]
  },
  {
   "cell_type": "markdown",
   "metadata": {},
   "source": [
    "### 3.2 Instrument faible : test de la pertinence"
   ]
  },
  {
   "cell_type": "markdown",
   "metadata": {},
   "source": [
    "Quel est le problème si notre instrument est faible ?"
   ]
  },
  {
   "cell_type": "markdown",
   "metadata": {},
   "source": [
    "Pour savoir si on a un problème d'instrument faible que calcule-t-on? Quelle est la règle de décision? "
   ]
  },
  {
   "cell_type": "markdown",
   "metadata": {},
   "source": [
    "Réaliser l'estimation et le test ( Indice : le test se réalise avec **linearHypothesis(model,\"coeff=0\", vcov=vcovHC, type=\"HC1\")**. Conclure."
   ]
  },
  {
   "cell_type": "code",
   "execution_count": null,
   "metadata": {},
   "outputs": [],
   "source": [
    "mod_relevance <- lm(lprice ~ TVA + log(income), data=d)"
   ]
  },
  {
   "cell_type": "code",
   "execution_count": null,
   "metadata": {},
   "outputs": [],
   "source": [
    "linearHypothesis(mod_relevance1, \n",
    "                 \"TVA = 0\", \n",
    "                 vcov = vcovHC, type = \"HC1\")"
   ]
  },
  {
   "cell_type": "markdown",
   "metadata": {},
   "source": [
    "Plutôt que se fatiguer, on peut obtenir le test directement avec l'option de **summary()**: **diagnostics=TRUE**. Vérifier le résultat précédent.  "
   ]
  },
  {
   "cell_type": "code",
   "execution_count": null,
   "metadata": {},
   "outputs": [],
   "source": [
    "summary(ivmultiple, diagnostics = TRUE, vcov = vcovHC, type = \"HC1\")"
   ]
  },
  {
   "cell_type": "markdown",
   "metadata": {},
   "source": [
    "# 4. Estimateur des variables instrumentales avec plusieurs variables et plusieurs intruments"
   ]
  },
  {
   "cell_type": "markdown",
   "metadata": {},
   "source": [
    "### 4.1 Estimation\n",
    "\n",
    "On a un second instrument : les taxes spécifiques sur les cigarettes : *tax*. Estimer le modèle multiple avec deux instruments par l'estimateur des variables instrumentales, et comparer avec le résultat de 3.1. "
   ]
  },
  {
   "cell_type": "code",
   "execution_count": null,
   "metadata": {},
   "outputs": [],
   "source": [
    "ivmultiple2 <- ivreg(lpacks ~ lprice + log(income) | \n",
    "                    log(income) + TVA + tax, data = d)\n",
    "coeftest(ivmultiple2, vcov = vcovHC, type = \"HC1\")"
   ]
  },
  {
   "cell_type": "markdown",
   "metadata": {},
   "source": [
    "### 4.2 Test de suridentification : test de l'exogénéité\n",
    "\n"
   ]
  },
  {
   "cell_type": "markdown",
   "metadata": {},
   "source": [
    "En quoi consiste le test de suridentification ?"
   ]
  },
  {
   "cell_type": "markdown",
   "metadata": {},
   "source": [
    "Calculer la statistique de test. "
   ]
  },
  {
   "cell_type": "code",
   "execution_count": null,
   "metadata": {},
   "outputs": [],
   "source": [
    "sargan_reg <- lm(residuals(ivmultiple2) ~ log(income) + TVA + tax, data=d)\n",
    "sargan_reg_sum <- summary(sargan_reg)\n",
    "Sargan_test <- sargan_reg_sum$r.squared*nrow(d)\n",
    "Sargan_test"
   ]
  },
  {
   "cell_type": "markdown",
   "metadata": {},
   "source": [
    "Calculer la p-value associée (sous H0, la statistique suit une loi de Chi2 à (m-k) degrés de liberté)."
   ]
  },
  {
   "cell_type": "code",
   "execution_count": null,
   "metadata": {},
   "outputs": [],
   "source": [
    "#rappel : une pvalue est l'aire à la droite de la valeur calculée (sous H0, proba que la stat de test soit au moins égale à ce chiffre, ou supérieure)\n",
    "#degrés de liberté : m-k=nb d'instruments-nb de variabels instrumentées = 1 ici\n",
    "#pchisq() donne l'aire à GAUCHE du chi2 calculé : Sargan_test\n",
    "pchisq(Sargan_test,1)\n",
    "#nous souhaitons la valeur à droite du chi2 calculé : \n",
    "1-pchisq(Sargan_test,1)  "
   ]
  },
  {
   "cell_type": "markdown",
   "metadata": {},
   "source": [
    "Conclure. "
   ]
  },
  {
   "cell_type": "markdown",
   "metadata": {},
   "source": [
    "Vérifier que l'option **diagnostics** de **summary()** donne le même nombre (dans le tableau, c'est le 'Sargan test'). "
   ]
  },
  {
   "cell_type": "code",
   "execution_count": null,
   "metadata": {},
   "outputs": [],
   "source": [
    "summary(ivmultiple2, diagnostics=TRUE)"
   ]
  },
  {
   "cell_type": "markdown",
   "metadata": {},
   "source": [
    "# 5. REMARQUE: Tableau de résultat : Pour produire un beau tableau"
   ]
  },
  {
   "cell_type": "markdown",
   "metadata": {},
   "source": [
    "### 5.1 Installer le package stargazer"
   ]
  },
  {
   "cell_type": "code",
   "execution_count": null,
   "metadata": {},
   "outputs": [],
   "source": [
    "install.packages(\"stargazer\")"
   ]
  },
  {
   "cell_type": "markdown",
   "metadata": {},
   "source": [
    "### 5.2 Charger la library stargazer"
   ]
  },
  {
   "cell_type": "code",
   "execution_count": null,
   "metadata": {},
   "outputs": [],
   "source": [
    "library(stargazer)"
   ]
  },
  {
   "cell_type": "markdown",
   "metadata": {},
   "source": [
    "### 5.3 Faire tourner ce code "
   ]
  },
  {
   "cell_type": "code",
   "execution_count": null,
   "metadata": {},
   "outputs": [],
   "source": [
    "# écarts-type robustes\n",
    "rob_se <- list(sqrt(diag(vcovHC(ivsimple,    type = \"HC1\"))),\n",
    "               sqrt(diag(vcovHC(ivmultiple,  type = \"HC1\"))),\n",
    "               sqrt(diag(vcovHC(ivmultiple2, type = \"HC1\"))))\n",
    "\n",
    "# tableau\n",
    "stargazer(ivsimple, ivmultiple,ivmultiple2,\n",
    "  header = FALSE, \n",
    "  type = \"text\",\n",
    "  omit.table.layout = \"n\",\n",
    "  digits = 3, \n",
    "  column.labels = c(\"Modèle simple\", \"Modèle multiple\", \"Modèle multiple <br> deux IV\"),\n",
    "  dep.var.labels.include = FALSE,\n",
    "  dep.var.caption = \"Dependent Variable: 1985-1995 Difference in Log per Pack Price\",\n",
    "  se = rob_se)"
   ]
  },
  {
   "cell_type": "markdown",
   "metadata": {},
   "source": [
    "### Remarque : On peut créer le tableau avec **type = \"html\"** (que l'on peut ouvrir avec word ensuite)"
   ]
  },
  {
   "cell_type": "markdown",
   "metadata": {},
   "source": [
    "<table style=\"text-align:center\"><tr><td colspan=\"4\" style=\"border-bottom: 1px solid black\"></td></tr><tr><td style=\"text-align:left\"></td><td colspan=\"3\">Dependent Variable: 1985-1995 Difference in Log per Pack Price</td></tr>\n",
    "<tr><td></td><td colspan=\"3\" style=\"border-bottom: 1px solid black\"></td></tr>\n",
    "<tr><td style=\"text-align:left\"></td><td>Modèle simple</td><td>Modèle multiple</td><td>Modèle multiple <br> deux IV</td></tr>\n",
    "<tr><td style=\"text-align:left\"></td><td>(1)</td><td>(2)</td><td>(3)</td></tr>\n",
    "<tr><td colspan=\"4\" style=\"border-bottom: 1px solid black\"></td></tr><tr><td style=\"text-align:left\">lprice</td><td>-1.084<sup>***</sup></td><td>-1.003<sup>***</sup></td><td>-1.093<sup>***</sup></td></tr>\n",
    "<tr><td style=\"text-align:left\"></td><td>(0.319)</td><td>(0.322)</td><td>(0.199)</td></tr>\n",
    "<tr><td style=\"text-align:left\"></td><td></td><td></td><td></td></tr>\n",
    "<tr><td style=\"text-align:left\">log(income)</td><td></td><td>-0.022</td><td>-0.019</td></tr>\n",
    "<tr><td style=\"text-align:left\"></td><td></td><td>(0.027)</td><td>(0.027)</td></tr>\n",
    "<tr><td style=\"text-align:left\"></td><td></td><td></td><td></td></tr>\n",
    "<tr><td style=\"text-align:left\">Constant</td><td>10.176<sup>***</sup></td><td>10.153<sup>***</sup></td><td>10.562<sup>***</sup></td></tr>\n",
    "<tr><td style=\"text-align:left\"></td><td>(1.663)</td><td>(1.607)</td><td>(1.044)</td></tr>\n",
    "<tr><td style=\"text-align:left\"></td><td></td><td></td><td></td></tr>\n",
    "<tr><td colspan=\"4\" style=\"border-bottom: 1px solid black\"></td></tr><tr><td style=\"text-align:left\">Observations</td><td>48</td><td>48</td><td>48</td></tr>\n",
    "<tr><td style=\"text-align:left\">R<sup>2</sup></td><td>0.401</td><td>0.402</td><td>0.408</td></tr>\n",
    "<tr><td style=\"text-align:left\">Adjusted R<sup>2</sup></td><td>0.388</td><td>0.376</td><td>0.382</td></tr>\n",
    "<tr><td style=\"text-align:left\">Residual Std. Error</td><td>0.190 (df = 46)</td><td>0.192 (df = 45)</td><td>0.191 (df = 45)</td></tr>\n",
    "<tr><td colspan=\"4\" style=\"border-bottom: 1px solid black\"></td></tr></table>"
   ]
  },
  {
   "cell_type": "markdown",
   "metadata": {},
   "source": [
    "On peut aussi avoir un format de tableau pour LaTex en remplaçant **type = \"text\"** par **type = \"latex\"**."
   ]
  }
 ],
 "metadata": {
  "kernelspec": {
   "display_name": "R",
   "language": "R",
   "name": "ir"
  },
  "language_info": {
   "codemirror_mode": "r",
   "file_extension": ".r",
   "mimetype": "text/x-r-source",
   "name": "R",
   "pygments_lexer": "r",
   "version": "3.6.1"
  }
 },
 "nbformat": 4,
 "nbformat_minor": 2
}

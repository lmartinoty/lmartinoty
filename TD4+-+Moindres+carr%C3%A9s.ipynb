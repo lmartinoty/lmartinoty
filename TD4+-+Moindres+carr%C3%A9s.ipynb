{
 "cells": [
  {
   "cell_type": "markdown",
   "metadata": {
    "deletable": true,
    "editable": true
   },
   "source": [
    "loops, mergind and appending, missing data"
   ]
  },
  {
   "cell_type": "markdown",
   "metadata": {
    "deletable": true,
    "editable": true
   },
   "source": [
    "### MOINDRES CARRES ORDINAIRES\n",
    "On commence par charger les mêmes données que dans le TD3, avec les mêmes codes strictement (à un petit détail près, cf. note en bas de code):"
   ]
  },
  {
   "cell_type": "code",
   "execution_count": 14,
   "metadata": {
    "collapsed": false,
    "deletable": true,
    "editable": true
   },
   "outputs": [
    {
     "data": {
      "text/html": [
       "<table>\n",
       "<thead><tr><th scope=col>year</th><th scope=col>age</th><th scope=col>gender</th><th scope=col>race</th><th scope=col>edu</th><th scope=col>south</th><th scope=col>income</th><th scope=col>partyid</th><th scope=col>interest</th><th scope=col>govtrust</th><th scope=col>abortion</th><th scope=col>demtherm</th></tr></thead>\n",
       "<tbody>\n",
       "\t<tr><td>1948                   </td><td>NA                     </td><td>1. Male                </td><td>1                      </td><td>NA                     </td><td>NA                     </td><td>3. 34 to 67 percentile </td><td>NA                     </td><td>NA                     </td><td>NA                     </td><td>NA                     </td><td>NA                     </td></tr>\n",
       "\t<tr><td>1948                   </td><td>NA                     </td><td>2. Female              </td><td>1                      </td><td>NA                     </td><td>NA                     </td><td>5. 96 to 100 percentile</td><td>NA                     </td><td>NA                     </td><td>NA                     </td><td>NA                     </td><td>NA                     </td></tr>\n",
       "\t<tr><td>1948                   </td><td>NA                     </td><td>2. Female              </td><td>1                      </td><td>NA                     </td><td>NA                     </td><td>4. 68 to 95 percentile </td><td>NA                     </td><td>NA                     </td><td>NA                     </td><td>NA                     </td><td>NA                     </td></tr>\n",
       "\t<tr><td>1948                   </td><td>NA                     </td><td>2. Female              </td><td>1                      </td><td>NA                     </td><td>NA                     </td><td>5. 96 to 100 percentile</td><td>NA                     </td><td>NA                     </td><td>NA                     </td><td>NA                     </td><td>NA                     </td></tr>\n",
       "\t<tr><td>1948                   </td><td>NA                     </td><td>1. Male                </td><td>1                      </td><td>NA                     </td><td>NA                     </td><td>4. 68 to 95 percentile </td><td>NA                     </td><td>NA                     </td><td>NA                     </td><td>NA                     </td><td>NA                     </td></tr>\n",
       "\t<tr><td>1948                   </td><td>NA                     </td><td>2. Female              </td><td>1                      </td><td>NA                     </td><td>NA                     </td><td>5. 96 to 100 percentile</td><td>NA                     </td><td>NA                     </td><td>NA                     </td><td>NA                     </td><td>NA                     </td></tr>\n",
       "</tbody>\n",
       "</table>\n"
      ],
      "text/latex": [
       "\\begin{tabular}{r|llllllllllll}\n",
       " year & age & gender & race & edu & south & income & partyid & interest & govtrust & abortion & demtherm\\\\\n",
       "\\hline\n",
       "\t 1948                    & NA                      & 1. Male                 & 1                       & NA                      & NA                      & 3. 34 to 67 percentile  & NA                      & NA                      & NA                      & NA                      & NA                     \\\\\n",
       "\t 1948                    & NA                      & 2. Female               & 1                       & NA                      & NA                      & 5. 96 to 100 percentile & NA                      & NA                      & NA                      & NA                      & NA                     \\\\\n",
       "\t 1948                    & NA                      & 2. Female               & 1                       & NA                      & NA                      & 4. 68 to 95 percentile  & NA                      & NA                      & NA                      & NA                      & NA                     \\\\\n",
       "\t 1948                    & NA                      & 2. Female               & 1                       & NA                      & NA                      & 5. 96 to 100 percentile & NA                      & NA                      & NA                      & NA                      & NA                     \\\\\n",
       "\t 1948                    & NA                      & 1. Male                 & 1                       & NA                      & NA                      & 4. 68 to 95 percentile  & NA                      & NA                      & NA                      & NA                      & NA                     \\\\\n",
       "\t 1948                    & NA                      & 2. Female               & 1                       & NA                      & NA                      & 5. 96 to 100 percentile & NA                      & NA                      & NA                      & NA                      & NA                     \\\\\n",
       "\\end{tabular}\n"
      ],
      "text/markdown": [
       "\n",
       "year | age | gender | race | edu | south | income | partyid | interest | govtrust | abortion | demtherm | \n",
       "|---|---|---|---|---|---|\n",
       "| 1948                    | NA                      | 1. Male                 | 1                       | NA                      | NA                      | 3. 34 to 67 percentile  | NA                      | NA                      | NA                      | NA                      | NA                      | \n",
       "| 1948                    | NA                      | 2. Female               | 1                       | NA                      | NA                      | 5. 96 to 100 percentile | NA                      | NA                      | NA                      | NA                      | NA                      | \n",
       "| 1948                    | NA                      | 2. Female               | 1                       | NA                      | NA                      | 4. 68 to 95 percentile  | NA                      | NA                      | NA                      | NA                      | NA                      | \n",
       "| 1948                    | NA                      | 2. Female               | 1                       | NA                      | NA                      | 5. 96 to 100 percentile | NA                      | NA                      | NA                      | NA                      | NA                      | \n",
       "| 1948                    | NA                      | 1. Male                 | 1                       | NA                      | NA                      | 4. 68 to 95 percentile  | NA                      | NA                      | NA                      | NA                      | NA                      | \n",
       "| 1948                    | NA                      | 2. Female               | 1                       | NA                      | NA                      | 5. 96 to 100 percentile | NA                      | NA                      | NA                      | NA                      | NA                      | \n",
       "\n",
       "\n"
      ],
      "text/plain": [
       "  year age gender    race edu south income                  partyid interest\n",
       "1 1948 NA  1. Male   1    NA  NA    3. 34 to 67 percentile  NA      NA      \n",
       "2 1948 NA  2. Female 1    NA  NA    5. 96 to 100 percentile NA      NA      \n",
       "3 1948 NA  2. Female 1    NA  NA    4. 68 to 95 percentile  NA      NA      \n",
       "4 1948 NA  2. Female 1    NA  NA    5. 96 to 100 percentile NA      NA      \n",
       "5 1948 NA  1. Male   1    NA  NA    4. 68 to 95 percentile  NA      NA      \n",
       "6 1948 NA  2. Female 1    NA  NA    5. 96 to 100 percentile NA      NA      \n",
       "  govtrust abortion demtherm\n",
       "1 NA       NA       NA      \n",
       "2 NA       NA       NA      \n",
       "3 NA       NA       NA      \n",
       "4 NA       NA       NA      \n",
       "5 NA       NA       NA      \n",
       "6 NA       NA       NA      "
      ]
     },
     "metadata": {},
     "output_type": "display_data"
    }
   ],
   "source": [
    "#ouverture des données:\n",
    "library(foreign) #pour ouvrir les données dta de version 14 ou inférieure\n",
    "anes <- read.dta(\"TD3_anescum_small_v12.dta\")\n",
    "\n",
    "#on garde seulement quelques variables et on les renomme pour plus de clarté:\n",
    "library(plyr)\n",
    "library(dplyr)\n",
    "anes <- anes %>% \n",
    "        dplyr::select(year = VCF0004,\n",
    "               age = VCF0101,\n",
    "               gender = VCF0104,\n",
    "               race = VCF0106,\n",
    "               edu = VCF0140,\n",
    "               south = VCF0113,\n",
    "               income = VCF0114,\n",
    "               partyid = VCF0301,\n",
    "               interest = VCF0310,\n",
    "               govtrust = VCF0604,\n",
    "               abortion = VCF0838,\n",
    "               demtherm = VCF0218)\n",
    "head(anes)\n",
    "\n",
    "#note: ici, \"select\" est précédé de \"dplyr::\". pourquoi ? car nous chargeons aussi le package \"arm\" qui a aussi sa propre fonction \"select\" et qui va venir dominer la fonction \"select\" du package \"dplyr\". \n",
    "#il faut donc préciser de quel package on nécessite la fonction \"select\""
   ]
  },
  {
   "cell_type": "markdown",
   "metadata": {
    "deletable": true,
    "editable": true
   },
   "source": [
    "En plus de **foreign**, **plyr**, **dplyr**, on va avoir besoin des packages : **ggplot2** et un nouveau package: **arm** qui permet de montrer les résultats MCO plus lisiblement et d'extraire les écart-types :"
   ]
  },
  {
   "cell_type": "code",
   "execution_count": 7,
   "metadata": {
    "collapsed": false,
    "deletable": true,
    "editable": true
   },
   "outputs": [
    {
     "name": "stderr",
     "output_type": "stream",
     "text": [
      "Loading required package: MASS\n",
      "\n",
      "Attaching package: ‘MASS’\n",
      "\n",
      "The following object is masked from ‘package:dplyr’:\n",
      "\n",
      "    select\n",
      "\n",
      "Loading required package: Matrix\n",
      "Loading required package: lme4\n",
      "\n",
      "arm (Version 1.9-3, built: 2016-11-21)\n",
      "\n",
      "Working directory is /workspace\n",
      "\n"
     ]
    }
   ],
   "source": [
    "library(arm)\n",
    "library(ggplot2)"
   ]
  },
  {
   "cell_type": "markdown",
   "metadata": {
    "deletable": true,
    "editable": true
   },
   "source": [
    "# 1. Modèle de régression simple\n",
    "Nous allons maintenant estimer un modèle simple par MCO et nous allons en donner une représentation graphique (de plus en plus courant). Un modèle simple est un modèle qui met en relation une variable dépendante y avec une explicative x."
   ]
  },
  {
   "cell_type": "markdown",
   "metadata": {
    "deletable": true,
    "editable": true
   },
   "source": [
    "### 1.1 Estimation\n",
    "Nous souhaitons savoir si les préférences pour les démocrates varient selon le genre. \n",
    "Commençons par regarder les variables:"
   ]
  },
  {
   "cell_type": "code",
   "execution_count": null,
   "metadata": {
    "collapsed": false,
    "deletable": true,
    "editable": true
   },
   "outputs": [],
   "source": [
    "#on recode gender\n",
    "levels(anes$gender)\n",
    "levels(anes$gender) <- c(NA, \"Homme\", \"Femme\")\n",
    "#on inspecte dermtherm et gender\n",
    "summary(anes$demtherm)\n",
    "summary(anes$gender)"
   ]
  },
  {
   "cell_type": "markdown",
   "metadata": {},
   "source": [
    "Nous régressons ensuite *gender* sur *demtherm* (qui varie de 0 à 100), grâce à **lm()** (lm(y~x))."
   ]
  },
  {
   "cell_type": "code",
   "execution_count": null,
   "metadata": {
    "collapsed": false,
    "deletable": true,
    "editable": true
   },
   "outputs": [],
   "source": [
    "#on régresse grâce à lm()\n",
    "lm1 <- lm(demtherm ~ gender, data = anes)\n",
    "display(lm1)"
   ]
  },
  {
   "cell_type": "markdown",
   "metadata": {},
   "source": [
    "### 1.2 Représentation graphique\n",
    "A partir de cette estimation on peut faire deux types de représentations graphiques: \n",
    "\n",
    "- l'effet moyen d'être une femme (relativement à l'homme)\n",
    "- l'opinion moyenne d'un homme et l'opinion moyenne d'une femme (la différence étant l'effet moyen d'être d'un genre plutôt que d'un autre)\n",
    "\n",
    "L'option 1 revient à représenter le coefficient de *gender* estimé par MCO. \n",
    "\n",
    "L'option 2 revient à représenter la valeur prédite moyenne de l'opinion des hommes d'un côté et des femmes de l'autre."
   ]
  },
  {
   "cell_type": "markdown",
   "metadata": {},
   "source": [
    "### 1.2.1  Option 1 : représenter le coefficient\n",
    "\n",
    "On peut extraire les coefficients avec **coef()**, les écart-types avec **se.coef()**, et l'intervalle de confiance avec **confint()**."
   ]
  },
  {
   "cell_type": "code",
   "execution_count": null,
   "metadata": {
    "collapsed": false
   },
   "outputs": [],
   "source": [
    "coef(lm1)"
   ]
  },
  {
   "cell_type": "code",
   "execution_count": null,
   "metadata": {
    "collapsed": false
   },
   "outputs": [],
   "source": [
    "coef(lm1)[2]"
   ]
  },
  {
   "cell_type": "code",
   "execution_count": null,
   "metadata": {
    "collapsed": false
   },
   "outputs": [],
   "source": [
    "se.coef(lm1)\n",
    "se.coef(lm1)[2]"
   ]
  },
  {
   "cell_type": "code",
   "execution_count": null,
   "metadata": {
    "collapsed": false
   },
   "outputs": [],
   "source": [
    "confint(lm1, level=0.95)[1]"
   ]
  },
  {
   "cell_type": "code",
   "execution_count": null,
   "metadata": {
    "collapsed": false
   },
   "outputs": [],
   "source": [
    "confint(lm1, level=0.95)"
   ]
  },
  {
   "cell_type": "markdown",
   "metadata": {},
   "source": [
    "On peut donc les utiiser pour créer un data frame avec toutes les informations nécessaires à contruire un graphique de notre résultat principal. Nous avons besoin: \n",
    "- du coefficient de 'gender'\n",
    "- de l'intervalle de confiance autour de ce coefficient\n",
    "- que nous devons intégrer un à dataframe"
   ]
  },
  {
   "cell_type": "code",
   "execution_count": null,
   "metadata": {
    "collapsed": false
   },
   "outputs": [],
   "source": [
    "#coefficient de gender\n",
    "coef(lm1)[2]\n",
    "#intervalle de confiance: \n",
    "intervgender<-coef(lm1)[2]+c(-1,1)*se.coef(lm1)[2]*1.96 #option1\n",
    "intervgender\n",
    "intervgender<-confint(lm1,level=0.95)[2,]  #option2\n",
    "intervgender\n",
    "#création du data frame:\n",
    "model1 <- data.frame(coef=coef(lm1)[2],\n",
    "                    borneinf=intervgender[1],\n",
    "                    bornesup=intervgender[2],\n",
    "                    model=\"Modèle simple\")\n",
    "#le dataframe crée:\n",
    "model1\n",
    "model1[1]"
   ]
  },
  {
   "cell_type": "markdown",
   "metadata": {},
   "source": [
    "On peut ensuite réaliser le graphique avec **ggplot()**."
   ]
  },
  {
   "cell_type": "code",
   "execution_count": null,
   "metadata": {
    "collapsed": false
   },
   "outputs": [],
   "source": [
    "ggplot(model1, aes(x=model,y=coef)) +\n",
    "    geom_point()"
   ]
  },
  {
   "cell_type": "markdown",
   "metadata": {},
   "source": [
    "On ajoute l'intervalle de confiance :"
   ]
  },
  {
   "cell_type": "code",
   "execution_count": null,
   "metadata": {
    "collapsed": false
   },
   "outputs": [],
   "source": [
    "ggplot(model1, aes(x=model,y=coef)) +\n",
    "    geom_point() + \n",
    "    geom_errorbar(aes(ymin = borneinf, ymax = bornesup), width = 0.1) \n",
    "    "
   ]
  },
  {
   "cell_type": "markdown",
   "metadata": {},
   "source": [
    "On change l'échelle de y pour améliorer la lecture du graphique:"
   ]
  },
  {
   "cell_type": "code",
   "execution_count": null,
   "metadata": {
    "collapsed": false
   },
   "outputs": [],
   "source": [
    "ggplot(model1, aes(x=model,y=coef)) +\n",
    "    geom_point() + \n",
    "    geom_errorbar(aes(ymin = borneinf, ymax = bornesup), width = 0.1) +\n",
    "    geom_hline(yintercept = 0, lty = 2, color = \"red\") "
   ]
  },
  {
   "cell_type": "markdown",
   "metadata": {},
   "source": [
    "On ajoute des labels aux axes :"
   ]
  },
  {
   "cell_type": "code",
   "execution_count": null,
   "metadata": {
    "collapsed": false
   },
   "outputs": [],
   "source": [
    "ggplot(model1, aes(x=model,y=coef)) +\n",
    "    geom_point() + \n",
    "    geom_errorbar(aes(ymin = borneinf, ymax = bornesup), width = 0.1) +\n",
    "    geom_hline(yintercept = 0, lty = 2, color = \"red\") +\n",
    "    xlab(\"\") +\n",
    "    ylab(\"Opinion des femmes sur le parti démocrate (relativement aux hommes)\")"
   ]
  },
  {
   "cell_type": "markdown",
   "metadata": {},
   "source": [
    "### 1.2.2 Option 2 : représenter la moyenne conditionnelle de la variable dépendante y selon les différentes catégories de x\n",
    "\n",
    "On extrait de l'estimation \"lm1\" les valeurs prédites du score pro démocrate du thermomètre, ainsi que l'intervalle de confiance autour de ces valeurs prédites. "
   ]
  },
  {
   "cell_type": "code",
   "execution_count": null,
   "metadata": {
    "collapsed": false
   },
   "outputs": [],
   "source": [
    "pred1 <- predict(lm1,\n",
    "                 newdata = data.frame(gender = c(\"Homme\", \"Femme\")),\n",
    "                 se.fit = T,\n",
    "                 interval = \"confidence\")"
   ]
  },
  {
   "cell_type": "markdown",
   "metadata": {},
   "source": [
    "Regardons ce que ça donne :"
   ]
  },
  {
   "cell_type": "code",
   "execution_count": null,
   "metadata": {
    "collapsed": false
   },
   "outputs": [],
   "source": [
    "pred1"
   ]
  },
  {
   "cell_type": "markdown",
   "metadata": {},
   "source": [
    "Ce qui nous intéresse se trouve dans $fit. On crée un nouveau dataframe *pred1* dans leuel on crée la variable *Genre* pour la légende du graphique :"
   ]
  },
  {
   "cell_type": "code",
   "execution_count": null,
   "metadata": {
    "collapsed": false
   },
   "outputs": [],
   "source": [
    "pred1 <- data.frame(pred1$fit, Genre = c(\"Hommes\", \"Femmes\"))\n",
    "pred1"
   ]
  },
  {
   "cell_type": "markdown",
   "metadata": {},
   "source": [
    "On peut maintenant représenter les coefficients graphiquement par **ggplot** et **geom_point()** :"
   ]
  },
  {
   "cell_type": "code",
   "execution_count": null,
   "metadata": {
    "collapsed": false
   },
   "outputs": [],
   "source": [
    "ggplot(pred1, aes(x = Genre, y = fit, color = Genre)) +\n",
    "    geom_point() "
   ]
  },
  {
   "cell_type": "markdown",
   "metadata": {},
   "source": [
    "On ajoute les intervalles de confiance (**geom_errorbar()**) et des labels aux axes (**xlab()** et **ylab()**) : "
   ]
  },
  {
   "cell_type": "code",
   "execution_count": null,
   "metadata": {
    "collapsed": false
   },
   "outputs": [],
   "source": [
    "\n",
    "ggplot(pred1, aes(x = Genre, y = fit, color = Genre)) +\n",
    "    geom_point() +\n",
    "    geom_errorbar(aes(ymin = lwr, ymax = upr), width = 0.1) +\n",
    "    xlab(\"\") +\n",
    "    ylab(\"Moyenne du score pro-démocrate (entre 0 et 100)\")"
   ]
  },
  {
   "cell_type": "markdown",
   "metadata": {},
   "source": [
    "Discussion: Que conclure ? Quelle est la relation entre le premier graphique et le second graphique ?"
   ]
  },
  {
   "cell_type": "markdown",
   "metadata": {},
   "source": [
    "# 2. Modèle de régression multiple\n",
    "On peut également estimer un modèle à plusieurs variables explicatives. On ajoute à notre modèle simple deux variables: *income* et *age*."
   ]
  },
  {
   "cell_type": "markdown",
   "metadata": {},
   "source": [
    "### 2.1 Estimation\n",
    "\n",
    "Avant toute chose on vérifie quelle est la nature des données, et on les inspecte pour vérifier que les variables manquantes sont bien encodées NA (not available)."
   ]
  },
  {
   "cell_type": "code",
   "execution_count": 16,
   "metadata": {
    "collapsed": false
   },
   "outputs": [
    {
     "data": {
      "text/html": [
       "'numeric'"
      ],
      "text/latex": [
       "'numeric'"
      ],
      "text/markdown": [
       "'numeric'"
      ],
      "text/plain": [
       "[1] \"numeric\""
      ]
     },
     "metadata": {},
     "output_type": "display_data"
    },
    {
     "data": {
      "text/html": [
       "'factor'"
      ],
      "text/latex": [
       "'factor'"
      ],
      "text/markdown": [
       "'factor'"
      ],
      "text/plain": [
       "[1] \"factor\""
      ]
     },
     "metadata": {},
     "output_type": "display_data"
    }
   ],
   "source": [
    "class(anes$age)\n",
    "class(anes$income)"
   ]
  },
  {
   "cell_type": "code",
   "execution_count": 17,
   "metadata": {
    "collapsed": false
   },
   "outputs": [
    {
     "data": {
      "text/html": [
       "<ol class=list-inline>\n",
       "\t<li>0</li>\n",
       "\t<li>17</li>\n",
       "\t<li>18</li>\n",
       "\t<li>19</li>\n",
       "\t<li>20</li>\n",
       "\t<li>21</li>\n",
       "\t<li>22</li>\n",
       "\t<li>23</li>\n",
       "\t<li>24</li>\n",
       "\t<li>25</li>\n",
       "\t<li>26</li>\n",
       "\t<li>27</li>\n",
       "\t<li>28</li>\n",
       "\t<li>29</li>\n",
       "\t<li>30</li>\n",
       "\t<li>31</li>\n",
       "\t<li>32</li>\n",
       "\t<li>33</li>\n",
       "\t<li>34</li>\n",
       "\t<li>35</li>\n",
       "\t<li>36</li>\n",
       "\t<li>37</li>\n",
       "\t<li>38</li>\n",
       "\t<li>39</li>\n",
       "\t<li>40</li>\n",
       "\t<li>41</li>\n",
       "\t<li>42</li>\n",
       "\t<li>43</li>\n",
       "\t<li>44</li>\n",
       "\t<li>45</li>\n",
       "\t<li>46</li>\n",
       "\t<li>47</li>\n",
       "\t<li>48</li>\n",
       "\t<li>49</li>\n",
       "\t<li>50</li>\n",
       "\t<li>51</li>\n",
       "\t<li>52</li>\n",
       "\t<li>53</li>\n",
       "\t<li>54</li>\n",
       "\t<li>55</li>\n",
       "\t<li>56</li>\n",
       "\t<li>57</li>\n",
       "\t<li>58</li>\n",
       "\t<li>59</li>\n",
       "\t<li>60</li>\n",
       "\t<li>61</li>\n",
       "\t<li>62</li>\n",
       "\t<li>63</li>\n",
       "\t<li>64</li>\n",
       "\t<li>65</li>\n",
       "\t<li>66</li>\n",
       "\t<li>67</li>\n",
       "\t<li>68</li>\n",
       "\t<li>69</li>\n",
       "\t<li>70</li>\n",
       "\t<li>71</li>\n",
       "\t<li>72</li>\n",
       "\t<li>73</li>\n",
       "\t<li>74</li>\n",
       "\t<li>75</li>\n",
       "\t<li>76</li>\n",
       "\t<li>77</li>\n",
       "\t<li>78</li>\n",
       "\t<li>79</li>\n",
       "\t<li>80</li>\n",
       "\t<li>81</li>\n",
       "\t<li>82</li>\n",
       "\t<li>83</li>\n",
       "\t<li>84</li>\n",
       "\t<li>85</li>\n",
       "\t<li>86</li>\n",
       "\t<li>87</li>\n",
       "\t<li>88</li>\n",
       "\t<li>89</li>\n",
       "\t<li>90</li>\n",
       "\t<li>91</li>\n",
       "\t<li>92</li>\n",
       "\t<li>93</li>\n",
       "\t<li>94</li>\n",
       "\t<li>95</li>\n",
       "\t<li>96</li>\n",
       "\t<li>97</li>\n",
       "\t<li>98</li>\n",
       "\t<li>99</li>\n",
       "</ol>\n"
      ],
      "text/latex": [
       "\\begin{enumerate*}\n",
       "\\item 0\n",
       "\\item 17\n",
       "\\item 18\n",
       "\\item 19\n",
       "\\item 20\n",
       "\\item 21\n",
       "\\item 22\n",
       "\\item 23\n",
       "\\item 24\n",
       "\\item 25\n",
       "\\item 26\n",
       "\\item 27\n",
       "\\item 28\n",
       "\\item 29\n",
       "\\item 30\n",
       "\\item 31\n",
       "\\item 32\n",
       "\\item 33\n",
       "\\item 34\n",
       "\\item 35\n",
       "\\item 36\n",
       "\\item 37\n",
       "\\item 38\n",
       "\\item 39\n",
       "\\item 40\n",
       "\\item 41\n",
       "\\item 42\n",
       "\\item 43\n",
       "\\item 44\n",
       "\\item 45\n",
       "\\item 46\n",
       "\\item 47\n",
       "\\item 48\n",
       "\\item 49\n",
       "\\item 50\n",
       "\\item 51\n",
       "\\item 52\n",
       "\\item 53\n",
       "\\item 54\n",
       "\\item 55\n",
       "\\item 56\n",
       "\\item 57\n",
       "\\item 58\n",
       "\\item 59\n",
       "\\item 60\n",
       "\\item 61\n",
       "\\item 62\n",
       "\\item 63\n",
       "\\item 64\n",
       "\\item 65\n",
       "\\item 66\n",
       "\\item 67\n",
       "\\item 68\n",
       "\\item 69\n",
       "\\item 70\n",
       "\\item 71\n",
       "\\item 72\n",
       "\\item 73\n",
       "\\item 74\n",
       "\\item 75\n",
       "\\item 76\n",
       "\\item 77\n",
       "\\item 78\n",
       "\\item 79\n",
       "\\item 80\n",
       "\\item 81\n",
       "\\item 82\n",
       "\\item 83\n",
       "\\item 84\n",
       "\\item 85\n",
       "\\item 86\n",
       "\\item 87\n",
       "\\item 88\n",
       "\\item 89\n",
       "\\item 90\n",
       "\\item 91\n",
       "\\item 92\n",
       "\\item 93\n",
       "\\item 94\n",
       "\\item 95\n",
       "\\item 96\n",
       "\\item 97\n",
       "\\item 98\n",
       "\\item 99\n",
       "\\end{enumerate*}\n"
      ],
      "text/markdown": [
       "1. 0\n",
       "2. 17\n",
       "3. 18\n",
       "4. 19\n",
       "5. 20\n",
       "6. 21\n",
       "7. 22\n",
       "8. 23\n",
       "9. 24\n",
       "10. 25\n",
       "11. 26\n",
       "12. 27\n",
       "13. 28\n",
       "14. 29\n",
       "15. 30\n",
       "16. 31\n",
       "17. 32\n",
       "18. 33\n",
       "19. 34\n",
       "20. 35\n",
       "21. 36\n",
       "22. 37\n",
       "23. 38\n",
       "24. 39\n",
       "25. 40\n",
       "26. 41\n",
       "27. 42\n",
       "28. 43\n",
       "29. 44\n",
       "30. 45\n",
       "31. 46\n",
       "32. 47\n",
       "33. 48\n",
       "34. 49\n",
       "35. 50\n",
       "36. 51\n",
       "37. 52\n",
       "38. 53\n",
       "39. 54\n",
       "40. 55\n",
       "41. 56\n",
       "42. 57\n",
       "43. 58\n",
       "44. 59\n",
       "45. 60\n",
       "46. 61\n",
       "47. 62\n",
       "48. 63\n",
       "49. 64\n",
       "50. 65\n",
       "51. 66\n",
       "52. 67\n",
       "53. 68\n",
       "54. 69\n",
       "55. 70\n",
       "56. 71\n",
       "57. 72\n",
       "58. 73\n",
       "59. 74\n",
       "60. 75\n",
       "61. 76\n",
       "62. 77\n",
       "63. 78\n",
       "64. 79\n",
       "65. 80\n",
       "66. 81\n",
       "67. 82\n",
       "68. 83\n",
       "69. 84\n",
       "70. 85\n",
       "71. 86\n",
       "72. 87\n",
       "73. 88\n",
       "74. 89\n",
       "75. 90\n",
       "76. 91\n",
       "77. 92\n",
       "78. 93\n",
       "79. 94\n",
       "80. 95\n",
       "81. 96\n",
       "82. 97\n",
       "83. 98\n",
       "84. 99\n",
       "\n",
       "\n"
      ],
      "text/plain": [
       " [1]  0 17 18 19 20 21 22 23 24 25 26 27 28 29 30 31 32 33 34 35 36 37 38 39 40\n",
       "[26] 41 42 43 44 45 46 47 48 49 50 51 52 53 54 55 56 57 58 59 60 61 62 63 64 65\n",
       "[51] 66 67 68 69 70 71 72 73 74 75 76 77 78 79 80 81 82 83 84 85 86 87 88 89 90\n",
       "[76] 91 92 93 94 95 96 97 98 99"
      ]
     },
     "metadata": {},
     "output_type": "display_data"
    },
    {
     "data": {
      "text/html": [
       "<ol class=list-inline>\n",
       "\t<li>'1. 0 to 16 percentile'</li>\n",
       "\t<li>'2. 17 to 33 percentile'</li>\n",
       "\t<li>'3. 34 to 67 percentile'</li>\n",
       "\t<li>'4. 68 to 95 percentile'</li>\n",
       "\t<li>'5. 96 to 100 percentile'</li>\n",
       "</ol>\n"
      ],
      "text/latex": [
       "\\begin{enumerate*}\n",
       "\\item '1. 0 to 16 percentile'\n",
       "\\item '2. 17 to 33 percentile'\n",
       "\\item '3. 34 to 67 percentile'\n",
       "\\item '4. 68 to 95 percentile'\n",
       "\\item '5. 96 to 100 percentile'\n",
       "\\end{enumerate*}\n"
      ],
      "text/markdown": [
       "1. '1. 0 to 16 percentile'\n",
       "2. '2. 17 to 33 percentile'\n",
       "3. '3. 34 to 67 percentile'\n",
       "4. '4. 68 to 95 percentile'\n",
       "5. '5. 96 to 100 percentile'\n",
       "\n",
       "\n"
      ],
      "text/plain": [
       "[1] \"1. 0 to 16 percentile\"   \"2. 17 to 33 percentile\" \n",
       "[3] \"3. 34 to 67 percentile\"  \"4. 68 to 95 percentile\" \n",
       "[5] \"5. 96 to 100 percentile\""
      ]
     },
     "metadata": {},
     "output_type": "display_data"
    }
   ],
   "source": [
    "sort(unique(anes$age))\n",
    "levels(anes$income)"
   ]
  },
  {
   "cell_type": "markdown",
   "metadata": {},
   "source": [
    "On voit que certaines personnes ont un âge de 0. On voit aussi que la catégorie 1 de *income* correspond en fait à de l'information manquante.\n",
    "\n",
    "Nous ne souhaitons pas que la régression tienne compte des observations pour lesquelles la valeur est en fait manquante. Pour cela, on effectue les modifications nécessaires concernant les valeurs manquantes : "
   ]
  },
  {
   "cell_type": "code",
   "execution_count": 18,
   "metadata": {
    "collapsed": false
   },
   "outputs": [
    {
     "data": {
      "text/html": [
       "<ol class=list-inline>\n",
       "\t<li>17</li>\n",
       "\t<li>18</li>\n",
       "\t<li>19</li>\n",
       "\t<li>20</li>\n",
       "\t<li>21</li>\n",
       "\t<li>22</li>\n",
       "\t<li>23</li>\n",
       "\t<li>24</li>\n",
       "\t<li>25</li>\n",
       "\t<li>26</li>\n",
       "\t<li>27</li>\n",
       "\t<li>28</li>\n",
       "\t<li>29</li>\n",
       "\t<li>30</li>\n",
       "\t<li>31</li>\n",
       "\t<li>32</li>\n",
       "\t<li>33</li>\n",
       "\t<li>34</li>\n",
       "\t<li>35</li>\n",
       "\t<li>36</li>\n",
       "\t<li>37</li>\n",
       "\t<li>38</li>\n",
       "\t<li>39</li>\n",
       "\t<li>40</li>\n",
       "\t<li>41</li>\n",
       "\t<li>42</li>\n",
       "\t<li>43</li>\n",
       "\t<li>44</li>\n",
       "\t<li>45</li>\n",
       "\t<li>46</li>\n",
       "\t<li>47</li>\n",
       "\t<li>48</li>\n",
       "\t<li>49</li>\n",
       "\t<li>50</li>\n",
       "\t<li>51</li>\n",
       "\t<li>52</li>\n",
       "\t<li>53</li>\n",
       "\t<li>54</li>\n",
       "\t<li>55</li>\n",
       "\t<li>56</li>\n",
       "\t<li>57</li>\n",
       "\t<li>58</li>\n",
       "\t<li>59</li>\n",
       "\t<li>60</li>\n",
       "\t<li>61</li>\n",
       "\t<li>62</li>\n",
       "\t<li>63</li>\n",
       "\t<li>64</li>\n",
       "\t<li>65</li>\n",
       "\t<li>66</li>\n",
       "\t<li>67</li>\n",
       "\t<li>68</li>\n",
       "\t<li>69</li>\n",
       "\t<li>70</li>\n",
       "\t<li>71</li>\n",
       "\t<li>72</li>\n",
       "\t<li>73</li>\n",
       "\t<li>74</li>\n",
       "\t<li>75</li>\n",
       "\t<li>76</li>\n",
       "\t<li>77</li>\n",
       "\t<li>78</li>\n",
       "\t<li>79</li>\n",
       "\t<li>80</li>\n",
       "\t<li>81</li>\n",
       "\t<li>82</li>\n",
       "\t<li>83</li>\n",
       "\t<li>84</li>\n",
       "\t<li>85</li>\n",
       "\t<li>86</li>\n",
       "\t<li>87</li>\n",
       "\t<li>88</li>\n",
       "\t<li>89</li>\n",
       "\t<li>90</li>\n",
       "\t<li>91</li>\n",
       "\t<li>92</li>\n",
       "\t<li>93</li>\n",
       "\t<li>94</li>\n",
       "\t<li>95</li>\n",
       "\t<li>96</li>\n",
       "\t<li>97</li>\n",
       "\t<li>98</li>\n",
       "\t<li>99</li>\n",
       "</ol>\n"
      ],
      "text/latex": [
       "\\begin{enumerate*}\n",
       "\\item 17\n",
       "\\item 18\n",
       "\\item 19\n",
       "\\item 20\n",
       "\\item 21\n",
       "\\item 22\n",
       "\\item 23\n",
       "\\item 24\n",
       "\\item 25\n",
       "\\item 26\n",
       "\\item 27\n",
       "\\item 28\n",
       "\\item 29\n",
       "\\item 30\n",
       "\\item 31\n",
       "\\item 32\n",
       "\\item 33\n",
       "\\item 34\n",
       "\\item 35\n",
       "\\item 36\n",
       "\\item 37\n",
       "\\item 38\n",
       "\\item 39\n",
       "\\item 40\n",
       "\\item 41\n",
       "\\item 42\n",
       "\\item 43\n",
       "\\item 44\n",
       "\\item 45\n",
       "\\item 46\n",
       "\\item 47\n",
       "\\item 48\n",
       "\\item 49\n",
       "\\item 50\n",
       "\\item 51\n",
       "\\item 52\n",
       "\\item 53\n",
       "\\item 54\n",
       "\\item 55\n",
       "\\item 56\n",
       "\\item 57\n",
       "\\item 58\n",
       "\\item 59\n",
       "\\item 60\n",
       "\\item 61\n",
       "\\item 62\n",
       "\\item 63\n",
       "\\item 64\n",
       "\\item 65\n",
       "\\item 66\n",
       "\\item 67\n",
       "\\item 68\n",
       "\\item 69\n",
       "\\item 70\n",
       "\\item 71\n",
       "\\item 72\n",
       "\\item 73\n",
       "\\item 74\n",
       "\\item 75\n",
       "\\item 76\n",
       "\\item 77\n",
       "\\item 78\n",
       "\\item 79\n",
       "\\item 80\n",
       "\\item 81\n",
       "\\item 82\n",
       "\\item 83\n",
       "\\item 84\n",
       "\\item 85\n",
       "\\item 86\n",
       "\\item 87\n",
       "\\item 88\n",
       "\\item 89\n",
       "\\item 90\n",
       "\\item 91\n",
       "\\item 92\n",
       "\\item 93\n",
       "\\item 94\n",
       "\\item 95\n",
       "\\item 96\n",
       "\\item 97\n",
       "\\item 98\n",
       "\\item 99\n",
       "\\end{enumerate*}\n"
      ],
      "text/markdown": [
       "1. 17\n",
       "2. 18\n",
       "3. 19\n",
       "4. 20\n",
       "5. 21\n",
       "6. 22\n",
       "7. 23\n",
       "8. 24\n",
       "9. 25\n",
       "10. 26\n",
       "11. 27\n",
       "12. 28\n",
       "13. 29\n",
       "14. 30\n",
       "15. 31\n",
       "16. 32\n",
       "17. 33\n",
       "18. 34\n",
       "19. 35\n",
       "20. 36\n",
       "21. 37\n",
       "22. 38\n",
       "23. 39\n",
       "24. 40\n",
       "25. 41\n",
       "26. 42\n",
       "27. 43\n",
       "28. 44\n",
       "29. 45\n",
       "30. 46\n",
       "31. 47\n",
       "32. 48\n",
       "33. 49\n",
       "34. 50\n",
       "35. 51\n",
       "36. 52\n",
       "37. 53\n",
       "38. 54\n",
       "39. 55\n",
       "40. 56\n",
       "41. 57\n",
       "42. 58\n",
       "43. 59\n",
       "44. 60\n",
       "45. 61\n",
       "46. 62\n",
       "47. 63\n",
       "48. 64\n",
       "49. 65\n",
       "50. 66\n",
       "51. 67\n",
       "52. 68\n",
       "53. 69\n",
       "54. 70\n",
       "55. 71\n",
       "56. 72\n",
       "57. 73\n",
       "58. 74\n",
       "59. 75\n",
       "60. 76\n",
       "61. 77\n",
       "62. 78\n",
       "63. 79\n",
       "64. 80\n",
       "65. 81\n",
       "66. 82\n",
       "67. 83\n",
       "68. 84\n",
       "69. 85\n",
       "70. 86\n",
       "71. 87\n",
       "72. 88\n",
       "73. 89\n",
       "74. 90\n",
       "75. 91\n",
       "76. 92\n",
       "77. 93\n",
       "78. 94\n",
       "79. 95\n",
       "80. 96\n",
       "81. 97\n",
       "82. 98\n",
       "83. 99\n",
       "\n",
       "\n"
      ],
      "text/plain": [
       " [1] 17 18 19 20 21 22 23 24 25 26 27 28 29 30 31 32 33 34 35 36 37 38 39 40 41\n",
       "[26] 42 43 44 45 46 47 48 49 50 51 52 53 54 55 56 57 58 59 60 61 62 63 64 65 66\n",
       "[51] 67 68 69 70 71 72 73 74 75 76 77 78 79 80 81 82 83 84 85 86 87 88 89 90 91\n",
       "[76] 92 93 94 95 96 97 98 99"
      ]
     },
     "metadata": {},
     "output_type": "display_data"
    },
    {
     "data": {
      "text/html": [
       "<ol class=list-inline>\n",
       "\t<li>'1. 0 to 16 percentile'</li>\n",
       "\t<li>'2. 17 to 33 percentile'</li>\n",
       "\t<li>'3. 34 to 67 percentile'</li>\n",
       "\t<li>'4. 68 to 95 percentile'</li>\n",
       "\t<li>'5. 96 to 100 percentile'</li>\n",
       "</ol>\n"
      ],
      "text/latex": [
       "\\begin{enumerate*}\n",
       "\\item '1. 0 to 16 percentile'\n",
       "\\item '2. 17 to 33 percentile'\n",
       "\\item '3. 34 to 67 percentile'\n",
       "\\item '4. 68 to 95 percentile'\n",
       "\\item '5. 96 to 100 percentile'\n",
       "\\end{enumerate*}\n"
      ],
      "text/markdown": [
       "1. '1. 0 to 16 percentile'\n",
       "2. '2. 17 to 33 percentile'\n",
       "3. '3. 34 to 67 percentile'\n",
       "4. '4. 68 to 95 percentile'\n",
       "5. '5. 96 to 100 percentile'\n",
       "\n",
       "\n"
      ],
      "text/plain": [
       "[1] \"1. 0 to 16 percentile\"   \"2. 17 to 33 percentile\" \n",
       "[3] \"3. 34 to 67 percentile\"  \"4. 68 to 95 percentile\" \n",
       "[5] \"5. 96 to 100 percentile\""
      ]
     },
     "metadata": {},
     "output_type": "display_data"
    }
   ],
   "source": [
    "#correction de age\n",
    "anes$age[anes$age==0]<-NA\n",
    "sort(unique(anes$age))\n",
    "\n",
    "#correction des quintiles\n",
    "levels(anes$income)[1]<-NA\n",
    "levels(anes$income)"
   ]
  },
  {
   "cell_type": "markdown",
   "metadata": {},
   "source": [
    "On peut alors régresser :"
   ]
  },
  {
   "cell_type": "code",
   "execution_count": 23,
   "metadata": {
    "collapsed": false,
    "scrolled": true
   },
   "outputs": [
    {
     "name": "stdout",
     "output_type": "stream",
     "text": [
      "lm(formula = demtherm ~ gender + income + age, data = anes)\n",
      "                              coef.est coef.se\n",
      "(Intercept)                    64.00     0.59 \n",
      "gender2. Female                 3.89     0.30 \n",
      "income2. 17 to 33 percentile   -3.99     0.51 \n",
      "income3. 34 to 67 percentile   -8.50     0.45 \n",
      "income4. 68 to 95 percentile  -12.48     0.47 \n",
      "income5. 96 to 100 percentile -17.94     0.74 \n",
      "age                             0.08     0.01 \n",
      "---\n",
      "n = 23686, k = 7\n",
      "residual sd = 22.92, R-Squared = 0.06\n"
     ]
    },
    {
     "data": {
      "text/plain": [
       "\n",
       "Call:\n",
       "lm(formula = demtherm ~ gender + income + age, data = anes)\n",
       "\n",
       "Residuals:\n",
       "    Min      1Q  Median      3Q     Max \n",
       "-75.333 -14.160   0.658  17.241  51.333 \n",
       "\n",
       "Coefficients:\n",
       "                                Estimate Std. Error t value Pr(>|t|)    \n",
       "(Intercept)                    64.004530   0.592598 108.007  < 2e-16 ***\n",
       "gender2. Female                 3.890932   0.302843  12.848  < 2e-16 ***\n",
       "income2. 17 to 33 percentile   -3.992904   0.508523  -7.852 4.27e-15 ***\n",
       "income3. 34 to 67 percentile   -8.501883   0.448869 -18.941  < 2e-16 ***\n",
       "income4. 68 to 95 percentile  -12.483683   0.470866 -26.512  < 2e-16 ***\n",
       "income5. 96 to 100 percentile -17.936899   0.735568 -24.385  < 2e-16 ***\n",
       "age                             0.079978   0.008688   9.206  < 2e-16 ***\n",
       "---\n",
       "Signif. codes:  0 ‘***’ 0.001 ‘**’ 0.01 ‘*’ 0.05 ‘.’ 0.1 ‘ ’ 1\n",
       "\n",
       "Residual standard error: 22.92 on 23679 degrees of freedom\n",
       "  (26074 observations deleted due to missingness)\n",
       "Multiple R-squared:  0.06226,\tAdjusted R-squared:  0.06202 \n",
       "F-statistic:   262 on 6 and 23679 DF,  p-value: < 2.2e-16\n"
      ]
     },
     "metadata": {},
     "output_type": "display_data"
    }
   ],
   "source": [
    "lm2 <- lm(demtherm~gender+income+age, data=anes)"
   ]
  },
  {
   "cell_type": "markdown",
   "metadata": {},
   "source": [
    "Pour visualiser : "
   ]
  },
  {
   "cell_type": "code",
   "execution_count": 24,
   "metadata": {
    "collapsed": false,
    "deletable": true,
    "editable": true
   },
   "outputs": [
    {
     "name": "stdout",
     "output_type": "stream",
     "text": [
      "lm(formula = demtherm ~ gender + income + age, data = anes)\n",
      "                              coef.est coef.se\n",
      "(Intercept)                    64.00     0.59 \n",
      "gender2. Female                 3.89     0.30 \n",
      "income2. 17 to 33 percentile   -3.99     0.51 \n",
      "income3. 34 to 67 percentile   -8.50     0.45 \n",
      "income4. 68 to 95 percentile  -12.48     0.47 \n",
      "income5. 96 to 100 percentile -17.94     0.74 \n",
      "age                             0.08     0.01 \n",
      "---\n",
      "n = 23686, k = 7\n",
      "residual sd = 22.92, R-Squared = 0.06\n"
     ]
    }
   ],
   "source": [
    "display(lm2) #infos de base"
   ]
  },
  {
   "cell_type": "code",
   "execution_count": 25,
   "metadata": {
    "collapsed": false
   },
   "outputs": [
    {
     "data": {
      "text/plain": [
       "\n",
       "Call:\n",
       "lm(formula = demtherm ~ gender + income + age, data = anes)\n",
       "\n",
       "Residuals:\n",
       "    Min      1Q  Median      3Q     Max \n",
       "-75.333 -14.160   0.658  17.241  51.333 \n",
       "\n",
       "Coefficients:\n",
       "                                Estimate Std. Error t value Pr(>|t|)    \n",
       "(Intercept)                    64.004530   0.592598 108.007  < 2e-16 ***\n",
       "gender2. Female                 3.890932   0.302843  12.848  < 2e-16 ***\n",
       "income2. 17 to 33 percentile   -3.992904   0.508523  -7.852 4.27e-15 ***\n",
       "income3. 34 to 67 percentile   -8.501883   0.448869 -18.941  < 2e-16 ***\n",
       "income4. 68 to 95 percentile  -12.483683   0.470866 -26.512  < 2e-16 ***\n",
       "income5. 96 to 100 percentile -17.936899   0.735568 -24.385  < 2e-16 ***\n",
       "age                             0.079978   0.008688   9.206  < 2e-16 ***\n",
       "---\n",
       "Signif. codes:  0 ‘***’ 0.001 ‘**’ 0.01 ‘*’ 0.05 ‘.’ 0.1 ‘ ’ 1\n",
       "\n",
       "Residual standard error: 22.92 on 23679 degrees of freedom\n",
       "  (26074 observations deleted due to missingness)\n",
       "Multiple R-squared:  0.06226,\tAdjusted R-squared:  0.06202 \n",
       "F-statistic:   262 on 6 and 23679 DF,  p-value: < 2.2e-16\n"
      ]
     },
     "metadata": {},
     "output_type": "display_data"
    }
   ],
   "source": [
    "summary(lm2) #avec les étoiles"
   ]
  },
  {
   "cell_type": "markdown",
   "metadata": {},
   "source": [
    "Discussion : interpréter les coefficients estimés par le modèle lm2."
   ]
  },
  {
   "cell_type": "markdown",
   "metadata": {},
   "source": [
    "### 2.2 Représentation graphique"
   ]
  },
  {
   "cell_type": "code",
   "execution_count": null,
   "metadata": {
    "collapsed": true
   },
   "outputs": [],
   "source": []
  }
 ],
 "metadata": {
  "kernelspec": {
   "display_name": "R",
   "language": "R",
   "name": "ir"
  },
  "language_info": {
   "codemirror_mode": "r",
   "file_extension": ".r",
   "mimetype": "text/x-r-source",
   "name": "R",
   "pygments_lexer": "r",
   "version": "3.3.3"
  }
 },
 "nbformat": 4,
 "nbformat_minor": 2
}

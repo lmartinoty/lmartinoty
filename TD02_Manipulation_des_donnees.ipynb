{
 "cells": [
  {
   "cell_type": "markdown",
   "metadata": {
    "collapsed": true
   },
   "source": [
    "# MANIPULATION DES DONNEES\n",
    "\n",
    "*Source: cette série d'exercices s'inpire très largement des tutoriels de Simon Ejdemyr: https://sejdemyr.github.io/r-tutorials/statistics/*\n",
    "\n",
    "On commence par ouvrir les données du TD1. "
   ]
  },
  {
   "cell_type": "code",
   "execution_count": null,
   "metadata": {},
   "outputs": [],
   "source": [
    "world<-read.csv(\"TD1_world_small.csv\")\n",
    "head(world)\n",
    "summary(world)"
   ]
  },
  {
   "cell_type": "markdown",
   "metadata": {},
   "source": [
    "# 1. Sous échantillon\n",
    "\n",
    "Il y a plusieurs moyens de se concentrer sur un sous-échantillon sur R. Par exemple, imaginons que nous souhaitions travailler sur le sous-échantillon de la région 'Afrique'. "
   ]
  },
  {
   "cell_type": "code",
   "execution_count": null,
   "metadata": {},
   "outputs": [],
   "source": [
    "afr1 <- world[world$region == \"Africa\", ]   #option 1: crochets \n",
    "dim(afr1)\n",
    "afr1 <- subset(world, region == \"Africa\")   #option 2: commande subset()\n",
    "dim(afr1)\n",
    "library(dplyr) \n",
    "afr1 <- filter(world, region == \"Africa\")   #option 3: commande filter() du package dplyr\n",
    "dim(afr1)\n",
    "head(afr1)"
   ]
  },
  {
   "cell_type": "markdown",
   "metadata": {},
   "source": [
    "On peut créer un sous échantillon encore plus restreint, les pays qui sont africains et dont le score 'polity' est de 15 au moins: "
   ]
  },
  {
   "cell_type": "code",
   "execution_count": null,
   "metadata": {},
   "outputs": [],
   "source": [
    "afr2 <- world[world$region == \"Africa\" & world$polityIV >= 15, ]          #option 1\n",
    "afr2 <- subset(world, region == \"Africa\" & polityIV >= 15)                #option 2\n",
    "afr2 <- filter(world, region == \"Africa\", polityIV >= 15)                 #option 3\n",
    "head(afr2)"
   ]
  },
  {
   "cell_type": "markdown",
   "metadata": {},
   "source": [
    "*NOTE: nous utilisons ici des opérateurs logiques: ==, &, >=. Il y a un grande différence entre = et ==.*\n",
    "\n",
    "- *= fonctionne comme l'opérateur de définition <-*\n",
    "\n",
    "- *a==3 teste si a est égal à 3 et dit si l'égalité est vraie ou fausse. *"
   ]
  },
  {
   "cell_type": "markdown",
   "metadata": {},
   "source": [
    "# 2. Nouvelles variables\n",
    "\n",
    "La méthode la plus commune est d'utiliser l'opérateur **$** suivi de la nouvelle variable :"
   ]
  },
  {
   "cell_type": "code",
   "execution_count": null,
   "metadata": {},
   "outputs": [],
   "source": [
    "world$gdp_log <- log(world$gdppcap08) \n",
    "#cette commande crée le log du GDP et l'ajoute au dataframe"
   ]
  },
  {
   "cell_type": "code",
   "execution_count": null,
   "metadata": {},
   "outputs": [],
   "source": [
    "world$democ <- ifelse(world$polity>10, 1, 0)\n",
    "#cette commande crée la variable dummy = 1 si polity eest supérieure à 10, 0 sinon\n",
    "#dans la parenthèse, on donne :\n",
    "    #d'abord le test qui peut être vrai ou faux, \n",
    "    #ensuite la valeur que la variable doit prendre si l'argument est vrai,\n",
    "    #enfin la valeur si l'argument est faux."
   ]
  },
  {
   "cell_type": "code",
   "execution_count": null,
   "metadata": {},
   "outputs": [],
   "source": [
    "head(world)"
   ]
  },
  {
   "cell_type": "markdown",
   "metadata": {},
   "source": [
    "NOTE: On peut faire la même chose en une seule et unique commande avec **mutate()** de **dplyr** :"
   ]
  },
  {
   "cell_type": "code",
   "execution_count": null,
   "metadata": {},
   "outputs": [],
   "source": [
    "world <- mutate(world, gdp_log = log(gdppcap08), \n",
    "                       democ = ifelse(polityIV > 10, 1, 0))\n",
    "head(world)"
   ]
  },
  {
   "cell_type": "markdown",
   "metadata": {},
   "source": [
    "# 3. Les variables facteur\n",
    "\n",
    "Dans la base, la variable *region* est une variable facteur:"
   ]
  },
  {
   "cell_type": "code",
   "execution_count": null,
   "metadata": {},
   "outputs": [],
   "source": [
    "class(world$region)"
   ]
  },
  {
   "cell_type": "markdown",
   "metadata": {},
   "source": [
    "Les variables facteur sont importantes, ce sont des variables catégorielles. Voici les catégories prises par region (appelées 'levels' dans R): "
   ]
  },
  {
   "cell_type": "code",
   "execution_count": null,
   "metadata": {},
   "outputs": [],
   "source": [
    "levels(world$region)"
   ]
  },
  {
   "cell_type": "markdown",
   "metadata": {},
   "source": [
    "Le fait que *region* soit de type facteur et non de type caractère est important pour faciliter le recodage et les estimations. Pour transformer une variable qui n'est pas un facteur en facteur, on utilise **factor()**. \n",
    "\n",
    "Si nous souhaitons regrouper les régions européennes dans une même catégorie, nous pouvons créer facilement une nouvelle variable facteur: "
   ]
  },
  {
   "cell_type": "code",
   "execution_count": null,
   "metadata": {},
   "outputs": [],
   "source": [
    "world$largeregion<-world$region\n",
    "levels(world$largeregion)<-c(\"Africa\", \"Asia-Pacific\", \"Europe\", \"Middle East\", \"N. America\", \"S. America\", \"Europe\", \"Europe\") "
   ]
  },
  {
   "cell_type": "code",
   "execution_count": null,
   "metadata": {},
   "outputs": [],
   "source": [
    "table(world$region)"
   ]
  },
  {
   "cell_type": "code",
   "execution_count": null,
   "metadata": {},
   "outputs": [],
   "source": [
    "table(world$largeregion)"
   ]
  },
  {
   "cell_type": "markdown",
   "metadata": {},
   "source": [
    "# 4. Ordonner les données\n",
    "\n",
    "Le moyen le plus simple d'ordonner les données est d'utiliser **arrange()** du package **dplyr**. "
   ]
  },
  {
   "cell_type": "code",
   "execution_count": null,
   "metadata": {},
   "outputs": [],
   "source": [
    "head(world)"
   ]
  },
  {
   "cell_type": "code",
   "execution_count": null,
   "metadata": {},
   "outputs": [],
   "source": [
    "world<-arrange(world,gdp_log)\n",
    "head(world)"
   ]
  },
  {
   "cell_type": "code",
   "execution_count": null,
   "metadata": {},
   "outputs": [],
   "source": [
    "world<-arrange(world, desc(gdp_log))\n",
    "head(world)"
   ]
  },
  {
   "cell_type": "code",
   "execution_count": null,
   "metadata": {},
   "outputs": [],
   "source": [
    "world<-arrange(world, region, country)\n",
    "head(world)"
   ]
  },
  {
   "cell_type": "markdown",
   "metadata": {},
   "source": [
    "# 5. Combiner les commandes avec \"piping\" (**%>%**)\n",
    "\n",
    "Le package dplyr rend possible l'écriture de commandes compactes en combinant plusieurs types d'opérations, gâce à l'opérateur **%>%** qui permet d'enchaîner les commandes dans l'ordre indiqué.\n",
    "\n",
    "Par exemple, nous pouvons souhaiter \n",
    "- sélectionner le sous échantillon des pays sud américains avec un score polity en dessous de 20, \n",
    "- créer deux nouvelles variables - gdp_log et democ, \n",
    "- garder seulement certaines variables - country, gdp_log et democ, \n",
    "- et réordonner les variables en se basant sur le log gdp avec un ordre décroissant. \n",
    "\n",
    "Avec le piping de dplyr, cela donne: "
   ]
  },
  {
   "cell_type": "code",
   "execution_count": null,
   "metadata": {},
   "outputs": [],
   "source": [
    "newdata <- world %>%\n",
    "            filter(region == \"S. America\", polityIV<20) %>%\n",
    "            mutate(gdp_log = log(gdppcap08),\n",
    "                   democ = ifelse(polityIV>10,1,0)) %>%\n",
    "            select(country,gdp_log,democ) %>%\n",
    "            arrange(desc(gdp_log))\n",
    "head(newdata)\n",
    "summary(newdata)\n",
    "newdata"
   ]
  },
  {
   "cell_type": "markdown",
   "metadata": {},
   "source": [
    "# Exercice\n",
    "\n",
    "Ouvrez à nouveau les données TD1_world_small.csv."
   ]
  },
  {
   "cell_type": "code",
   "execution_count": null,
   "metadata": {},
   "outputs": [],
   "source": []
  },
  {
   "cell_type": "markdown",
   "metadata": {},
   "source": [
    "Créez 2 variables dans la base world : \n",
    "- une variable qui recode polityIV (qui varie de 0 à 20) en une variabel qui varie de -10 à 10, que l'on nommera polityIV2. \n",
    "- une variable catégorielle qui classe les pays comme 'riches' et 'pauvres' selon un seuil du gdppcap08 que vous jugerez pertinent."
   ]
  },
  {
   "cell_type": "code",
   "execution_count": null,
   "metadata": {},
   "outputs": [],
   "source": []
  },
  {
   "cell_type": "markdown",
   "metadata": {},
   "source": [
    "Créez un sous-échantillon des pays européens. "
   ]
  },
  {
   "cell_type": "code",
   "execution_count": null,
   "metadata": {},
   "outputs": [],
   "source": []
  },
  {
   "cell_type": "markdown",
   "metadata": {},
   "source": [
    "Supprimez la variable *region* du sous-échantillon."
   ]
  },
  {
   "cell_type": "code",
   "execution_count": null,
   "metadata": {},
   "outputs": [],
   "source": []
  },
  {
   "cell_type": "markdown",
   "metadata": {},
   "source": [
    "Ordonnez les données du sous-échantillon sur la base de la variable *polityIV2*."
   ]
  },
  {
   "cell_type": "code",
   "execution_count": null,
   "metadata": {},
   "outputs": [],
   "source": []
  },
  {
   "cell_type": "markdown",
   "metadata": {},
   "source": [
    "Ouvrez à nouveau les données. Refaites les questions ci-dessus en utilisant la fonctionnalité *piping*. "
   ]
  },
  {
   "cell_type": "code",
   "execution_count": null,
   "metadata": {},
   "outputs": [],
   "source": []
  },
  {
   "cell_type": "markdown",
   "metadata": {},
   "source": [
    "Combien de pays européens sont riches selon votre encodage ? Combien sont pauvres ? Quel est le poucentage de pays européens qui ont un score polityIV de 18 et plus ?"
   ]
  },
  {
   "cell_type": "code",
   "execution_count": null,
   "metadata": {},
   "outputs": [],
   "source": []
  }
 ],
 "metadata": {
  "kernelspec": {
   "display_name": "R",
   "language": "R",
   "name": "ir"
  },
  "language_info": {
   "codemirror_mode": "r",
   "file_extension": ".r",
   "mimetype": "text/x-r-source",
   "name": "R",
   "pygments_lexer": "r",
   "version": "3.6.1"
  }
 },
 "nbformat": 4,
 "nbformat_minor": 2
}

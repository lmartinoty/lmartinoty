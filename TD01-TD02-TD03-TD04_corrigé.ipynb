{
 "cells": [
  {
   "cell_type": "markdown",
   "metadata": {},
   "source": [
    "# TD1 MANIPULATIONS BASIQUES"
   ]
  },
  {
   "cell_type": "markdown",
   "metadata": {},
   "source": [
    "### Exercice 1.1"
   ]
  },
  {
   "cell_type": "code",
   "execution_count": null,
   "metadata": {},
   "outputs": [],
   "source": [
    "#TD1 : \n",
    "#Exercice 1 et 3 dans les cadres du notebook\n",
    "#Exercices 2 dans Rstudio\n",
    "\n",
    "#########################\n",
    "#########################\n",
    "#EXERCICE 1: manipuler des objets (scalaires, strings, vecteurs, dataframes)\n",
    "\n",
    "#cadre 1: scalaires\n",
    "###################\n",
    "a<-4\n",
    "b<-18\n",
    "c<-45\n",
    "d<-46\n",
    "\n",
    "#age total:\n",
    "tot<-a+b+c+d\n",
    "tot\n",
    "#moyenne:\n",
    "moy<-tot/4\n",
    "moy\n",
    "#diff\n",
    "d-a"
   ]
  },
  {
   "cell_type": "code",
   "execution_count": null,
   "metadata": {},
   "outputs": [],
   "source": [
    "#cadre 2: vecteurs\n",
    "##################\n",
    "v<-c(a,b,c,d)\n",
    "\n",
    "#age total\n",
    "tot<-sum(v)\n",
    "tot\n",
    "#moyenne:\n",
    "moy<-mean(v)\n",
    "moy\n",
    "#diff\n",
    "v[4]-v[1]\n",
    "\n",
    "#dans 10 ans:\n",
    "v10<-v+10\n",
    "v10"
   ]
  },
  {
   "cell_type": "code",
   "execution_count": null,
   "metadata": {},
   "outputs": [],
   "source": [
    "#cadre 3: data\n",
    "##############\n",
    "\n",
    "#dataframe\n",
    "df_famille <- data.frame(NOM=c(\"a\",\"b\",\"c\",\"d\"),\n",
    "                         AGE=v,\n",
    "                         GENRE = c(\"f\",\"g\",\"f\",\"g\"))\n",
    "df_famille\n",
    "\n",
    "#nature des objets et taille\n",
    "class(df_famille)\n",
    "dim(df_famille)\n",
    "\n",
    "class(v)\n",
    "length(v)"
   ]
  },
  {
   "cell_type": "code",
   "execution_count": null,
   "metadata": {},
   "outputs": [],
   "source": [
    "#cadre 4: data (suite)\n",
    "######################\n",
    "#année d'anniversaire des 100 ans\n",
    "df_famille$naissance <- 2019-v\n",
    "df_famille$centans <-df_famille$naissance+100\n",
    "df_famille\n",
    "\n",
    "#moyenne d'âge des femmes: \n",
    "mean_f <- (df_famille[1,2] + df_famille[3,2])/2\n",
    "mean_f"
   ]
  },
  {
   "cell_type": "markdown",
   "metadata": {},
   "source": [
    "### Exercice 1.2 (dans RSTUDIO)"
   ]
  },
  {
   "cell_type": "code",
   "execution_count": null,
   "metadata": {},
   "outputs": [],
   "source": [
    "#########################\n",
    "#########################\n",
    "#EXERCICE 2: définir un répertoire et ouvrir des données\n",
    "\n",
    "#setwd(\"C:/Users/lmartinoty/Dropbox/Paris1/Econométrie/M1Finance_20192020/Material_EPI/TD1\")\n",
    "#attention : /, pas \\ ! ne pas oublier les guillemets. \n",
    "\n",
    "world <-read.csv(\"TD1_world_small.csv\")"
   ]
  },
  {
   "cell_type": "markdown",
   "metadata": {},
   "source": [
    "### Exercice 1.3"
   ]
  },
  {
   "cell_type": "code",
   "execution_count": null,
   "metadata": {},
   "outputs": [],
   "source": [
    "#########################\n",
    "#########################\n",
    "#EXERCICE 3: installer des progiciels (packages)\n",
    "\n",
    "install.packages(\"plyr\") #installation\n",
    "install.packages(\"dplyr\") \n",
    "install.packages(\"ggplot2\")\n",
    "library(plyr) #chargement\n",
    "library(dplyr) \n",
    "library(ggplot2)"
   ]
  },
  {
   "cell_type": "markdown",
   "metadata": {},
   "source": [
    "# TD2 MANIPULATIONS DES DONNEES"
   ]
  },
  {
   "cell_type": "markdown",
   "metadata": {},
   "source": [
    "### Code prérequis"
   ]
  },
  {
   "cell_type": "code",
   "execution_count": null,
   "metadata": {},
   "outputs": [],
   "source": [
    "library(plyr)\n",
    "library(dplyr)"
   ]
  },
  {
   "cell_type": "code",
   "execution_count": null,
   "metadata": {},
   "outputs": [],
   "source": [
    "#TD2 : \n",
    "#Exercice uniquement dans les cadres du notebook\n",
    "\n",
    "#########################\n",
    "#########################\n",
    "#EXERCICE : manipuler des données\n",
    "\n",
    "#cadre 1: ouvrir les données\n",
    "###################\n",
    "\n",
    "world <-read.csv(\"TD1_world_small.csv\")\n",
    "head(world)"
   ]
  },
  {
   "cell_type": "code",
   "execution_count": null,
   "metadata": {},
   "outputs": [],
   "source": [
    "#cadre 2: création des 2 variables\n",
    "###################\n",
    "summary(world)\n",
    "\n",
    "# polityIV2\n",
    "world$polityIV2<-world$polityIV-10\n",
    "\n",
    "#rich/poor\n",
    "cutoff<-mean(world$gdppcap08)\n",
    "cutoff\n",
    "world$rich<-ifelse(world$gdppcap08>cutoff,1,0)\n",
    "\n",
    "head(world)"
   ]
  },
  {
   "cell_type": "code",
   "execution_count": null,
   "metadata": {},
   "outputs": [],
   "source": [
    "#cadre 3: sous échantillon des pays européens\n",
    "###################\n",
    "levels(world$region)\n",
    "europe<-filter(world,region==\"C&E Europe\"|region==\"W. Europe\"|region==\"Scandinavia\")\n",
    "summary(europe)"
   ]
  },
  {
   "cell_type": "code",
   "execution_count": null,
   "metadata": {},
   "outputs": [],
   "source": [
    "#cadre 4: suppression de la variable région\n",
    "###################\n",
    "\n",
    "europe<-select(europe,-region)\n",
    "head(europe)"
   ]
  },
  {
   "cell_type": "code",
   "execution_count": null,
   "metadata": {},
   "outputs": [],
   "source": [
    "#cadre 5: ordonner les données selon polityIV2\n",
    "###################\n",
    "\n",
    "europe<-arrange(europe,polityIV2)\n",
    "head(europe)"
   ]
  },
  {
   "cell_type": "code",
   "execution_count": null,
   "metadata": {},
   "outputs": [],
   "source": [
    "#cadre 6: piping it all\n",
    "###################\n",
    "world<-read.csv(\"TD1_world_small.csv\")\n",
    "\n",
    "europe <- world %>%\n",
    "  mutate(polityIV2=polityIV-10,\n",
    "         rich=ifelse(gdppcap08>mean(gdppcap08),1,0)) %>%\n",
    "  filter(region==\"C&E Europe\"|region==\"W. Europe\"|region==\"Scandinavia\") %>%\n",
    "  select(-region) %>%\n",
    "  arrange(polityIV)\n",
    "europe"
   ]
  },
  {
   "cell_type": "code",
   "execution_count": null,
   "metadata": {},
   "outputs": [],
   "source": [
    "#cadre 7: petites questions\n",
    "###################\n",
    "\n",
    "table(europe$rich) #27 pays riches et 14 pauvres si on prend comme base la moyenne du PIB par habitant\n",
    "\n",
    "europe$democ<-ifelse(europe$polityIV>=18,1,0)\n",
    "mean(europe$democ) #68% de scores polity de 18 et + en Europe."
   ]
  },
  {
   "cell_type": "markdown",
   "metadata": {},
   "source": [
    "# TD 3 STATISTIQUES DESCRIPTIVES"
   ]
  },
  {
   "cell_type": "markdown",
   "metadata": {},
   "source": [
    "### Code prérequis"
   ]
  },
  {
   "cell_type": "code",
   "execution_count": null,
   "metadata": {},
   "outputs": [],
   "source": [
    "#NOTE ces lignes sont seulement pour Rstusio, pas pour le notebook:\n",
    "library(dplyr)\n",
    "library(foreign)\n",
    "library(plyr)\n",
    "library(dplyr)\n",
    "\n",
    "#########################\n",
    "#########################\n",
    "#On ouvre les données\n",
    "anes <- read.dta(\"TD3_anescum_small_v12.dta\")\n",
    "\n",
    "#On sélectionne et renomme quelques variables\n",
    "anes <- anes %>% \n",
    "  select(year = VCF0004,\n",
    "         age = VCF0101,\n",
    "         gender = VCF0104,\n",
    "         race = VCF0106,\n",
    "         edu = VCF0140,\n",
    "         south = VCF0113,\n",
    "         income = VCF0114,\n",
    "         partyid = VCF0301,\n",
    "         interest = VCF0310,\n",
    "         govtrust = VCF0604,\n",
    "         abortion = VCF0838,\n",
    "         demtherm = VCF0218)\n",
    "\n",
    "#on regarde les 6 premières observations:\n",
    "head(anes)\n",
    "\n",
    "#########################\n",
    "#########################\n",
    "#CREATION DE DONNEES\n",
    "\n",
    "#opinion politique des américains recodée en 3 catégories:\n",
    "anes$partyid3 <- anes$partyid #dupliquer\n",
    "levels(anes$partyid3)<-c(NA,\n",
    "                         \"Democrat\",\"Democrat\",\"Democrat\",\n",
    "                         \"Independent\",\n",
    "                         \"Republican\",\"Republican\",\"Republican\") #redéfinir catégories\n",
    "table(anes$partyid3) #nombre\n",
    "prop.table(table(anes$partyid3)) #proportion\n",
    "\n",
    "#on simplifie encore l'opinion: démocrates contre le reste (indépendant+épublicains)\n",
    "anes$democrat <- anes$partyid3\n",
    "levels(anes$democrat) <- c(1, 0, 0)\n",
    "\n",
    "#on crée la variable mean qui est la proportion de démocrates dna schacune des régions pour chaque année\n",
    "anes$democrat <- as.numeric(as.character(anes$democrat)) #on transforme la variable catégorielle en variable numérique\n",
    "ddply(anes, .(gender), summarise,\n",
    "      mean = mean(democrat, na.rm = T),\n",
    "      median = median(democrat, na.rm = T))"
   ]
  },
  {
   "cell_type": "markdown",
   "metadata": {},
   "source": [
    "### Exercice 3.1"
   ]
  },
  {
   "cell_type": "code",
   "execution_count": null,
   "metadata": {},
   "outputs": [],
   "source": [
    "#EXERCICE 1 : \n",
    "\n",
    "#Cadre 1\n",
    "####\n",
    "#Etudier la distribution de la variable *interest* (une variable catégorielle qui mesure 'intérêt porté à la politique), c'est-à-dire : \n",
    "#- le nombre \n",
    "#- et la proportion d'observations pour chaque catégorie de la variable.\n",
    "\n",
    "class(anes$interest)\n",
    "levels(anes$interest)<-c(NA,\"Not much\",\"Somewhat\",\"Very\",NA)\n",
    "table(anes$interest, exclude=NULL)\n",
    "t<-prop.table(table(anes$interest))\n",
    "t\n",
    "barplot(t)"
   ]
  },
  {
   "cell_type": "code",
   "execution_count": null,
   "metadata": {},
   "outputs": [],
   "source": [
    "#Cadre 2\n",
    "####\n",
    "#Trouver les statistiques descriptives d'une variable numérique de votre choix: moyenne, médiane, écart type, minimum, maximum, 7 et 45ème percentile.\n",
    "head(anes)\n",
    "class(anes)\n",
    "class(anes$govtrust)\n",
    "class(anes$age) #celle-ci est numérique\n",
    "\n",
    "summary(anes$age)\n",
    "sd(anes$age, na.rm=T)\n",
    "quantile(anes$age, probs=c(0.07,0.45), na.rm=T)"
   ]
  },
  {
   "cell_type": "markdown",
   "metadata": {},
   "source": [
    "### Exercice 3.2"
   ]
  },
  {
   "cell_type": "code",
   "execution_count": null,
   "metadata": {},
   "outputs": [],
   "source": [
    "#########################\n",
    "#########################\n",
    "#EXERCICE 2 : \n",
    "\n",
    "#Cadre 1\n",
    "####\n",
    "#Créer un tableau croisé entre *south* (Sud/Nord) et la variable *partyid3* (parti démocrate, répubicain ou indépendant), séparément pour 1952 et 2008 (variable *year*). Analyser l'évolution.\n",
    "\n",
    "#revoir les données: \n",
    "class(anes$south)\n",
    "levels(anes$south)\n",
    "class(anes$partyid3)\n",
    "levels(anes$partyid3)\n",
    "\n",
    "#sous-échantillon pour 1952 et 2008\n",
    "anes1952 <- filter(anes, year==1952)\n",
    "anes2008 <- filter(anes, year==2008)\n",
    "\n",
    "#fréquences\n",
    "t1952<-table(anes1952$partyid3,anes1952$south)\n",
    "t2008<-table(anes2008$partyid3,anes2008$south)\n",
    "\n",
    "#proportions, avec la bonne valeur de margin (somme à 100 dans le sud et dans le nord)\n",
    "prop.table(t1952, margin=2)\n",
    "prop.table(t2008, margin=2)\n",
    "\n",
    "#réponse: \n",
    "#le sud est devenu davantage républicain (de 15 à 30%), \n",
    "#et le nord est devenu de plus en plus démocrate (52 à 62%).\n",
    "# partout les indépendants progressent. "
   ]
  },
  {
   "cell_type": "code",
   "execution_count": null,
   "metadata": {},
   "outputs": [],
   "source": [
    "#Cadre 2\n",
    "####\n",
    "#Utiliser la variable *democrat* crée ci-dessus et la fonction **ddply()** pour trouver la proportion de démocrates, et l'écart type de *democrat*, par région (sud/non-sud) et année (toutes les valeurs, pas seulement 1952 et 2008).  \n",
    "ddply(anes, .(south,year), summarise, mean=mean(democrat, na.rm=T), sd= sd(democrat, na.rm=T))"
   ]
  },
  {
   "cell_type": "markdown",
   "metadata": {},
   "source": [
    "### Exercice 3.3"
   ]
  },
  {
   "cell_type": "code",
   "execution_count": null,
   "metadata": {},
   "outputs": [],
   "source": [
    "#########################\n",
    "#########################\n",
    "#EXERCICE 3 : \n",
    "\n",
    "\n",
    "#Cadre 1\n",
    "####\n",
    "#Représenter le nuage de points (scatter plot) du thermomètre démocrate (*demtherm*) en fonction de l'âge (*age*) pour 1978. \n",
    "\n",
    "anes_sub <- subset(anes, year %in% c(1978))\n",
    "ggplot(anes_sub, aes(x=age,y=demtherm)) +\n",
    "  geom_point(size=0.5)"
   ]
  },
  {
   "cell_type": "code",
   "execution_count": null,
   "metadata": {},
   "outputs": [],
   "source": [
    "#Cadre 2\n",
    "####\n",
    "#Refaire le même nuage de points pour les années 1978, 1886, 1994 et 1998. Utiliser **facet_wrap()**.\n",
    "\n",
    "anes_sub <- subset(anes, year %in% c(1978, 1986, 1994, 1998))\n",
    "ggplot(anes_sub, aes(x=age,y=demtherm)) +\n",
    "  geom_point(size=0.3) +\n",
    "  facet_wrap(~year)"
   ]
  },
  {
   "cell_type": "code",
   "execution_count": null,
   "metadata": {},
   "outputs": [],
   "source": [
    "#Cadre 3\n",
    "####\n",
    "#Dans l'exercice 2 nous avons calculé la proportion de démocrates par région (*south*) et année (*year*). Utiliser **ggplot** pour représenter ces estimations. Le temps est en abscisse, l'appartenance au parti démocrate en ordonnée. Relier les points par des lignes. Conclure. \n",
    "\n",
    "t<-ddply(anes,.(south,year), summarize,mean=mean(demtherm, na.rm=T))\n",
    "head(t)\n",
    "ggplot(t, aes(x=year,y=mean, color=south)) +\n",
    "  geom_point() +\n",
    "  geom_line()\n",
    "\n",
    "#Note: pour éviter les variables manquantes, \n",
    "#cette commande crée t2 à partir de t en éliminant toutes les lignes d'observation pour lesquelles la variable mean est manquante (NA)\n",
    "t2 <- t[!is.na(t$mean), ]\n",
    "#on refait ensuite le même graphique, avec les données t2:\n",
    "ggplot(t2, aes(x=year,y=mean, color=south)) +\n",
    "  geom_point() +\n",
    "  geom_line()"
   ]
  },
  {
   "cell_type": "markdown",
   "metadata": {},
   "source": [
    "# TD4 MOINDRES CARRES ORDINAIRES"
   ]
  },
  {
   "cell_type": "markdown",
   "metadata": {},
   "source": [
    "### Code Prérequis "
   ]
  },
  {
   "cell_type": "code",
   "execution_count": null,
   "metadata": {},
   "outputs": [],
   "source": [
    "#Exercice uniquement dans les cadres du notebook\n",
    "\n",
    "#NOTE ces lignes sont seulement pour Rstusio, pas pour le notebook:\n",
    "library(dplyr)\n",
    "library(foreign)\n",
    "library(plyr)\n",
    "library(dplyr)\n",
    "\n",
    "#########################\n",
    "#########################\n",
    "#On ouvre les donnÃ©es\n",
    "anes <- read.dta(\"TD3_anescum_small_v12.dta\")\n",
    "\n",
    "#On sÃ©lectionne et renomme quelques variables\n",
    "anes <- anes %>% \n",
    "  select(year = VCF0004,\n",
    "         age = VCF0101,\n",
    "         gender = VCF0104,\n",
    "         race = VCF0106,\n",
    "         edu = VCF0140,\n",
    "         south = VCF0113,\n",
    "         income = VCF0114,\n",
    "         partyid = VCF0301,\n",
    "         interest = VCF0310,\n",
    "         govtrust = VCF0604,\n",
    "         abortion = VCF0838,\n",
    "         demtherm = VCF0218)\n",
    "\n",
    "#on regarde les 6 premiÃ¨res observations:\n",
    "head(anes)\n",
    "\n",
    "#########################\n",
    "#########################\n",
    "#CREATION DE DONNEES\n",
    "\n",
    "#valeurs manquantes: on recode gender\n",
    "levels(anes$gender)\n",
    "levels(anes$gender) <- c(NA, \"Homme\", \"Femme\")\n",
    "\n",
    "#correction de age\n",
    "anes$age[anes$age==0]<-NA\n",
    "sort(unique(anes$age))\n",
    "\n",
    "#correction des quintiles\n",
    "levels(anes$income)[1]<-NA\n",
    "levels(anes$income)\n",
    "\n",
    "saveRDS(anes, file=\"TD4_mydata.rds\")\n",
    "\n",
    "#########################\n",
    "#########################\n",
    "#REGRESSION\n",
    "\n",
    "lm2 <- lm(demtherm~gender+income+age, data=anes)"
   ]
  },
  {
   "cell_type": "markdown",
   "metadata": {},
   "source": [
    "### Exercice 4.1"
   ]
  },
  {
   "cell_type": "code",
   "execution_count": null,
   "metadata": {},
   "outputs": [],
   "source": [
    "#########################\n",
    "#########################\n",
    "#EXERCICE 1 : Réaliser le graphique type 'Option 1' qui montre l'effet du genre sur le thermomètre démocrate, avec le modèle lm2.\n",
    "\n",
    "#voir les objets\n",
    "coef(lm2)\n",
    "confint(lm2,level=0.95)\n",
    "\n",
    "#sélection des objets pertinents\n",
    "est2<-coef(lm2)[2]\n",
    "c2<-confint(lm2,level=0.95)[2,]\n",
    "\n",
    "#création d'un dataframe\n",
    "est2 <- data.frame(est = est2,\n",
    "                   c_inf = c2[1],\n",
    "                   c_sup = c2[2], \n",
    "                   model = \"ModÃ¨le multiple\")\n",
    "\n",
    "#voir le dataframe crée:\n",
    "est2\n",
    "\n",
    "#graphique\n",
    "ggplot(est2,aes(x=model,y=est)) +\n",
    "  geom_point() +\n",
    "  geom_errorbar(aes(ymin=c_inf,ymax=c_sup,width=0.1)) +\n",
    "  geom_hline(yintercept=0, color=\"white\") +\n",
    "  xlab(\"\") +\n",
    "  ylab(\"Opinion des femmes sur le parti dÃ©mocrate (relativement aux hommes)\")"
   ]
  },
  {
   "cell_type": "markdown",
   "metadata": {},
   "source": [
    "### Exercice 4.2"
   ]
  },
  {
   "cell_type": "code",
   "execution_count": null,
   "metadata": {},
   "outputs": [],
   "source": [
    "#########################\n",
    "#########################\n",
    "#EXERCICE 2 : \n",
    "\n",
    "#Cadre 1\n",
    "####\n",
    "#On souhaite connaître l'impact de l'ethnie sur le score pro-démocrate. \n",
    "#On estime un modèle où le score demtherm dépend: du genre gender, de l'âge age, du niveau d'éducation edu, de l'ethnie race. \n",
    "#Le codebook nous apprend que race prend 3 valeurs: 1 si 'white', 2 si 'black', 3 si 'other', 9 si 'missing'.\n",
    "#Commencez par restaurer l'objet \"TD4_mydata.rds\". Créez un dataframequi contient uniquement les données qui nous intéressent (rappel: TD2: **library(dplyr)**, piping **%>%**, fonction **select()**).\n",
    "\n",
    "library(plyr)\n",
    "library(dplyr)\n",
    "d<-readRDS(file=\"TD4_mydata.rds\")\n",
    "d<-d%>%dplyr::select(demtherm,age,gender,edu,race)"
   ]
  },
  {
   "cell_type": "code",
   "execution_count": null,
   "metadata": {},
   "outputs": [],
   "source": [
    "#Cadre 2\n",
    "####\n",
    "#\n",
    "#Produisez des statistiques descriptives basiques sur ces variables (summary()).\n",
    "summary(d)"
   ]
  },
  {
   "cell_type": "code",
   "execution_count": null,
   "metadata": {},
   "outputs": [],
   "source": [
    "#Cadre 3\n",
    "####\n",
    "#Créez deux variables :\n",
    "#1)white qui vaudra 1 si l'individu se définit comme blanc américain, 0 s'il se définit comme noir américain ou autre\n",
    "#2)edu3 qui regroupera 1. et 2. en 'Pre-bac', 3. et 4. en 'Bac', 5 et 6. en 'Université', 8. et 9 en NA\n",
    "\n",
    "#white\n",
    "d$white<-ifelse(d$race==1,1,0) #1 si blanc, 0 sinon\n",
    "d$white[d$race==9]<-NA  #attention à bien coder les variables manquantes en 'NA'\n",
    "table(d$white, exclude=NULL) #on vérifie\n",
    "d$white<-as.factor(d$white) #on définit cette variable comme facteur\n",
    "levels(d$white)<-c(\"Non-White\",\"White\")\n",
    "\n",
    "#edu3\n",
    "summary(d$edu)\n",
    "levels(d$edu)\n",
    "d$edu3<-d$edu\n",
    "levels(d$edu3)<-c(\"Pre-bac\",\"Pre-bac\",\"Bac\",\"Bac\",\"Université\",\"Université\",NA,NA)\n",
    "levels(d$edu3)  #on vérifie\n",
    "summary(d$edu3)"
   ]
  },
  {
   "cell_type": "code",
   "execution_count": null,
   "metadata": {},
   "outputs": [],
   "source": [
    "#Cadre 4\n",
    "####\n",
    "#Effectuer la régression de *demtherm* sur *age*, *genre*, et les deux variables nouvellement crées: *edu3* et *white*. Commenter.\n",
    "lm1<-lm(demtherm~gender+age+edu3+white, data=d)\n",
    "summary(lm1)"
   ]
  },
  {
   "cell_type": "code",
   "execution_count": null,
   "metadata": {},
   "outputs": [],
   "source": [
    "#Cadre 5\n",
    "####\n",
    "#Représenter graphiquement le score moyen des blancs américains et non-blancs (on prendra les hommes de niveau bac et d'âge de 40).\n",
    "#catégorie pour laquelle on va prédire :\n",
    "predict_for <- data.frame(expand.grid(gender = \"Homme\",\n",
    "                                      age = 40, \n",
    "                                      edu3 = \"Bac\",\n",
    "                                      white = c(\"Non-White\",\"White\")))\n",
    "predict_for\n",
    "#on prédit :\n",
    "pred1<-predict(lm1,\n",
    "               newdata=predict_for,\n",
    "               se.fit=T,\n",
    "               interval=\"confidence\"\n",
    ")\n",
    "pred1\n",
    "#on associe les deux dataframes:\n",
    "pred1 <- data.frame(cbind(pred1$fit,predict_for))\n",
    "pred1\n",
    "#graphique :\n",
    "library(ggplot2)\n",
    "ggplot(pred1, aes(x=white,y=fit)) + geom_point() + geom_errorbar(aes(ymin=lwr,ymax=upr), width=0.1)  + xlab(\"\") + ylab(\"Opinion pro-démocrate\")"
   ]
  },
  {
   "cell_type": "code",
   "execution_count": null,
   "metadata": {},
   "outputs": [],
   "source": [
    "#Cadre 6\n",
    "####\n",
    "#Refaire l'estimation en interagissant l'ethnie avec l'éducation :\n",
    "lm2 <- lm(demtherm~gender+age+edu3+white+white:edu3, data=d)\n",
    "summary(lm2)"
   ]
  },
  {
   "cell_type": "code",
   "execution_count": null,
   "metadata": {},
   "outputs": [],
   "source": [
    "#Cadre 7\n",
    "####\n",
    "#OPTIONNEL: Représenter graphiquement les scores moyens des hommes de 40 ans selon leur niveau d'étude, pour les non-whites et whites (les scores moyens avec leu rintervalle de confiance en ordonnée, les niveaux d'éducation en absisse, et les origines ethniques en légende).\n",
    "#catégories pour lesquelles on prédit:\n",
    "predict_for<-data.frame(expand.grid(gender=\"Homme\",\n",
    "                                    age=40,\n",
    "                                    white=c(\"Non-White\",\"White\"),\n",
    "                                    edu3=c(\"Pre-bac\",\"Bac\",\"Université\")))\n",
    "predict_for\n",
    "\n",
    "#valeurs prédites:\n",
    "pred2<-predict(lm2,\n",
    "               newdata=predict_for,\n",
    "               se.fit=T,\n",
    "               interval=\"confidence\")\n",
    "pred2\n",
    "\n",
    "#combinaison des deux objets en 1 dataframe\n",
    "pred2<-data.frame(cbind(pred2$fit,predict_for))\n",
    "pred2\n",
    "\n",
    "#on utilise ce dataframe pour créer le graphique:\n",
    "ggplot(pred2, aes(x=edu3,y=fit,color=white)) +\n",
    "  geom_point() +\n",
    "  geom_errorbar(aes(ymin=lwr,ymax=upr),width=0.1) "
   ]
  }
 ],
 "metadata": {
  "kernelspec": {
   "display_name": "R",
   "language": "R",
   "name": "ir"
  },
  "language_info": {
   "codemirror_mode": "r",
   "file_extension": ".r",
   "mimetype": "text/x-r-source",
   "name": "R",
   "pygments_lexer": "r",
   "version": "3.6.1"
  }
 },
 "nbformat": 4,
 "nbformat_minor": 2
}

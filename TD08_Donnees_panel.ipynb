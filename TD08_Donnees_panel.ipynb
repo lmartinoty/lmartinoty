{
 "cells": [
  {
   "cell_type": "markdown",
   "metadata": {},
   "source": [
    "# DONNEES DE PANEL"
   ]
  },
  {
   "cell_type": "markdown",
   "metadata": {},
   "source": [
    "Application : prix du billet d'avion et concentration du marché du transport aérien.\n",
    "\n",
    "Nous nous plaçons à la fin des années 1990. Il y a encore peu de compagnies d'aviation concurrentes à cette époque. Les autorités de la concurrence souhaitent savoir si le fait d'introduire de la concurrence permettrait de baisser les tarifs pratiqués par les compagnies aériennes. \n",
    "\n",
    "Nous disposons des données de 1149 trajets de vol interne aux États-Unis pour les quatre années suivantes : 1997, 1998, 1999, 2000 : \n",
    "\n",
    "$id$ : Identifiant du trajet de vol\n",
    "\n",
    "$annee$ : Année\n",
    "\n",
    "$tarif$ : Prix moyen du billet aller en dollars\n",
    "\n",
    "$concen$ : Part de la compagnie la plus importante sur le marché (entre 0 et 1)\n",
    "\n",
    "$dist$ : Distance du trajet de vol en km\n",
    "\n",
    "Nous souhaitons savoir si la concentration d'un trajet particulier dans les mains d'une compagnie a une influence sur le prix qu'elle pratique. "
   ]
  },
  {
   "cell_type": "markdown",
   "metadata": {},
   "source": [
    "## 1. Structure de l'échantillon\n",
    "\n",
    "Ouvrir les données **TD8_airfaremodified_v12.dta**."
   ]
  },
  {
   "cell_type": "code",
   "execution_count": null,
   "metadata": {},
   "outputs": [],
   "source": []
  },
  {
   "cell_type": "markdown",
   "metadata": {},
   "source": [
    "Combien a-t-on d'observations au total ?"
   ]
  },
  {
   "cell_type": "code",
   "execution_count": null,
   "metadata": {},
   "outputs": [],
   "source": []
  },
  {
   "cell_type": "markdown",
   "metadata": {},
   "source": [
    "Quelle est l'unité individuelle, quelle est l'unité temporelle du panel ? "
   ]
  },
  {
   "cell_type": "markdown",
   "metadata": {},
   "source": []
  },
  {
   "cell_type": "markdown",
   "metadata": {},
   "source": [
    "A quoi ressemble donc la matrice des données de panel ? Utliser head()."
   ]
  },
  {
   "cell_type": "code",
   "execution_count": null,
   "metadata": {},
   "outputs": [],
   "source": []
  },
  {
   "cell_type": "markdown",
   "metadata": {},
   "source": [
    "Régresser le prix sur la concentration par MCO. Commenter. "
   ]
  },
  {
   "cell_type": "code",
   "execution_count": null,
   "metadata": {},
   "outputs": [],
   "source": []
  },
  {
   "cell_type": "markdown",
   "metadata": {},
   "source": [
    "Produire un graphique mettant en relation la variable de concentration du marché et le prix du vol, en utilisant l'option **+ facet_wrap(~...)** pour différencier les 4 années, sur le sous échantillon des observations dont la distance de vol est inférieure ou égale à 2000 miles. \n",
    "\n",
    "Faire le même graphique sur le sous-échantillon des observations dont la distance de vol est supérieure à 2000 miles. \n",
    "\n",
    "Commenter. "
   ]
  },
  {
   "cell_type": "code",
   "execution_count": null,
   "metadata": {},
   "outputs": [],
   "source": []
  },
  {
   "cell_type": "markdown",
   "metadata": {},
   "source": [
    "## 2. Analyse"
   ]
  },
  {
   "cell_type": "markdown",
   "metadata": {},
   "source": [
    "### 2.1 MCO groupés (pooled OLS)\n",
    "On souhaite estimer l'effet de la concentration sur le prix, en tenant compte de la distance du vol. \n",
    "Quelle est la variable dépendante ? La variable explicative principale ? Quel est le signe attendu du paramètre des différentes variables ? Ecrire l'équation à estimer. "
   ]
  },
  {
   "cell_type": "code",
   "execution_count": null,
   "metadata": {},
   "outputs": [],
   "source": []
  },
  {
   "cell_type": "markdown",
   "metadata": {},
   "source": [
    "Estimer ce modèle par MCO. Toutes choses égales par ailleurs, quel est l'effet d'une distance de 100km supplémentaire ? D'une concentration de 10 points plus élevée ?"
   ]
  },
  {
   "cell_type": "code",
   "execution_count": null,
   "metadata": {},
   "outputs": [],
   "source": []
  },
  {
   "cell_type": "markdown",
   "metadata": {},
   "source": [
    "Un économétricien transformera toujours les données de prix et ici de distance en log. Donner les différentes raisons de ce choix. "
   ]
  },
  {
   "cell_type": "code",
   "execution_count": null,
   "metadata": {},
   "outputs": [],
   "source": []
  },
  {
   "cell_type": "markdown",
   "metadata": {},
   "source": [
    "On ajoute donc au dataframe *ds* les données *ldist* et *ltarif* qui seront les données en logarithme de *dist* et *tarif*."
   ]
  },
  {
   "cell_type": "code",
   "execution_count": null,
   "metadata": {},
   "outputs": [],
   "source": []
  },
  {
   "cell_type": "markdown",
   "metadata": {},
   "source": [
    "On estime ensuite le même modèle que précédemment, mais cette fois-ci avec les variables *ldist* et *lconcen*. Interpréter les coefficients."
   ]
  },
  {
   "cell_type": "code",
   "execution_count": null,
   "metadata": {},
   "outputs": [],
   "source": []
  },
  {
   "cell_type": "markdown",
   "metadata": {},
   "source": [
    "Question subsidiaire : comment interpréter le coefficient d'un modèle niveau-log ?"
   ]
  },
  {
   "cell_type": "code",
   "execution_count": null,
   "metadata": {},
   "outputs": [],
   "source": []
  },
  {
   "cell_type": "markdown",
   "metadata": {},
   "source": [
    "On ajoute des effets fixes temporels. Rappeler la définition. Ecrire l'équation à estimer. "
   ]
  },
  {
   "cell_type": "markdown",
   "metadata": {},
   "source": [
    "<font color=green> \n",
    "Définition : $\\eta_{t}$ = effets fixes temporels (autant de variables indicatrices binaires que de périodes, -1 pour éviter la colinéarité) qui captent la tendance temporelle générale de l'évolution de $tarif$ (évolution commune à tous les vols).\n",
    "\n",
    "Equation : $log(tarif_{it}) = \\gamma concen_{it} + \\beta_{1} log(dist_{i})  + \\eta_{t} + \\epsilon_{it}$. \n",
    "</font>"
   ]
  },
  {
   "cell_type": "markdown",
   "metadata": {},
   "source": [
    "On estime le modèle par MCO en ajoutant à notre fonction **lm()** précédente la variable \"factor(*annee*)\". \n",
    "\n",
    "a) Pourquoi pas la variable *annee* directement ? "
   ]
  },
  {
   "cell_type": "code",
   "execution_count": null,
   "metadata": {},
   "outputs": [],
   "source": []
  },
  {
   "cell_type": "markdown",
   "metadata": {},
   "source": [
    "b) Estimer."
   ]
  },
  {
   "cell_type": "code",
   "execution_count": null,
   "metadata": {},
   "outputs": [],
   "source": []
  },
  {
   "cell_type": "markdown",
   "metadata": {},
   "source": [
    "c) Interpréter les effets fixes temporels. "
   ]
  },
  {
   "cell_type": "code",
   "execution_count": null,
   "metadata": {},
   "outputs": [],
   "source": []
  },
  {
   "cell_type": "markdown",
   "metadata": {},
   "source": [
    "Quels sont les deux problèmes posés par cette méthode d'estimation ? "
   ]
  },
  {
   "cell_type": "code",
   "execution_count": null,
   "metadata": {},
   "outputs": [],
   "source": []
  },
  {
   "cell_type": "markdown",
   "metadata": {},
   "source": [
    "### 2.2 Modèles avec effets fixes individuels\n",
    "\n",
    "Pour éviter ces deux problèmes potentiels, nous profitons de la structure de panel des données et nous estimons le modèle de régression avec effets fixes grâce à l'estimateur within. \n",
    "\n",
    "*Indice: on a besoin du package **plm** et de la fonction **plm(y~x, data=..., index=c(\"id\",\"time\", model=\"within\")**.*"
   ]
  },
  {
   "cell_type": "code",
   "execution_count": null,
   "metadata": {
    "scrolled": true
   },
   "outputs": [],
   "source": []
  },
  {
   "cell_type": "code",
   "execution_count": null,
   "metadata": {},
   "outputs": [],
   "source": []
  },
  {
   "cell_type": "markdown",
   "metadata": {},
   "source": [
    "A quoi sert la commande index=c(\"id\", \"time\") ? Que signifie ``model=\"within\"'' ?"
   ]
  },
  {
   "cell_type": "code",
   "execution_count": null,
   "metadata": {},
   "outputs": [],
   "source": []
  },
  {
   "cell_type": "markdown",
   "metadata": {},
   "source": [
    "Quel est l'avantage de cette méthode d'estimation ?"
   ]
  },
  {
   "cell_type": "code",
   "execution_count": null,
   "metadata": {},
   "outputs": [],
   "source": []
  },
  {
   "cell_type": "markdown",
   "metadata": {},
   "source": [
    "Pourquoi ne peut-on pas utiliser la variable $dist$ ?"
   ]
  },
  {
   "cell_type": "code",
   "execution_count": null,
   "metadata": {},
   "outputs": [],
   "source": []
  },
  {
   "cell_type": "markdown",
   "metadata": {},
   "source": [
    "Interpréter le paramètre de $concen$."
   ]
  },
  {
   "cell_type": "code",
   "execution_count": null,
   "metadata": {},
   "outputs": [],
   "source": []
  },
  {
   "cell_type": "markdown",
   "metadata": {},
   "source": [
    "On souhaite vérifier que l'estimateur within donne bien le même coefficient que l'**estimateur MCO qui inclut des effets fixes individuels et temporels**. Pour cela on estime par MCO le même modèle avec effets fixes temporels et individuels. \n",
    "\n",
    "Estimer et commenter."
   ]
  },
  {
   "cell_type": "code",
   "execution_count": null,
   "metadata": {},
   "outputs": [],
   "source": []
  },
  {
   "cell_type": "markdown",
   "metadata": {},
   "source": [
    "De même, on souhaite vérifier que la transformation des données par soustraction de la moyenne individuelle donne bien le même coefficient. Grâce au code ci-dessous on crée la transformation de ltarif : "
   ]
  },
  {
   "cell_type": "code",
   "execution_count": null,
   "metadata": {},
   "outputs": [],
   "source": [
    "ds$mean_ltarif<-ave(ds$ltarif,ds$id)\n",
    "ds$demeaned_ltarif<-ds$ltarif-ds$mean_ltarif"
   ]
  },
  {
   "cell_type": "markdown",
   "metadata": {},
   "source": [
    "a) Faire de même pour concen. \n",
    "\n",
    "b) Estimer par MCO la régression de *demeaned_ltarif* sur *demeaned_lconcen* et les effets fixes temporels *factor(annee)*. "
   ]
  },
  {
   "cell_type": "code",
   "execution_count": null,
   "metadata": {},
   "outputs": [],
   "source": []
  },
  {
   "cell_type": "markdown",
   "metadata": {},
   "source": [
    "## 3. Choix de la méthode d'estimation\n",
    "\n",
    "On sait qu'il existe un autre type d'estimateur pour les données de panel : les **effets aléatoires**. \n",
    "\n",
    "L'**avantage des effets aléatoires sur les MCO groupés** est que l'autocorrélation intraindividuelle des erreurs est modélisée donc prise en compte. \n",
    "\n",
    "Quel est l'avantage des effets aléatoires sur les effets fixes (within) ? L'inconvénient ?"
   ]
  },
  {
   "cell_type": "code",
   "execution_count": null,
   "metadata": {},
   "outputs": [],
   "source": []
  },
  {
   "cell_type": "markdown",
   "metadata": {},
   "source": [
    "On estime le modèle avec effets aléatoires. Estimer et interpréter. \n",
    "\n",
    "*Indice: on utilise la même fonction **plm(y~x, data=..., index=c(\"id\",\"time\", model=\"...\")**.*, mais avec le modèle **random** au lieu de **within**."
   ]
  },
  {
   "cell_type": "code",
   "execution_count": null,
   "metadata": {},
   "outputs": [],
   "source": []
  },
  {
   "cell_type": "markdown",
   "metadata": {},
   "source": [
    "Le chercheur veut faire un choix entre effets fixes et aléatoires. Quel estimateur va-t-il choisir ?\n",
    "\n",
    "*Indice : il compare les deux modèles avec un test de Hausman :* **phtest(model1,model2)** "
   ]
  },
  {
   "cell_type": "code",
   "execution_count": null,
   "metadata": {},
   "outputs": [],
   "source": []
  }
 ],
 "metadata": {
  "celltoolbar": "Aucun(e)",
  "kernelspec": {
   "display_name": "R",
   "language": "R",
   "name": "ir"
  },
  "language_info": {
   "codemirror_mode": "r",
   "file_extension": ".r",
   "mimetype": "text/x-r-source",
   "name": "R",
   "pygments_lexer": "r",
   "version": "3.6.1"
  }
 },
 "nbformat": 4,
 "nbformat_minor": 2
}

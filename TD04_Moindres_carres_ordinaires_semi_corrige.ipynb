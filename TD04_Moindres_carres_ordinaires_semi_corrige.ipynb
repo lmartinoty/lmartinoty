{
 "cells": [
  {
   "cell_type": "markdown",
   "metadata": {},
   "source": [
    "### MOINDRES CARRES ORDINAIRES\n",
    "\n",
    "*Source: cette série d'exercices s'inpire très largement des tutoriels de Simon Ejdemyr: https://sejdemyr.github.io/r-tutorials/statistics/*\n",
    "\n",
    "On commence par charger les mêmes données que dans le TD3, avec les mêmes codes strictement (à un petit détail près, cf. note en bas de code):"
   ]
  },
  {
   "cell_type": "code",
   "execution_count": 2,
   "metadata": {},
   "outputs": [
    {
     "name": "stderr",
     "output_type": "stream",
     "text": [
      "\n",
      "Attaching package: 'dplyr'\n",
      "\n",
      "The following objects are masked from 'package:plyr':\n",
      "\n",
      "    arrange, count, desc, failwith, id, mutate, rename, summarise,\n",
      "    summarize\n",
      "\n",
      "The following objects are masked from 'package:stats':\n",
      "\n",
      "    filter, lag\n",
      "\n",
      "The following objects are masked from 'package:base':\n",
      "\n",
      "    intersect, setdiff, setequal, union\n",
      "\n"
     ]
    },
    {
     "data": {
      "text/html": [
       "<table>\n",
       "<thead><tr><th scope=col>year</th><th scope=col>age</th><th scope=col>gender</th><th scope=col>race</th><th scope=col>edu</th><th scope=col>south</th><th scope=col>income</th><th scope=col>partyid</th><th scope=col>interest</th><th scope=col>govtrust</th><th scope=col>abortion</th><th scope=col>demtherm</th></tr></thead>\n",
       "<tbody>\n",
       "\t<tr><td>1948                   </td><td>NA                     </td><td>1. Male                </td><td>1                      </td><td>NA                     </td><td>NA                     </td><td>3. 34 to 67 percentile </td><td>NA                     </td><td>NA                     </td><td>NA                     </td><td>NA                     </td><td>NA                     </td></tr>\n",
       "\t<tr><td>1948                   </td><td>NA                     </td><td>2. Female              </td><td>1                      </td><td>NA                     </td><td>NA                     </td><td>5. 96 to 100 percentile</td><td>NA                     </td><td>NA                     </td><td>NA                     </td><td>NA                     </td><td>NA                     </td></tr>\n",
       "\t<tr><td>1948                   </td><td>NA                     </td><td>2. Female              </td><td>1                      </td><td>NA                     </td><td>NA                     </td><td>4. 68 to 95 percentile </td><td>NA                     </td><td>NA                     </td><td>NA                     </td><td>NA                     </td><td>NA                     </td></tr>\n",
       "\t<tr><td>1948                   </td><td>NA                     </td><td>2. Female              </td><td>1                      </td><td>NA                     </td><td>NA                     </td><td>5. 96 to 100 percentile</td><td>NA                     </td><td>NA                     </td><td>NA                     </td><td>NA                     </td><td>NA                     </td></tr>\n",
       "\t<tr><td>1948                   </td><td>NA                     </td><td>1. Male                </td><td>1                      </td><td>NA                     </td><td>NA                     </td><td>4. 68 to 95 percentile </td><td>NA                     </td><td>NA                     </td><td>NA                     </td><td>NA                     </td><td>NA                     </td></tr>\n",
       "\t<tr><td>1948                   </td><td>NA                     </td><td>2. Female              </td><td>1                      </td><td>NA                     </td><td>NA                     </td><td>5. 96 to 100 percentile</td><td>NA                     </td><td>NA                     </td><td>NA                     </td><td>NA                     </td><td>NA                     </td></tr>\n",
       "</tbody>\n",
       "</table>\n"
      ],
      "text/latex": [
       "\\begin{tabular}{r|llllllllllll}\n",
       " year & age & gender & race & edu & south & income & partyid & interest & govtrust & abortion & demtherm\\\\\n",
       "\\hline\n",
       "\t 1948                    & NA                      & 1. Male                 & 1                       & NA                      & NA                      & 3. 34 to 67 percentile  & NA                      & NA                      & NA                      & NA                      & NA                     \\\\\n",
       "\t 1948                    & NA                      & 2. Female               & 1                       & NA                      & NA                      & 5. 96 to 100 percentile & NA                      & NA                      & NA                      & NA                      & NA                     \\\\\n",
       "\t 1948                    & NA                      & 2. Female               & 1                       & NA                      & NA                      & 4. 68 to 95 percentile  & NA                      & NA                      & NA                      & NA                      & NA                     \\\\\n",
       "\t 1948                    & NA                      & 2. Female               & 1                       & NA                      & NA                      & 5. 96 to 100 percentile & NA                      & NA                      & NA                      & NA                      & NA                     \\\\\n",
       "\t 1948                    & NA                      & 1. Male                 & 1                       & NA                      & NA                      & 4. 68 to 95 percentile  & NA                      & NA                      & NA                      & NA                      & NA                     \\\\\n",
       "\t 1948                    & NA                      & 2. Female               & 1                       & NA                      & NA                      & 5. 96 to 100 percentile & NA                      & NA                      & NA                      & NA                      & NA                     \\\\\n",
       "\\end{tabular}\n"
      ],
      "text/markdown": [
       "\n",
       "| year | age | gender | race | edu | south | income | partyid | interest | govtrust | abortion | demtherm |\n",
       "|---|---|---|---|---|---|---|---|---|---|---|---|\n",
       "| 1948                    | NA                      | 1. Male                 | 1                       | NA                      | NA                      | 3. 34 to 67 percentile  | NA                      | NA                      | NA                      | NA                      | NA                      |\n",
       "| 1948                    | NA                      | 2. Female               | 1                       | NA                      | NA                      | 5. 96 to 100 percentile | NA                      | NA                      | NA                      | NA                      | NA                      |\n",
       "| 1948                    | NA                      | 2. Female               | 1                       | NA                      | NA                      | 4. 68 to 95 percentile  | NA                      | NA                      | NA                      | NA                      | NA                      |\n",
       "| 1948                    | NA                      | 2. Female               | 1                       | NA                      | NA                      | 5. 96 to 100 percentile | NA                      | NA                      | NA                      | NA                      | NA                      |\n",
       "| 1948                    | NA                      | 1. Male                 | 1                       | NA                      | NA                      | 4. 68 to 95 percentile  | NA                      | NA                      | NA                      | NA                      | NA                      |\n",
       "| 1948                    | NA                      | 2. Female               | 1                       | NA                      | NA                      | 5. 96 to 100 percentile | NA                      | NA                      | NA                      | NA                      | NA                      |\n",
       "\n"
      ],
      "text/plain": [
       "  year age gender    race edu south income                  partyid interest\n",
       "1 1948 NA  1. Male   1    NA  NA    3. 34 to 67 percentile  NA      NA      \n",
       "2 1948 NA  2. Female 1    NA  NA    5. 96 to 100 percentile NA      NA      \n",
       "3 1948 NA  2. Female 1    NA  NA    4. 68 to 95 percentile  NA      NA      \n",
       "4 1948 NA  2. Female 1    NA  NA    5. 96 to 100 percentile NA      NA      \n",
       "5 1948 NA  1. Male   1    NA  NA    4. 68 to 95 percentile  NA      NA      \n",
       "6 1948 NA  2. Female 1    NA  NA    5. 96 to 100 percentile NA      NA      \n",
       "  govtrust abortion demtherm\n",
       "1 NA       NA       NA      \n",
       "2 NA       NA       NA      \n",
       "3 NA       NA       NA      \n",
       "4 NA       NA       NA      \n",
       "5 NA       NA       NA      \n",
       "6 NA       NA       NA      "
      ]
     },
     "metadata": {},
     "output_type": "display_data"
    }
   ],
   "source": [
    "#ouverture des données:\n",
    "library(foreign) #pour ouvrir les données dta de version 14 ou inférieure\n",
    "anes <- read.dta(\"TD3_anescum_small_v12.dta\")\n",
    "\n",
    "#on garde seulement quelques variables et on les renomme pour plus de clarté:\n",
    "library(plyr)\n",
    "library(dplyr)\n",
    "anes <- anes %>% \n",
    "        dplyr::select(year = VCF0004,\n",
    "               age = VCF0101,\n",
    "               gender = VCF0104,\n",
    "               race = VCF0106,\n",
    "               edu = VCF0140,\n",
    "               south = VCF0113,\n",
    "               income = VCF0114,\n",
    "               partyid = VCF0301,\n",
    "               interest = VCF0310,\n",
    "               govtrust = VCF0604,\n",
    "               abortion = VCF0838,\n",
    "               demtherm = VCF0218)\n",
    "head(anes)\n",
    "\n",
    "#note: ici, \"select\" est précédé de \"dplyr::\". pourquoi ? car nous chargeons aussi le package \"arm\" qui a aussi sa propre fonction \"select\" et qui va venir dominer la fonction \"select\" du package \"dplyr\". \n",
    "#il faut donc préciser de quel package on nécessite la fonction \"select\""
   ]
  },
  {
   "cell_type": "markdown",
   "metadata": {},
   "source": [
    "En plus de **foreign**, **plyr**, **dplyr**, on va avoir besoin de **ggplot2** :"
   ]
  },
  {
   "cell_type": "code",
   "execution_count": 3,
   "metadata": {},
   "outputs": [
    {
     "name": "stderr",
     "output_type": "stream",
     "text": [
      "Warning message:\n",
      "\"package 'ggplot2' was built under R version 3.6.3\""
     ]
    }
   ],
   "source": [
    "library(ggplot2)"
   ]
  },
  {
   "cell_type": "markdown",
   "metadata": {},
   "source": [
    "Rappel : le codebook est disponible : TD3_codebook_anescum_small_v12.txt."
   ]
  },
  {
   "cell_type": "markdown",
   "metadata": {},
   "source": [
    "# 1. Modèle de régression simple\n",
    "Nous allons maintenant estimer un modèle simple par MCO et nous allons en donner une représentation graphique (de plus en plus courant). Un modèle simple est un modèle qui met en relation une variable dépendante y avec une explicative x."
   ]
  },
  {
   "cell_type": "markdown",
   "metadata": {},
   "source": [
    "### 1.1 Estimation\n",
    "Nous souhaitons savoir si les préférences pour les démocrates varient selon le genre. \n",
    "Commençons par regarder les variables:"
   ]
  },
  {
   "cell_type": "code",
   "execution_count": 4,
   "metadata": {},
   "outputs": [
    {
     "data": {
      "text/html": [
       "<ol class=list-inline>\n",
       "\t<li>'0. NA; no Pre IW'</li>\n",
       "\t<li>'1. Male'</li>\n",
       "\t<li>'2. Female'</li>\n",
       "</ol>\n"
      ],
      "text/latex": [
       "\\begin{enumerate*}\n",
       "\\item '0. NA; no Pre IW'\n",
       "\\item '1. Male'\n",
       "\\item '2. Female'\n",
       "\\end{enumerate*}\n"
      ],
      "text/markdown": [
       "1. '0. NA; no Pre IW'\n",
       "2. '1. Male'\n",
       "3. '2. Female'\n",
       "\n",
       "\n"
      ],
      "text/plain": [
       "[1] \"0. NA; no Pre IW\" \"1. Male\"          \"2. Female\"       "
      ]
     },
     "metadata": {},
     "output_type": "display_data"
    },
    {
     "data": {
      "text/plain": [
       "   Min. 1st Qu.  Median    Mean 3rd Qu.    Max.    NA's \n",
       "   0.00   50.00   60.00   62.12   85.00   99.00   23355 "
      ]
     },
     "metadata": {},
     "output_type": "display_data"
    },
    {
     "data": {
      "text/html": [
       "<dl class=dl-horizontal>\n",
       "\t<dt>Homme</dt>\n",
       "\t\t<dd>22017</dd>\n",
       "\t<dt>Femme</dt>\n",
       "\t\t<dd>27640</dd>\n",
       "\t<dt>NA's</dt>\n",
       "\t\t<dd>103</dd>\n",
       "</dl>\n"
      ],
      "text/latex": [
       "\\begin{description*}\n",
       "\\item[Homme] 22017\n",
       "\\item[Femme] 27640\n",
       "\\item[NA's] 103\n",
       "\\end{description*}\n"
      ],
      "text/markdown": [
       "Homme\n",
       ":   22017Femme\n",
       ":   27640NA's\n",
       ":   103\n",
       "\n"
      ],
      "text/plain": [
       "Homme Femme  NA's \n",
       "22017 27640   103 "
      ]
     },
     "metadata": {},
     "output_type": "display_data"
    }
   ],
   "source": [
    "#on recode gender\n",
    "levels(anes$gender)\n",
    "levels(anes$gender) <- c(NA, \"Homme\", \"Femme\")\n",
    "#on inspecte dermtherm et gender\n",
    "summary(anes$demtherm)\n",
    "summary(anes$gender)"
   ]
  },
  {
   "cell_type": "markdown",
   "metadata": {},
   "source": [
    "Nous régressons ensuite *gender* sur *demtherm* (qui varie de 0 à 100), grâce à **lm()** (lm(y~x))."
   ]
  },
  {
   "cell_type": "code",
   "execution_count": 5,
   "metadata": {},
   "outputs": [
    {
     "data": {
      "text/plain": [
       "\n",
       "Call:\n",
       "lm(formula = demtherm ~ gender, data = anes)\n",
       "\n",
       "Residuals:\n",
       "    Min      1Q  Median      3Q     Max \n",
       "-64.637 -14.637   1.011  20.363  40.011 \n",
       "\n",
       "Coefficients:\n",
       "            Estimate Std. Error t value Pr(>|t|)    \n",
       "(Intercept)   58.989      0.219  269.33   <2e-16 ***\n",
       "genderFemme    5.649      0.294   19.21   <2e-16 ***\n",
       "---\n",
       "Signif. codes:  0 '***' 0.001 '**' 0.01 '*' 0.05 '.' 0.1 ' ' 1\n",
       "\n",
       "Residual standard error: 23.74 on 26403 degrees of freedom\n",
       "  (23355 observations deleted due to missingness)\n",
       "Multiple R-squared:  0.01379,\tAdjusted R-squared:  0.01375 \n",
       "F-statistic: 369.2 on 1 and 26403 DF,  p-value: < 2.2e-16\n"
      ]
     },
     "metadata": {},
     "output_type": "display_data"
    }
   ],
   "source": [
    "#on régresse grâce à lm()\n",
    "lm1 <- lm(demtherm ~ gender, data = anes)\n",
    "summary(lm1)"
   ]
  },
  {
   "cell_type": "markdown",
   "metadata": {},
   "source": [
    "### 1.2 Représentation graphique\n",
    "A partir de cette estimation on peut faire deux types de représentations graphiques: \n",
    "\n",
    "- l'effet moyen d'être une femme (relativement à l'homme)\n",
    "- l'opinion moyenne d'un homme et l'opinion moyenne d'une femme (la différence étant l'effet moyen d'être d'un genre plutôt que d'un autre)\n",
    "\n",
    "L'option 1 revient à représenter le coefficient de *gender* estimé par MCO. \n",
    "\n",
    "L'option 2 revient à représenter la valeur prédite moyenne de l'opinion des hommes d'un côté et des femmes de l'autre."
   ]
  },
  {
   "cell_type": "markdown",
   "metadata": {},
   "source": [
    "### 1.2.1  Option 1 : représenter le coefficient\n",
    "\n",
    "Grâce à summary.lm, on peut isoler les coefficients, les erreurs-types, et calculer les intervalles de condiance au seuil de 5% : "
   ]
  },
  {
   "cell_type": "code",
   "execution_count": 13,
   "metadata": {},
   "outputs": [
    {
     "data": {
      "text/html": [
       "<dl class=dl-horizontal>\n",
       "\t<dt>(Intercept)</dt>\n",
       "\t\t<dd>58.9890175378845</dd>\n",
       "\t<dt>genderFemme</dt>\n",
       "\t\t<dd>5.64847478764858</dd>\n",
       "</dl>\n"
      ],
      "text/latex": [
       "\\begin{description*}\n",
       "\\item[(Intercept)] 58.9890175378845\n",
       "\\item[genderFemme] 5.64847478764858\n",
       "\\end{description*}\n"
      ],
      "text/markdown": [
       "(Intercept)\n",
       ":   58.9890175378845genderFemme\n",
       ":   5.64847478764858\n",
       "\n"
      ],
      "text/plain": [
       "(Intercept) genderFemme \n",
       "  58.989018    5.648475 "
      ]
     },
     "metadata": {},
     "output_type": "display_data"
    }
   ],
   "source": [
    "summary(lm1)$coefficients[,1]"
   ]
  },
  {
   "cell_type": "code",
   "execution_count": 22,
   "metadata": {},
   "outputs": [
    {
     "data": {
      "text/html": [
       "5.64847478764858"
      ],
      "text/latex": [
       "5.64847478764858"
      ],
      "text/markdown": [
       "5.64847478764858"
      ],
      "text/plain": [
       "[1] 5.648475"
      ]
     },
     "metadata": {},
     "output_type": "display_data"
    }
   ],
   "source": [
    "est1<-summary(lm1)$coefficients[2,1]\n",
    "est1"
   ]
  },
  {
   "cell_type": "code",
   "execution_count": 20,
   "metadata": {},
   "outputs": [
    {
     "data": {
      "text/html": [
       "<dl class=dl-horizontal>\n",
       "\t<dt>(Intercept)</dt>\n",
       "\t\t<dd>0.219023229952692</dd>\n",
       "\t<dt>genderFemme</dt>\n",
       "\t\t<dd>0.29395516316297</dd>\n",
       "</dl>\n"
      ],
      "text/latex": [
       "\\begin{description*}\n",
       "\\item[(Intercept)] 0.219023229952692\n",
       "\\item[genderFemme] 0.29395516316297\n",
       "\\end{description*}\n"
      ],
      "text/markdown": [
       "(Intercept)\n",
       ":   0.219023229952692genderFemme\n",
       ":   0.29395516316297\n",
       "\n"
      ],
      "text/plain": [
       "(Intercept) genderFemme \n",
       "  0.2190232   0.2939552 "
      ]
     },
     "metadata": {},
     "output_type": "display_data"
    },
    {
     "data": {
      "text/html": [
       "0.29395516316297"
      ],
      "text/latex": [
       "0.29395516316297"
      ],
      "text/markdown": [
       "0.29395516316297"
      ],
      "text/plain": [
       "[1] 0.2939552"
      ]
     },
     "metadata": {},
     "output_type": "display_data"
    }
   ],
   "source": [
    "summary(lm1)$coefficients[,2]\n",
    "sd_est1<-summary(lm1)$coefficients[2,2]\n",
    "sd_est1"
   ]
  },
  {
   "cell_type": "code",
   "execution_count": 23,
   "metadata": {},
   "outputs": [
    {
     "data": {
      "text/html": [
       "5.07232266784916"
      ],
      "text/latex": [
       "5.07232266784916"
      ],
      "text/markdown": [
       "5.07232266784916"
      ],
      "text/plain": [
       "[1] 5.072323"
      ]
     },
     "metadata": {},
     "output_type": "display_data"
    }
   ],
   "source": [
    "c_inf <- est1-(1.96*sd_est1)\n",
    "c_inf"
   ]
  },
  {
   "cell_type": "code",
   "execution_count": 24,
   "metadata": {},
   "outputs": [
    {
     "data": {
      "text/html": [
       "6.224626907448"
      ],
      "text/latex": [
       "6.224626907448"
      ],
      "text/markdown": [
       "6.224626907448"
      ],
      "text/plain": [
       "[1] 6.224627"
      ]
     },
     "metadata": {},
     "output_type": "display_data"
    }
   ],
   "source": [
    "c_sup <- est1+(1.96*sd_est1)\n",
    "c_sup"
   ]
  },
  {
   "cell_type": "markdown",
   "metadata": {},
   "source": [
    "On peut donc les utiiser pour créer un data frame avec toutes les informations nécessaires à contruire un graphique de notre résultat principal. Nous avons besoin: \n",
    "- du coefficient de 'gender'\n",
    "- de l'intervalle de confiance autour de ce coefficient\n",
    "- que nous devons intégrer un à dataframe"
   ]
  },
  {
   "cell_type": "code",
   "execution_count": 25,
   "metadata": {},
   "outputs": [
    {
     "data": {
      "text/html": [
       "<table>\n",
       "<thead><tr><th scope=col>est</th><th scope=col>c_inf</th><th scope=col>c_sup</th><th scope=col>model</th></tr></thead>\n",
       "<tbody>\n",
       "\t<tr><td>5.648475     </td><td>5.072323     </td><td>6.224627     </td><td>Modèle simple</td></tr>\n",
       "</tbody>\n",
       "</table>\n"
      ],
      "text/latex": [
       "\\begin{tabular}{r|llll}\n",
       " est & c\\_inf & c\\_sup & model\\\\\n",
       "\\hline\n",
       "\t 5.648475      & 5.072323      & 6.224627      & Modèle simple\\\\\n",
       "\\end{tabular}\n"
      ],
      "text/markdown": [
       "\n",
       "| est | c_inf | c_sup | model |\n",
       "|---|---|---|---|\n",
       "| 5.648475      | 5.072323      | 6.224627      | Modèle simple |\n",
       "\n"
      ],
      "text/plain": [
       "  est      c_inf    c_sup    model        \n",
       "1 5.648475 5.072323 6.224627 Modèle simple"
      ]
     },
     "metadata": {},
     "output_type": "display_data"
    },
    {
     "data": {
      "text/html": [
       "<table>\n",
       "<thead><tr><th scope=col>est</th></tr></thead>\n",
       "<tbody>\n",
       "\t<tr><td>5.648475</td></tr>\n",
       "</tbody>\n",
       "</table>\n"
      ],
      "text/latex": [
       "\\begin{tabular}{r|l}\n",
       " est\\\\\n",
       "\\hline\n",
       "\t 5.648475\\\\\n",
       "\\end{tabular}\n"
      ],
      "text/markdown": [
       "\n",
       "| est |\n",
       "|---|\n",
       "| 5.648475 |\n",
       "\n"
      ],
      "text/plain": [
       "  est     \n",
       "1 5.648475"
      ]
     },
     "metadata": {},
     "output_type": "display_data"
    }
   ],
   "source": [
    "#création du data frame:\n",
    "est1 <- data.frame(est=est1,\n",
    "                    c_inf=c_inf,\n",
    "                    c_sup=c_sup,\n",
    "                    model=\"Modèle simple\")\n",
    "#le dataframe crée:\n",
    "est1\n",
    "est1[1]"
   ]
  },
  {
   "cell_type": "markdown",
   "metadata": {},
   "source": [
    "On peut ensuite réaliser le graphique avec **ggplot()**."
   ]
  },
  {
   "cell_type": "code",
   "execution_count": 26,
   "metadata": {},
   "outputs": [
    {
     "data": {
      "image/png": "[encoded data removed]",
      "text/plain": [
       "plot without title"
      ]
     },
     "metadata": {},
     "output_type": "display_data"
    }
   ],
   "source": [
    "ggplot(est1, aes(x=model,y=est)) +\n",
    "    geom_point()"
   ]
  },
  {
   "cell_type": "markdown",
   "metadata": {},
   "source": [
    "On ajoute l'intervalle de confiance :"
   ]
  },
  {
   "cell_type": "code",
   "execution_count": 27,
   "metadata": {},
   "outputs": [
    {
     "data": {
      "image/png": "[encoded data removed]",
      "text/plain": [
       "plot without title"
      ]
     },
     "metadata": {},
     "output_type": "display_data"
    }
   ],
   "source": [
    "ggplot(est1, aes(x=model,y=est)) +\n",
    "    geom_point() + \n",
    "    geom_errorbar(aes(ymin = c_inf, ymax = c_sup), width = 0.1) \n",
    "    "
   ]
  },
  {
   "cell_type": "markdown",
   "metadata": {},
   "source": [
    "On change l'échelle de y pour améliorer la lecture du graphique:"
   ]
  },
  {
   "cell_type": "code",
   "execution_count": 28,
   "metadata": {},
   "outputs": [
    {
     "data": {
      "image/png": "[encoded data removed]",
      "text/plain": [
       "plot without title"
      ]
     },
     "metadata": {},
     "output_type": "display_data"
    }
   ],
   "source": [
    "ggplot(est1, aes(x=model,y=est)) +\n",
    "    geom_point() + \n",
    "    geom_errorbar(aes(ymin = c_inf, ymax = c_sup), width = 0.1) +\n",
    "    geom_hline(yintercept = 0, lty = 2, color = \"red\") "
   ]
  },
  {
   "cell_type": "markdown",
   "metadata": {},
   "source": [
    "On ajoute des labels aux axes :"
   ]
  },
  {
   "cell_type": "code",
   "execution_count": 29,
   "metadata": {},
   "outputs": [
    {
     "data": {
      "image/png": "[encoded data removed]",
      "text/plain": [
       "plot without title"
      ]
     },
     "metadata": {},
     "output_type": "display_data"
    }
   ],
   "source": [
    "ggplot(est1, aes(x=model,y=est)) +\n",
    "    geom_point() + \n",
    "    geom_errorbar(aes(ymin = c_inf, ymax = c_sup), width = 0.1) +\n",
    "    geom_hline(yintercept = 0, lty = 2, color = \"red\") +\n",
    "    xlab(\"\") +\n",
    "    ylab(\"Opinion des femmes sur le parti démocrate (relativement aux hommes)\")"
   ]
  },
  {
   "cell_type": "markdown",
   "metadata": {},
   "source": [
    "### 1.2.2 Option 2 : représenter la moyenne conditionnelle de la variable dépendante y selon les différentes catégories de x\n",
    "\n",
    "On extrait de l'estimation \"lm1\" les valeurs prédites du score pro démocrate du thermomètre, ainsi que l'intervalle de confiance autour de ces valeurs prédites. "
   ]
  },
  {
   "cell_type": "code",
   "execution_count": 30,
   "metadata": {},
   "outputs": [],
   "source": [
    "predict_for <- data.frame(gender = c(\"Homme\", \"Femme\"))\n",
    "\n",
    "pred1 <- predict(lm1,\n",
    "                 newdata = predict_for,\n",
    "                 se.fit = T,\n",
    "                 interval = \"confidence\")"
   ]
  },
  {
   "cell_type": "markdown",
   "metadata": {},
   "source": [
    "Regardons ce que ça donne :"
   ]
  },
  {
   "cell_type": "code",
   "execution_count": 31,
   "metadata": {},
   "outputs": [
    {
     "data": {
      "text/html": [
       "<table>\n",
       "<thead><tr><th scope=col>gender</th></tr></thead>\n",
       "<tbody>\n",
       "\t<tr><td>Homme</td></tr>\n",
       "\t<tr><td>Femme</td></tr>\n",
       "</tbody>\n",
       "</table>\n"
      ],
      "text/latex": [
       "\\begin{tabular}{r|l}\n",
       " gender\\\\\n",
       "\\hline\n",
       "\t Homme\\\\\n",
       "\t Femme\\\\\n",
       "\\end{tabular}\n"
      ],
      "text/markdown": [
       "\n",
       "| gender |\n",
       "|---|\n",
       "| Homme |\n",
       "| Femme |\n",
       "\n"
      ],
      "text/plain": [
       "  gender\n",
       "1 Homme \n",
       "2 Femme "
      ]
     },
     "metadata": {},
     "output_type": "display_data"
    },
    {
     "data": {
      "text/html": [
       "<dl>\n",
       "\t<dt>$fit</dt>\n",
       "\t\t<dd><table>\n",
       "<thead><tr><th scope=col>fit</th><th scope=col>lwr</th><th scope=col>upr</th></tr></thead>\n",
       "<tbody>\n",
       "\t<tr><td>58.98902</td><td>58.55972</td><td>59.41831</td></tr>\n",
       "\t<tr><td>64.63749</td><td>64.25321</td><td>65.02178</td></tr>\n",
       "</tbody>\n",
       "</table>\n",
       "</dd>\n",
       "\t<dt>$se.fit</dt>\n",
       "\t\t<dd><dl class=dl-horizontal>\n",
       "\t<dt>1</dt>\n",
       "\t\t<dd>0.219023229952692</dd>\n",
       "\t<dt>2</dt>\n",
       "\t\t<dd>0.196057294409716</dd>\n",
       "</dl>\n",
       "</dd>\n",
       "\t<dt>$df</dt>\n",
       "\t\t<dd>26403</dd>\n",
       "\t<dt>$residual.scale</dt>\n",
       "\t\t<dd>23.7375109181893</dd>\n",
       "</dl>\n"
      ],
      "text/latex": [
       "\\begin{description}\n",
       "\\item[\\$fit] \\begin{tabular}{r|lll}\n",
       " fit & lwr & upr\\\\\n",
       "\\hline\n",
       "\t 58.98902 & 58.55972 & 59.41831\\\\\n",
       "\t 64.63749 & 64.25321 & 65.02178\\\\\n",
       "\\end{tabular}\n",
       "\n",
       "\\item[\\$se.fit] \\begin{description*}\n",
       "\\item[1] 0.219023229952692\n",
       "\\item[2] 0.196057294409716\n",
       "\\end{description*}\n",
       "\n",
       "\\item[\\$df] 26403\n",
       "\\item[\\$residual.scale] 23.7375109181893\n",
       "\\end{description}\n"
      ],
      "text/markdown": [
       "$fit\n",
       ":   \n",
       "| fit | lwr | upr |\n",
       "|---|---|---|\n",
       "| 58.98902 | 58.55972 | 59.41831 |\n",
       "| 64.63749 | 64.25321 | 65.02178 |\n",
       "\n",
       "\n",
       "$se.fit\n",
       ":   1\n",
       ":   0.2190232299526922\n",
       ":   0.196057294409716\n",
       "\n",
       "\n",
       "$df\n",
       ":   26403\n",
       "$residual.scale\n",
       ":   23.7375109181893\n",
       "\n",
       "\n"
      ],
      "text/plain": [
       "$fit\n",
       "       fit      lwr      upr\n",
       "1 58.98902 58.55972 59.41831\n",
       "2 64.63749 64.25321 65.02178\n",
       "\n",
       "$se.fit\n",
       "        1         2 \n",
       "0.2190232 0.1960573 \n",
       "\n",
       "$df\n",
       "[1] 26403\n",
       "\n",
       "$residual.scale\n",
       "[1] 23.73751\n"
      ]
     },
     "metadata": {},
     "output_type": "display_data"
    }
   ],
   "source": [
    "predict_for\n",
    "pred1"
   ]
  },
  {
   "cell_type": "markdown",
   "metadata": {},
   "source": [
    "Ce qui nous intéresse se trouve dans $fit. On crée un nouveau dataframe *pred1* dans leuel on crée la variable *Genre* pour la légende du graphique :"
   ]
  },
  {
   "cell_type": "code",
   "execution_count": 17,
   "metadata": {},
   "outputs": [
    {
     "data": {
      "text/html": [
       "<table>\n",
       "<thead><tr><th scope=col>fit</th><th scope=col>lwr</th><th scope=col>upr</th><th scope=col>gender</th></tr></thead>\n",
       "<tbody>\n",
       "\t<tr><td>58.98902</td><td>58.55972</td><td>59.41831</td><td>Homme   </td></tr>\n",
       "\t<tr><td>64.63749</td><td>64.25321</td><td>65.02178</td><td>Femme   </td></tr>\n",
       "</tbody>\n",
       "</table>\n"
      ],
      "text/latex": [
       "\\begin{tabular}{r|llll}\n",
       " fit & lwr & upr & gender\\\\\n",
       "\\hline\n",
       "\t 58.98902 & 58.55972 & 59.41831 & Homme   \\\\\n",
       "\t 64.63749 & 64.25321 & 65.02178 & Femme   \\\\\n",
       "\\end{tabular}\n"
      ],
      "text/markdown": [
       "\n",
       "| fit | lwr | upr | gender |\n",
       "|---|---|---|---|\n",
       "| 58.98902 | 58.55972 | 59.41831 | Homme    |\n",
       "| 64.63749 | 64.25321 | 65.02178 | Femme    |\n",
       "\n"
      ],
      "text/plain": [
       "  fit      lwr      upr      gender\n",
       "1 58.98902 58.55972 59.41831 Homme \n",
       "2 64.63749 64.25321 65.02178 Femme "
      ]
     },
     "metadata": {},
     "output_type": "display_data"
    }
   ],
   "source": [
    "pred1 <- data.frame(cbind(pred1$fit, predict_for))\n",
    "pred1"
   ]
  },
  {
   "cell_type": "markdown",
   "metadata": {},
   "source": [
    "On peut maintenant représenter les coefficients graphiquement par **ggplot** et **geom_point()** :"
   ]
  },
  {
   "cell_type": "code",
   "execution_count": 18,
   "metadata": {},
   "outputs": [
    {
     "data": {
      "image/png": "[encoded data removed]",
      "text/plain": [
       "plot without title"
      ]
     },
     "metadata": {},
     "output_type": "display_data"
    }
   ],
   "source": [
    "ggplot(pred1, aes(x = gender, y = fit, color = gender)) +\n",
    "    geom_point() "
   ]
  },
  {
   "cell_type": "markdown",
   "metadata": {},
   "source": [
    "On ajoute les intervalles de confiance (**geom_errorbar()**) et des labels aux axes (**xlab()** et **ylab()**) : "
   ]
  },
  {
   "cell_type": "code",
   "execution_count": 19,
   "metadata": {},
   "outputs": [
    {
     "data": {
      "image/png": "[encoded data removed]",
      "text/plain": [
       "plot without title"
      ]
     },
     "metadata": {},
     "output_type": "display_data"
    }
   ],
   "source": [
    "\n",
    "ggplot(pred1, aes(x = gender, y = fit, color = gender)) +\n",
    "    geom_point() +\n",
    "    geom_errorbar(aes(ymin = lwr, ymax = upr), width = 0.1) +\n",
    "    xlab(\"\") +\n",
    "    ylab(\"Moyenne du score pro-démocrate (entre 0 et 100)\")"
   ]
  },
  {
   "cell_type": "markdown",
   "metadata": {},
   "source": [
    "Discussion: Que conclure ? Quelle est la relation entre le premier graphique (option 1) et le second graphique (option 2) ?"
   ]
  },
  {
   "cell_type": "markdown",
   "metadata": {},
   "source": [
    "# 2. Modèle de régression multiple\n",
    "On peut également estimer un modèle à plusieurs variables explicatives. On ajoute à notre modèle simple deux variables: *income* et *age*."
   ]
  },
  {
   "cell_type": "markdown",
   "metadata": {},
   "source": [
    "### 2.1 Estimation\n",
    "\n",
    "Avant toute chose on vérifie quelle est la nature des données, et on les inspecte pour vérifier que les variables manquantes sont bien encodées NA (not available)."
   ]
  },
  {
   "cell_type": "code",
   "execution_count": 20,
   "metadata": {},
   "outputs": [
    {
     "data": {
      "text/html": [
       "'numeric'"
      ],
      "text/latex": [
       "'numeric'"
      ],
      "text/markdown": [
       "'numeric'"
      ],
      "text/plain": [
       "[1] \"numeric\""
      ]
     },
     "metadata": {},
     "output_type": "display_data"
    },
    {
     "data": {
      "text/html": [
       "'factor'"
      ],
      "text/latex": [
       "'factor'"
      ],
      "text/markdown": [
       "'factor'"
      ],
      "text/plain": [
       "[1] \"factor\""
      ]
     },
     "metadata": {},
     "output_type": "display_data"
    }
   ],
   "source": [
    "class(anes$age)\n",
    "class(anes$income)"
   ]
  },
  {
   "cell_type": "code",
   "execution_count": 21,
   "metadata": {},
   "outputs": [
    {
     "data": {
      "text/html": [
       "<ol class=list-inline>\n",
       "\t<li>0</li>\n",
       "\t<li>17</li>\n",
       "\t<li>18</li>\n",
       "\t<li>19</li>\n",
       "\t<li>20</li>\n",
       "\t<li>21</li>\n",
       "\t<li>22</li>\n",
       "\t<li>23</li>\n",
       "\t<li>24</li>\n",
       "\t<li>25</li>\n",
       "\t<li>26</li>\n",
       "\t<li>27</li>\n",
       "\t<li>28</li>\n",
       "\t<li>29</li>\n",
       "\t<li>30</li>\n",
       "\t<li>31</li>\n",
       "\t<li>32</li>\n",
       "\t<li>33</li>\n",
       "\t<li>34</li>\n",
       "\t<li>35</li>\n",
       "\t<li>36</li>\n",
       "\t<li>37</li>\n",
       "\t<li>38</li>\n",
       "\t<li>39</li>\n",
       "\t<li>40</li>\n",
       "\t<li>41</li>\n",
       "\t<li>42</li>\n",
       "\t<li>43</li>\n",
       "\t<li>44</li>\n",
       "\t<li>45</li>\n",
       "\t<li>46</li>\n",
       "\t<li>47</li>\n",
       "\t<li>48</li>\n",
       "\t<li>49</li>\n",
       "\t<li>50</li>\n",
       "\t<li>51</li>\n",
       "\t<li>52</li>\n",
       "\t<li>53</li>\n",
       "\t<li>54</li>\n",
       "\t<li>55</li>\n",
       "\t<li>56</li>\n",
       "\t<li>57</li>\n",
       "\t<li>58</li>\n",
       "\t<li>59</li>\n",
       "\t<li>60</li>\n",
       "\t<li>61</li>\n",
       "\t<li>62</li>\n",
       "\t<li>63</li>\n",
       "\t<li>64</li>\n",
       "\t<li>65</li>\n",
       "\t<li>66</li>\n",
       "\t<li>67</li>\n",
       "\t<li>68</li>\n",
       "\t<li>69</li>\n",
       "\t<li>70</li>\n",
       "\t<li>71</li>\n",
       "\t<li>72</li>\n",
       "\t<li>73</li>\n",
       "\t<li>74</li>\n",
       "\t<li>75</li>\n",
       "\t<li>76</li>\n",
       "\t<li>77</li>\n",
       "\t<li>78</li>\n",
       "\t<li>79</li>\n",
       "\t<li>80</li>\n",
       "\t<li>81</li>\n",
       "\t<li>82</li>\n",
       "\t<li>83</li>\n",
       "\t<li>84</li>\n",
       "\t<li>85</li>\n",
       "\t<li>86</li>\n",
       "\t<li>87</li>\n",
       "\t<li>88</li>\n",
       "\t<li>89</li>\n",
       "\t<li>90</li>\n",
       "\t<li>91</li>\n",
       "\t<li>92</li>\n",
       "\t<li>93</li>\n",
       "\t<li>94</li>\n",
       "\t<li>95</li>\n",
       "\t<li>96</li>\n",
       "\t<li>97</li>\n",
       "\t<li>98</li>\n",
       "\t<li>99</li>\n",
       "</ol>\n"
      ],
      "text/latex": [
       "\\begin{enumerate*}\n",
       "\\item 0\n",
       "\\item 17\n",
       "\\item 18\n",
       "\\item 19\n",
       "\\item 20\n",
       "\\item 21\n",
       "\\item 22\n",
       "\\item 23\n",
       "\\item 24\n",
       "\\item 25\n",
       "\\item 26\n",
       "\\item 27\n",
       "\\item 28\n",
       "\\item 29\n",
       "\\item 30\n",
       "\\item 31\n",
       "\\item 32\n",
       "\\item 33\n",
       "\\item 34\n",
       "\\item 35\n",
       "\\item 36\n",
       "\\item 37\n",
       "\\item 38\n",
       "\\item 39\n",
       "\\item 40\n",
       "\\item 41\n",
       "\\item 42\n",
       "\\item 43\n",
       "\\item 44\n",
       "\\item 45\n",
       "\\item 46\n",
       "\\item 47\n",
       "\\item 48\n",
       "\\item 49\n",
       "\\item 50\n",
       "\\item 51\n",
       "\\item 52\n",
       "\\item 53\n",
       "\\item 54\n",
       "\\item 55\n",
       "\\item 56\n",
       "\\item 57\n",
       "\\item 58\n",
       "\\item 59\n",
       "\\item 60\n",
       "\\item 61\n",
       "\\item 62\n",
       "\\item 63\n",
       "\\item 64\n",
       "\\item 65\n",
       "\\item 66\n",
       "\\item 67\n",
       "\\item 68\n",
       "\\item 69\n",
       "\\item 70\n",
       "\\item 71\n",
       "\\item 72\n",
       "\\item 73\n",
       "\\item 74\n",
       "\\item 75\n",
       "\\item 76\n",
       "\\item 77\n",
       "\\item 78\n",
       "\\item 79\n",
       "\\item 80\n",
       "\\item 81\n",
       "\\item 82\n",
       "\\item 83\n",
       "\\item 84\n",
       "\\item 85\n",
       "\\item 86\n",
       "\\item 87\n",
       "\\item 88\n",
       "\\item 89\n",
       "\\item 90\n",
       "\\item 91\n",
       "\\item 92\n",
       "\\item 93\n",
       "\\item 94\n",
       "\\item 95\n",
       "\\item 96\n",
       "\\item 97\n",
       "\\item 98\n",
       "\\item 99\n",
       "\\end{enumerate*}\n"
      ],
      "text/markdown": [
       "1. 0\n",
       "2. 17\n",
       "3. 18\n",
       "4. 19\n",
       "5. 20\n",
       "6. 21\n",
       "7. 22\n",
       "8. 23\n",
       "9. 24\n",
       "10. 25\n",
       "11. 26\n",
       "12. 27\n",
       "13. 28\n",
       "14. 29\n",
       "15. 30\n",
       "16. 31\n",
       "17. 32\n",
       "18. 33\n",
       "19. 34\n",
       "20. 35\n",
       "21. 36\n",
       "22. 37\n",
       "23. 38\n",
       "24. 39\n",
       "25. 40\n",
       "26. 41\n",
       "27. 42\n",
       "28. 43\n",
       "29. 44\n",
       "30. 45\n",
       "31. 46\n",
       "32. 47\n",
       "33. 48\n",
       "34. 49\n",
       "35. 50\n",
       "36. 51\n",
       "37. 52\n",
       "38. 53\n",
       "39. 54\n",
       "40. 55\n",
       "41. 56\n",
       "42. 57\n",
       "43. 58\n",
       "44. 59\n",
       "45. 60\n",
       "46. 61\n",
       "47. 62\n",
       "48. 63\n",
       "49. 64\n",
       "50. 65\n",
       "51. 66\n",
       "52. 67\n",
       "53. 68\n",
       "54. 69\n",
       "55. 70\n",
       "56. 71\n",
       "57. 72\n",
       "58. 73\n",
       "59. 74\n",
       "60. 75\n",
       "61. 76\n",
       "62. 77\n",
       "63. 78\n",
       "64. 79\n",
       "65. 80\n",
       "66. 81\n",
       "67. 82\n",
       "68. 83\n",
       "69. 84\n",
       "70. 85\n",
       "71. 86\n",
       "72. 87\n",
       "73. 88\n",
       "74. 89\n",
       "75. 90\n",
       "76. 91\n",
       "77. 92\n",
       "78. 93\n",
       "79. 94\n",
       "80. 95\n",
       "81. 96\n",
       "82. 97\n",
       "83. 98\n",
       "84. 99\n",
       "\n",
       "\n"
      ],
      "text/plain": [
       " [1]  0 17 18 19 20 21 22 23 24 25 26 27 28 29 30 31 32 33 34 35 36 37 38 39 40\n",
       "[26] 41 42 43 44 45 46 47 48 49 50 51 52 53 54 55 56 57 58 59 60 61 62 63 64 65\n",
       "[51] 66 67 68 69 70 71 72 73 74 75 76 77 78 79 80 81 82 83 84 85 86 87 88 89 90\n",
       "[76] 91 92 93 94 95 96 97 98 99"
      ]
     },
     "metadata": {},
     "output_type": "display_data"
    },
    {
     "data": {
      "text/html": [
       "<ol class=list-inline>\n",
       "\t<li>'0. DK; NA; refused to answer; no Pre IW'</li>\n",
       "\t<li>'1. 0 to 16 percentile'</li>\n",
       "\t<li>'2. 17 to 33 percentile'</li>\n",
       "\t<li>'3. 34 to 67 percentile'</li>\n",
       "\t<li>'4. 68 to 95 percentile'</li>\n",
       "\t<li>'5. 96 to 100 percentile'</li>\n",
       "</ol>\n"
      ],
      "text/latex": [
       "\\begin{enumerate*}\n",
       "\\item '0. DK; NA; refused to answer; no Pre IW'\n",
       "\\item '1. 0 to 16 percentile'\n",
       "\\item '2. 17 to 33 percentile'\n",
       "\\item '3. 34 to 67 percentile'\n",
       "\\item '4. 68 to 95 percentile'\n",
       "\\item '5. 96 to 100 percentile'\n",
       "\\end{enumerate*}\n"
      ],
      "text/markdown": [
       "1. '0. DK; NA; refused to answer; no Pre IW'\n",
       "2. '1. 0 to 16 percentile'\n",
       "3. '2. 17 to 33 percentile'\n",
       "4. '3. 34 to 67 percentile'\n",
       "5. '4. 68 to 95 percentile'\n",
       "6. '5. 96 to 100 percentile'\n",
       "\n",
       "\n"
      ],
      "text/plain": [
       "[1] \"0. DK; NA; refused to answer; no Pre IW\"\n",
       "[2] \"1. 0 to 16 percentile\"                  \n",
       "[3] \"2. 17 to 33 percentile\"                 \n",
       "[4] \"3. 34 to 67 percentile\"                 \n",
       "[5] \"4. 68 to 95 percentile\"                 \n",
       "[6] \"5. 96 to 100 percentile\"                "
      ]
     },
     "metadata": {},
     "output_type": "display_data"
    }
   ],
   "source": [
    "sort(unique(anes$age)) #get a vector of sorted unique values\n",
    "levels(anes$income)"
   ]
  },
  {
   "cell_type": "markdown",
   "metadata": {},
   "source": [
    "On voit que certaines personnes ont un âge de 0. On voit aussi que la catégorie 1 de *income* correspond en fait à de l'information manquante.\n",
    "\n",
    "Nous ne souhaitons pas que la régression tienne compte des observations pour lesquelles la valeur est en fait manquante. Pour cela, on effectue les modifications nécessaires concernant les valeurs manquantes : "
   ]
  },
  {
   "cell_type": "code",
   "execution_count": 22,
   "metadata": {},
   "outputs": [
    {
     "data": {
      "text/html": [
       "<ol class=list-inline>\n",
       "\t<li>17</li>\n",
       "\t<li>18</li>\n",
       "\t<li>19</li>\n",
       "\t<li>20</li>\n",
       "\t<li>21</li>\n",
       "\t<li>22</li>\n",
       "\t<li>23</li>\n",
       "\t<li>24</li>\n",
       "\t<li>25</li>\n",
       "\t<li>26</li>\n",
       "\t<li>27</li>\n",
       "\t<li>28</li>\n",
       "\t<li>29</li>\n",
       "\t<li>30</li>\n",
       "\t<li>31</li>\n",
       "\t<li>32</li>\n",
       "\t<li>33</li>\n",
       "\t<li>34</li>\n",
       "\t<li>35</li>\n",
       "\t<li>36</li>\n",
       "\t<li>37</li>\n",
       "\t<li>38</li>\n",
       "\t<li>39</li>\n",
       "\t<li>40</li>\n",
       "\t<li>41</li>\n",
       "\t<li>42</li>\n",
       "\t<li>43</li>\n",
       "\t<li>44</li>\n",
       "\t<li>45</li>\n",
       "\t<li>46</li>\n",
       "\t<li>47</li>\n",
       "\t<li>48</li>\n",
       "\t<li>49</li>\n",
       "\t<li>50</li>\n",
       "\t<li>51</li>\n",
       "\t<li>52</li>\n",
       "\t<li>53</li>\n",
       "\t<li>54</li>\n",
       "\t<li>55</li>\n",
       "\t<li>56</li>\n",
       "\t<li>57</li>\n",
       "\t<li>58</li>\n",
       "\t<li>59</li>\n",
       "\t<li>60</li>\n",
       "\t<li>61</li>\n",
       "\t<li>62</li>\n",
       "\t<li>63</li>\n",
       "\t<li>64</li>\n",
       "\t<li>65</li>\n",
       "\t<li>66</li>\n",
       "\t<li>67</li>\n",
       "\t<li>68</li>\n",
       "\t<li>69</li>\n",
       "\t<li>70</li>\n",
       "\t<li>71</li>\n",
       "\t<li>72</li>\n",
       "\t<li>73</li>\n",
       "\t<li>74</li>\n",
       "\t<li>75</li>\n",
       "\t<li>76</li>\n",
       "\t<li>77</li>\n",
       "\t<li>78</li>\n",
       "\t<li>79</li>\n",
       "\t<li>80</li>\n",
       "\t<li>81</li>\n",
       "\t<li>82</li>\n",
       "\t<li>83</li>\n",
       "\t<li>84</li>\n",
       "\t<li>85</li>\n",
       "\t<li>86</li>\n",
       "\t<li>87</li>\n",
       "\t<li>88</li>\n",
       "\t<li>89</li>\n",
       "\t<li>90</li>\n",
       "\t<li>91</li>\n",
       "\t<li>92</li>\n",
       "\t<li>93</li>\n",
       "\t<li>94</li>\n",
       "\t<li>95</li>\n",
       "\t<li>96</li>\n",
       "\t<li>97</li>\n",
       "\t<li>98</li>\n",
       "\t<li>99</li>\n",
       "</ol>\n"
      ],
      "text/latex": [
       "\\begin{enumerate*}\n",
       "\\item 17\n",
       "\\item 18\n",
       "\\item 19\n",
       "\\item 20\n",
       "\\item 21\n",
       "\\item 22\n",
       "\\item 23\n",
       "\\item 24\n",
       "\\item 25\n",
       "\\item 26\n",
       "\\item 27\n",
       "\\item 28\n",
       "\\item 29\n",
       "\\item 30\n",
       "\\item 31\n",
       "\\item 32\n",
       "\\item 33\n",
       "\\item 34\n",
       "\\item 35\n",
       "\\item 36\n",
       "\\item 37\n",
       "\\item 38\n",
       "\\item 39\n",
       "\\item 40\n",
       "\\item 41\n",
       "\\item 42\n",
       "\\item 43\n",
       "\\item 44\n",
       "\\item 45\n",
       "\\item 46\n",
       "\\item 47\n",
       "\\item 48\n",
       "\\item 49\n",
       "\\item 50\n",
       "\\item 51\n",
       "\\item 52\n",
       "\\item 53\n",
       "\\item 54\n",
       "\\item 55\n",
       "\\item 56\n",
       "\\item 57\n",
       "\\item 58\n",
       "\\item 59\n",
       "\\item 60\n",
       "\\item 61\n",
       "\\item 62\n",
       "\\item 63\n",
       "\\item 64\n",
       "\\item 65\n",
       "\\item 66\n",
       "\\item 67\n",
       "\\item 68\n",
       "\\item 69\n",
       "\\item 70\n",
       "\\item 71\n",
       "\\item 72\n",
       "\\item 73\n",
       "\\item 74\n",
       "\\item 75\n",
       "\\item 76\n",
       "\\item 77\n",
       "\\item 78\n",
       "\\item 79\n",
       "\\item 80\n",
       "\\item 81\n",
       "\\item 82\n",
       "\\item 83\n",
       "\\item 84\n",
       "\\item 85\n",
       "\\item 86\n",
       "\\item 87\n",
       "\\item 88\n",
       "\\item 89\n",
       "\\item 90\n",
       "\\item 91\n",
       "\\item 92\n",
       "\\item 93\n",
       "\\item 94\n",
       "\\item 95\n",
       "\\item 96\n",
       "\\item 97\n",
       "\\item 98\n",
       "\\item 99\n",
       "\\end{enumerate*}\n"
      ],
      "text/markdown": [
       "1. 17\n",
       "2. 18\n",
       "3. 19\n",
       "4. 20\n",
       "5. 21\n",
       "6. 22\n",
       "7. 23\n",
       "8. 24\n",
       "9. 25\n",
       "10. 26\n",
       "11. 27\n",
       "12. 28\n",
       "13. 29\n",
       "14. 30\n",
       "15. 31\n",
       "16. 32\n",
       "17. 33\n",
       "18. 34\n",
       "19. 35\n",
       "20. 36\n",
       "21. 37\n",
       "22. 38\n",
       "23. 39\n",
       "24. 40\n",
       "25. 41\n",
       "26. 42\n",
       "27. 43\n",
       "28. 44\n",
       "29. 45\n",
       "30. 46\n",
       "31. 47\n",
       "32. 48\n",
       "33. 49\n",
       "34. 50\n",
       "35. 51\n",
       "36. 52\n",
       "37. 53\n",
       "38. 54\n",
       "39. 55\n",
       "40. 56\n",
       "41. 57\n",
       "42. 58\n",
       "43. 59\n",
       "44. 60\n",
       "45. 61\n",
       "46. 62\n",
       "47. 63\n",
       "48. 64\n",
       "49. 65\n",
       "50. 66\n",
       "51. 67\n",
       "52. 68\n",
       "53. 69\n",
       "54. 70\n",
       "55. 71\n",
       "56. 72\n",
       "57. 73\n",
       "58. 74\n",
       "59. 75\n",
       "60. 76\n",
       "61. 77\n",
       "62. 78\n",
       "63. 79\n",
       "64. 80\n",
       "65. 81\n",
       "66. 82\n",
       "67. 83\n",
       "68. 84\n",
       "69. 85\n",
       "70. 86\n",
       "71. 87\n",
       "72. 88\n",
       "73. 89\n",
       "74. 90\n",
       "75. 91\n",
       "76. 92\n",
       "77. 93\n",
       "78. 94\n",
       "79. 95\n",
       "80. 96\n",
       "81. 97\n",
       "82. 98\n",
       "83. 99\n",
       "\n",
       "\n"
      ],
      "text/plain": [
       " [1] 17 18 19 20 21 22 23 24 25 26 27 28 29 30 31 32 33 34 35 36 37 38 39 40 41\n",
       "[26] 42 43 44 45 46 47 48 49 50 51 52 53 54 55 56 57 58 59 60 61 62 63 64 65 66\n",
       "[51] 67 68 69 70 71 72 73 74 75 76 77 78 79 80 81 82 83 84 85 86 87 88 89 90 91\n",
       "[76] 92 93 94 95 96 97 98 99"
      ]
     },
     "metadata": {},
     "output_type": "display_data"
    },
    {
     "data": {
      "text/html": [
       "<ol class=list-inline>\n",
       "\t<li>'1. 0 to 16 percentile'</li>\n",
       "\t<li>'2. 17 to 33 percentile'</li>\n",
       "\t<li>'3. 34 to 67 percentile'</li>\n",
       "\t<li>'4. 68 to 95 percentile'</li>\n",
       "\t<li>'5. 96 to 100 percentile'</li>\n",
       "</ol>\n"
      ],
      "text/latex": [
       "\\begin{enumerate*}\n",
       "\\item '1. 0 to 16 percentile'\n",
       "\\item '2. 17 to 33 percentile'\n",
       "\\item '3. 34 to 67 percentile'\n",
       "\\item '4. 68 to 95 percentile'\n",
       "\\item '5. 96 to 100 percentile'\n",
       "\\end{enumerate*}\n"
      ],
      "text/markdown": [
       "1. '1. 0 to 16 percentile'\n",
       "2. '2. 17 to 33 percentile'\n",
       "3. '3. 34 to 67 percentile'\n",
       "4. '4. 68 to 95 percentile'\n",
       "5. '5. 96 to 100 percentile'\n",
       "\n",
       "\n"
      ],
      "text/plain": [
       "[1] \"1. 0 to 16 percentile\"   \"2. 17 to 33 percentile\" \n",
       "[3] \"3. 34 to 67 percentile\"  \"4. 68 to 95 percentile\" \n",
       "[5] \"5. 96 to 100 percentile\""
      ]
     },
     "metadata": {},
     "output_type": "display_data"
    }
   ],
   "source": [
    "#correction de age\n",
    "anes$age[anes$age==0]<-NA\n",
    "sort(unique(anes$age)) \n",
    "\n",
    "#correction des quintiles\n",
    "levels(anes$income)[1]<-NA\n",
    "levels(anes$income)"
   ]
  },
  {
   "cell_type": "markdown",
   "metadata": {},
   "source": [
    "On peut alors régresser :"
   ]
  },
  {
   "cell_type": "code",
   "execution_count": 32,
   "metadata": {
    "scrolled": true
   },
   "outputs": [],
   "source": [
    "lm2 <- lm(demtherm~gender+income+age, data=anes)"
   ]
  },
  {
   "cell_type": "markdown",
   "metadata": {},
   "source": [
    "Pour visualiser : "
   ]
  },
  {
   "cell_type": "code",
   "execution_count": 33,
   "metadata": {},
   "outputs": [
    {
     "data": {
      "text/plain": [
       "\n",
       "Call:\n",
       "lm(formula = demtherm ~ gender + income + age, data = anes)\n",
       "\n",
       "Residuals:\n",
       "    Min      1Q  Median      3Q     Max \n",
       "-75.594 -14.418   0.599  18.162  51.511 \n",
       "\n",
       "Coefficients:\n",
       "                                Estimate Std. Error t value Pr(>|t|)    \n",
       "(Intercept)                    57.606256   0.627250  91.839  < 2e-16 ***\n",
       "genderFemme                     4.132062   0.290848  14.207  < 2e-16 ***\n",
       "income1. 0 to 16 percentile     6.043360   0.579755  10.424  < 2e-16 ***\n",
       "income2. 17 to 33 percentile    2.058786   0.576438   3.572 0.000355 ***\n",
       "income3. 34 to 67 percentile   -2.420128   0.522660  -4.630 3.67e-06 ***\n",
       "income4. 68 to 95 percentile   -6.369211   0.541353 -11.765  < 2e-16 ***\n",
       "income5. 96 to 100 percentile -11.797675   0.787046 -14.990  < 2e-16 ***\n",
       "age                             0.084007   0.008089  10.385  < 2e-16 ***\n",
       "---\n",
       "Signif. codes:  0 '***' 0.001 '**' 0.01 '*' 0.05 '.' 0.1 ' ' 1\n",
       "\n",
       "Residual standard error: 23.2 on 26397 degrees of freedom\n",
       "  (23355 observations deleted due to missingness)\n",
       "Multiple R-squared:  0.05823,\tAdjusted R-squared:  0.05798 \n",
       "F-statistic: 233.1 on 7 and 26397 DF,  p-value: < 2.2e-16\n"
      ]
     },
     "metadata": {},
     "output_type": "display_data"
    }
   ],
   "source": [
    "summary(lm2) #avec les étoiles"
   ]
  },
  {
   "cell_type": "markdown",
   "metadata": {},
   "source": [
    "Discussion : interpréter les coefficients estimés par le modèle lm2."
   ]
  },
  {
   "cell_type": "markdown",
   "metadata": {},
   "source": [
    "### 2.2 Représentation graphique"
   ]
  },
  {
   "cell_type": "markdown",
   "metadata": {
    "collapsed": true
   },
   "source": [
    "**Exercice 1** : \n",
    "\n",
    "Réaliser le graphique type 'Option 1' qui montre l'effet du genre sur le thermomètre démocrate, avec le nouveau modèle lm2."
   ]
  },
  {
   "cell_type": "code",
   "execution_count": 34,
   "metadata": {},
   "outputs": [
    {
     "data": {
      "text/plain": [
       "\n",
       "Call:\n",
       "lm(formula = demtherm ~ gender + income + age, data = anes)\n",
       "\n",
       "Residuals:\n",
       "    Min      1Q  Median      3Q     Max \n",
       "-75.594 -14.418   0.599  18.162  51.511 \n",
       "\n",
       "Coefficients:\n",
       "                                Estimate Std. Error t value Pr(>|t|)    \n",
       "(Intercept)                    57.606256   0.627250  91.839  < 2e-16 ***\n",
       "genderFemme                     4.132062   0.290848  14.207  < 2e-16 ***\n",
       "income1. 0 to 16 percentile     6.043360   0.579755  10.424  < 2e-16 ***\n",
       "income2. 17 to 33 percentile    2.058786   0.576438   3.572 0.000355 ***\n",
       "income3. 34 to 67 percentile   -2.420128   0.522660  -4.630 3.67e-06 ***\n",
       "income4. 68 to 95 percentile   -6.369211   0.541353 -11.765  < 2e-16 ***\n",
       "income5. 96 to 100 percentile -11.797675   0.787046 -14.990  < 2e-16 ***\n",
       "age                             0.084007   0.008089  10.385  < 2e-16 ***\n",
       "---\n",
       "Signif. codes:  0 '***' 0.001 '**' 0.01 '*' 0.05 '.' 0.1 ' ' 1\n",
       "\n",
       "Residual standard error: 23.2 on 26397 degrees of freedom\n",
       "  (23355 observations deleted due to missingness)\n",
       "Multiple R-squared:  0.05823,\tAdjusted R-squared:  0.05798 \n",
       "F-statistic: 233.1 on 7 and 26397 DF,  p-value: < 2.2e-16\n"
      ]
     },
     "metadata": {},
     "output_type": "display_data"
    }
   ],
   "source": [
    "#voir les objets\n"
   ]
  },
  {
   "cell_type": "code",
   "execution_count": 35,
   "metadata": {},
   "outputs": [
    {
     "data": {
      "text/html": [
       "4.13206217075806"
      ],
      "text/latex": [
       "4.13206217075806"
      ],
      "text/markdown": [
       "4.13206217075806"
      ],
      "text/plain": [
       "[1] 4.132062"
      ]
     },
     "metadata": {},
     "output_type": "display_data"
    },
    {
     "data": {
      "text/html": [
       "3.56200028964313"
      ],
      "text/latex": [
       "3.56200028964313"
      ],
      "text/markdown": [
       "3.56200028964313"
      ],
      "text/plain": [
       "[1] 3.562"
      ]
     },
     "metadata": {},
     "output_type": "display_data"
    },
    {
     "data": {
      "text/html": [
       "4.702124051873"
      ],
      "text/latex": [
       "4.702124051873"
      ],
      "text/markdown": [
       "4.702124051873"
      ],
      "text/plain": [
       "[1] 4.702124"
      ]
     },
     "metadata": {},
     "output_type": "display_data"
    }
   ],
   "source": [
    "#sélection des objets pertinents\n",
    "est2<-\n",
    "sd_est2<-\n",
    "c_inf<-\n",
    "c_sup<-\n",
    "est2\n",
    "c_inf\n",
    "c_sup"
   ]
  },
  {
   "cell_type": "code",
   "execution_count": 36,
   "metadata": {},
   "outputs": [],
   "source": [
    "#création d'un dataframe\n",
    "est2 <- "
   ]
  },
  {
   "cell_type": "code",
   "execution_count": 37,
   "metadata": {},
   "outputs": [
    {
     "data": {
      "text/html": [
       "<table>\n",
       "<thead><tr><th scope=col>est</th><th scope=col>c_inf</th><th scope=col>c_sup</th><th scope=col>model</th></tr></thead>\n",
       "<tbody>\n",
       "\t<tr><td>4.132062       </td><td>3.562          </td><td>4.702124       </td><td>Modèle multiple</td></tr>\n",
       "</tbody>\n",
       "</table>\n"
      ],
      "text/latex": [
       "\\begin{tabular}{r|llll}\n",
       " est & c\\_inf & c\\_sup & model\\\\\n",
       "\\hline\n",
       "\t 4.132062        & 3.562           & 4.702124        & Modèle multiple\\\\\n",
       "\\end{tabular}\n"
      ],
      "text/markdown": [
       "\n",
       "| est | c_inf | c_sup | model |\n",
       "|---|---|---|---|\n",
       "| 4.132062        | 3.562           | 4.702124        | Modèle multiple |\n",
       "\n"
      ],
      "text/plain": [
       "  est      c_inf c_sup    model          \n",
       "1 4.132062 3.562 4.702124 Modèle multiple"
      ]
     },
     "metadata": {},
     "output_type": "display_data"
    }
   ],
   "source": [
    "#voir le dataframe crée:\n",
    "est2"
   ]
  },
  {
   "cell_type": "code",
   "execution_count": 38,
   "metadata": {},
   "outputs": [
    {
     "data": {
      "image/png": "[encoded data removed]",
      "text/plain": [
       "plot without title"
      ]
     },
     "metadata": {},
     "output_type": "display_data"
    }
   ],
   "source": [
    "#graphique\n",
    "ggplot(..."
   ]
  },
  {
   "cell_type": "markdown",
   "metadata": {},
   "source": [
    "Note: \n",
    "\n",
    "- Si l'on a bien nommé les éléments des dataframes est1 et est2 de la même manière, à savoir par exemple ici: est, c_inf, c_sup et model, \n",
    "- Alors on pourra facilement représenter les deux estimations sur un même graphique à titre de comparaison, \n",
    "- En utilisant **rbind()** pour ajouter les lignes (row) des dataframes *est1* et *est2*\n",
    "- Ce qui donne un seul dataframe combiné :"
   ]
  },
  {
   "cell_type": "code",
   "execution_count": 39,
   "metadata": {},
   "outputs": [
    {
     "data": {
      "text/html": [
       "<table>\n",
       "<thead><tr><th scope=col>est</th><th scope=col>c_inf</th><th scope=col>c_sup</th><th scope=col>model</th></tr></thead>\n",
       "<tbody>\n",
       "\t<tr><td>5.648475       </td><td>5.072323       </td><td>6.224627       </td><td>Modèle simple  </td></tr>\n",
       "\t<tr><td>4.132062       </td><td>3.562000       </td><td>4.702124       </td><td>Modèle multiple</td></tr>\n",
       "</tbody>\n",
       "</table>\n"
      ],
      "text/latex": [
       "\\begin{tabular}{r|llll}\n",
       " est & c\\_inf & c\\_sup & model\\\\\n",
       "\\hline\n",
       "\t 5.648475        & 5.072323        & 6.224627        & Modèle simple  \\\\\n",
       "\t 4.132062        & 3.562000        & 4.702124        & Modèle multiple\\\\\n",
       "\\end{tabular}\n"
      ],
      "text/markdown": [
       "\n",
       "| est | c_inf | c_sup | model |\n",
       "|---|---|---|---|\n",
       "| 5.648475        | 5.072323        | 6.224627        | Modèle simple   |\n",
       "| 4.132062        | 3.562000        | 4.702124        | Modèle multiple |\n",
       "\n"
      ],
      "text/plain": [
       "  est      c_inf    c_sup    model          \n",
       "1 5.648475 5.072323 6.224627 Modèle simple  \n",
       "2 4.132062 3.562000 4.702124 Modèle multiple"
      ]
     },
     "metadata": {},
     "output_type": "display_data"
    }
   ],
   "source": [
    "est<-rbind(est1,est2)\n",
    "est"
   ]
  },
  {
   "cell_type": "code",
   "execution_count": 40,
   "metadata": {},
   "outputs": [
    {
     "data": {
      "image/png": "[encoded data removed]",
      "text/plain": [
       "plot without title"
      ]
     },
     "metadata": {},
     "output_type": "display_data"
    }
   ],
   "source": [
    "ggplot(est,aes(x=model, y=est)) + \n",
    "    geom_point() +\n",
    "    geom_errorbar(aes(ymin=c_inf,ymax=c_sup), width=0.1) +\n",
    "    geom_hline(yintercept = 0, color=\"white\") +\n",
    "    xlab(\"\") +\n",
    "    ylab(\"Opinion des femmes sur le parti démocrate (relativement aux hommes)\")"
   ]
  },
  {
   "cell_type": "markdown",
   "metadata": {},
   "source": [
    "### 2.3 Interactions\n",
    "On peut souhaiter savoir si l'effet du genre sur le score pro-démocrate varie selon l'âge de la personne. \n",
    "\n",
    "Pour ce faire, il est nécessaire d'introduire un terme d'interaction dans la régression, entre l'âge et le genre. \n",
    "\n",
    "On estime le modèle suivant: "
   ]
  },
  {
   "cell_type": "code",
   "execution_count": 41,
   "metadata": {},
   "outputs": [],
   "source": [
    "lm3 <- lm(demtherm~gender+age+income+age:gender, data = anes)"
   ]
  },
  {
   "cell_type": "code",
   "execution_count": 42,
   "metadata": {},
   "outputs": [
    {
     "data": {
      "text/plain": [
       "\n",
       "Call:\n",
       "lm(formula = demtherm ~ gender + age + income + age:gender, data = anes)\n",
       "\n",
       "Residuals:\n",
       "    Min      1Q  Median      3Q     Max \n",
       "-74.578 -14.275   0.676  18.017  52.340 \n",
       "\n",
       "Coefficients:\n",
       "                               Estimate Std. Error t value Pr(>|t|)    \n",
       "(Intercept)                    56.22771    0.74979  74.991  < 2e-16 ***\n",
       "genderFemme                     6.58960    0.78823   8.360  < 2e-16 ***\n",
       "age                             0.11619    0.01255   9.259  < 2e-16 ***\n",
       "income1. 0 to 16 percentile     6.03765    0.57964  10.416  < 2e-16 ***\n",
       "income2. 17 to 33 percentile    2.01165    0.57650   3.489 0.000485 ***\n",
       "income3. 34 to 67 percentile   -2.48087    0.52287  -4.745  2.1e-06 ***\n",
       "income4. 68 to 95 percentile   -6.44027    0.54166 -11.890  < 2e-16 ***\n",
       "income5. 96 to 100 percentile -11.89125    0.78739 -15.102  < 2e-16 ***\n",
       "genderFemme:age                -0.05465    0.01629  -3.354 0.000796 ***\n",
       "---\n",
       "Signif. codes:  0 '***' 0.001 '**' 0.01 '*' 0.05 '.' 0.1 ' ' 1\n",
       "\n",
       "Residual standard error: 23.19 on 26396 degrees of freedom\n",
       "  (23355 observations deleted due to missingness)\n",
       "Multiple R-squared:  0.05863,\tAdjusted R-squared:  0.05834 \n",
       "F-statistic: 205.5 on 8 and 26396 DF,  p-value: < 2.2e-16\n"
      ]
     },
     "metadata": {},
     "output_type": "display_data"
    }
   ],
   "source": [
    "summary(lm3)"
   ]
  },
  {
   "cell_type": "markdown",
   "metadata": {},
   "source": [
    "Discussion: interpréter."
   ]
  },
  {
   "cell_type": "markdown",
   "metadata": {},
   "source": [
    "On peut également imaginer représenter l'effet différencié du genre selon l'âge de la personne par un graphique : "
   ]
  },
  {
   "cell_type": "code",
   "execution_count": 43,
   "metadata": {},
   "outputs": [
    {
     "data": {
      "text/html": [
       "<table>\n",
       "<thead><tr><th scope=col>gender</th><th scope=col>age</th><th scope=col>income</th></tr></thead>\n",
       "<tbody>\n",
       "\t<tr><td>Homme                 </td><td>18                    </td><td>3. 34 to 67 percentile</td></tr>\n",
       "\t<tr><td>Femme                 </td><td>18                    </td><td>3. 34 to 67 percentile</td></tr>\n",
       "\t<tr><td>Homme                 </td><td>19                    </td><td>3. 34 to 67 percentile</td></tr>\n",
       "\t<tr><td>Femme                 </td><td>19                    </td><td>3. 34 to 67 percentile</td></tr>\n",
       "\t<tr><td>Homme                 </td><td>20                    </td><td>3. 34 to 67 percentile</td></tr>\n",
       "\t<tr><td>Femme                 </td><td>20                    </td><td>3. 34 to 67 percentile</td></tr>\n",
       "\t<tr><td>Homme                 </td><td>21                    </td><td>3. 34 to 67 percentile</td></tr>\n",
       "\t<tr><td>Femme                 </td><td>21                    </td><td>3. 34 to 67 percentile</td></tr>\n",
       "\t<tr><td>Homme                 </td><td>22                    </td><td>3. 34 to 67 percentile</td></tr>\n",
       "\t<tr><td>Femme                 </td><td>22                    </td><td>3. 34 to 67 percentile</td></tr>\n",
       "\t<tr><td>Homme                 </td><td>23                    </td><td>3. 34 to 67 percentile</td></tr>\n",
       "\t<tr><td>Femme                 </td><td>23                    </td><td>3. 34 to 67 percentile</td></tr>\n",
       "\t<tr><td>Homme                 </td><td>24                    </td><td>3. 34 to 67 percentile</td></tr>\n",
       "\t<tr><td>Femme                 </td><td>24                    </td><td>3. 34 to 67 percentile</td></tr>\n",
       "\t<tr><td>Homme                 </td><td>25                    </td><td>3. 34 to 67 percentile</td></tr>\n",
       "\t<tr><td>Femme                 </td><td>25                    </td><td>3. 34 to 67 percentile</td></tr>\n",
       "\t<tr><td>Homme                 </td><td>26                    </td><td>3. 34 to 67 percentile</td></tr>\n",
       "\t<tr><td>Femme                 </td><td>26                    </td><td>3. 34 to 67 percentile</td></tr>\n",
       "\t<tr><td>Homme                 </td><td>27                    </td><td>3. 34 to 67 percentile</td></tr>\n",
       "\t<tr><td>Femme                 </td><td>27                    </td><td>3. 34 to 67 percentile</td></tr>\n",
       "\t<tr><td>Homme                 </td><td>28                    </td><td>3. 34 to 67 percentile</td></tr>\n",
       "\t<tr><td>Femme                 </td><td>28                    </td><td>3. 34 to 67 percentile</td></tr>\n",
       "\t<tr><td>Homme                 </td><td>29                    </td><td>3. 34 to 67 percentile</td></tr>\n",
       "\t<tr><td>Femme                 </td><td>29                    </td><td>3. 34 to 67 percentile</td></tr>\n",
       "\t<tr><td>Homme                 </td><td>30                    </td><td>3. 34 to 67 percentile</td></tr>\n",
       "\t<tr><td>Femme                 </td><td>30                    </td><td>3. 34 to 67 percentile</td></tr>\n",
       "\t<tr><td>Homme                 </td><td>31                    </td><td>3. 34 to 67 percentile</td></tr>\n",
       "\t<tr><td>Femme                 </td><td>31                    </td><td>3. 34 to 67 percentile</td></tr>\n",
       "\t<tr><td>Homme                 </td><td>32                    </td><td>3. 34 to 67 percentile</td></tr>\n",
       "\t<tr><td>Femme                 </td><td>32                    </td><td>3. 34 to 67 percentile</td></tr>\n",
       "\t<tr><td>...</td><td>...</td><td>...</td></tr>\n",
       "\t<tr><td>Homme                 </td><td>71                    </td><td>3. 34 to 67 percentile</td></tr>\n",
       "\t<tr><td>Femme                 </td><td>71                    </td><td>3. 34 to 67 percentile</td></tr>\n",
       "\t<tr><td>Homme                 </td><td>72                    </td><td>3. 34 to 67 percentile</td></tr>\n",
       "\t<tr><td>Femme                 </td><td>72                    </td><td>3. 34 to 67 percentile</td></tr>\n",
       "\t<tr><td>Homme                 </td><td>73                    </td><td>3. 34 to 67 percentile</td></tr>\n",
       "\t<tr><td>Femme                 </td><td>73                    </td><td>3. 34 to 67 percentile</td></tr>\n",
       "\t<tr><td>Homme                 </td><td>74                    </td><td>3. 34 to 67 percentile</td></tr>\n",
       "\t<tr><td>Femme                 </td><td>74                    </td><td>3. 34 to 67 percentile</td></tr>\n",
       "\t<tr><td>Homme                 </td><td>75                    </td><td>3. 34 to 67 percentile</td></tr>\n",
       "\t<tr><td>Femme                 </td><td>75                    </td><td>3. 34 to 67 percentile</td></tr>\n",
       "\t<tr><td>Homme                 </td><td>76                    </td><td>3. 34 to 67 percentile</td></tr>\n",
       "\t<tr><td>Femme                 </td><td>76                    </td><td>3. 34 to 67 percentile</td></tr>\n",
       "\t<tr><td>Homme                 </td><td>77                    </td><td>3. 34 to 67 percentile</td></tr>\n",
       "\t<tr><td>Femme                 </td><td>77                    </td><td>3. 34 to 67 percentile</td></tr>\n",
       "\t<tr><td>Homme                 </td><td>78                    </td><td>3. 34 to 67 percentile</td></tr>\n",
       "\t<tr><td>Femme                 </td><td>78                    </td><td>3. 34 to 67 percentile</td></tr>\n",
       "\t<tr><td>Homme                 </td><td>79                    </td><td>3. 34 to 67 percentile</td></tr>\n",
       "\t<tr><td>Femme                 </td><td>79                    </td><td>3. 34 to 67 percentile</td></tr>\n",
       "\t<tr><td>Homme                 </td><td>80                    </td><td>3. 34 to 67 percentile</td></tr>\n",
       "\t<tr><td>Femme                 </td><td>80                    </td><td>3. 34 to 67 percentile</td></tr>\n",
       "\t<tr><td>Homme                 </td><td>81                    </td><td>3. 34 to 67 percentile</td></tr>\n",
       "\t<tr><td>Femme                 </td><td>81                    </td><td>3. 34 to 67 percentile</td></tr>\n",
       "\t<tr><td>Homme                 </td><td>82                    </td><td>3. 34 to 67 percentile</td></tr>\n",
       "\t<tr><td>Femme                 </td><td>82                    </td><td>3. 34 to 67 percentile</td></tr>\n",
       "\t<tr><td>Homme                 </td><td>83                    </td><td>3. 34 to 67 percentile</td></tr>\n",
       "\t<tr><td>Femme                 </td><td>83                    </td><td>3. 34 to 67 percentile</td></tr>\n",
       "\t<tr><td>Homme                 </td><td>84                    </td><td>3. 34 to 67 percentile</td></tr>\n",
       "\t<tr><td>Femme                 </td><td>84                    </td><td>3. 34 to 67 percentile</td></tr>\n",
       "\t<tr><td>Homme                 </td><td>85                    </td><td>3. 34 to 67 percentile</td></tr>\n",
       "\t<tr><td>Femme                 </td><td>85                    </td><td>3. 34 to 67 percentile</td></tr>\n",
       "</tbody>\n",
       "</table>\n"
      ],
      "text/latex": [
       "\\begin{tabular}{r|lll}\n",
       " gender & age & income\\\\\n",
       "\\hline\n",
       "\t Homme                  & 18                     & 3. 34 to 67 percentile\\\\\n",
       "\t Femme                  & 18                     & 3. 34 to 67 percentile\\\\\n",
       "\t Homme                  & 19                     & 3. 34 to 67 percentile\\\\\n",
       "\t Femme                  & 19                     & 3. 34 to 67 percentile\\\\\n",
       "\t Homme                  & 20                     & 3. 34 to 67 percentile\\\\\n",
       "\t Femme                  & 20                     & 3. 34 to 67 percentile\\\\\n",
       "\t Homme                  & 21                     & 3. 34 to 67 percentile\\\\\n",
       "\t Femme                  & 21                     & 3. 34 to 67 percentile\\\\\n",
       "\t Homme                  & 22                     & 3. 34 to 67 percentile\\\\\n",
       "\t Femme                  & 22                     & 3. 34 to 67 percentile\\\\\n",
       "\t Homme                  & 23                     & 3. 34 to 67 percentile\\\\\n",
       "\t Femme                  & 23                     & 3. 34 to 67 percentile\\\\\n",
       "\t Homme                  & 24                     & 3. 34 to 67 percentile\\\\\n",
       "\t Femme                  & 24                     & 3. 34 to 67 percentile\\\\\n",
       "\t Homme                  & 25                     & 3. 34 to 67 percentile\\\\\n",
       "\t Femme                  & 25                     & 3. 34 to 67 percentile\\\\\n",
       "\t Homme                  & 26                     & 3. 34 to 67 percentile\\\\\n",
       "\t Femme                  & 26                     & 3. 34 to 67 percentile\\\\\n",
       "\t Homme                  & 27                     & 3. 34 to 67 percentile\\\\\n",
       "\t Femme                  & 27                     & 3. 34 to 67 percentile\\\\\n",
       "\t Homme                  & 28                     & 3. 34 to 67 percentile\\\\\n",
       "\t Femme                  & 28                     & 3. 34 to 67 percentile\\\\\n",
       "\t Homme                  & 29                     & 3. 34 to 67 percentile\\\\\n",
       "\t Femme                  & 29                     & 3. 34 to 67 percentile\\\\\n",
       "\t Homme                  & 30                     & 3. 34 to 67 percentile\\\\\n",
       "\t Femme                  & 30                     & 3. 34 to 67 percentile\\\\\n",
       "\t Homme                  & 31                     & 3. 34 to 67 percentile\\\\\n",
       "\t Femme                  & 31                     & 3. 34 to 67 percentile\\\\\n",
       "\t Homme                  & 32                     & 3. 34 to 67 percentile\\\\\n",
       "\t Femme                  & 32                     & 3. 34 to 67 percentile\\\\\n",
       "\t ... & ... & ...\\\\\n",
       "\t Homme                  & 71                     & 3. 34 to 67 percentile\\\\\n",
       "\t Femme                  & 71                     & 3. 34 to 67 percentile\\\\\n",
       "\t Homme                  & 72                     & 3. 34 to 67 percentile\\\\\n",
       "\t Femme                  & 72                     & 3. 34 to 67 percentile\\\\\n",
       "\t Homme                  & 73                     & 3. 34 to 67 percentile\\\\\n",
       "\t Femme                  & 73                     & 3. 34 to 67 percentile\\\\\n",
       "\t Homme                  & 74                     & 3. 34 to 67 percentile\\\\\n",
       "\t Femme                  & 74                     & 3. 34 to 67 percentile\\\\\n",
       "\t Homme                  & 75                     & 3. 34 to 67 percentile\\\\\n",
       "\t Femme                  & 75                     & 3. 34 to 67 percentile\\\\\n",
       "\t Homme                  & 76                     & 3. 34 to 67 percentile\\\\\n",
       "\t Femme                  & 76                     & 3. 34 to 67 percentile\\\\\n",
       "\t Homme                  & 77                     & 3. 34 to 67 percentile\\\\\n",
       "\t Femme                  & 77                     & 3. 34 to 67 percentile\\\\\n",
       "\t Homme                  & 78                     & 3. 34 to 67 percentile\\\\\n",
       "\t Femme                  & 78                     & 3. 34 to 67 percentile\\\\\n",
       "\t Homme                  & 79                     & 3. 34 to 67 percentile\\\\\n",
       "\t Femme                  & 79                     & 3. 34 to 67 percentile\\\\\n",
       "\t Homme                  & 80                     & 3. 34 to 67 percentile\\\\\n",
       "\t Femme                  & 80                     & 3. 34 to 67 percentile\\\\\n",
       "\t Homme                  & 81                     & 3. 34 to 67 percentile\\\\\n",
       "\t Femme                  & 81                     & 3. 34 to 67 percentile\\\\\n",
       "\t Homme                  & 82                     & 3. 34 to 67 percentile\\\\\n",
       "\t Femme                  & 82                     & 3. 34 to 67 percentile\\\\\n",
       "\t Homme                  & 83                     & 3. 34 to 67 percentile\\\\\n",
       "\t Femme                  & 83                     & 3. 34 to 67 percentile\\\\\n",
       "\t Homme                  & 84                     & 3. 34 to 67 percentile\\\\\n",
       "\t Femme                  & 84                     & 3. 34 to 67 percentile\\\\\n",
       "\t Homme                  & 85                     & 3. 34 to 67 percentile\\\\\n",
       "\t Femme                  & 85                     & 3. 34 to 67 percentile\\\\\n",
       "\\end{tabular}\n"
      ],
      "text/markdown": [
       "\n",
       "| gender | age | income |\n",
       "|---|---|---|\n",
       "| Homme                  | 18                     | 3. 34 to 67 percentile |\n",
       "| Femme                  | 18                     | 3. 34 to 67 percentile |\n",
       "| Homme                  | 19                     | 3. 34 to 67 percentile |\n",
       "| Femme                  | 19                     | 3. 34 to 67 percentile |\n",
       "| Homme                  | 20                     | 3. 34 to 67 percentile |\n",
       "| Femme                  | 20                     | 3. 34 to 67 percentile |\n",
       "| Homme                  | 21                     | 3. 34 to 67 percentile |\n",
       "| Femme                  | 21                     | 3. 34 to 67 percentile |\n",
       "| Homme                  | 22                     | 3. 34 to 67 percentile |\n",
       "| Femme                  | 22                     | 3. 34 to 67 percentile |\n",
       "| Homme                  | 23                     | 3. 34 to 67 percentile |\n",
       "| Femme                  | 23                     | 3. 34 to 67 percentile |\n",
       "| Homme                  | 24                     | 3. 34 to 67 percentile |\n",
       "| Femme                  | 24                     | 3. 34 to 67 percentile |\n",
       "| Homme                  | 25                     | 3. 34 to 67 percentile |\n",
       "| Femme                  | 25                     | 3. 34 to 67 percentile |\n",
       "| Homme                  | 26                     | 3. 34 to 67 percentile |\n",
       "| Femme                  | 26                     | 3. 34 to 67 percentile |\n",
       "| Homme                  | 27                     | 3. 34 to 67 percentile |\n",
       "| Femme                  | 27                     | 3. 34 to 67 percentile |\n",
       "| Homme                  | 28                     | 3. 34 to 67 percentile |\n",
       "| Femme                  | 28                     | 3. 34 to 67 percentile |\n",
       "| Homme                  | 29                     | 3. 34 to 67 percentile |\n",
       "| Femme                  | 29                     | 3. 34 to 67 percentile |\n",
       "| Homme                  | 30                     | 3. 34 to 67 percentile |\n",
       "| Femme                  | 30                     | 3. 34 to 67 percentile |\n",
       "| Homme                  | 31                     | 3. 34 to 67 percentile |\n",
       "| Femme                  | 31                     | 3. 34 to 67 percentile |\n",
       "| Homme                  | 32                     | 3. 34 to 67 percentile |\n",
       "| Femme                  | 32                     | 3. 34 to 67 percentile |\n",
       "| ... | ... | ... |\n",
       "| Homme                  | 71                     | 3. 34 to 67 percentile |\n",
       "| Femme                  | 71                     | 3. 34 to 67 percentile |\n",
       "| Homme                  | 72                     | 3. 34 to 67 percentile |\n",
       "| Femme                  | 72                     | 3. 34 to 67 percentile |\n",
       "| Homme                  | 73                     | 3. 34 to 67 percentile |\n",
       "| Femme                  | 73                     | 3. 34 to 67 percentile |\n",
       "| Homme                  | 74                     | 3. 34 to 67 percentile |\n",
       "| Femme                  | 74                     | 3. 34 to 67 percentile |\n",
       "| Homme                  | 75                     | 3. 34 to 67 percentile |\n",
       "| Femme                  | 75                     | 3. 34 to 67 percentile |\n",
       "| Homme                  | 76                     | 3. 34 to 67 percentile |\n",
       "| Femme                  | 76                     | 3. 34 to 67 percentile |\n",
       "| Homme                  | 77                     | 3. 34 to 67 percentile |\n",
       "| Femme                  | 77                     | 3. 34 to 67 percentile |\n",
       "| Homme                  | 78                     | 3. 34 to 67 percentile |\n",
       "| Femme                  | 78                     | 3. 34 to 67 percentile |\n",
       "| Homme                  | 79                     | 3. 34 to 67 percentile |\n",
       "| Femme                  | 79                     | 3. 34 to 67 percentile |\n",
       "| Homme                  | 80                     | 3. 34 to 67 percentile |\n",
       "| Femme                  | 80                     | 3. 34 to 67 percentile |\n",
       "| Homme                  | 81                     | 3. 34 to 67 percentile |\n",
       "| Femme                  | 81                     | 3. 34 to 67 percentile |\n",
       "| Homme                  | 82                     | 3. 34 to 67 percentile |\n",
       "| Femme                  | 82                     | 3. 34 to 67 percentile |\n",
       "| Homme                  | 83                     | 3. 34 to 67 percentile |\n",
       "| Femme                  | 83                     | 3. 34 to 67 percentile |\n",
       "| Homme                  | 84                     | 3. 34 to 67 percentile |\n",
       "| Femme                  | 84                     | 3. 34 to 67 percentile |\n",
       "| Homme                  | 85                     | 3. 34 to 67 percentile |\n",
       "| Femme                  | 85                     | 3. 34 to 67 percentile |\n",
       "\n"
      ],
      "text/plain": [
       "    gender age income                \n",
       "1   Homme  18  3. 34 to 67 percentile\n",
       "2   Femme  18  3. 34 to 67 percentile\n",
       "3   Homme  19  3. 34 to 67 percentile\n",
       "4   Femme  19  3. 34 to 67 percentile\n",
       "5   Homme  20  3. 34 to 67 percentile\n",
       "6   Femme  20  3. 34 to 67 percentile\n",
       "7   Homme  21  3. 34 to 67 percentile\n",
       "8   Femme  21  3. 34 to 67 percentile\n",
       "9   Homme  22  3. 34 to 67 percentile\n",
       "10  Femme  22  3. 34 to 67 percentile\n",
       "11  Homme  23  3. 34 to 67 percentile\n",
       "12  Femme  23  3. 34 to 67 percentile\n",
       "13  Homme  24  3. 34 to 67 percentile\n",
       "14  Femme  24  3. 34 to 67 percentile\n",
       "15  Homme  25  3. 34 to 67 percentile\n",
       "16  Femme  25  3. 34 to 67 percentile\n",
       "17  Homme  26  3. 34 to 67 percentile\n",
       "18  Femme  26  3. 34 to 67 percentile\n",
       "19  Homme  27  3. 34 to 67 percentile\n",
       "20  Femme  27  3. 34 to 67 percentile\n",
       "21  Homme  28  3. 34 to 67 percentile\n",
       "22  Femme  28  3. 34 to 67 percentile\n",
       "23  Homme  29  3. 34 to 67 percentile\n",
       "24  Femme  29  3. 34 to 67 percentile\n",
       "25  Homme  30  3. 34 to 67 percentile\n",
       "26  Femme  30  3. 34 to 67 percentile\n",
       "27  Homme  31  3. 34 to 67 percentile\n",
       "28  Femme  31  3. 34 to 67 percentile\n",
       "29  Homme  32  3. 34 to 67 percentile\n",
       "30  Femme  32  3. 34 to 67 percentile\n",
       "... ...    ... ...                   \n",
       "107 Homme  71  3. 34 to 67 percentile\n",
       "108 Femme  71  3. 34 to 67 percentile\n",
       "109 Homme  72  3. 34 to 67 percentile\n",
       "110 Femme  72  3. 34 to 67 percentile\n",
       "111 Homme  73  3. 34 to 67 percentile\n",
       "112 Femme  73  3. 34 to 67 percentile\n",
       "113 Homme  74  3. 34 to 67 percentile\n",
       "114 Femme  74  3. 34 to 67 percentile\n",
       "115 Homme  75  3. 34 to 67 percentile\n",
       "116 Femme  75  3. 34 to 67 percentile\n",
       "117 Homme  76  3. 34 to 67 percentile\n",
       "118 Femme  76  3. 34 to 67 percentile\n",
       "119 Homme  77  3. 34 to 67 percentile\n",
       "120 Femme  77  3. 34 to 67 percentile\n",
       "121 Homme  78  3. 34 to 67 percentile\n",
       "122 Femme  78  3. 34 to 67 percentile\n",
       "123 Homme  79  3. 34 to 67 percentile\n",
       "124 Femme  79  3. 34 to 67 percentile\n",
       "125 Homme  80  3. 34 to 67 percentile\n",
       "126 Femme  80  3. 34 to 67 percentile\n",
       "127 Homme  81  3. 34 to 67 percentile\n",
       "128 Femme  81  3. 34 to 67 percentile\n",
       "129 Homme  82  3. 34 to 67 percentile\n",
       "130 Femme  82  3. 34 to 67 percentile\n",
       "131 Homme  83  3. 34 to 67 percentile\n",
       "132 Femme  83  3. 34 to 67 percentile\n",
       "133 Homme  84  3. 34 to 67 percentile\n",
       "134 Femme  84  3. 34 to 67 percentile\n",
       "135 Homme  85  3. 34 to 67 percentile\n",
       "136 Femme  85  3. 34 to 67 percentile"
      ]
     },
     "metadata": {},
     "output_type": "display_data"
    }
   ],
   "source": [
    "#on crée les catégories:\n",
    "predict_for <- data.frame(expand.grid(gender = c(\"Homme\", \"Femme\"),\n",
    "                                 age = 18:85), \n",
    "                     income = \"3. 34 to 67 percentile\") #expand.grid: creates a data frame from all combinations of the supplied vectors or factors\n",
    "predict_for"
   ]
  },
  {
   "cell_type": "code",
   "execution_count": 44,
   "metadata": {},
   "outputs": [],
   "source": [
    "#on prédit les valeurs du score pro-démocrate correspondant à ces catégories\n",
    "pred3 <- predict(lm3,\n",
    "             newdata=predict_for,\n",
    "             se.fit=T,\n",
    "             interval=\"confidence\")"
   ]
  },
  {
   "cell_type": "code",
   "execution_count": 45,
   "metadata": {},
   "outputs": [
    {
     "data": {
      "text/html": [
       "<table>\n",
       "<thead><tr><th scope=col>gender</th><th scope=col>age</th><th scope=col>income</th></tr></thead>\n",
       "<tbody>\n",
       "\t<tr><td>Homme                 </td><td>18                    </td><td>3. 34 to 67 percentile</td></tr>\n",
       "\t<tr><td>Femme                 </td><td>18                    </td><td>3. 34 to 67 percentile</td></tr>\n",
       "\t<tr><td>Homme                 </td><td>19                    </td><td>3. 34 to 67 percentile</td></tr>\n",
       "\t<tr><td>Femme                 </td><td>19                    </td><td>3. 34 to 67 percentile</td></tr>\n",
       "\t<tr><td>Homme                 </td><td>20                    </td><td>3. 34 to 67 percentile</td></tr>\n",
       "\t<tr><td>Femme                 </td><td>20                    </td><td>3. 34 to 67 percentile</td></tr>\n",
       "</tbody>\n",
       "</table>\n"
      ],
      "text/latex": [
       "\\begin{tabular}{r|lll}\n",
       " gender & age & income\\\\\n",
       "\\hline\n",
       "\t Homme                  & 18                     & 3. 34 to 67 percentile\\\\\n",
       "\t Femme                  & 18                     & 3. 34 to 67 percentile\\\\\n",
       "\t Homme                  & 19                     & 3. 34 to 67 percentile\\\\\n",
       "\t Femme                  & 19                     & 3. 34 to 67 percentile\\\\\n",
       "\t Homme                  & 20                     & 3. 34 to 67 percentile\\\\\n",
       "\t Femme                  & 20                     & 3. 34 to 67 percentile\\\\\n",
       "\\end{tabular}\n"
      ],
      "text/markdown": [
       "\n",
       "| gender | age | income |\n",
       "|---|---|---|\n",
       "| Homme                  | 18                     | 3. 34 to 67 percentile |\n",
       "| Femme                  | 18                     | 3. 34 to 67 percentile |\n",
       "| Homme                  | 19                     | 3. 34 to 67 percentile |\n",
       "| Femme                  | 19                     | 3. 34 to 67 percentile |\n",
       "| Homme                  | 20                     | 3. 34 to 67 percentile |\n",
       "| Femme                  | 20                     | 3. 34 to 67 percentile |\n",
       "\n"
      ],
      "text/plain": [
       "  gender age income                \n",
       "1 Homme  18  3. 34 to 67 percentile\n",
       "2 Femme  18  3. 34 to 67 percentile\n",
       "3 Homme  19  3. 34 to 67 percentile\n",
       "4 Femme  19  3. 34 to 67 percentile\n",
       "5 Homme  20  3. 34 to 67 percentile\n",
       "6 Femme  20  3. 34 to 67 percentile"
      ]
     },
     "metadata": {},
     "output_type": "display_data"
    },
    {
     "data": {
      "text/html": [
       "<dl>\n",
       "\t<dt>$fit</dt>\n",
       "\t\t<dd><table>\n",
       "<thead><tr><th scope=col>fit</th><th scope=col>lwr</th><th scope=col>upr</th></tr></thead>\n",
       "<tbody>\n",
       "\t<tr><td>55.83832</td><td>54.96900</td><td>56.70765</td></tr>\n",
       "\t<tr><td>61.44417</td><td>60.65348</td><td>62.23485</td></tr>\n",
       "\t<tr><td>55.95452</td><td>55.10305</td><td>56.80598</td></tr>\n",
       "\t<tr><td>61.50571</td><td>60.72897</td><td>62.28245</td></tr>\n",
       "\t<tr><td>56.07071</td><td>55.23677</td><td>56.90465</td></tr>\n",
       "\t<tr><td>61.56725</td><td>60.80415</td><td>62.33035</td></tr>\n",
       "\t<tr><td>56.18690</td><td>55.37012</td><td>57.00368</td></tr>\n",
       "\t<tr><td>61.62879</td><td>60.87901</td><td>62.37856</td></tr>\n",
       "\t<tr><td>56.30310</td><td>55.50309</td><td>57.10311</td></tr>\n",
       "\t<tr><td>61.69033</td><td>60.95354</td><td>62.42712</td></tr>\n",
       "\t<tr><td>56.41929</td><td>55.63564</td><td>57.20294</td></tr>\n",
       "\t<tr><td>61.75187</td><td>61.02772</td><td>62.47602</td></tr>\n",
       "\t<tr><td>56.53549</td><td>55.76775</td><td>57.30322</td></tr>\n",
       "\t<tr><td>61.81341</td><td>61.10153</td><td>62.52529</td></tr>\n",
       "\t<tr><td>56.65168</td><td>55.89939</td><td>57.40397</td></tr>\n",
       "\t<tr><td>61.87495</td><td>61.17495</td><td>62.57496</td></tr>\n",
       "\t<tr><td>56.76787</td><td>56.03054</td><td>57.50521</td></tr>\n",
       "\t<tr><td>61.93649</td><td>61.24795</td><td>62.62503</td></tr>\n",
       "\t<tr><td>56.88407</td><td>56.16116</td><td>57.60698</td></tr>\n",
       "\t<tr><td>61.99803</td><td>61.32053</td><td>62.67554</td></tr>\n",
       "\t<tr><td>57.00026</td><td>56.29121</td><td>57.70931</td></tr>\n",
       "\t<tr><td>62.05957</td><td>61.39265</td><td>62.72650</td></tr>\n",
       "\t<tr><td>57.11645</td><td>56.42068</td><td>57.81223</td></tr>\n",
       "\t<tr><td>62.12112</td><td>61.46430</td><td>62.77793</td></tr>\n",
       "\t<tr><td>57.23265</td><td>56.54952</td><td>57.91578</td></tr>\n",
       "\t<tr><td>62.18266</td><td>61.53545</td><td>62.82986</td></tr>\n",
       "\t<tr><td>57.34884</td><td>56.67769</td><td>58.02000</td></tr>\n",
       "\t<tr><td>62.24420</td><td>61.60608</td><td>62.88231</td></tr>\n",
       "\t<tr><td>57.46504</td><td>56.80516</td><td>58.12491</td></tr>\n",
       "\t<tr><td>62.30574</td><td>61.67617</td><td>62.93530</td></tr>\n",
       "\t<tr><td>...</td><td>...</td><td>...</td></tr>\n",
       "\t<tr><td>61.99660</td><td>61.10567</td><td>62.88752</td></tr>\n",
       "\t<tr><td>64.70584</td><td>63.90927</td><td>65.50240</td></tr>\n",
       "\t<tr><td>62.11279</td><td>61.20332</td><td>63.02226</td></tr>\n",
       "\t<tr><td>64.76738</td><td>63.95647</td><td>65.57828</td></tr>\n",
       "\t<tr><td>62.22898</td><td>61.30069</td><td>63.15728</td></tr>\n",
       "\t<tr><td>64.82892</td><td>64.00341</td><td>65.65443</td></tr>\n",
       "\t<tr><td>62.34518</td><td>61.39779</td><td>63.29257</td></tr>\n",
       "\t<tr><td>64.89046</td><td>64.05010</td><td>65.73082</td></tr>\n",
       "\t<tr><td>62.46137</td><td>61.49464</td><td>63.42810</td></tr>\n",
       "\t<tr><td>64.95200</td><td>64.09655</td><td>65.80745</td></tr>\n",
       "\t<tr><td>62.57757</td><td>61.59126</td><td>63.56387</td></tr>\n",
       "\t<tr><td>65.01354</td><td>64.14277</td><td>65.88431</td></tr>\n",
       "\t<tr><td>62.69376</td><td>61.68766</td><td>63.69986</td></tr>\n",
       "\t<tr><td>65.07508</td><td>64.18878</td><td>65.96138</td></tr>\n",
       "\t<tr><td>62.80995</td><td>61.78385</td><td>63.83605</td></tr>\n",
       "\t<tr><td>65.13662</td><td>64.23459</td><td>66.03865</td></tr>\n",
       "\t<tr><td>62.92615</td><td>61.87985</td><td>63.97244</td></tr>\n",
       "\t<tr><td>65.19816</td><td>64.28021</td><td>66.11612</td></tr>\n",
       "\t<tr><td>63.04234</td><td>61.97566</td><td>64.10902</td></tr>\n",
       "\t<tr><td>65.25970</td><td>64.32564</td><td>66.19377</td></tr>\n",
       "\t<tr><td>63.15853</td><td>62.07130</td><td>64.24577</td></tr>\n",
       "\t<tr><td>65.32125</td><td>64.37090</td><td>66.27159</td></tr>\n",
       "\t<tr><td>63.27473</td><td>62.16677</td><td>64.38269</td></tr>\n",
       "\t<tr><td>65.38279</td><td>64.41600</td><td>66.34957</td></tr>\n",
       "\t<tr><td>63.39092</td><td>62.26209</td><td>64.51976</td></tr>\n",
       "\t<tr><td>65.44433</td><td>64.46094</td><td>66.42771</td></tr>\n",
       "\t<tr><td>63.50712</td><td>62.35726</td><td>64.65698</td></tr>\n",
       "\t<tr><td>65.50587</td><td>64.50574</td><td>66.50600</td></tr>\n",
       "\t<tr><td>63.62331</td><td>62.45229</td><td>64.79433</td></tr>\n",
       "\t<tr><td>65.56741</td><td>64.55039</td><td>66.58443</td></tr>\n",
       "</tbody>\n",
       "</table>\n",
       "</dd>\n",
       "\t<dt>$se.fit</dt>\n",
       "\t\t<dd><dl class=dl-horizontal>\n",
       "\t<dt>1</dt>\n",
       "\t\t<dd>0.443521921301316</dd>\n",
       "\t<dt>2</dt>\n",
       "\t\t<dd>0.403397669191658</dd>\n",
       "\t<dt>3</dt>\n",
       "\t\t<dd>0.434406909091013</dd>\n",
       "\t<dt>4</dt>\n",
       "\t\t<dd>0.396285073769384</dd>\n",
       "\t<dt>5</dt>\n",
       "\t\t<dd>0.42546679591258</dd>\n",
       "\t<dt>6</dt>\n",
       "\t\t<dd>0.389325783754064</dd>\n",
       "\t<dt>7</dt>\n",
       "\t\t<dd>0.416712838714071</dd>\n",
       "\t<dt>8</dt>\n",
       "\t\t<dd>0.382528166439013</dd>\n",
       "\t<dt>9</dt>\n",
       "\t\t<dd>0.408157015425527</dd>\n",
       "\t<dt>10</dt>\n",
       "\t\t<dd>0.375900992766494</dd>\n",
       "\t<dt>11</dt>\n",
       "\t\t<dd>0.39981204621662</dd>\n",
       "\t<dt>12</dt>\n",
       "\t\t<dd>0.369453434990994</dd>\n",
       "\t<dt>13</dt>\n",
       "\t\t<dd>0.391691408031476</dd>\n",
       "\t<dt>14</dt>\n",
       "\t\t<dd>0.363195059039382</dd>\n",
       "\t<dt>15</dt>\n",
       "\t\t<dd>0.383809340321926</dd>\n",
       "\t<dt>16</dt>\n",
       "\t\t<dd>0.357135810602579</dd>\n",
       "\t<dt>17</dt>\n",
       "\t\t<dd>0.376180839594385</dd>\n",
       "\t<dt>18</dt>\n",
       "\t\t<dd>0.351285993940933</dd>\n",
       "\t<dt>19</dt>\n",
       "\t\t<dd>0.368821640097804</dd>\n",
       "\t<dt>20</dt>\n",
       "\t\t<dd>0.345656242361603</dd>\n",
       "\t<dt>21</dt>\n",
       "\t\t<dd>0.361748177739492</dd>\n",
       "\t<dt>22</dt>\n",
       "\t\t<dd>0.340257479342018</dd>\n",
       "\t<dt>23</dt>\n",
       "\t\t<dd>0.354977534159791</dd>\n",
       "\t<dt>24</dt>\n",
       "\t\t<dd>0.335100869340845</dd>\n",
       "\t<dt>25</dt>\n",
       "\t\t<dd>0.348527357872234</dd>\n",
       "\t<dt>26</dt>\n",
       "\t\t<dd>0.330197757469616</dd>\n",
       "\t<dt>27</dt>\n",
       "\t\t<dd>0.34241575953736</dd>\n",
       "\t<dt>28</dt>\n",
       "\t\t<dd>0.325559597405916</dd>\n",
       "\t<dt>29</dt>\n",
       "\t\t<dd>0.336661178843963</dd>\n",
       "\t<dt>30</dt>\n",
       "\t\t<dd>0.321197867222694</dd>\n",
       "\t<dt>31</dt>\n",
       "\t\t<dd>0.331282221177924</dd>\n",
       "\t<dt>32</dt>\n",
       "\t\t<dd>0.317123973193259</dd>\n",
       "\t<dt>33</dt>\n",
       "\t\t<dd>0.326297463311414</dd>\n",
       "\t<dt>34</dt>\n",
       "\t\t<dd>0.313349142107517</dd>\n",
       "\t<dt>35</dt>\n",
       "\t\t<dd>0.321725228767128</dd>\n",
       "\t<dt>36</dt>\n",
       "\t\t<dd>0.309884303192855</dd>\n",
       "\t<dt>37</dt>\n",
       "\t\t<dd>0.317583335290079</dd>\n",
       "\t<dt>38</dt>\n",
       "\t\t<dd>0.306739961353736</dd>\n",
       "\t<dt>39</dt>\n",
       "\t\t<dd>0.313888818930514</dd>\n",
       "\t<dt>40</dt>\n",
       "\t\t<dd>0.303926064096892</dd>\n",
       "\t<dt>41</dt>\n",
       "\t\t<dd>0.31065764148356</dd>\n",
       "\t<dt>42</dt>\n",
       "\t\t<dd>0.301451865152185</dd>\n",
       "\t<dt>43</dt>\n",
       "\t\t<dd>0.307904390260313</dd>\n",
       "\t<dt>44</dt>\n",
       "\t\t<dd>0.29932578838149</dd>\n",
       "\t<dt>45</dt>\n",
       "\t\t<dd>0.3056419811445</dd>\n",
       "\t<dt>46</dt>\n",
       "\t\t<dd>0.297555296032243</dd>\n",
       "\t<dt>47</dt>\n",
       "\t\t<dd>0.303881377351768</dd>\n",
       "\t<dt>48</dt>\n",
       "\t\t<dd>0.296146765681541</dd>\n",
       "\t<dt>49</dt>\n",
       "\t\t<dd>0.302631336995018</dd>\n",
       "\t<dt>50</dt>\n",
       "\t\t<dd>0.295105380280681</dd>\n",
       "\t<dt>51</dt>\n",
       "\t\t<dd>0.301898202261109</dd>\n",
       "\t<dt>52</dt>\n",
       "\t\t<dd>0.294435035513336</dd>\n",
       "\t<dt>53</dt>\n",
       "\t\t<dd>0.301685741612857</dd>\n",
       "\t<dt>54</dt>\n",
       "\t\t<dd>0.294138268209086</dd>\n",
       "\t<dt>55</dt>\n",
       "\t\t<dd>0.301995053971786</dd>\n",
       "\t<dt>56</dt>\n",
       "\t\t<dd>0.294216208820158</dd>\n",
       "\t<dt>57</dt>\n",
       "\t\t<dd>0.302824540487156</dd>\n",
       "\t<dt>58</dt>\n",
       "\t\t<dd>0.294668560013008</dd>\n",
       "\t<dt>59</dt>\n",
       "\t\t<dd>0.304169945566626</dd>\n",
       "\t<dt>60</dt>\n",
       "\t\t<dd>0.295493602313043</dd>\n",
       "\t<dt>61</dt>\n",
       "\t\t<dd>0.306024464737159</dd>\n",
       "\t<dt>62</dt>\n",
       "\t\t<dd>0.296688226554248</dd>\n",
       "\t<dt>63</dt>\n",
       "\t\t<dd>0.30837891305379</dd>\n",
       "\t<dt>64</dt>\n",
       "\t\t<dd>0.298247991718362</dd>\n",
       "\t<dt>65</dt>\n",
       "\t\t<dd>0.311221944569662</dd>\n",
       "\t<dt>66</dt>\n",
       "\t\t<dd>0.300167205690985</dd>\n",
       "\t<dt>67</dt>\n",
       "\t\t<dd>0.3145403111115</dd>\n",
       "\t<dt>68</dt>\n",
       "\t\t<dd>0.302439025591604</dd>\n",
       "\t<dt>69</dt>\n",
       "\t\t<dd>0.318319147418797</dd>\n",
       "\t<dt>70</dt>\n",
       "\t\t<dd>0.305055573706545</dd>\n",
       "\t<dt>71</dt>\n",
       "\t\t<dd>0.322542269601446</dd>\n",
       "\t<dt>72</dt>\n",
       "\t\t<dd>0.308008064696732</dd>\n",
       "\t<dt>73</dt>\n",
       "\t\t<dd>0.327192474719067</dd>\n",
       "\t<dt>74</dt>\n",
       "\t\t<dd>0.311286939666908</dd>\n",
       "\t<dt>75</dt>\n",
       "\t\t<dd>0.332251830864534</dd>\n",
       "\t<dt>76</dt>\n",
       "\t\t<dd>0.314882002846016</dd>\n",
       "\t<dt>77</dt>\n",
       "\t\t<dd>0.337701949179739</dd>\n",
       "\t<dt>78</dt>\n",
       "\t\t<dd>0.318782556997108</dd>\n",
       "\t<dt>79</dt>\n",
       "\t\t<dd>0.343524231479626</dd>\n",
       "\t<dt>80</dt>\n",
       "\t\t<dd>0.322977534195609</dd>\n",
       "\t<dt>81</dt>\n",
       "\t\t<dd>0.349700089382964</dd>\n",
       "\t<dt>82</dt>\n",
       "\t\t<dd>0.327455619229086</dd>\n",
       "\t<dt>83</dt>\n",
       "\t\t<dd>0.356211132872276</dd>\n",
       "\t<dt>84</dt>\n",
       "\t\t<dd>0.33220536352458</dd>\n",
       "\t<dt>85</dt>\n",
       "\t\t<dd>0.363039327920214</dd>\n",
       "\t<dt>86</dt>\n",
       "\t\t<dd>0.337215288153516</dd>\n",
       "\t<dt>87</dt>\n",
       "\t\t<dd>0.370167124172695</dd>\n",
       "\t<dt>88</dt>\n",
       "\t\t<dd>0.342473975061735</dd>\n",
       "\t<dt>89</dt>\n",
       "\t\t<dd>0.377577554664891</dd>\n",
       "\t<dt>90</dt>\n",
       "\t\t<dd>0.347970146197744</dd>\n",
       "\t<dt>91</dt>\n",
       "\t\t<dd>0.385254310192717</dd>\n",
       "\t<dt>92</dt>\n",
       "\t\t<dd>0.353692730650969</dd>\n",
       "\t<dt>93</dt>\n",
       "\t\t<dd>0.393181791318376</dd>\n",
       "\t<dt>94</dt>\n",
       "\t\t<dd>0.359630920258484</dd>\n",
       "\t<dt>95</dt>\n",
       "\t\t<dd>0.401345141111114</dd>\n",
       "\t<dt>96</dt>\n",
       "\t\t<dd>0.365774214395652</dd>\n",
       "\t<dt>97</dt>\n",
       "\t\t<dd>0.409730261671731</dd>\n",
       "\t<dt>98</dt>\n",
       "\t\t<dd>0.372112454840891</dd>\n",
       "\t<dt>99</dt>\n",
       "\t\t<dd>0.418323817314509</dd>\n",
       "\t<dt>100</dt>\n",
       "\t\t<dd>0.378635851708259</dd>\n",
       "\t<dt>101</dt>\n",
       "\t\t<dd>0.427113227028259</dd>\n",
       "\t<dt>102</dt>\n",
       "\t\t<dd>0.385335001485888</dd>\n",
       "\t<dt>103</dt>\n",
       "\t\t<dd>0.436086648545121</dd>\n",
       "\t<dt>104</dt>\n",
       "\t\t<dd>0.39220089821619</dd>\n",
       "\t<dt>105</dt>\n",
       "\t\t<dd>0.445232956038804</dd>\n",
       "\t<dt>106</dt>\n",
       "\t\t<dd>0.399224938816715</dd>\n",
       "\t<dt>107</dt>\n",
       "\t\t<dd>0.454541713172399</dd>\n",
       "\t<dt>108</dt>\n",
       "\t\t<dd>0.406398923479135</dd>\n",
       "\t<dt>109</dt>\n",
       "\t\t<dd>0.464003142932524</dd>\n",
       "\t<dt>110</dt>\n",
       "\t\t<dd>0.413715052006759</dd>\n",
       "\t<dt>111</dt>\n",
       "\t\t<dd>0.47360809542884</dd>\n",
       "\t<dt>112</dt>\n",
       "\t\t<dd>0.421165916865405</dd>\n",
       "\t<dt>113</dt>\n",
       "\t\t<dd>0.483348014609679</dd>\n",
       "\t<dt>114</dt>\n",
       "\t\t<dd>0.428744493633872</dd>\n",
       "\t<dt>115</dt>\n",
       "\t\t<dd>0.49321490464646</dd>\n",
       "\t<dt>116</dt>\n",
       "\t\t<dd>0.436444129452809</dd>\n",
       "\t<dt>117</dt>\n",
       "\t\t<dd>0.503201296570892</dd>\n",
       "\t<dt>118</dt>\n",
       "\t\t<dd>0.44425852998726</dd>\n",
       "\t<dt>119</dt>\n",
       "\t\t<dd>0.513300215607543</dd>\n",
       "\t<dt>120</dt>\n",
       "\t\t<dd>0.452181745340552</dd>\n",
       "\t<dt>121</dt>\n",
       "\t\t<dd>0.523505149527477</dd>\n",
       "\t<dt>122</dt>\n",
       "\t\t<dd>0.460208155286476</dd>\n",
       "\t<dt>123</dt>\n",
       "\t\t<dd>0.533810018253436</dd>\n",
       "\t<dt>124</dt>\n",
       "\t\t<dd>0.468332454123458</dd>\n",
       "\t<dt>125</dt>\n",
       "\t\t<dd>0.544209144870421</dd>\n",
       "\t<dt>126</dt>\n",
       "\t\t<dd>0.476549635398651</dd>\n",
       "\t<dt>127</dt>\n",
       "\t\t<dd>0.554697228134744</dd>\n",
       "\t<dt>128</dt>\n",
       "\t\t<dd>0.484854976701321</dd>\n",
       "\t<dt>129</dt>\n",
       "\t\t<dd>0.565269316527134</dd>\n",
       "\t<dt>130</dt>\n",
       "\t\t<dd>0.493244024683176</dd>\n",
       "\t<dt>131</dt>\n",
       "\t\t<dd>0.575920783858902</dd>\n",
       "\t<dt>132</dt>\n",
       "\t\t<dd>0.50171258042772</dd>\n",
       "\t<dt>133</dt>\n",
       "\t\t<dd>0.586647306412603</dd>\n",
       "\t<dt>134</dt>\n",
       "\t\t<dd>0.510256685260853</dd>\n",
       "\t<dt>135</dt>\n",
       "\t\t<dd>0.597444841578355</dd>\n",
       "\t<dt>136</dt>\n",
       "\t\t<dd>0.518872607069895</dd>\n",
       "</dl>\n",
       "</dd>\n",
       "\t<dt>$df</dt>\n",
       "\t\t<dd>26396</dd>\n",
       "\t<dt>$residual.scale</dt>\n",
       "\t\t<dd>23.1947255529686</dd>\n",
       "</dl>\n"
      ],
      "text/latex": [
       "\\begin{description}\n",
       "\\item[\\$fit] \\begin{tabular}{r|lll}\n",
       " fit & lwr & upr\\\\\n",
       "\\hline\n",
       "\t 55.83832 & 54.96900 & 56.70765\\\\\n",
       "\t 61.44417 & 60.65348 & 62.23485\\\\\n",
       "\t 55.95452 & 55.10305 & 56.80598\\\\\n",
       "\t 61.50571 & 60.72897 & 62.28245\\\\\n",
       "\t 56.07071 & 55.23677 & 56.90465\\\\\n",
       "\t 61.56725 & 60.80415 & 62.33035\\\\\n",
       "\t 56.18690 & 55.37012 & 57.00368\\\\\n",
       "\t 61.62879 & 60.87901 & 62.37856\\\\\n",
       "\t 56.30310 & 55.50309 & 57.10311\\\\\n",
       "\t 61.69033 & 60.95354 & 62.42712\\\\\n",
       "\t 56.41929 & 55.63564 & 57.20294\\\\\n",
       "\t 61.75187 & 61.02772 & 62.47602\\\\\n",
       "\t 56.53549 & 55.76775 & 57.30322\\\\\n",
       "\t 61.81341 & 61.10153 & 62.52529\\\\\n",
       "\t 56.65168 & 55.89939 & 57.40397\\\\\n",
       "\t 61.87495 & 61.17495 & 62.57496\\\\\n",
       "\t 56.76787 & 56.03054 & 57.50521\\\\\n",
       "\t 61.93649 & 61.24795 & 62.62503\\\\\n",
       "\t 56.88407 & 56.16116 & 57.60698\\\\\n",
       "\t 61.99803 & 61.32053 & 62.67554\\\\\n",
       "\t 57.00026 & 56.29121 & 57.70931\\\\\n",
       "\t 62.05957 & 61.39265 & 62.72650\\\\\n",
       "\t 57.11645 & 56.42068 & 57.81223\\\\\n",
       "\t 62.12112 & 61.46430 & 62.77793\\\\\n",
       "\t 57.23265 & 56.54952 & 57.91578\\\\\n",
       "\t 62.18266 & 61.53545 & 62.82986\\\\\n",
       "\t 57.34884 & 56.67769 & 58.02000\\\\\n",
       "\t 62.24420 & 61.60608 & 62.88231\\\\\n",
       "\t 57.46504 & 56.80516 & 58.12491\\\\\n",
       "\t 62.30574 & 61.67617 & 62.93530\\\\\n",
       "\t ... & ... & ...\\\\\n",
       "\t 61.99660 & 61.10567 & 62.88752\\\\\n",
       "\t 64.70584 & 63.90927 & 65.50240\\\\\n",
       "\t 62.11279 & 61.20332 & 63.02226\\\\\n",
       "\t 64.76738 & 63.95647 & 65.57828\\\\\n",
       "\t 62.22898 & 61.30069 & 63.15728\\\\\n",
       "\t 64.82892 & 64.00341 & 65.65443\\\\\n",
       "\t 62.34518 & 61.39779 & 63.29257\\\\\n",
       "\t 64.89046 & 64.05010 & 65.73082\\\\\n",
       "\t 62.46137 & 61.49464 & 63.42810\\\\\n",
       "\t 64.95200 & 64.09655 & 65.80745\\\\\n",
       "\t 62.57757 & 61.59126 & 63.56387\\\\\n",
       "\t 65.01354 & 64.14277 & 65.88431\\\\\n",
       "\t 62.69376 & 61.68766 & 63.69986\\\\\n",
       "\t 65.07508 & 64.18878 & 65.96138\\\\\n",
       "\t 62.80995 & 61.78385 & 63.83605\\\\\n",
       "\t 65.13662 & 64.23459 & 66.03865\\\\\n",
       "\t 62.92615 & 61.87985 & 63.97244\\\\\n",
       "\t 65.19816 & 64.28021 & 66.11612\\\\\n",
       "\t 63.04234 & 61.97566 & 64.10902\\\\\n",
       "\t 65.25970 & 64.32564 & 66.19377\\\\\n",
       "\t 63.15853 & 62.07130 & 64.24577\\\\\n",
       "\t 65.32125 & 64.37090 & 66.27159\\\\\n",
       "\t 63.27473 & 62.16677 & 64.38269\\\\\n",
       "\t 65.38279 & 64.41600 & 66.34957\\\\\n",
       "\t 63.39092 & 62.26209 & 64.51976\\\\\n",
       "\t 65.44433 & 64.46094 & 66.42771\\\\\n",
       "\t 63.50712 & 62.35726 & 64.65698\\\\\n",
       "\t 65.50587 & 64.50574 & 66.50600\\\\\n",
       "\t 63.62331 & 62.45229 & 64.79433\\\\\n",
       "\t 65.56741 & 64.55039 & 66.58443\\\\\n",
       "\\end{tabular}\n",
       "\n",
       "\\item[\\$se.fit] \\begin{description*}\n",
       "\\item[1] 0.443521921301316\n",
       "\\item[2] 0.403397669191658\n",
       "\\item[3] 0.434406909091013\n",
       "\\item[4] 0.396285073769384\n",
       "\\item[5] 0.42546679591258\n",
       "\\item[6] 0.389325783754064\n",
       "\\item[7] 0.416712838714071\n",
       "\\item[8] 0.382528166439013\n",
       "\\item[9] 0.408157015425527\n",
       "\\item[10] 0.375900992766494\n",
       "\\item[11] 0.39981204621662\n",
       "\\item[12] 0.369453434990994\n",
       "\\item[13] 0.391691408031476\n",
       "\\item[14] 0.363195059039382\n",
       "\\item[15] 0.383809340321926\n",
       "\\item[16] 0.357135810602579\n",
       "\\item[17] 0.376180839594385\n",
       "\\item[18] 0.351285993940933\n",
       "\\item[19] 0.368821640097804\n",
       "\\item[20] 0.345656242361603\n",
       "\\item[21] 0.361748177739492\n",
       "\\item[22] 0.340257479342018\n",
       "\\item[23] 0.354977534159791\n",
       "\\item[24] 0.335100869340845\n",
       "\\item[25] 0.348527357872234\n",
       "\\item[26] 0.330197757469616\n",
       "\\item[27] 0.34241575953736\n",
       "\\item[28] 0.325559597405916\n",
       "\\item[29] 0.336661178843963\n",
       "\\item[30] 0.321197867222694\n",
       "\\item[31] 0.331282221177924\n",
       "\\item[32] 0.317123973193259\n",
       "\\item[33] 0.326297463311414\n",
       "\\item[34] 0.313349142107517\n",
       "\\item[35] 0.321725228767128\n",
       "\\item[36] 0.309884303192855\n",
       "\\item[37] 0.317583335290079\n",
       "\\item[38] 0.306739961353736\n",
       "\\item[39] 0.313888818930514\n",
       "\\item[40] 0.303926064096892\n",
       "\\item[41] 0.31065764148356\n",
       "\\item[42] 0.301451865152185\n",
       "\\item[43] 0.307904390260313\n",
       "\\item[44] 0.29932578838149\n",
       "\\item[45] 0.3056419811445\n",
       "\\item[46] 0.297555296032243\n",
       "\\item[47] 0.303881377351768\n",
       "\\item[48] 0.296146765681541\n",
       "\\item[49] 0.302631336995018\n",
       "\\item[50] 0.295105380280681\n",
       "\\item[51] 0.301898202261109\n",
       "\\item[52] 0.294435035513336\n",
       "\\item[53] 0.301685741612857\n",
       "\\item[54] 0.294138268209086\n",
       "\\item[55] 0.301995053971786\n",
       "\\item[56] 0.294216208820158\n",
       "\\item[57] 0.302824540487156\n",
       "\\item[58] 0.294668560013008\n",
       "\\item[59] 0.304169945566626\n",
       "\\item[60] 0.295493602313043\n",
       "\\item[61] 0.306024464737159\n",
       "\\item[62] 0.296688226554248\n",
       "\\item[63] 0.30837891305379\n",
       "\\item[64] 0.298247991718362\n",
       "\\item[65] 0.311221944569662\n",
       "\\item[66] 0.300167205690985\n",
       "\\item[67] 0.3145403111115\n",
       "\\item[68] 0.302439025591604\n",
       "\\item[69] 0.318319147418797\n",
       "\\item[70] 0.305055573706545\n",
       "\\item[71] 0.322542269601446\n",
       "\\item[72] 0.308008064696732\n",
       "\\item[73] 0.327192474719067\n",
       "\\item[74] 0.311286939666908\n",
       "\\item[75] 0.332251830864534\n",
       "\\item[76] 0.314882002846016\n",
       "\\item[77] 0.337701949179739\n",
       "\\item[78] 0.318782556997108\n",
       "\\item[79] 0.343524231479626\n",
       "\\item[80] 0.322977534195609\n",
       "\\item[81] 0.349700089382964\n",
       "\\item[82] 0.327455619229086\n",
       "\\item[83] 0.356211132872276\n",
       "\\item[84] 0.33220536352458\n",
       "\\item[85] 0.363039327920214\n",
       "\\item[86] 0.337215288153516\n",
       "\\item[87] 0.370167124172695\n",
       "\\item[88] 0.342473975061735\n",
       "\\item[89] 0.377577554664891\n",
       "\\item[90] 0.347970146197744\n",
       "\\item[91] 0.385254310192717\n",
       "\\item[92] 0.353692730650969\n",
       "\\item[93] 0.393181791318376\n",
       "\\item[94] 0.359630920258484\n",
       "\\item[95] 0.401345141111114\n",
       "\\item[96] 0.365774214395652\n",
       "\\item[97] 0.409730261671731\n",
       "\\item[98] 0.372112454840891\n",
       "\\item[99] 0.418323817314509\n",
       "\\item[100] 0.378635851708259\n",
       "\\item[101] 0.427113227028259\n",
       "\\item[102] 0.385335001485888\n",
       "\\item[103] 0.436086648545121\n",
       "\\item[104] 0.39220089821619\n",
       "\\item[105] 0.445232956038804\n",
       "\\item[106] 0.399224938816715\n",
       "\\item[107] 0.454541713172399\n",
       "\\item[108] 0.406398923479135\n",
       "\\item[109] 0.464003142932524\n",
       "\\item[110] 0.413715052006759\n",
       "\\item[111] 0.47360809542884\n",
       "\\item[112] 0.421165916865405\n",
       "\\item[113] 0.483348014609679\n",
       "\\item[114] 0.428744493633872\n",
       "\\item[115] 0.49321490464646\n",
       "\\item[116] 0.436444129452809\n",
       "\\item[117] 0.503201296570892\n",
       "\\item[118] 0.44425852998726\n",
       "\\item[119] 0.513300215607543\n",
       "\\item[120] 0.452181745340552\n",
       "\\item[121] 0.523505149527477\n",
       "\\item[122] 0.460208155286476\n",
       "\\item[123] 0.533810018253436\n",
       "\\item[124] 0.468332454123458\n",
       "\\item[125] 0.544209144870421\n",
       "\\item[126] 0.476549635398651\n",
       "\\item[127] 0.554697228134744\n",
       "\\item[128] 0.484854976701321\n",
       "\\item[129] 0.565269316527134\n",
       "\\item[130] 0.493244024683176\n",
       "\\item[131] 0.575920783858902\n",
       "\\item[132] 0.50171258042772\n",
       "\\item[133] 0.586647306412603\n",
       "\\item[134] 0.510256685260853\n",
       "\\item[135] 0.597444841578355\n",
       "\\item[136] 0.518872607069895\n",
       "\\end{description*}\n",
       "\n",
       "\\item[\\$df] 26396\n",
       "\\item[\\$residual.scale] 23.1947255529686\n",
       "\\end{description}\n"
      ],
      "text/markdown": [
       "$fit\n",
       ":   \n",
       "| fit | lwr | upr |\n",
       "|---|---|---|\n",
       "| 55.83832 | 54.96900 | 56.70765 |\n",
       "| 61.44417 | 60.65348 | 62.23485 |\n",
       "| 55.95452 | 55.10305 | 56.80598 |\n",
       "| 61.50571 | 60.72897 | 62.28245 |\n",
       "| 56.07071 | 55.23677 | 56.90465 |\n",
       "| 61.56725 | 60.80415 | 62.33035 |\n",
       "| 56.18690 | 55.37012 | 57.00368 |\n",
       "| 61.62879 | 60.87901 | 62.37856 |\n",
       "| 56.30310 | 55.50309 | 57.10311 |\n",
       "| 61.69033 | 60.95354 | 62.42712 |\n",
       "| 56.41929 | 55.63564 | 57.20294 |\n",
       "| 61.75187 | 61.02772 | 62.47602 |\n",
       "| 56.53549 | 55.76775 | 57.30322 |\n",
       "| 61.81341 | 61.10153 | 62.52529 |\n",
       "| 56.65168 | 55.89939 | 57.40397 |\n",
       "| 61.87495 | 61.17495 | 62.57496 |\n",
       "| 56.76787 | 56.03054 | 57.50521 |\n",
       "| 61.93649 | 61.24795 | 62.62503 |\n",
       "| 56.88407 | 56.16116 | 57.60698 |\n",
       "| 61.99803 | 61.32053 | 62.67554 |\n",
       "| 57.00026 | 56.29121 | 57.70931 |\n",
       "| 62.05957 | 61.39265 | 62.72650 |\n",
       "| 57.11645 | 56.42068 | 57.81223 |\n",
       "| 62.12112 | 61.46430 | 62.77793 |\n",
       "| 57.23265 | 56.54952 | 57.91578 |\n",
       "| 62.18266 | 61.53545 | 62.82986 |\n",
       "| 57.34884 | 56.67769 | 58.02000 |\n",
       "| 62.24420 | 61.60608 | 62.88231 |\n",
       "| 57.46504 | 56.80516 | 58.12491 |\n",
       "| 62.30574 | 61.67617 | 62.93530 |\n",
       "| ... | ... | ... |\n",
       "| 61.99660 | 61.10567 | 62.88752 |\n",
       "| 64.70584 | 63.90927 | 65.50240 |\n",
       "| 62.11279 | 61.20332 | 63.02226 |\n",
       "| 64.76738 | 63.95647 | 65.57828 |\n",
       "| 62.22898 | 61.30069 | 63.15728 |\n",
       "| 64.82892 | 64.00341 | 65.65443 |\n",
       "| 62.34518 | 61.39779 | 63.29257 |\n",
       "| 64.89046 | 64.05010 | 65.73082 |\n",
       "| 62.46137 | 61.49464 | 63.42810 |\n",
       "| 64.95200 | 64.09655 | 65.80745 |\n",
       "| 62.57757 | 61.59126 | 63.56387 |\n",
       "| 65.01354 | 64.14277 | 65.88431 |\n",
       "| 62.69376 | 61.68766 | 63.69986 |\n",
       "| 65.07508 | 64.18878 | 65.96138 |\n",
       "| 62.80995 | 61.78385 | 63.83605 |\n",
       "| 65.13662 | 64.23459 | 66.03865 |\n",
       "| 62.92615 | 61.87985 | 63.97244 |\n",
       "| 65.19816 | 64.28021 | 66.11612 |\n",
       "| 63.04234 | 61.97566 | 64.10902 |\n",
       "| 65.25970 | 64.32564 | 66.19377 |\n",
       "| 63.15853 | 62.07130 | 64.24577 |\n",
       "| 65.32125 | 64.37090 | 66.27159 |\n",
       "| 63.27473 | 62.16677 | 64.38269 |\n",
       "| 65.38279 | 64.41600 | 66.34957 |\n",
       "| 63.39092 | 62.26209 | 64.51976 |\n",
       "| 65.44433 | 64.46094 | 66.42771 |\n",
       "| 63.50712 | 62.35726 | 64.65698 |\n",
       "| 65.50587 | 64.50574 | 66.50600 |\n",
       "| 63.62331 | 62.45229 | 64.79433 |\n",
       "| 65.56741 | 64.55039 | 66.58443 |\n",
       "\n",
       "\n",
       "$se.fit\n",
       ":   1\n",
       ":   0.4435219213013162\n",
       ":   0.4033976691916583\n",
       ":   0.4344069090910134\n",
       ":   0.3962850737693845\n",
       ":   0.425466795912586\n",
       ":   0.3893257837540647\n",
       ":   0.4167128387140718\n",
       ":   0.3825281664390139\n",
       ":   0.40815701542552710\n",
       ":   0.37590099276649411\n",
       ":   0.3998120462166212\n",
       ":   0.36945343499099413\n",
       ":   0.39169140803147614\n",
       ":   0.36319505903938215\n",
       ":   0.38380934032192616\n",
       ":   0.35713581060257917\n",
       ":   0.37618083959438518\n",
       ":   0.35128599394093319\n",
       ":   0.36882164009780420\n",
       ":   0.34565624236160321\n",
       ":   0.36174817773949222\n",
       ":   0.34025747934201823\n",
       ":   0.35497753415979124\n",
       ":   0.33510086934084525\n",
       ":   0.34852735787223426\n",
       ":   0.33019775746961627\n",
       ":   0.3424157595373628\n",
       ":   0.32555959740591629\n",
       ":   0.33666117884396330\n",
       ":   0.32119786722269431\n",
       ":   0.33128222117792432\n",
       ":   0.31712397319325933\n",
       ":   0.32629746331141434\n",
       ":   0.31334914210751735\n",
       ":   0.32172522876712836\n",
       ":   0.30988430319285537\n",
       ":   0.31758333529007938\n",
       ":   0.30673996135373639\n",
       ":   0.31388881893051440\n",
       ":   0.30392606409689241\n",
       ":   0.3106576414835642\n",
       ":   0.30145186515218543\n",
       ":   0.30790439026031344\n",
       ":   0.2993257883814945\n",
       ":   0.305641981144546\n",
       ":   0.29755529603224347\n",
       ":   0.30388137735176848\n",
       ":   0.29614676568154149\n",
       ":   0.30263133699501850\n",
       ":   0.29510538028068151\n",
       ":   0.30189820226110952\n",
       ":   0.29443503551333653\n",
       ":   0.30168574161285754\n",
       ":   0.29413826820908655\n",
       ":   0.30199505397178656\n",
       ":   0.29421620882015857\n",
       ":   0.30282454048715658\n",
       ":   0.29466856001300859\n",
       ":   0.30416994556662660\n",
       ":   0.29549360231304361\n",
       ":   0.30602446473715962\n",
       ":   0.29668822655424863\n",
       ":   0.3083789130537964\n",
       ":   0.29824799171836265\n",
       ":   0.31122194456966266\n",
       ":   0.30016720569098567\n",
       ":   0.314540311111568\n",
       ":   0.30243902559160469\n",
       ":   0.31831914741879770\n",
       ":   0.30505557370654571\n",
       ":   0.32254226960144672\n",
       ":   0.30800806469673273\n",
       ":   0.32719247471906774\n",
       ":   0.31128693966690875\n",
       ":   0.33225183086453476\n",
       ":   0.31488200284601677\n",
       ":   0.33770194917973978\n",
       ":   0.31878255699710879\n",
       ":   0.34352423147962680\n",
       ":   0.32297753419560981\n",
       ":   0.34970008938296482\n",
       ":   0.32745561922908683\n",
       ":   0.35621113287227684\n",
       ":   0.3322053635245885\n",
       ":   0.36303932792021486\n",
       ":   0.33721528815351687\n",
       ":   0.37016712417269588\n",
       ":   0.34247397506173589\n",
       ":   0.37757755466489190\n",
       ":   0.34797014619774491\n",
       ":   0.38525431019271792\n",
       ":   0.35369273065096993\n",
       ":   0.39318179131837694\n",
       ":   0.35963092025848495\n",
       ":   0.40134514111111496\n",
       ":   0.36577421439565297\n",
       ":   0.40973026167173198\n",
       ":   0.37211245484089199\n",
       ":   0.418323817314509100\n",
       ":   0.378635851708259101\n",
       ":   0.427113227028259102\n",
       ":   0.385335001485888103\n",
       ":   0.436086648545121104\n",
       ":   0.39220089821619105\n",
       ":   0.445232956038804106\n",
       ":   0.399224938816715107\n",
       ":   0.454541713172399108\n",
       ":   0.406398923479135109\n",
       ":   0.464003142932524110\n",
       ":   0.413715052006759111\n",
       ":   0.47360809542884112\n",
       ":   0.421165916865405113\n",
       ":   0.483348014609679114\n",
       ":   0.428744493633872115\n",
       ":   0.49321490464646116\n",
       ":   0.436444129452809117\n",
       ":   0.503201296570892118\n",
       ":   0.44425852998726119\n",
       ":   0.513300215607543120\n",
       ":   0.452181745340552121\n",
       ":   0.523505149527477122\n",
       ":   0.460208155286476123\n",
       ":   0.533810018253436124\n",
       ":   0.468332454123458125\n",
       ":   0.544209144870421126\n",
       ":   0.476549635398651127\n",
       ":   0.554697228134744128\n",
       ":   0.484854976701321129\n",
       ":   0.565269316527134130\n",
       ":   0.493244024683176131\n",
       ":   0.575920783858902132\n",
       ":   0.50171258042772133\n",
       ":   0.586647306412603134\n",
       ":   0.510256685260853135\n",
       ":   0.597444841578355136\n",
       ":   0.518872607069895\n",
       "\n",
       "\n",
       "$df\n",
       ":   26396\n",
       "$residual.scale\n",
       ":   23.1947255529686\n",
       "\n",
       "\n"
      ],
      "text/plain": [
       "$fit\n",
       "         fit      lwr      upr\n",
       "1   55.83832 54.96900 56.70765\n",
       "2   61.44417 60.65348 62.23485\n",
       "3   55.95452 55.10305 56.80598\n",
       "4   61.50571 60.72897 62.28245\n",
       "5   56.07071 55.23677 56.90465\n",
       "6   61.56725 60.80415 62.33035\n",
       "7   56.18690 55.37012 57.00368\n",
       "8   61.62879 60.87901 62.37856\n",
       "9   56.30310 55.50309 57.10311\n",
       "10  61.69033 60.95354 62.42712\n",
       "11  56.41929 55.63564 57.20294\n",
       "12  61.75187 61.02772 62.47602\n",
       "13  56.53549 55.76775 57.30322\n",
       "14  61.81341 61.10153 62.52529\n",
       "15  56.65168 55.89939 57.40397\n",
       "16  61.87495 61.17495 62.57496\n",
       "17  56.76787 56.03054 57.50521\n",
       "18  61.93649 61.24795 62.62503\n",
       "19  56.88407 56.16116 57.60698\n",
       "20  61.99803 61.32053 62.67554\n",
       "21  57.00026 56.29121 57.70931\n",
       "22  62.05957 61.39265 62.72650\n",
       "23  57.11645 56.42068 57.81223\n",
       "24  62.12112 61.46430 62.77793\n",
       "25  57.23265 56.54952 57.91578\n",
       "26  62.18266 61.53545 62.82986\n",
       "27  57.34884 56.67769 58.02000\n",
       "28  62.24420 61.60608 62.88231\n",
       "29  57.46504 56.80516 58.12491\n",
       "30  62.30574 61.67617 62.93530\n",
       "31  57.58123 56.93190 58.23056\n",
       "32  62.36728 61.74570 62.98886\n",
       "33  57.69742 57.05786 58.33698\n",
       "34  62.42882 61.81464 63.04300\n",
       "35  57.81362 57.18302 58.44422\n",
       "36  62.49036 61.88297 63.09775\n",
       "37  57.92981 57.30733 58.55229\n",
       "38  62.55190 61.95068 63.15313\n",
       "39  58.04601 57.43077 58.66124\n",
       "40  62.61344 62.01773 63.20915\n",
       "41  58.16220 57.55329 58.77110\n",
       "42  62.67498 62.08412 63.26585\n",
       "43  58.27839 57.67488 58.88190\n",
       "44  62.73653 62.14983 63.32322\n",
       "45  58.39459 57.79551 58.99366\n",
       "46  62.79807 62.21484 63.38129\n",
       "47  58.51078 57.91516 59.10640\n",
       "48  62.85961 62.27914 63.44007\n",
       "49  58.62697 58.03380 59.22015\n",
       "50  62.92115 62.34273 63.49957\n",
       "51  58.74317 58.15143 59.33490\n",
       "52  62.98269 62.40558 63.55980\n",
       "53  58.85936 58.26804 59.45068\n",
       "54  63.04423 62.46770 63.62076\n",
       "55  58.97556 58.38363 59.56748\n",
       "56  63.10577 62.52909 63.68245\n",
       "57  59.09175 58.49820 59.68530\n",
       "58  63.16731 62.58975 63.74488\n",
       "59  59.20794 58.61175 59.80413\n",
       "60  63.22885 62.64967 63.80804\n",
       "61  59.32414 58.72431 59.92396\n",
       "62  63.29039 62.70887 63.87192\n",
       "63  59.44033 58.83589 60.04477\n",
       "64  63.35193 62.76735 63.93652\n",
       "65  59.55653 58.94651 60.16654\n",
       "66  63.41348 62.82513 64.00182\n",
       "67  59.67272 59.05620 60.28923\n",
       "68  63.47502 62.88222 64.06781\n",
       "69  59.78891 59.16499 60.41284\n",
       "70  63.53656 62.93863 64.13448\n",
       "71  59.90511 59.27291 60.53731\n",
       "72  63.59810 62.99439 64.20181\n",
       "73  60.02130 59.37999 60.66262\n",
       "74  63.65964 63.04950 64.26978\n",
       "75  60.13749 59.48626 60.78873\n",
       "76  63.72118 63.10399 64.33837\n",
       "77  60.25369 59.59177 60.91560\n",
       "78  63.78272 63.15789 64.40755\n",
       "79  60.36988 59.69656 61.04321\n",
       "80  63.84426 63.21121 64.47732\n",
       "81  60.48608 59.80064 61.17151\n",
       "82  63.90580 63.26397 64.54763\n",
       "83  60.60227 59.90408 61.30046\n",
       "84  63.96734 63.31620 64.61848\n",
       "85  60.71846 60.00689 61.43004\n",
       "86  64.02889 63.36792 64.68985\n",
       "87  60.83466 60.10911 61.56021\n",
       "88  64.09043 63.41916 64.76169\n",
       "89  60.95085 60.21078 61.69092\n",
       "90  64.15197 63.46993 64.83401\n",
       "91  61.06705 60.31193 61.82216\n",
       "92  64.21351 63.52025 64.90676\n",
       "93  61.18324 60.41258 61.95390\n",
       "94  64.27505 63.57015 64.97994\n",
       "95  61.29943 60.51277 62.08609\n",
       "96  64.33659 63.61965 65.05353\n",
       "97  61.41563 60.61253 62.21872\n",
       "98  64.39813 63.66877 65.12749\n",
       "99  61.53182 60.71188 62.35176\n",
       "100 64.45967 63.71753 65.20182\n",
       "101 61.64801 60.81085 62.48518\n",
       "102 64.52121 63.76594 65.27649\n",
       "103 61.76421 60.90946 62.61896\n",
       "104 64.58275 63.81402 65.35149\n",
       "105 61.88040 61.00772 62.75308\n",
       "106 64.64429 63.86179 65.42680\n",
       "107 61.99660 61.10567 62.88752\n",
       "108 64.70584 63.90927 65.50240\n",
       "109 62.11279 61.20332 63.02226\n",
       "110 64.76738 63.95647 65.57828\n",
       "111 62.22898 61.30069 63.15728\n",
       "112 64.82892 64.00341 65.65443\n",
       "113 62.34518 61.39779 63.29257\n",
       "114 64.89046 64.05010 65.73082\n",
       "115 62.46137 61.49464 63.42810\n",
       "116 64.95200 64.09655 65.80745\n",
       "117 62.57757 61.59126 63.56387\n",
       "118 65.01354 64.14277 65.88431\n",
       "119 62.69376 61.68766 63.69986\n",
       "120 65.07508 64.18878 65.96138\n",
       "121 62.80995 61.78385 63.83605\n",
       "122 65.13662 64.23459 66.03865\n",
       "123 62.92615 61.87985 63.97244\n",
       "124 65.19816 64.28021 66.11612\n",
       "125 63.04234 61.97566 64.10902\n",
       "126 65.25970 64.32564 66.19377\n",
       "127 63.15853 62.07130 64.24577\n",
       "128 65.32125 64.37090 66.27159\n",
       "129 63.27473 62.16677 64.38269\n",
       "130 65.38279 64.41600 66.34957\n",
       "131 63.39092 62.26209 64.51976\n",
       "132 65.44433 64.46094 66.42771\n",
       "133 63.50712 62.35726 64.65698\n",
       "134 65.50587 64.50574 66.50600\n",
       "135 63.62331 62.45229 64.79433\n",
       "136 65.56741 64.55039 66.58443\n",
       "\n",
       "$se.fit\n",
       "        1         2         3         4         5         6         7         8 \n",
       "0.4435219 0.4033977 0.4344069 0.3962851 0.4254668 0.3893258 0.4167128 0.3825282 \n",
       "        9        10        11        12        13        14        15        16 \n",
       "0.4081570 0.3759010 0.3998120 0.3694534 0.3916914 0.3631951 0.3838093 0.3571358 \n",
       "       17        18        19        20        21        22        23        24 \n",
       "0.3761808 0.3512860 0.3688216 0.3456562 0.3617482 0.3402575 0.3549775 0.3351009 \n",
       "       25        26        27        28        29        30        31        32 \n",
       "0.3485274 0.3301978 0.3424158 0.3255596 0.3366612 0.3211979 0.3312822 0.3171240 \n",
       "       33        34        35        36        37        38        39        40 \n",
       "0.3262975 0.3133491 0.3217252 0.3098843 0.3175833 0.3067400 0.3138888 0.3039261 \n",
       "       41        42        43        44        45        46        47        48 \n",
       "0.3106576 0.3014519 0.3079044 0.2993258 0.3056420 0.2975553 0.3038814 0.2961468 \n",
       "       49        50        51        52        53        54        55        56 \n",
       "0.3026313 0.2951054 0.3018982 0.2944350 0.3016857 0.2941383 0.3019951 0.2942162 \n",
       "       57        58        59        60        61        62        63        64 \n",
       "0.3028245 0.2946686 0.3041699 0.2954936 0.3060245 0.2966882 0.3083789 0.2982480 \n",
       "       65        66        67        68        69        70        71        72 \n",
       "0.3112219 0.3001672 0.3145403 0.3024390 0.3183191 0.3050556 0.3225423 0.3080081 \n",
       "       73        74        75        76        77        78        79        80 \n",
       "0.3271925 0.3112869 0.3322518 0.3148820 0.3377019 0.3187826 0.3435242 0.3229775 \n",
       "       81        82        83        84        85        86        87        88 \n",
       "0.3497001 0.3274556 0.3562111 0.3322054 0.3630393 0.3372153 0.3701671 0.3424740 \n",
       "       89        90        91        92        93        94        95        96 \n",
       "0.3775776 0.3479701 0.3852543 0.3536927 0.3931818 0.3596309 0.4013451 0.3657742 \n",
       "       97        98        99       100       101       102       103       104 \n",
       "0.4097303 0.3721125 0.4183238 0.3786359 0.4271132 0.3853350 0.4360866 0.3922009 \n",
       "      105       106       107       108       109       110       111       112 \n",
       "0.4452330 0.3992249 0.4545417 0.4063989 0.4640031 0.4137151 0.4736081 0.4211659 \n",
       "      113       114       115       116       117       118       119       120 \n",
       "0.4833480 0.4287445 0.4932149 0.4364441 0.5032013 0.4442585 0.5133002 0.4521817 \n",
       "      121       122       123       124       125       126       127       128 \n",
       "0.5235051 0.4602082 0.5338100 0.4683325 0.5442091 0.4765496 0.5546972 0.4848550 \n",
       "      129       130       131       132       133       134       135       136 \n",
       "0.5652693 0.4932440 0.5759208 0.5017126 0.5866473 0.5102567 0.5974448 0.5188726 \n",
       "\n",
       "$df\n",
       "[1] 26396\n",
       "\n",
       "$residual.scale\n",
       "[1] 23.19473\n"
      ]
     },
     "metadata": {},
     "output_type": "display_data"
    }
   ],
   "source": [
    "#pour voir:\n",
    "head(predict_for)\n",
    "head(pred3)"
   ]
  },
  {
   "cell_type": "code",
   "execution_count": 47,
   "metadata": {},
   "outputs": [
    {
     "data": {
      "text/html": [
       "<table>\n",
       "<thead><tr><th scope=col>fit</th><th scope=col>lwr</th><th scope=col>upr</th><th scope=col>gender</th><th scope=col>age</th><th scope=col>income</th></tr></thead>\n",
       "<tbody>\n",
       "\t<tr><td>55.83832              </td><td>54.96900              </td><td>56.70765              </td><td>Homme                 </td><td>18                    </td><td>3. 34 to 67 percentile</td></tr>\n",
       "\t<tr><td>61.44417              </td><td>60.65348              </td><td>62.23485              </td><td>Femme                 </td><td>18                    </td><td>3. 34 to 67 percentile</td></tr>\n",
       "\t<tr><td>55.95452              </td><td>55.10305              </td><td>56.80598              </td><td>Homme                 </td><td>19                    </td><td>3. 34 to 67 percentile</td></tr>\n",
       "\t<tr><td>61.50571              </td><td>60.72897              </td><td>62.28245              </td><td>Femme                 </td><td>19                    </td><td>3. 34 to 67 percentile</td></tr>\n",
       "\t<tr><td>56.07071              </td><td>55.23677              </td><td>56.90465              </td><td>Homme                 </td><td>20                    </td><td>3. 34 to 67 percentile</td></tr>\n",
       "\t<tr><td>61.56725              </td><td>60.80415              </td><td>62.33035              </td><td>Femme                 </td><td>20                    </td><td>3. 34 to 67 percentile</td></tr>\n",
       "</tbody>\n",
       "</table>\n"
      ],
      "text/latex": [
       "\\begin{tabular}{r|llllll}\n",
       " fit & lwr & upr & gender & age & income\\\\\n",
       "\\hline\n",
       "\t 55.83832               & 54.96900               & 56.70765               & Homme                  & 18                     & 3. 34 to 67 percentile\\\\\n",
       "\t 61.44417               & 60.65348               & 62.23485               & Femme                  & 18                     & 3. 34 to 67 percentile\\\\\n",
       "\t 55.95452               & 55.10305               & 56.80598               & Homme                  & 19                     & 3. 34 to 67 percentile\\\\\n",
       "\t 61.50571               & 60.72897               & 62.28245               & Femme                  & 19                     & 3. 34 to 67 percentile\\\\\n",
       "\t 56.07071               & 55.23677               & 56.90465               & Homme                  & 20                     & 3. 34 to 67 percentile\\\\\n",
       "\t 61.56725               & 60.80415               & 62.33035               & Femme                  & 20                     & 3. 34 to 67 percentile\\\\\n",
       "\\end{tabular}\n"
      ],
      "text/markdown": [
       "\n",
       "| fit | lwr | upr | gender | age | income |\n",
       "|---|---|---|---|---|---|\n",
       "| 55.83832               | 54.96900               | 56.70765               | Homme                  | 18                     | 3. 34 to 67 percentile |\n",
       "| 61.44417               | 60.65348               | 62.23485               | Femme                  | 18                     | 3. 34 to 67 percentile |\n",
       "| 55.95452               | 55.10305               | 56.80598               | Homme                  | 19                     | 3. 34 to 67 percentile |\n",
       "| 61.50571               | 60.72897               | 62.28245               | Femme                  | 19                     | 3. 34 to 67 percentile |\n",
       "| 56.07071               | 55.23677               | 56.90465               | Homme                  | 20                     | 3. 34 to 67 percentile |\n",
       "| 61.56725               | 60.80415               | 62.33035               | Femme                  | 20                     | 3. 34 to 67 percentile |\n",
       "\n"
      ],
      "text/plain": [
       "  fit      lwr      upr      gender age income                \n",
       "1 55.83832 54.96900 56.70765 Homme  18  3. 34 to 67 percentile\n",
       "2 61.44417 60.65348 62.23485 Femme  18  3. 34 to 67 percentile\n",
       "3 55.95452 55.10305 56.80598 Homme  19  3. 34 to 67 percentile\n",
       "4 61.50571 60.72897 62.28245 Femme  19  3. 34 to 67 percentile\n",
       "5 56.07071 55.23677 56.90465 Homme  20  3. 34 to 67 percentile\n",
       "6 61.56725 60.80415 62.33035 Femme  20  3. 34 to 67 percentile"
      ]
     },
     "metadata": {},
     "output_type": "display_data"
    }
   ],
   "source": [
    "#on combine les colonnes de pred3 et predict_for en un seul dataframe pred3:\n",
    "pred3 <- data.frame(cbind(pred3$fit,predict_for))\n",
    "head(pred3)"
   ]
  },
  {
   "cell_type": "code",
   "execution_count": 48,
   "metadata": {},
   "outputs": [
    {
     "data": {
      "image/png": "[encoded data removed]",
      "text/plain": [
       "plot without title"
      ]
     },
     "metadata": {},
     "output_type": "display_data"
    }
   ],
   "source": [
    "#on utilise ce dataframe pour créer le graphique:\n",
    "ggplot(pred3, aes(x=age,y=fit,color=gender)) +\n",
    "    geom_line() + geom_point() +\n",
    "    geom_line(aes(y=lwr),lty=3) + geom_line(aes(y=upr),lty=3)"
   ]
  },
  {
   "cell_type": "markdown",
   "metadata": {},
   "source": [
    "Discussion: conclure sur le graphique."
   ]
  },
  {
   "cell_type": "markdown",
   "metadata": {},
   "source": [
    "On sauve les données avec **saveRDS()** :"
   ]
  },
  {
   "cell_type": "code",
   "execution_count": 49,
   "metadata": {},
   "outputs": [],
   "source": [
    "# Save an object to a file\n",
    "saveRDS(anes, file = \"TD4_mydata.rds\")"
   ]
  },
  {
   "cell_type": "markdown",
   "metadata": {},
   "source": [
    "Note: Pour ouvrir un objet dans R : \n",
    "**readRDS(file = \"TD4_my_data.rds\")**"
   ]
  },
  {
   "cell_type": "markdown",
   "metadata": {
    "collapsed": true
   },
   "source": [
    "### Exercice 2\n",
    "On souhaite connaître l'impact de l'ethnie sur le score pro-démocrate. On estime un modèle où le score *demtherm* dépend: du genre *gender*, de l'âge *age*, du niveau d'éducation *edu*, de l'ethnie *race*. Le codebook nous apprend que *race* prend 3 valeurs: 1 si 'white', 2 si 'black', 3 si 'other', 9 si 'missing'.\n",
    "\n",
    "Commencez par restaurer l'objet *\"TD4_mydata.rds\"*. Créez un dataframequi contient uniquement les données qui nous intéressent (rappel: TD2: **library(dplyr)**, piping **%>%**, fonction **select()**)."
   ]
  },
  {
   "cell_type": "code",
   "execution_count": 2,
   "metadata": {},
   "outputs": [
    {
     "name": "stderr",
     "output_type": "stream",
     "text": [
      "\n",
      "Attaching package: 'dplyr'\n",
      "\n",
      "The following objects are masked from 'package:plyr':\n",
      "\n",
      "    arrange, count, desc, failwith, id, mutate, rename, summarise,\n",
      "    summarize\n",
      "\n",
      "The following objects are masked from 'package:stats':\n",
      "\n",
      "    filter, lag\n",
      "\n",
      "The following objects are masked from 'package:base':\n",
      "\n",
      "    intersect, setdiff, setequal, union\n",
      "\n"
     ]
    }
   ],
   "source": [
    "library(plyr)\n",
    "library(dplyr)\n",
    "d<-readRDS(file=\"TD4_mydata.rds\")\n",
    "d<-d%>%dplyr::select(demtherm,age,gender,edu,race)"
   ]
  },
  {
   "cell_type": "markdown",
   "metadata": {},
   "source": [
    "Produisez des statistiques descriptives basiques sur ces variables (summary())."
   ]
  },
  {
   "cell_type": "code",
   "execution_count": 39,
   "metadata": {},
   "outputs": [
    {
     "data": {
      "text/plain": [
       "    demtherm          age          gender     \n",
       " Min.   : 0.00   Min.   :17.00   Homme:22017  \n",
       " 1st Qu.:50.00   1st Qu.:32.00   Femme:27640  \n",
       " Median :60.00   Median :43.00   NA's :  103  \n",
       " Mean   :62.12   Mean   :45.84                \n",
       " 3rd Qu.:85.00   3rd Qu.:59.00                \n",
       " Max.   :99.00   Max.   :99.00                \n",
       " NA's   :23355   NA's   :2159                 \n",
       "                                                     edu             race      \n",
       " 3. 12 grades, diploma or equivalency                  :12175   Min.   :0.000  \n",
       " 5. Some college, no degree; junior/community college  : 9803   1st Qu.:1.000  \n",
       " 6. BA level degrees; advanced degrees incl. LLB       : 8552   Median :1.000  \n",
       " 1. 8 grades or less ('grade school')                  : 7639   Mean   :1.305  \n",
       " 2. 9-12 grades ('high school'), no diploma/equivalency: 6901   3rd Qu.:1.000  \n",
       " (Other)                                               : 4028   Max.   :9.000  \n",
       " NA's                                                  :  662                  "
      ]
     },
     "metadata": {},
     "output_type": "display_data"
    }
   ],
   "source": []
  },
  {
   "cell_type": "markdown",
   "metadata": {
    "collapsed": true
   },
   "source": [
    "Créez deux variables : \n",
    "- *white* qui vaudra 1 si l'individu se définit comme blanc américain, 0 s'il se définit comme noir américain ou autre\n",
    "- *edu3* qui regroupera 1. et 2. en 'Pre-bac', 3. et 4. en 'Bac', 5 et 6. en 'Université', 8. et 9 en NA"
   ]
  },
  {
   "cell_type": "code",
   "execution_count": 5,
   "metadata": {},
   "outputs": [
    {
     "data": {
      "text/html": [
       "'integer'"
      ],
      "text/latex": [
       "'integer'"
      ],
      "text/markdown": [
       "'integer'"
      ],
      "text/plain": [
       "[1] \"integer\""
      ]
     },
     "metadata": {},
     "output_type": "display_data"
    },
    {
     "data": {
      "text/plain": [
       "\n",
       "    0     1     2     3     9 \n",
       "   11 40286  5753  3372   338 "
      ]
     },
     "metadata": {},
     "output_type": "display_data"
    },
    {
     "data": {
      "text/html": [
       "'factor'"
      ],
      "text/latex": [
       "'factor'"
      ],
      "text/markdown": [
       "'factor'"
      ],
      "text/plain": [
       "[1] \"factor\""
      ]
     },
     "metadata": {},
     "output_type": "display_data"
    },
    {
     "data": {
      "text/plain": [
       "\n",
       "                  1. 8 grades or less ('grade school') \n",
       "                                                  7639 \n",
       "2. 9-12 grades ('high school'), no diploma/equivalency \n",
       "                                                  6901 \n",
       "                  3. 12 grades, diploma or equivalency \n",
       "                                                 12175 \n",
       "4. 12 grades, diploma or equivalency plus non-academic \n",
       "                                                  3548 \n",
       "  5. Some college, no degree; junior/community college \n",
       "                                                  9803 \n",
       "       6. BA level degrees; advanced degrees incl. LLB \n",
       "                                                  8552 \n",
       "                                                 8. DK \n",
       "                                                    26 \n",
       "  9. NA; RF; no Pre IW; short-form 'new' Cross Section \n",
       "                                                   454 "
      ]
     },
     "metadata": {},
     "output_type": "display_data"
    }
   ],
   "source": [
    "class(d$race)\n",
    "table(d$race)\n",
    "class(d$edu)\n",
    "table(d$edu)"
   ]
  },
  {
   "cell_type": "markdown",
   "metadata": {},
   "source": [
    "Rappel du codebook : race prend les valeurs : \n",
    "\n",
    "1=White\n",
    "\n",
    "2=Black\n",
    "\n",
    "3=Native American\n",
    "\n",
    "4=Asian\n",
    "\n",
    "7=0ther\n",
    "\n",
    "9/0 = NA: Inap. question not used"
   ]
  },
  {
   "cell_type": "code",
   "execution_count": 41,
   "metadata": {},
   "outputs": [
    {
     "data": {
      "text/plain": [
       "\n",
       "    0     1  <NA> \n",
       " 9125 40286   349 "
      ]
     },
     "metadata": {},
     "output_type": "display_data"
    },
    {
     "data": {
      "text/html": [
       "<dl class=dl-horizontal>\n",
       "\t<dt>1. 8 grades or less ('grade school')</dt>\n",
       "\t\t<dd>7639</dd>\n",
       "\t<dt>2. 9-12 grades ('high school'), no diploma/equivalency</dt>\n",
       "\t\t<dd>6901</dd>\n",
       "\t<dt>3. 12 grades, diploma or equivalency</dt>\n",
       "\t\t<dd>12175</dd>\n",
       "\t<dt>4. 12 grades, diploma or equivalency plus non-academic</dt>\n",
       "\t\t<dd>3548</dd>\n",
       "\t<dt>5. Some college, no degree; junior/community college</dt>\n",
       "\t\t<dd>9803</dd>\n",
       "\t<dt>6. BA level degrees; advanced degrees incl. LLB</dt>\n",
       "\t\t<dd>8552</dd>\n",
       "\t<dt>8. DK</dt>\n",
       "\t\t<dd>26</dd>\n",
       "\t<dt>9. NA; RF; no Pre IW; short-form 'new' Cross Section</dt>\n",
       "\t\t<dd>454</dd>\n",
       "\t<dt>NA's</dt>\n",
       "\t\t<dd>662</dd>\n",
       "</dl>\n"
      ],
      "text/latex": [
       "\\begin{description*}\n",
       "\\item[1. 8 grades or less ('grade school')] 7639\n",
       "\\item[2. 9-12 grades ('high school'), no diploma/equivalency] 6901\n",
       "\\item[3. 12 grades, diploma or equivalency] 12175\n",
       "\\item[4. 12 grades, diploma or equivalency plus non-academic] 3548\n",
       "\\item[5. Some college, no degree; junior/community college] 9803\n",
       "\\item[6. BA level degrees; advanced degrees incl. LLB] 8552\n",
       "\\item[8. DK] 26\n",
       "\\item[9. NA; RF; no Pre IW; short-form 'new' Cross Section] 454\n",
       "\\item[NA's] 662\n",
       "\\end{description*}\n"
      ],
      "text/markdown": [
       "1. 8 grades or less ('grade school')\n",
       ":   76392. 9-12 grades ('high school'), no diploma/equivalency\n",
       ":   69013. 12 grades, diploma or equivalency\n",
       ":   121754. 12 grades, diploma or equivalency plus non-academic\n",
       ":   35485. Some college, no degree; junior/community college\n",
       ":   98036. BA level degrees; advanced degrees incl. LLB\n",
       ":   85528. DK\n",
       ":   269. NA; RF; no Pre IW; short-form 'new' Cross Section\n",
       ":   454NA's\n",
       ":   662\n",
       "\n"
      ],
      "text/plain": [
       "                  1. 8 grades or less ('grade school') \n",
       "                                                  7639 \n",
       "2. 9-12 grades ('high school'), no diploma/equivalency \n",
       "                                                  6901 \n",
       "                  3. 12 grades, diploma or equivalency \n",
       "                                                 12175 \n",
       "4. 12 grades, diploma or equivalency plus non-academic \n",
       "                                                  3548 \n",
       "  5. Some college, no degree; junior/community college \n",
       "                                                  9803 \n",
       "       6. BA level degrees; advanced degrees incl. LLB \n",
       "                                                  8552 \n",
       "                                                 8. DK \n",
       "                                                    26 \n",
       "  9. NA; RF; no Pre IW; short-form 'new' Cross Section \n",
       "                                                   454 \n",
       "                                                  NA's \n",
       "                                                   662 "
      ]
     },
     "metadata": {},
     "output_type": "display_data"
    },
    {
     "data": {
      "text/html": [
       "<ol class=list-inline>\n",
       "\t<li>'1. 8 grades or less (\\'grade school\\')'</li>\n",
       "\t<li>'2. 9-12 grades (\\'high school\\'), no diploma/equivalency'</li>\n",
       "\t<li>'3. 12 grades, diploma or equivalency'</li>\n",
       "\t<li>'4. 12 grades, diploma or equivalency plus non-academic'</li>\n",
       "\t<li>'5. Some college, no degree; junior/community college'</li>\n",
       "\t<li>'6. BA level degrees; advanced degrees incl. LLB'</li>\n",
       "\t<li>'8. DK'</li>\n",
       "\t<li>'9. NA; RF; no Pre IW; short-form \\'new\\' Cross Section'</li>\n",
       "</ol>\n"
      ],
      "text/latex": [
       "\\begin{enumerate*}\n",
       "\\item '1. 8 grades or less (\\textbackslash{}'grade school\\textbackslash{}')'\n",
       "\\item '2. 9-12 grades (\\textbackslash{}'high school\\textbackslash{}'), no diploma/equivalency'\n",
       "\\item '3. 12 grades, diploma or equivalency'\n",
       "\\item '4. 12 grades, diploma or equivalency plus non-academic'\n",
       "\\item '5. Some college, no degree; junior/community college'\n",
       "\\item '6. BA level degrees; advanced degrees incl. LLB'\n",
       "\\item '8. DK'\n",
       "\\item '9. NA; RF; no Pre IW; short-form \\textbackslash{}'new\\textbackslash{}' Cross Section'\n",
       "\\end{enumerate*}\n"
      ],
      "text/markdown": [
       "1. '1. 8 grades or less (\\'grade school\\')'\n",
       "2. '2. 9-12 grades (\\'high school\\'), no diploma/equivalency'\n",
       "3. '3. 12 grades, diploma or equivalency'\n",
       "4. '4. 12 grades, diploma or equivalency plus non-academic'\n",
       "5. '5. Some college, no degree; junior/community college'\n",
       "6. '6. BA level degrees; advanced degrees incl. LLB'\n",
       "7. '8. DK'\n",
       "8. '9. NA; RF; no Pre IW; short-form \\'new\\' Cross Section'\n",
       "\n",
       "\n"
      ],
      "text/plain": [
       "[1] \"1. 8 grades or less ('grade school')\"                  \n",
       "[2] \"2. 9-12 grades ('high school'), no diploma/equivalency\"\n",
       "[3] \"3. 12 grades, diploma or equivalency\"                  \n",
       "[4] \"4. 12 grades, diploma or equivalency plus non-academic\"\n",
       "[5] \"5. Some college, no degree; junior/community college\"  \n",
       "[6] \"6. BA level degrees; advanced degrees incl. LLB\"       \n",
       "[7] \"8. DK\"                                                 \n",
       "[8] \"9. NA; RF; no Pre IW; short-form 'new' Cross Section\"  "
      ]
     },
     "metadata": {},
     "output_type": "display_data"
    },
    {
     "data": {
      "text/html": [
       "<ol class=list-inline>\n",
       "\t<li>'Pre-bac'</li>\n",
       "\t<li>'Bac'</li>\n",
       "\t<li>'Université'</li>\n",
       "</ol>\n"
      ],
      "text/latex": [
       "\\begin{enumerate*}\n",
       "\\item 'Pre-bac'\n",
       "\\item 'Bac'\n",
       "\\item 'Université'\n",
       "\\end{enumerate*}\n"
      ],
      "text/markdown": [
       "1. 'Pre-bac'\n",
       "2. 'Bac'\n",
       "3. 'Université'\n",
       "\n",
       "\n"
      ],
      "text/plain": [
       "[1] \"Pre-bac\"    \"Bac\"        \"Université\""
      ]
     },
     "metadata": {},
     "output_type": "display_data"
    },
    {
     "data": {
      "text/html": [
       "<dl class=dl-horizontal>\n",
       "\t<dt>Pre-bac</dt>\n",
       "\t\t<dd>14540</dd>\n",
       "\t<dt>Bac</dt>\n",
       "\t\t<dd>15723</dd>\n",
       "\t<dt>Université</dt>\n",
       "\t\t<dd>18355</dd>\n",
       "\t<dt>NA's</dt>\n",
       "\t\t<dd>1142</dd>\n",
       "</dl>\n"
      ],
      "text/latex": [
       "\\begin{description*}\n",
       "\\item[Pre-bac] 14540\n",
       "\\item[Bac] 15723\n",
       "\\item[Université] 18355\n",
       "\\item[NA's] 1142\n",
       "\\end{description*}\n"
      ],
      "text/markdown": [
       "Pre-bac\n",
       ":   14540Bac\n",
       ":   15723Université\n",
       ":   18355NA's\n",
       ":   1142\n",
       "\n"
      ],
      "text/plain": [
       "   Pre-bac        Bac Université       NA's \n",
       "     14540      15723      18355       1142 "
      ]
     },
     "metadata": {},
     "output_type": "display_data"
    }
   ],
   "source": [
    "#white: création de la variable\n",
    "\n"
   ]
  },
  {
   "cell_type": "code",
   "execution_count": null,
   "metadata": {},
   "outputs": [],
   "source": [
    "#attention aux valeurs manquantes qui doivent être recodées en 'NA'\n"
   ]
  },
  {
   "cell_type": "code",
   "execution_count": null,
   "metadata": {},
   "outputs": [],
   "source": [
    "#on définit white comme facteur\n"
   ]
  },
  {
   "cell_type": "code",
   "execution_count": null,
   "metadata": {},
   "outputs": [],
   "source": [
    "#on définit son niveau 0 comme \"Non-White\" et son niveau 1 comme \"White\"\n"
   ]
  },
  {
   "cell_type": "code",
   "execution_count": null,
   "metadata": {},
   "outputs": [],
   "source": [
    "#on crée edu3 comme une duplication de edu\n"
   ]
  },
  {
   "cell_type": "code",
   "execution_count": null,
   "metadata": {},
   "outputs": [],
   "source": [
    "#redéfinition des niveaux de edu\n"
   ]
  },
  {
   "cell_type": "markdown",
   "metadata": {
    "collapsed": true
   },
   "source": [
    "Effectuer la régression de *demtherm* sur *age*, *genre*, et les deux variables nouvellement crées: *edu3* et *white*. Afficher les résultats et commenter."
   ]
  },
  {
   "cell_type": "code",
   "execution_count": 42,
   "metadata": {},
   "outputs": [
    {
     "data": {
      "text/plain": [
       "\n",
       "Call:\n",
       "lm(formula = demtherm ~ gender + age + edu3 + white, data = d)\n",
       "\n",
       "Residuals:\n",
       "    Min      1Q  Median      3Q     Max \n",
       "-83.793 -13.504   0.851  16.140  48.816 \n",
       "\n",
       "Coefficients:\n",
       "                 Estimate Std. Error t value Pr(>|t|)    \n",
       "(Intercept)     72.510779   0.585159  123.92   <2e-16 ***\n",
       "genderFemme      4.718786   0.281596   16.76   <2e-16 ***\n",
       "age              0.096525   0.008243   11.71   <2e-16 ***\n",
       "edu3Bac         -6.513596   0.409277  -15.91   <2e-16 ***\n",
       "edu3Université -11.157508   0.394290  -28.30   <2e-16 ***\n",
       "whiteWhite     -13.196171   0.330763  -39.90   <2e-16 ***\n",
       "---\n",
       "Signif. codes:  0 '***' 0.001 '**' 0.01 '*' 0.05 '.' 0.1 ' ' 1\n",
       "\n",
       "Residual standard error: 22.44 on 25886 degrees of freedom\n",
       "  (23868 observations deleted due to missingness)\n",
       "Multiple R-squared:  0.1182,\tAdjusted R-squared:  0.118 \n",
       "F-statistic: 693.9 on 5 and 25886 DF,  p-value: < 2.2e-16\n"
      ]
     },
     "metadata": {},
     "output_type": "display_data"
    }
   ],
   "source": [
    "lm1<-"
   ]
  },
  {
   "cell_type": "markdown",
   "metadata": {
    "collapsed": true
   },
   "source": [
    "Représenter graphiquement le score moyen des blancs américains et non-blancs (on prendra les hommes de niveau bac et d'âge de 40)."
   ]
  },
  {
   "cell_type": "code",
   "execution_count": 43,
   "metadata": {},
   "outputs": [
    {
     "data": {
      "text/html": [
       "<table>\n",
       "<thead><tr><th scope=col>gender</th><th scope=col>age</th><th scope=col>edu3</th><th scope=col>white</th></tr></thead>\n",
       "<tbody>\n",
       "\t<tr><td>Homme    </td><td>40       </td><td>Bac      </td><td>Non-White</td></tr>\n",
       "\t<tr><td>Homme    </td><td>40       </td><td>Bac      </td><td>White    </td></tr>\n",
       "</tbody>\n",
       "</table>\n"
      ],
      "text/latex": [
       "\\begin{tabular}{r|llll}\n",
       " gender & age & edu3 & white\\\\\n",
       "\\hline\n",
       "\t Homme     & 40        & Bac       & Non-White\\\\\n",
       "\t Homme     & 40        & Bac       & White    \\\\\n",
       "\\end{tabular}\n"
      ],
      "text/markdown": [
       "\n",
       "| gender | age | edu3 | white |\n",
       "|---|---|---|---|\n",
       "| Homme     | 40        | Bac       | Non-White |\n",
       "| Homme     | 40        | Bac       | White     |\n",
       "\n"
      ],
      "text/plain": [
       "  gender age edu3 white    \n",
       "1 Homme  40  Bac  Non-White\n",
       "2 Homme  40  Bac  White    "
      ]
     },
     "metadata": {},
     "output_type": "display_data"
    },
    {
     "data": {
      "text/html": [
       "<dl>\n",
       "\t<dt>$fit</dt>\n",
       "\t\t<dd><table>\n",
       "<thead><tr><th scope=col>fit</th><th scope=col>lwr</th><th scope=col>upr</th></tr></thead>\n",
       "<tbody>\n",
       "\t<tr><td>69.85817</td><td>69.09990</td><td>70.61644</td></tr>\n",
       "\t<tr><td>56.66199</td><td>56.06842</td><td>57.25557</td></tr>\n",
       "</tbody>\n",
       "</table>\n",
       "</dd>\n",
       "\t<dt>$se.fit</dt>\n",
       "\t\t<dd><dl class=dl-horizontal>\n",
       "\t<dt>1</dt>\n",
       "\t\t<dd>0.386861471305278</dd>\n",
       "\t<dt>2</dt>\n",
       "\t\t<dd>0.302838015093259</dd>\n",
       "</dl>\n",
       "</dd>\n",
       "\t<dt>$df</dt>\n",
       "\t\t<dd>25886</dd>\n",
       "\t<dt>$residual.scale</dt>\n",
       "\t\t<dd>22.4357207049957</dd>\n",
       "</dl>\n"
      ],
      "text/latex": [
       "\\begin{description}\n",
       "\\item[\\$fit] \\begin{tabular}{r|lll}\n",
       " fit & lwr & upr\\\\\n",
       "\\hline\n",
       "\t 69.85817 & 69.09990 & 70.61644\\\\\n",
       "\t 56.66199 & 56.06842 & 57.25557\\\\\n",
       "\\end{tabular}\n",
       "\n",
       "\\item[\\$se.fit] \\begin{description*}\n",
       "\\item[1] 0.386861471305278\n",
       "\\item[2] 0.302838015093259\n",
       "\\end{description*}\n",
       "\n",
       "\\item[\\$df] 25886\n",
       "\\item[\\$residual.scale] 22.4357207049957\n",
       "\\end{description}\n"
      ],
      "text/markdown": [
       "$fit\n",
       ":   \n",
       "| fit | lwr | upr |\n",
       "|---|---|---|\n",
       "| 69.85817 | 69.09990 | 70.61644 |\n",
       "| 56.66199 | 56.06842 | 57.25557 |\n",
       "\n",
       "\n",
       "$se.fit\n",
       ":   1\n",
       ":   0.3868614713052782\n",
       ":   0.302838015093259\n",
       "\n",
       "\n",
       "$df\n",
       ":   25886\n",
       "$residual.scale\n",
       ":   22.4357207049957\n",
       "\n",
       "\n"
      ],
      "text/plain": [
       "$fit\n",
       "       fit      lwr      upr\n",
       "1 69.85817 69.09990 70.61644\n",
       "2 56.66199 56.06842 57.25557\n",
       "\n",
       "$se.fit\n",
       "        1         2 \n",
       "0.3868615 0.3028380 \n",
       "\n",
       "$df\n",
       "[1] 25886\n",
       "\n",
       "$residual.scale\n",
       "[1] 22.43572\n"
      ]
     },
     "metadata": {},
     "output_type": "display_data"
    },
    {
     "data": {
      "text/html": [
       "<table>\n",
       "<thead><tr><th scope=col>fit</th><th scope=col>lwr</th><th scope=col>upr</th><th scope=col>gender</th><th scope=col>age</th><th scope=col>edu3</th><th scope=col>white</th></tr></thead>\n",
       "<tbody>\n",
       "\t<tr><td>69.85817 </td><td>69.09990 </td><td>70.61644 </td><td>Homme    </td><td>40       </td><td>Bac      </td><td>Non-White</td></tr>\n",
       "\t<tr><td>56.66199 </td><td>56.06842 </td><td>57.25557 </td><td>Homme    </td><td>40       </td><td>Bac      </td><td>White    </td></tr>\n",
       "</tbody>\n",
       "</table>\n"
      ],
      "text/latex": [
       "\\begin{tabular}{r|lllllll}\n",
       " fit & lwr & upr & gender & age & edu3 & white\\\\\n",
       "\\hline\n",
       "\t 69.85817  & 69.09990  & 70.61644  & Homme     & 40        & Bac       & Non-White\\\\\n",
       "\t 56.66199  & 56.06842  & 57.25557  & Homme     & 40        & Bac       & White    \\\\\n",
       "\\end{tabular}\n"
      ],
      "text/markdown": [
       "\n",
       "| fit | lwr | upr | gender | age | edu3 | white |\n",
       "|---|---|---|---|---|---|---|\n",
       "| 69.85817  | 69.09990  | 70.61644  | Homme     | 40        | Bac       | Non-White |\n",
       "| 56.66199  | 56.06842  | 57.25557  | Homme     | 40        | Bac       | White     |\n",
       "\n"
      ],
      "text/plain": [
       "  fit      lwr      upr      gender age edu3 white    \n",
       "1 69.85817 69.09990 70.61644 Homme  40  Bac  Non-White\n",
       "2 56.66199 56.06842 57.25557 Homme  40  Bac  White    "
      ]
     },
     "metadata": {},
     "output_type": "display_data"
    },
    {
     "data": {
      "image/png": "[encoded data removed]",
      "text/plain": [
       "plot without title"
      ]
     },
     "metadata": {},
     "output_type": "display_data"
    }
   ],
   "source": [
    "#catégorie pour laquelle on va prédire :\n",
    "predict_for <- \n",
    "predict_for\n",
    "\n",
    "#on prédit :\n",
    "pred1<-\n",
    "pred1\n",
    "\n",
    "#on associe:\n",
    "pred1 <- \n",
    "pred1\n",
    "\n",
    "#graphique :\n",
    "library(ggplot2)\n",
    "ggplot()"
   ]
  },
  {
   "cell_type": "markdown",
   "metadata": {},
   "source": [
    "Refaire l'estimation en interagissant l'ethnie avec l'éducation :"
   ]
  },
  {
   "cell_type": "code",
   "execution_count": 44,
   "metadata": {},
   "outputs": [
    {
     "data": {
      "text/plain": [
       "\n",
       "Call:\n",
       "lm(formula = demtherm ~ gender + age + edu3 + white + white:edu3, \n",
       "    data = d)\n",
       "\n",
       "Residuals:\n",
       "    Min      1Q  Median      3Q     Max \n",
       "-80.812 -13.507   0.608  16.680  49.147 \n",
       "\n",
       "Coefficients:\n",
       "                           Estimate Std. Error t value Pr(>|t|)    \n",
       "(Intercept)               69.726169   0.685833 101.666  < 2e-16 ***\n",
       "genderFemme                4.714351   0.281306  16.759  < 2e-16 ***\n",
       "age                        0.093703   0.008242  11.369  < 2e-16 ***\n",
       "edu3Bac                   -2.991166   0.728229  -4.107 4.01e-05 ***\n",
       "edu3Université            -6.703670   0.703618  -9.527  < 2e-16 ***\n",
       "whiteWhite                -8.655067   0.667913 -12.958  < 2e-16 ***\n",
       "edu3Bac:whiteWhite        -5.343285   0.869144  -6.148 7.97e-10 ***\n",
       "edu3Université:whiteWhite -6.482495   0.835703  -7.757 9.02e-15 ***\n",
       "---\n",
       "Signif. codes:  0 '***' 0.001 '**' 0.01 '*' 0.05 '.' 0.1 ' ' 1\n",
       "\n",
       "Residual standard error: 22.41 on 25884 degrees of freedom\n",
       "  (23868 observations deleted due to missingness)\n",
       "Multiple R-squared:  0.1203,\tAdjusted R-squared:  0.1201 \n",
       "F-statistic: 505.8 on 7 and 25884 DF,  p-value: < 2.2e-16\n"
      ]
     },
     "metadata": {},
     "output_type": "display_data"
    }
   ],
   "source": [
    "lm2 <- "
   ]
  },
  {
   "cell_type": "markdown",
   "metadata": {},
   "source": [
    "OPTIONNEL : Représenter graphiquement les scores moyens des hommes de 40 ans selon leur niveau d'étude, pour les non-whites et whites (les scores moyens avec leu rintervalle de confiance en ordonnée, les niveaux d'éducation en absisse, et les origines ethniques en légende)."
   ]
  },
  {
   "cell_type": "code",
   "execution_count": 45,
   "metadata": {},
   "outputs": [
    {
     "data": {
      "text/html": [
       "<table>\n",
       "<thead><tr><th scope=col>gender</th><th scope=col>age</th><th scope=col>white</th><th scope=col>edu3</th></tr></thead>\n",
       "<tbody>\n",
       "\t<tr><td>Homme     </td><td>40        </td><td>Non-White </td><td>Pre-bac   </td></tr>\n",
       "\t<tr><td>Homme     </td><td>40        </td><td>White     </td><td>Pre-bac   </td></tr>\n",
       "\t<tr><td>Homme     </td><td>40        </td><td>Non-White </td><td>Bac       </td></tr>\n",
       "\t<tr><td>Homme     </td><td>40        </td><td>White     </td><td>Bac       </td></tr>\n",
       "\t<tr><td>Homme     </td><td>40        </td><td>Non-White </td><td>Université</td></tr>\n",
       "\t<tr><td>Homme     </td><td>40        </td><td>White     </td><td>Université</td></tr>\n",
       "</tbody>\n",
       "</table>\n"
      ],
      "text/latex": [
       "\\begin{tabular}{r|llll}\n",
       " gender & age & white & edu3\\\\\n",
       "\\hline\n",
       "\t Homme      & 40         & Non-White  & Pre-bac   \\\\\n",
       "\t Homme      & 40         & White      & Pre-bac   \\\\\n",
       "\t Homme      & 40         & Non-White  & Bac       \\\\\n",
       "\t Homme      & 40         & White      & Bac       \\\\\n",
       "\t Homme      & 40         & Non-White  & Université\\\\\n",
       "\t Homme      & 40         & White      & Université\\\\\n",
       "\\end{tabular}\n"
      ],
      "text/markdown": [
       "\n",
       "| gender | age | white | edu3 |\n",
       "|---|---|---|---|\n",
       "| Homme      | 40         | Non-White  | Pre-bac    |\n",
       "| Homme      | 40         | White      | Pre-bac    |\n",
       "| Homme      | 40         | Non-White  | Bac        |\n",
       "| Homme      | 40         | White      | Bac        |\n",
       "| Homme      | 40         | Non-White  | Université |\n",
       "| Homme      | 40         | White      | Université |\n",
       "\n"
      ],
      "text/plain": [
       "  gender age white     edu3      \n",
       "1 Homme  40  Non-White Pre-bac   \n",
       "2 Homme  40  White     Pre-bac   \n",
       "3 Homme  40  Non-White Bac       \n",
       "4 Homme  40  White     Bac       \n",
       "5 Homme  40  Non-White Université\n",
       "6 Homme  40  White     Université"
      ]
     },
     "metadata": {},
     "output_type": "display_data"
    },
    {
     "data": {
      "text/html": [
       "<dl>\n",
       "\t<dt>$fit</dt>\n",
       "\t\t<dd><table>\n",
       "<thead><tr><th scope=col>fit</th><th scope=col>lwr</th><th scope=col>upr</th></tr></thead>\n",
       "<tbody>\n",
       "\t<tr><td>73.47429</td><td>72.36868</td><td>74.57989</td></tr>\n",
       "\t<tr><td>64.81922</td><td>63.94532</td><td>65.69312</td></tr>\n",
       "\t<tr><td>70.48312</td><td>69.46993</td><td>71.49631</td></tr>\n",
       "\t<tr><td>56.48477</td><td>55.85262</td><td>57.11692</td></tr>\n",
       "\t<tr><td>66.77062</td><td>65.83209</td><td>67.70915</td></tr>\n",
       "\t<tr><td>51.63305</td><td>51.10366</td><td>52.16245</td></tr>\n",
       "</tbody>\n",
       "</table>\n",
       "</dd>\n",
       "\t<dt>$se.fit</dt>\n",
       "\t\t<dd><dl class=dl-horizontal>\n",
       "\t<dt>1</dt>\n",
       "\t\t<dd>0.564069124196481</dd>\n",
       "\t<dt>2</dt>\n",
       "\t\t<dd>0.445854416426379</dd>\n",
       "\t<dt>3</dt>\n",
       "\t\t<dd>0.516919200921795</dd>\n",
       "\t<dt>4</dt>\n",
       "\t\t<dd>0.322517662994714</dd>\n",
       "\t<dt>5</dt>\n",
       "\t\t<dd>0.478828561698332</dd>\n",
       "\t<dt>6</dt>\n",
       "\t\t<dd>0.27009190295271</dd>\n",
       "</dl>\n",
       "</dd>\n",
       "\t<dt>$df</dt>\n",
       "\t\t<dd>25884</dd>\n",
       "\t<dt>$residual.scale</dt>\n",
       "\t\t<dd>22.4091541488731</dd>\n",
       "</dl>\n"
      ],
      "text/latex": [
       "\\begin{description}\n",
       "\\item[\\$fit] \\begin{tabular}{r|lll}\n",
       " fit & lwr & upr\\\\\n",
       "\\hline\n",
       "\t 73.47429 & 72.36868 & 74.57989\\\\\n",
       "\t 64.81922 & 63.94532 & 65.69312\\\\\n",
       "\t 70.48312 & 69.46993 & 71.49631\\\\\n",
       "\t 56.48477 & 55.85262 & 57.11692\\\\\n",
       "\t 66.77062 & 65.83209 & 67.70915\\\\\n",
       "\t 51.63305 & 51.10366 & 52.16245\\\\\n",
       "\\end{tabular}\n",
       "\n",
       "\\item[\\$se.fit] \\begin{description*}\n",
       "\\item[1] 0.564069124196481\n",
       "\\item[2] 0.445854416426379\n",
       "\\item[3] 0.516919200921795\n",
       "\\item[4] 0.322517662994714\n",
       "\\item[5] 0.478828561698332\n",
       "\\item[6] 0.27009190295271\n",
       "\\end{description*}\n",
       "\n",
       "\\item[\\$df] 25884\n",
       "\\item[\\$residual.scale] 22.4091541488731\n",
       "\\end{description}\n"
      ],
      "text/markdown": [
       "$fit\n",
       ":   \n",
       "| fit | lwr | upr |\n",
       "|---|---|---|\n",
       "| 73.47429 | 72.36868 | 74.57989 |\n",
       "| 64.81922 | 63.94532 | 65.69312 |\n",
       "| 70.48312 | 69.46993 | 71.49631 |\n",
       "| 56.48477 | 55.85262 | 57.11692 |\n",
       "| 66.77062 | 65.83209 | 67.70915 |\n",
       "| 51.63305 | 51.10366 | 52.16245 |\n",
       "\n",
       "\n",
       "$se.fit\n",
       ":   1\n",
       ":   0.5640691241964812\n",
       ":   0.4458544164263793\n",
       ":   0.5169192009217954\n",
       ":   0.3225176629947145\n",
       ":   0.4788285616983326\n",
       ":   0.27009190295271\n",
       "\n",
       "\n",
       "$df\n",
       ":   25884\n",
       "$residual.scale\n",
       ":   22.4091541488731\n",
       "\n",
       "\n"
      ],
      "text/plain": [
       "$fit\n",
       "       fit      lwr      upr\n",
       "1 73.47429 72.36868 74.57989\n",
       "2 64.81922 63.94532 65.69312\n",
       "3 70.48312 69.46993 71.49631\n",
       "4 56.48477 55.85262 57.11692\n",
       "5 66.77062 65.83209 67.70915\n",
       "6 51.63305 51.10366 52.16245\n",
       "\n",
       "$se.fit\n",
       "        1         2         3         4         5         6 \n",
       "0.5640691 0.4458544 0.5169192 0.3225177 0.4788286 0.2700919 \n",
       "\n",
       "$df\n",
       "[1] 25884\n",
       "\n",
       "$residual.scale\n",
       "[1] 22.40915\n"
      ]
     },
     "metadata": {},
     "output_type": "display_data"
    },
    {
     "data": {
      "text/html": [
       "<table>\n",
       "<thead><tr><th scope=col>fit</th><th scope=col>lwr</th><th scope=col>upr</th><th scope=col>gender</th><th scope=col>age</th><th scope=col>white</th><th scope=col>edu3</th></tr></thead>\n",
       "<tbody>\n",
       "\t<tr><td>73.47429  </td><td>72.36868  </td><td>74.57989  </td><td>Homme     </td><td>40        </td><td>Non-White </td><td>Pre-bac   </td></tr>\n",
       "\t<tr><td>64.81922  </td><td>63.94532  </td><td>65.69312  </td><td>Homme     </td><td>40        </td><td>White     </td><td>Pre-bac   </td></tr>\n",
       "\t<tr><td>70.48312  </td><td>69.46993  </td><td>71.49631  </td><td>Homme     </td><td>40        </td><td>Non-White </td><td>Bac       </td></tr>\n",
       "\t<tr><td>56.48477  </td><td>55.85262  </td><td>57.11692  </td><td>Homme     </td><td>40        </td><td>White     </td><td>Bac       </td></tr>\n",
       "\t<tr><td>66.77062  </td><td>65.83209  </td><td>67.70915  </td><td>Homme     </td><td>40        </td><td>Non-White </td><td>Université</td></tr>\n",
       "\t<tr><td>51.63305  </td><td>51.10366  </td><td>52.16245  </td><td>Homme     </td><td>40        </td><td>White     </td><td>Université</td></tr>\n",
       "</tbody>\n",
       "</table>\n"
      ],
      "text/latex": [
       "\\begin{tabular}{r|lllllll}\n",
       " fit & lwr & upr & gender & age & white & edu3\\\\\n",
       "\\hline\n",
       "\t 73.47429   & 72.36868   & 74.57989   & Homme      & 40         & Non-White  & Pre-bac   \\\\\n",
       "\t 64.81922   & 63.94532   & 65.69312   & Homme      & 40         & White      & Pre-bac   \\\\\n",
       "\t 70.48312   & 69.46993   & 71.49631   & Homme      & 40         & Non-White  & Bac       \\\\\n",
       "\t 56.48477   & 55.85262   & 57.11692   & Homme      & 40         & White      & Bac       \\\\\n",
       "\t 66.77062   & 65.83209   & 67.70915   & Homme      & 40         & Non-White  & Université\\\\\n",
       "\t 51.63305   & 51.10366   & 52.16245   & Homme      & 40         & White      & Université\\\\\n",
       "\\end{tabular}\n"
      ],
      "text/markdown": [
       "\n",
       "| fit | lwr | upr | gender | age | white | edu3 |\n",
       "|---|---|---|---|---|---|---|\n",
       "| 73.47429   | 72.36868   | 74.57989   | Homme      | 40         | Non-White  | Pre-bac    |\n",
       "| 64.81922   | 63.94532   | 65.69312   | Homme      | 40         | White      | Pre-bac    |\n",
       "| 70.48312   | 69.46993   | 71.49631   | Homme      | 40         | Non-White  | Bac        |\n",
       "| 56.48477   | 55.85262   | 57.11692   | Homme      | 40         | White      | Bac        |\n",
       "| 66.77062   | 65.83209   | 67.70915   | Homme      | 40         | Non-White  | Université |\n",
       "| 51.63305   | 51.10366   | 52.16245   | Homme      | 40         | White      | Université |\n",
       "\n"
      ],
      "text/plain": [
       "  fit      lwr      upr      gender age white     edu3      \n",
       "1 73.47429 72.36868 74.57989 Homme  40  Non-White Pre-bac   \n",
       "2 64.81922 63.94532 65.69312 Homme  40  White     Pre-bac   \n",
       "3 70.48312 69.46993 71.49631 Homme  40  Non-White Bac       \n",
       "4 56.48477 55.85262 57.11692 Homme  40  White     Bac       \n",
       "5 66.77062 65.83209 67.70915 Homme  40  Non-White Université\n",
       "6 51.63305 51.10366 52.16245 Homme  40  White     Université"
      ]
     },
     "metadata": {},
     "output_type": "display_data"
    },
    {
     "data": {
      "image/png": "[encoded data removed]",
      "text/plain": [
       "plot without title"
      ]
     },
     "metadata": {},
     "output_type": "display_data"
    }
   ],
   "source": [
    "#catégories pour lesquelles on prédit:\n",
    "predict_for<-\n",
    "predict_for\n",
    "\n",
    "#valeurs prédites:\n",
    "pred2<-\n",
    "pred2\n",
    "\n",
    "#combinaison des deux objets en 1 dataframe\n",
    "pred2<-\n",
    "pred2\n",
    "\n",
    "#on utilise ce dataframe pour créer le graphique:"
   ]
  }
 ],
 "metadata": {
  "kernelspec": {
   "display_name": "R",
   "language": "R",
   "name": "ir"
  },
  "language_info": {
   "codemirror_mode": "r",
   "file_extension": ".r",
   "mimetype": "text/x-r-source",
   "name": "R",
   "pygments_lexer": "r",
   "version": "3.6.1"
  }
 },
 "nbformat": 4,
 "nbformat_minor": 2
}

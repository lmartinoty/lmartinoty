{
 "cells": [
  {
   "cell_type": "markdown",
   "metadata": {},
   "source": [
    "# DOUBLES DIFFERENCES\n",
    "\n",
    "Cette application est inspirée de l'article de K. A. Kiel and K. T. McClain (1995) : \"The Effect of an Incinerator Siting on Housing Appreciation Rates\", *Journal of Urban Economics*, 37(3):311-323, et du manuel de Wooldridge (voir bibliographie du cours).\n",
    "\n",
    "Kiel et McClain (1995) étudient l'impact de l'environnement sur le prix de l'immobilier. Pour cela, elles étudient l'effet de la construction d'un nouvel incinérateur de déchets sur la valeur de l'immobilier dans une ville du Massachussetts. \n",
    "\n",
    "Le projet s'ébruite en 1978, la construction devient effective en 1981, et l'incinérateur fonctionne à partir de 1985. Nous utilisons ici des données simplifiées, disponibles sur internet : kielmc.raw. Les données sont également dans le répertoire : **TD9_kielmc.rds**"
   ]
  },
  {
   "cell_type": "markdown",
   "metadata": {},
   "source": [
    "# Introduction"
   ]
  },
  {
   "cell_type": "markdown",
   "metadata": {},
   "source": [
    "Comment s'appelle ce type d'évènement, mobilisé dans les études d'économétrie appliquée ?"
   ]
  },
  {
   "cell_type": "markdown",
   "metadata": {},
   "source": [
    "<font color=green> \n",
    "    \n",
    "Réponse : une expérience naturelle, ou quasi-expérience.\n",
    "    \n",
    "Wooldridge : *\"The methodology used in the previous example has numerous applications, especially when the data arise from a natural experiment (or a quasi-experiment). A natural experiment occurs when some exogenous event -- often a change in government policy -- changes the environment in which individuals, families, firms, or cities operate.\"*.\n",
    "</font>"
   ]
  },
  {
   "cell_type": "markdown",
   "metadata": {},
   "source": [
    "De quelles informations avons-nous besoin pour analyser l'impact de l'incinérateur sur la valeur de l'immobilier en double différence ? "
   ]
  },
  {
   "cell_type": "markdown",
   "metadata": {},
   "source": [
    "<font color=green> \n",
    "\n",
    "Réponse : de la date (quelle date : construction effective, mise en service, ou rumeur de construction ? réponse : rumeur, ou début officiel du projet) ; des prix de l'immobilier avant et après cette date ; d'une zone de contrôle qui reste à définir. \"Avant\" sera donc 1978 (avant les rumeurs), \"après\" sera 1981 (construction effective). \n",
    "\n",
    "Wooldridge : *\"A natural experiment always has a control group, which is not affected by the policy change, and a treatment group, which is thought to be affected by the policy change. Unlike a true experiment, in which treatment and control groups are randomly and explicitly chosen, the control and treatment groups in natural experiments arise from the particular policy change. To control for systematic differences between the control and treatment groups, we need two years of data, one before the policy change and one after the change. Thus, our sample is usefully broken down into four groups: the control group before the change, the control group after the change, the treatment group before the change, and the treatment group after the change.\"*.\n",
    "</font>"
   ]
  },
  {
   "cell_type": "markdown",
   "metadata": {},
   "source": [
    "Quel est le résultat attendu ? "
   ]
  },
  {
   "cell_type": "markdown",
   "metadata": {},
   "source": [
    "<font color=green>Réponse : nous nous attendons à ce que le prix des maisons les plus proches du site baisse avec la construction de l'incinérateur. En effet, l'incinérateur représente une pollution à la fois visuelle et environnementale. Si cette pollution visuelle et environnementale compte pour les individus, alors leur DAP pour le bien sera moins importante à qualité identique après la mise en place du projet.</font>"
   ]
  },
  {
   "cell_type": "markdown",
   "metadata": {},
   "source": [
    "# 1. Les données"
   ]
  },
  {
   "cell_type": "markdown",
   "metadata": {},
   "source": [
    "Ouvrir les données : **TD9_kielmc.rds**."
   ]
  },
  {
   "cell_type": "code",
   "execution_count": 1,
   "metadata": {
    "scrolled": true
   },
   "outputs": [
    {
     "data": {
      "text/html": [
       "<table>\n",
       "<thead><tr><th scope=col>year</th><th scope=col>age</th><th scope=col>nbh</th><th scope=col>cbd</th><th scope=col>intst</th><th scope=col>price</th><th scope=col>rooms</th><th scope=col>area</th><th scope=col>land</th><th scope=col>baths</th><th scope=col>dist</th><th scope=col>wind</th></tr></thead>\n",
       "<tbody>\n",
       "\t<tr><td>1978 </td><td>48   </td><td>4    </td><td>3000 </td><td>1000 </td><td>60000</td><td>7    </td><td>1660 </td><td> 4578</td><td>1    </td><td>10700</td><td>3    </td></tr>\n",
       "\t<tr><td>1978 </td><td>83   </td><td>4    </td><td>4000 </td><td>1000 </td><td>40000</td><td>6    </td><td>2612 </td><td> 8370</td><td>2    </td><td>11000</td><td>3    </td></tr>\n",
       "\t<tr><td>1978 </td><td>58   </td><td>4    </td><td>4000 </td><td>1000 </td><td>34000</td><td>6    </td><td>1144 </td><td> 5000</td><td>1    </td><td>11500</td><td>3    </td></tr>\n",
       "\t<tr><td>1978 </td><td>11   </td><td>4    </td><td>4000 </td><td>1000 </td><td>63900</td><td>5    </td><td>1136 </td><td>10000</td><td>1    </td><td>11900</td><td>3    </td></tr>\n",
       "\t<tr><td>1978 </td><td>48   </td><td>4    </td><td>4000 </td><td>2000 </td><td>44000</td><td>5    </td><td>1868 </td><td>10000</td><td>1    </td><td>12100</td><td>3    </td></tr>\n",
       "\t<tr><td>1978 </td><td>78   </td><td>4    </td><td>3000 </td><td>2000 </td><td>46000</td><td>6    </td><td>1780 </td><td> 9500</td><td>3    </td><td>10000</td><td>3    </td></tr>\n",
       "</tbody>\n",
       "</table>\n"
      ],
      "text/latex": [
       "\\begin{tabular}{r|llllllllllll}\n",
       " year & age & nbh & cbd & intst & price & rooms & area & land & baths & dist & wind\\\\\n",
       "\\hline\n",
       "\t 1978  & 48    & 4     & 3000  & 1000  & 60000 & 7     & 1660  &  4578 & 1     & 10700 & 3    \\\\\n",
       "\t 1978  & 83    & 4     & 4000  & 1000  & 40000 & 6     & 2612  &  8370 & 2     & 11000 & 3    \\\\\n",
       "\t 1978  & 58    & 4     & 4000  & 1000  & 34000 & 6     & 1144  &  5000 & 1     & 11500 & 3    \\\\\n",
       "\t 1978  & 11    & 4     & 4000  & 1000  & 63900 & 5     & 1136  & 10000 & 1     & 11900 & 3    \\\\\n",
       "\t 1978  & 48    & 4     & 4000  & 2000  & 44000 & 5     & 1868  & 10000 & 1     & 12100 & 3    \\\\\n",
       "\t 1978  & 78    & 4     & 3000  & 2000  & 46000 & 6     & 1780  &  9500 & 3     & 10000 & 3    \\\\\n",
       "\\end{tabular}\n"
      ],
      "text/markdown": [
       "\n",
       "| year | age | nbh | cbd | intst | price | rooms | area | land | baths | dist | wind |\n",
       "|---|---|---|---|---|---|---|---|---|---|---|---|\n",
       "| 1978  | 48    | 4     | 3000  | 1000  | 60000 | 7     | 1660  |  4578 | 1     | 10700 | 3     |\n",
       "| 1978  | 83    | 4     | 4000  | 1000  | 40000 | 6     | 2612  |  8370 | 2     | 11000 | 3     |\n",
       "| 1978  | 58    | 4     | 4000  | 1000  | 34000 | 6     | 1144  |  5000 | 1     | 11500 | 3     |\n",
       "| 1978  | 11    | 4     | 4000  | 1000  | 63900 | 5     | 1136  | 10000 | 1     | 11900 | 3     |\n",
       "| 1978  | 48    | 4     | 4000  | 2000  | 44000 | 5     | 1868  | 10000 | 1     | 12100 | 3     |\n",
       "| 1978  | 78    | 4     | 3000  | 2000  | 46000 | 6     | 1780  |  9500 | 3     | 10000 | 3     |\n",
       "\n"
      ],
      "text/plain": [
       "  year age nbh cbd  intst price rooms area land  baths dist  wind\n",
       "1 1978 48  4   3000 1000  60000 7     1660  4578 1     10700 3   \n",
       "2 1978 83  4   4000 1000  40000 6     2612  8370 2     11000 3   \n",
       "3 1978 58  4   4000 1000  34000 6     1144  5000 1     11500 3   \n",
       "4 1978 11  4   4000 1000  63900 5     1136 10000 1     11900 3   \n",
       "5 1978 48  4   4000 2000  44000 5     1868 10000 1     12100 3   \n",
       "6 1978 78  4   3000 2000  46000 6     1780  9500 3     10000 3   "
      ]
     },
     "metadata": {},
     "output_type": "display_data"
    }
   ],
   "source": [
    "ds<-readRDS(file = \"TD9_kielmc\")\n",
    "head(ds)"
   ]
  },
  {
   "cell_type": "markdown",
   "metadata": {},
   "source": [
    "Consulter le codebook et répondre aux questions :\n",
    "![title](TD9_codebook.png) \n",
    "\n",
    "a) Quelle sera la variable dépendante ? \n",
    "\n",
    "b) Quelle sera la variable d'intérêt ?\n",
    "\n",
    "c) A quoi peuvent servir les autres variables ? Donner un exemple."
   ]
  },
  {
   "cell_type": "markdown",
   "metadata": {},
   "source": [
    "<font color=green> \n",
    "\n",
    "Réponse : \n",
    "\n",
    "a) variable dépendante (que l'on cherche à expliquer) = $price$. \n",
    "\n",
    "b) variable d'intérêt (celle dont on cherche à mesurer l'impact causal) = $dist$. Remarque : autre variable d'intérêt qui aurait pu nous intéresser : $wind$ (en effet, en matière de pollution de l'air, la distance est peut être moins importante que le sens du vent). \n",
    "\n",
    "c) les autres variables peuvent servir de variable de contrôle pour éviter des biais éventuels ou améliorer la précision.\n",
    "\n",
    "</font> "
   ]
  },
  {
   "cell_type": "markdown",
   "metadata": {},
   "source": [
    "Considérons que le travail de nettoyage des données a été fait. Quelles variables devrions-nous créer pour notre analyse : \n",
    "\n",
    "a) afin d'avoir un groupe de traitement et un groupe de contrôle ? *Indice : il faut définir les groupes de traitement/contrôle en fonction d'un seuil de distance à l'incinérateur : + ou - 5km soit 15840 pieds*.\n",
    "\n",
    "b) afin d'étudier l'effet de la distance sur la variation du prix exprimée non plus en niveau mais en pourcentage ? *Indice : penser à la transformation logarithmique*."
   ]
  },
  {
   "cell_type": "markdown",
   "metadata": {},
   "source": [
    "<font color=green> \n",
    "\n",
    "Réponse : \n",
    "\n",
    "a) une dummy à partir de la variable de distance $dist$ : $\\textbf{nearinc} = 1$ si dist est inférieure à 15840 pieds soit environ 5km.$\n",
    "\n",
    "b) lprice = log(price) qui sera notre nouvelle variable dépendante. Ainsi, le coefficient $\\gamma$ devant la dummy de distance $nearinc$ s'interprétera comme une semi-élasticité : une maison située dans un rayon inférieur à 5km de l'incinérateur est vendue à un prix de $\\gamma \\times 100 \\% plus/moins élevé.\n",
    "\n",
    "</font>"
   ]
  },
  {
   "cell_type": "markdown",
   "metadata": {},
   "source": [
    "Créer ces 2 variables."
   ]
  },
  {
   "cell_type": "code",
   "execution_count": 2,
   "metadata": {},
   "outputs": [],
   "source": [
    "ds$nearinc <- ifelse(ds$dist<15840,1,0)\n",
    "ds$lprice <- log(ds$price)"
   ]
  },
  {
   "cell_type": "markdown",
   "metadata": {},
   "source": [
    "# 2. Analyses \"naïves\""
   ]
  },
  {
   "cell_type": "markdown",
   "metadata": {},
   "source": [
    "Nous commençons par une **analyse naïve avec données en coupe** : nous utilisons les données de 1981 seulement et estimons : $lprice^{81}_{i} = \\alpha^{81} + \\gamma^{81} nearinc_{i} + u^{81}_{i}$. Interpréter."
   ]
  },
  {
   "cell_type": "code",
   "execution_count": 3,
   "metadata": {},
   "outputs": [
    {
     "data": {
      "text/plain": [
       "\n",
       "Call:\n",
       "lm(formula = lprice ~ nearinc, data = ds[ds$year == 1981, ])\n",
       "\n",
       "Residuals:\n",
       "     Min       1Q   Median       3Q      Max \n",
       "-0.86626 -0.21706  0.02718  0.24035  1.16633 \n",
       "\n",
       "Coefficients:\n",
       "            Estimate Std. Error t value Pr(>|t|)    \n",
       "(Intercept) 11.74242    0.03428 342.543  < 2e-16 ***\n",
       "nearinc     -0.40257    0.06459  -6.233 5.06e-09 ***\n",
       "---\n",
       "Signif. codes:  0 '***' 0.001 '**' 0.01 '*' 0.05 '.' 0.1 ' ' 1\n",
       "\n",
       "Residual standard error: 0.3462 on 140 degrees of freedom\n",
       "Multiple R-squared:  0.2172,\tAdjusted R-squared:  0.2116 \n",
       "F-statistic: 38.85 on 1 and 140 DF,  p-value: 5.061e-09\n"
      ]
     },
     "metadata": {},
     "output_type": "display_data"
    }
   ],
   "source": [
    "naive1<-lm(lprice~nearinc,data=ds[ds$year==1981,])\n",
    "summary(naive1)"
   ]
  },
  {
   "cell_type": "markdown",
   "metadata": {},
   "source": [
    "<font color=green> \n",
    "\n",
    "Réponse : \"En 1981, les maisons situées dans un rayon de 5km de l'incinérateur se vendent 40%  moins chères que les maisons situées à plus de 5km.\". A noter : la t-statistique est plus grand que 5 en valeur aboslue, on peut rejeter l'hypothèse que la valeur des maisons est la même indépendamment de la distance à l'incinérateur. \n",
    "\n",
    "\n",
    "ABUSIF : \"Toutes choses égales par ailleurs, ...\" car on n'a même pas contrôlé pour l'âge ou la taille de la maison ! Egalement ABUSIF : \"La présence de l'incinérateur à moins de 5km cause une baisse de prix de vente de 30700 dollars en moyenne.\" : aucun moyen de s'assurer de la relation causale à ce stade de l'analyse ! \n",
    "\n",
    "</font>"
   ]
  },
  {
   "cell_type": "markdown",
   "metadata": {},
   "source": [
    "Quelle est la condition pour que ce résultat puisse être interprété comme une causalité ? Pourquoi peut-on penser que cette condition n'est pas remplie ? "
   ]
  },
  {
   "cell_type": "markdown",
   "metadata": {},
   "source": [
    "<font color=green> Réponse : il faudrait que les maisons aient à l'origine (en l'absence de cet incinérateur) la même valeur, qu'elles soient proches ou plus éloignées. On peut suspecter que ce n'est pas le cas car les incinérateurs ne sont pas implantés au hasard. On a des raisons de penser qu'ils sont implantés là où les maisons ont une valeur moindre : le terrain y est moins cher, les votants (plus défavorisés) moins susceptibles de manifester leur mécontentement par les urnes... </font>"
   ]
  },
  {
   "cell_type": "markdown",
   "metadata": {},
   "source": [
    "Comment tester cela avec les données dont nous disposons ? Effectuer le test sur deux variables qui vous sembleront pertinentes. Conclure."
   ]
  },
  {
   "cell_type": "code",
   "execution_count": 4,
   "metadata": {},
   "outputs": [
    {
     "data": {
      "text/plain": [
       "\n",
       "\tWelch Two Sample t-test\n",
       "\n",
       "data:  age by nearinc\n",
       "t = -6.0601, df = 158.48, p-value = 9.564e-09\n",
       "alternative hypothesis: true difference in means is not equal to 0\n",
       "95 percent confidence interval:\n",
       " -31.86424 -16.19965\n",
       "sample estimates:\n",
       "mean in group 0 mean in group 1 \n",
       "       10.82222        34.85417 \n"
      ]
     },
     "metadata": {},
     "output_type": "display_data"
    },
    {
     "data": {
      "text/plain": [
       "\n",
       "\tWelch Two Sample t-test\n",
       "\n",
       "data:  rooms by nearinc\n",
       "t = 6.2777, df = 143.95, p-value = 3.816e-09\n",
       "alternative hypothesis: true difference in means is not equal to 0\n",
       "95 percent confidence interval:\n",
       " 0.4910195 0.9423138\n",
       "sample estimates:\n",
       "mean in group 0 mean in group 1 \n",
       "       6.800000        6.083333 \n"
      ]
     },
     "metadata": {},
     "output_type": "display_data"
    }
   ],
   "source": [
    "t.test(age~nearinc, data=ds)\n",
    "t.test(rooms~nearinc, data=ds)"
   ]
  },
  {
   "cell_type": "markdown",
   "metadata": {},
   "source": [
    "<font color=green> Réponse : nous avons la chance d'avoir des informations sur les caractéristiques des maisons. On peut le faire avce un test d'égalité de moyennes. Ici les deux exemples suggèrent qu'on rejette H0 d'égalité des moyennes : les maisons diffèrent grandement selon si elles sont à +/- 5km de cet incinérateur.</font>"
   ]
  },
  {
   "cell_type": "markdown",
   "metadata": {},
   "source": [
    "**Second type d'analyse naïve** : Nous pensons avoir identifié un meilleur contrefactuel pour les maisons proches d'un incinérateur : ces mêmes maisons, avant que l'incinérateur ne soit contruit. Quelle sera la régression ? Estimer."
   ]
  },
  {
   "cell_type": "markdown",
   "metadata": {},
   "source": [
    "<font color=green> Réponse : $price^{T}_{it} = \\alpha + \\beta y81^{T}_{t} + u^{T}_{it}$ (donc sur sous-échantillon des traités, avant-après). Baisé car tient compte de l'impact de la construction mais aussi de tous les autres facteurs qui influencent les prix qui ont évolué dans le temps (la tendance temporelle).  </font>"
   ]
  },
  {
   "cell_type": "code",
   "execution_count": 5,
   "metadata": {},
   "outputs": [
    {
     "data": {
      "text/plain": [
       "\n",
       "Call:\n",
       "lm(formula = lprice ~ factor(year), data = ds[ds$nearinc == 1, \n",
       "    ])\n",
       "\n",
       "Residuals:\n",
       "    Min      1Q  Median      3Q     Max \n",
       "-0.7185 -0.2368 -0.1069  0.1572  1.6660 \n",
       "\n",
       "Coefficients:\n",
       "                 Estimate Std. Error t value Pr(>|t|)    \n",
       "(Intercept)      10.94550    0.05599 195.489  < 2e-16 ***\n",
       "factor(year)1981  0.39435    0.08674   4.546 1.62e-05 ***\n",
       "---\n",
       "Signif. codes:  0 '***' 0.001 '**' 0.01 '*' 0.05 '.' 0.1 ' ' 1\n",
       "\n",
       "Residual standard error: 0.419 on 94 degrees of freedom\n",
       "Multiple R-squared:  0.1802,\tAdjusted R-squared:  0.1715 \n",
       "F-statistic: 20.67 on 1 and 94 DF,  p-value: 1.625e-05\n"
      ]
     },
     "metadata": {},
     "output_type": "display_data"
    }
   ],
   "source": [
    "naive2<-lm(lprice~factor(year),data=ds[ds$nearinc==1,])\n",
    "summary(naive2)"
   ]
  },
  {
   "cell_type": "markdown",
   "metadata": {},
   "source": [
    "# 3. Doubles différences"
   ]
  },
  {
   "cell_type": "markdown",
   "metadata": {},
   "source": [
    "Ecrire et estimer par MCO la régression par double différence simple qui va permettre de déterminer si la construction de l'incinérateur a un impact sur la valeur immobilière des maisons. "
   ]
  },
  {
   "cell_type": "code",
   "execution_count": 6,
   "metadata": {},
   "outputs": [
    {
     "data": {
      "text/plain": [
       "\n",
       "Call:\n",
       "lm(formula = lprice ~ nearinc + factor(year) + nearinc:factor(year), \n",
       "    data = ds)\n",
       "\n",
       "Residuals:\n",
       "     Min       1Q   Median       3Q      Max \n",
       "-1.11957 -0.20328  0.02226  0.18909  1.66604 \n",
       "\n",
       "Coefficients:\n",
       "                         Estimate Std. Error t value Pr(>|t|)    \n",
       "(Intercept)              11.28542    0.03051 369.839  < 2e-16 ***\n",
       "nearinc                  -0.33992    0.05456  -6.231 1.48e-09 ***\n",
       "factor(year)1981          0.45700    0.04532  10.084  < 2e-16 ***\n",
       "nearinc:factor(year)1981 -0.06265    0.08344  -0.751    0.453    \n",
       "---\n",
       "Signif. codes:  0 '***' 0.001 '**' 0.01 '*' 0.05 '.' 0.1 ' ' 1\n",
       "\n",
       "Residual standard error: 0.3384 on 317 degrees of freedom\n",
       "Multiple R-squared:  0.4091,\tAdjusted R-squared:  0.4035 \n",
       "F-statistic: 73.15 on 3 and 317 DF,  p-value: < 2.2e-16\n"
      ]
     },
     "metadata": {},
     "output_type": "display_data"
    }
   ],
   "source": [
    "dd<-lm(lprice~nearinc + factor(year) + nearinc:factor(year),data=ds)\n",
    "summary(dd)"
   ]
  },
  {
   "cell_type": "markdown",
   "metadata": {},
   "source": [
    "Interpréter le coefficient associée à la variable d'interaction entre les variables $\\text{factor(year)}$ et $nearinc$."
   ]
  },
  {
   "cell_type": "markdown",
   "metadata": {},
   "source": [
    "<font color=green>  Il n'est pas significatif au seuil de 5%, ni même au seuil de 10%. On ne peut pas rejeter l'hypothèse que les transactions se font à prix égal, indépendamment de la distance à l'incinérateur. </font>"
   ]
  },
  {
   "cell_type": "markdown",
   "metadata": {},
   "source": [
    "Interpréter les coefficients des autres variables."
   ]
  },
  {
   "cell_type": "markdown",
   "metadata": {},
   "source": [
    "<font color=green> $\\alpha$ (la constante dans le tableau) donne le prix moyen d'une maison hors du rayon de 5km autour de l'incinérateur en 1978. $\\beta$ (coefficient associé à $factor(year)1981$) donne le changement moyen de prix de toutes les maisons (indépendamment de leur distance à l'incinérateur) ayant eu lieu entre 1978 et 1981. $\\gamma$ (coefficient associé à $nearinc$) donne la différence moyenne de prix entre les deux zones (proche ou éloignée de l'incinérateur), indépendamment de la présence de l'incinérateur.</font>"
   ]
  },
  {
   "cell_type": "markdown",
   "metadata": {},
   "source": [
    "Estimer la régression : $price^{78}_{i} = \\alpha^{78} + \\gamma^{78} nearinc_{i} + u^{78}_{i}$ pour l'année 1978."
   ]
  },
  {
   "cell_type": "code",
   "execution_count": 7,
   "metadata": {},
   "outputs": [
    {
     "data": {
      "text/plain": [
       "\n",
       "Call:\n",
       "lm(formula = lprice ~ nearinc, data = ds[ds$year == 1978, ])\n",
       "\n",
       "Residuals:\n",
       "     Min       1Q   Median       3Q      Max \n",
       "-1.11957 -0.18781  0.01555  0.15439  1.66604 \n",
       "\n",
       "Coefficients:\n",
       "            Estimate Std. Error t value Pr(>|t|)    \n",
       "(Intercept) 11.28542    0.02995 376.845  < 2e-16 ***\n",
       "nearinc     -0.33992    0.05354  -6.349 1.77e-09 ***\n",
       "---\n",
       "Signif. codes:  0 '***' 0.001 '**' 0.01 '*' 0.05 '.' 0.1 ' ' 1\n",
       "\n",
       "Residual standard error: 0.3321 on 177 degrees of freedom\n",
       "Multiple R-squared:  0.1855,\tAdjusted R-squared:  0.1809 \n",
       "F-statistic: 40.31 on 1 and 177 DF,  p-value: 1.769e-09\n"
      ]
     },
     "metadata": {},
     "output_type": "display_data"
    }
   ],
   "source": [
    "naive3<-lm(lprice~nearinc,data=ds[ds$year==1978,])\n",
    "summary(naive3)"
   ]
  },
  {
   "cell_type": "markdown",
   "metadata": {},
   "source": [
    "En reprenant le résultat de la première estimation naïve (partie 1), recalculez le coefficient de double différence. "
   ]
  },
  {
   "cell_type": "code",
   "execution_count": 8,
   "metadata": {},
   "outputs": [
    {
     "data": {
      "text/html": [
       "<strong>nearinc:</strong> -0.062649022017921"
      ],
      "text/latex": [
       "\\textbf{nearinc:} -0.062649022017921"
      ],
      "text/markdown": [
       "**nearinc:** -0.062649022017921"
      ],
      "text/plain": [
       "    nearinc \n",
       "-0.06264902 "
      ]
     },
     "metadata": {},
     "output_type": "display_data"
    },
    {
     "data": {
      "text/html": [
       "<strong>nearinc:factor(year)1981:</strong> -0.0626490220179197"
      ],
      "text/latex": [
       "\\textbf{nearinc:factor(year)1981:} -0.0626490220179197"
      ],
      "text/markdown": [
       "**nearinc:factor(year)1981:** -0.0626490220179197"
      ],
      "text/plain": [
       "nearinc:factor(year)1981 \n",
       "             -0.06264902 "
      ]
     },
     "metadata": {},
     "output_type": "display_data"
    }
   ],
   "source": [
    "##DD à la main\n",
    "coef(naive1)[2]-coef(naive3)[2]\n",
    "##bien égal au coeff d'interaction de la double différence : \n",
    "coef(dd)[4]"
   ]
  },
  {
   "cell_type": "markdown",
   "metadata": {},
   "source": [
    "# 4. Améliorer l'estimation"
   ]
  },
  {
   "cell_type": "markdown",
   "metadata": {},
   "source": [
    "Quel est l'intérêt d'introduire des variables de contrôle dans notre cadre ?"
   ]
  },
  {
   "cell_type": "markdown",
   "metadata": {},
   "source": [
    "<font color=green> A) BIAS DE SELECTION LIE A LA COMPOSITION DE L'ECHANTILLON. D'abord, il est possible que les maisons qui se vendent en 1978 près de l'incinérateur n'aient pas les mêmes caractéristiques que celles qui se vendent près de l'incinérateur en 1981. Par exemple, ce sont peut être les plus riches qui décident de partir après l'apparition de l'incinérateur (les plus grandes maisons), alors que ce n'était pas le cas auparavant. C'est ce qu'on appelle un effet de composition : le groupe T a changé de composition, ce qui explique en partie le réusltat. Dans ce cas, l'effet sur le prix serait minimisé si on ne prend pas en compte la taille de la maison. \n",
    "    \n",
    "b) PRECISION DE L'ESTIMATION : Ensuite, même si les caractéristiques ne changent pas, elles influencent les prix de fait, et vont réduire les erreurs-type, ce qui va augmenter la précision de l'estimation (rappel : notre $\\delta$ est significativement différent de 0 au seuil de 11\\% pour le moment !)\n",
    "</font>"
   ]
  },
  {
   "cell_type": "markdown",
   "metadata": {},
   "source": [
    "Parmi les variables du *codebook*, quelles variables peuvent être particulièrement intéressantes à introduire ? "
   ]
  },
  {
   "cell_type": "markdown",
   "metadata": {},
   "source": [
    "<font color=green>Réponse : l'âge de la maison, l'âge au carré, la taille de la maison, la taille du terrain, le nombre de pièces, le nombre de salles de bain, la distance aux voies importantes de communication. </font>"
   ]
  },
  {
   "cell_type": "markdown",
   "metadata": {},
   "source": [
    "Estimer le modèle de doubles différences par MCO avec ces variables de contrôle et en introduisant l'âge de la maison *age* de manière non linéaire comme un polynôme de degré 2: **poly(age,2)**. "
   ]
  },
  {
   "cell_type": "code",
   "execution_count": 9,
   "metadata": {},
   "outputs": [
    {
     "data": {
      "text/plain": [
       "\n",
       "Call:\n",
       "lm(formula = lprice ~ nearinc + factor(year) + nearinc:factor(year) + \n",
       "    poly(age, 2) + area + land + rooms + baths + intst, data = ds)\n",
       "\n",
       "Residuals:\n",
       "     Min       1Q   Median       3Q      Max \n",
       "-1.21669 -0.09372  0.01157  0.10698  0.68553 \n",
       "\n",
       "Coefficients:\n",
       "                           Estimate Std. Error t value Pr(>|t|)    \n",
       "(Intercept)               1.027e+01  1.116e-01  91.967  < 2e-16 ***\n",
       "nearinc                  -3.464e-02  4.647e-02  -0.745 0.456621    \n",
       "factor(year)1981          4.026e-01  2.921e-02  13.786  < 2e-16 ***\n",
       "poly(age, 2)1            -2.087e+00  2.641e-01  -7.901 4.86e-14 ***\n",
       "poly(age, 2)2             1.259e+00  2.924e-01   4.306 2.23e-05 ***\n",
       "area                      1.840e-04  2.406e-05   7.645 2.64e-13 ***\n",
       "land                      9.223e-07  3.243e-07   2.844 0.004752 ** \n",
       "rooms                     5.276e-02  1.734e-02   3.044 0.002538 ** \n",
       "baths                     1.030e-01  2.694e-02   3.825 0.000158 ***\n",
       "intst                    -3.553e-06  2.049e-06  -1.734 0.083866 .  \n",
       "nearinc:factor(year)1981 -9.252e-02  5.204e-02  -1.778 0.076429 .  \n",
       "---\n",
       "Signif. codes:  0 '***' 0.001 '**' 0.01 '*' 0.05 '.' 0.1 ' ' 1\n",
       "\n",
       "Residual standard error: 0.2047 on 310 degrees of freedom\n",
       "Multiple R-squared:  0.7885,\tAdjusted R-squared:  0.7817 \n",
       "F-statistic: 115.6 on 10 and 310 DF,  p-value: < 2.2e-16\n"
      ]
     },
     "metadata": {},
     "output_type": "display_data"
    }
   ],
   "source": [
    "dd_c<-lm(lprice~nearinc +factor(year) +nearinc:factor(year)+poly(age,2)+area+land+rooms+baths+intst,data=ds)\n",
    "summary(dd_c)"
   ]
  },
  {
   "cell_type": "markdown",
   "metadata": {},
   "source": [
    "Interprétez les résultats, et notamment l'effet de l'âge."
   ]
  },
  {
   "cell_type": "markdown",
   "metadata": {},
   "source": [
    "<font color=green> Réponse : il était effectivement important d'introduire des variables de contrôle. D'abord, le coefficient de la variable d'intérêt devient largement significatif. Ensuite, ces variables ont un pouvoir explicatif important ($R^{2}$ de 0.78 contre 0.40 pour la double diff simple). L'âge influence le prix de manière quadratique : le prix de vente diminue avec l'âge, mais de moins en moins vite. Plus la maison et le terrain sont grands, plus le prix est élevé. Le nombre de salles de bain influence le prix de manière importante (proxy du luxe). Du fait de la présence du nouvel incinérateur, les prix des maisons alentour ont perdu 9.25\\% de leur valeur ($\\delta \\times 100$). </font>"
   ]
  },
  {
   "cell_type": "markdown",
   "metadata": {},
   "source": [
    "Représentez graphiquement l'effet de l'âge sur le prix. "
   ]
  },
  {
   "cell_type": "code",
   "execution_count": 10,
   "metadata": {},
   "outputs": [
    {
     "data": {
      "text/plain": [
       "   Min. 1st Qu.  Median    Mean 3rd Qu.    Max. \n",
       "   0.00    0.00    4.00   18.01   22.00  189.00 "
      ]
     },
     "metadata": {},
     "output_type": "display_data"
    },
    {
     "data": {
      "image/png": "[encoded data removed]",
      "text/plain": [
       "plot without title"
      ]
     },
     "metadata": {},
     "output_type": "display_data"
    },
    {
     "data": {
      "image/png": "[encoded data removed]",
      "text/plain": [
       "plot without title"
      ]
     },
     "metadata": {},
     "output_type": "display_data"
    }
   ],
   "source": [
    "summary(ds$age)\n",
    "x <- seq(0,20,1)\n",
    "y<-coef(dd_c)[4] + 2*coef(dd_c)[5]*x\n",
    "plot(x,coef(dd_c)[4]*x + 2*coef(dd_c)[5]*x*x)\n",
    "plot(x,coef(dd_c)[4] + 2*coef(dd_c)[5]*x)"
   ]
  },
  {
   "cell_type": "markdown",
   "metadata": {},
   "source": [
    "<font color=green> Réponse : le graphique 1 donne le prix d'une maison d'un an, de deux ans, etc, toutes les autres variables raportées à 0. Techniquement c'est le graphique 2 qui donne donne l'effet d'une année supplémentaire selon le prix. \"Normalement cet effet est un point car il est vrai quel que soit le niveau de départ de x. Ici l'effet est non linéaire : selon si on passe de 1 à 2 ans ou de 10 à 11 ans, l'effet est plus ou moins grand.</font>"
   ]
  },
  {
   "cell_type": "markdown",
   "metadata": {},
   "source": [
    "# 5. Tester la robustesse des résultats"
   ]
  },
  {
   "cell_type": "markdown",
   "metadata": {},
   "source": [
    "Quelle est l'hypothèse qui conditionne la validité de l'estimateur par double différence ? "
   ]
  },
  {
   "cell_type": "markdown",
   "metadata": {},
   "source": [
    "<font color=green> Réponse : l'hypothèse des tendances parallèles : en l'absence d'incinérateur, les prix des deux groupes de maisons auraient évolué de la même manière. </font>"
   ]
  },
  {
   "cell_type": "markdown",
   "metadata": {},
   "source": [
    "Peut-on tester cette hypothèse directement ?"
   ]
  },
  {
   "cell_type": "markdown",
   "metadata": {},
   "source": [
    "<font color=green> Réponse: on ne peut jamais tester formellement cette hypothèse car on n'observe pas la même maison à proximité ET hors de la zone de l'incinérateur. Problème classique de contrefactuel. </font>"
   ]
  },
  {
   "cell_type": "markdown",
   "metadata": {},
   "source": [
    "Quelles sont les 3 manières de convaincre votre lecteur que l'hypothèse est bien validée ? Avez-vous des idées pour implémenter ces différents tests de robustesse ?"
   ]
  },
  {
   "cell_type": "markdown",
   "metadata": {},
   "source": [
    "<font color=green> \n",
    "\n",
    "Les 3 tests pour convaincre de la validité de l'hypothèses des tendances parallèles (common trend) : \n",
    "\n",
    "- Falsification ou test placebo;\n",
    "- Utiliser un groupe témoin difféerent;\n",
    "- Réplication avec d'autres variables dépendantes qui ne devraient pas être affectées\n",
    "\n",
    "Idées : \n",
    "- Placebo : il faut des années précédentes, or nous ne les avons pas. \n",
    "- Groupe témoin : on peut faire varier le rayon de définition de notre variable *nearinc*\n",
    "- Réplication : on peut voir si les caractéristiques des logements ne changent pas en remplaçant le prix par les caractéristiques. Elles ne devraient pas bouger. \n",
    "\n",
    "</font>"
   ]
  },
  {
   "cell_type": "markdown",
   "metadata": {},
   "source": [
    "On réussit à trouver d'autres données pour les années précédentes: 1976 et 1974. Ces données se trouvent dans le fichier simulé : **TD9_kielmc_generated_forplacebo**.\n",
    "\n",
    "On propose donc un test placebo. \n",
    "\n",
    "a) Ouvrir ces données. "
   ]
  },
  {
   "cell_type": "code",
   "execution_count": 11,
   "metadata": {},
   "outputs": [],
   "source": [
    "#ouverture des données\n",
    "dsp<-readRDS(file=\"TD9_kielmc_generated_forplacebo\")"
   ]
  },
  {
   "cell_type": "markdown",
   "metadata": {},
   "source": [
    "b) On réalise d'abord le test placebo visuel en présentant l'évolution du prix moyen des maisons *price* dans le temps graphiquement, selon si les maisons sont proches ou loin de l'incinérateur *nearinc*.  "
   ]
  },
  {
   "cell_type": "code",
   "execution_count": 12,
   "metadata": {},
   "outputs": [
    {
     "data": {
      "text/plain": [
       "   Min. 1st Qu.  Median    Mean 3rd Qu.    Max. \n",
       " 0.0000  0.0000  0.0000  0.2976  1.0000  1.0000 "
      ]
     },
     "metadata": {},
     "output_type": "display_data"
    },
    {
     "data": {
      "text/html": [
       "<dl class=dl-horizontal>\n",
       "\t<dt>Eloigné</dt>\n",
       "\t\t<dd>446</dd>\n",
       "\t<dt>Proche</dt>\n",
       "\t\t<dd>189</dd>\n",
       "</dl>\n"
      ],
      "text/latex": [
       "\\begin{description*}\n",
       "\\item[Eloigné] 446\n",
       "\\item[Proche] 189\n",
       "\\end{description*}\n"
      ],
      "text/markdown": [
       "Eloigné\n",
       ":   446Proche\n",
       ":   189\n",
       "\n"
      ],
      "text/plain": [
       "Eloigné  Proche \n",
       "    446     189 "
      ]
     },
     "metadata": {},
     "output_type": "display_data"
    },
    {
     "name": "stderr",
     "output_type": "stream",
     "text": [
      "No summary function supplied, defaulting to `mean_se()\n"
     ]
    },
    {
     "data": {
      "image/png": "[encoded data removed]",
      "text/plain": [
       "plot without title"
      ]
     },
     "metadata": {},
     "output_type": "display_data"
    }
   ],
   "source": [
    "#test visuel : \n",
    "library(ggplot2)\n",
    "summary(dsp$nearinc)\n",
    "dsp$nearinc<-factor(dsp$nearinc, levels=c(0,1), labels=c(\"Eloigné\",\"Proche\"))\n",
    "summary(dsp$nearinc)\n",
    "ggplot(dsp, aes(x=year, y=price, color = nearinc)) +\n",
    "    stat_summary(geom = 'line') +\n",
    "    geom_vline(xintercept = 1978) + xlab(\"Années\") + ylab(\"Prix moyen des maisons\")"
   ]
  },
  {
   "cell_type": "markdown",
   "metadata": {},
   "source": [
    "c) On estime formellement une régression placebo sur le sous-échantillon de 1974-1976."
   ]
  },
  {
   "cell_type": "code",
   "execution_count": 13,
   "metadata": {},
   "outputs": [
    {
     "data": {
      "text/plain": [
       "\n",
       "Call:\n",
       "lm(formula = lprice ~ nearinc + factor(year) + nearinc:factor(year) + \n",
       "    poly(age, 2) + area + land + rooms + baths + intst, data = dsp[dsp$year < \n",
       "    1978, ])\n",
       "\n",
       "Residuals:\n",
       "     Min       1Q   Median       3Q      Max \n",
       "-15.4840  -0.1633   0.0307   0.3069   1.6362 \n",
       "\n",
       "Coefficients:\n",
       "                                 Estimate Std. Error t value Pr(>|t|)    \n",
       "(Intercept)                     8.014e+00  5.683e-01  14.102  < 2e-16 ***\n",
       "nearincProche                   6.768e-02  2.373e-01   0.285  0.77566    \n",
       "factor(year)1976                2.387e-02  1.491e-01   0.160  0.87292    \n",
       "poly(age, 2)1                  -6.813e+00  1.318e+00  -5.171 4.24e-07 ***\n",
       "poly(age, 2)2                   3.968e+00  1.463e+00   2.713  0.00705 ** \n",
       "area                            4.155e-04  1.221e-04   3.402  0.00076 ***\n",
       "land                            1.565e-06  1.637e-06   0.956  0.33964    \n",
       "rooms                           2.125e-01  8.773e-02   2.422  0.01603 *  \n",
       "baths                           1.650e-01  1.366e-01   1.208  0.22795    \n",
       "intst                          -8.168e-06  1.043e-05  -0.783  0.43402    \n",
       "nearincProche:factor(year)1976 -4.399e-01  2.684e-01  -1.639  0.10225    \n",
       "---\n",
       "Signif. codes:  0 '***' 0.001 '**' 0.01 '*' 0.05 '.' 0.1 ' ' 1\n",
       "\n",
       "Residual standard error: 1.032 on 303 degrees of freedom\n",
       "Multiple R-squared:  0.3838,\tAdjusted R-squared:  0.3635 \n",
       "F-statistic: 18.87 on 10 and 303 DF,  p-value: < 2.2e-16\n"
      ]
     },
     "metadata": {},
     "output_type": "display_data"
    }
   ],
   "source": [
    "#test placebo sur sous échantillon year<1978\n",
    "dd_p<-lm(lprice~nearinc + factor(year) + nearinc:factor(year) + poly(age,2) + area + land + rooms + baths + intst, data=dsp[dsp$year<1978,])\n",
    "summary(dd_p)"
   ]
  },
  {
   "cell_type": "markdown",
   "metadata": {},
   "source": [
    "d) Conclure."
   ]
  },
  {
   "cell_type": "markdown",
   "metadata": {},
   "source": [
    "<font color=green> Le test placebo (visuel et formel) tend à suggérer que l'hypothèse des tendances parallèles est valide. Certes, avant l'implantation de l'incinérateur, le quartier étant déjà moins bien évalué ; mais les tendances d'évolution du prix étaient les mêmes, jusqu'à l'incinération, où on observe une divergence. Alors que les prix augmentent fortement hors zone, ils augmentent mais moins vite à proximité.\n",
    "</font>"
   ]
  }
 ],
 "metadata": {
  "kernelspec": {
   "display_name": "R",
   "language": "R",
   "name": "ir"
  },
  "language_info": {
   "codemirror_mode": "r",
   "file_extension": ".r",
   "mimetype": "text/x-r-source",
   "name": "R",
   "pygments_lexer": "r",
   "version": "3.6.1"
  }
 },
 "nbformat": 4,
 "nbformat_minor": 2
}

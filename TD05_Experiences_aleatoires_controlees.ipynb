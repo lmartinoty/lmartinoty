{
 "cells": [
  {
   "cell_type": "markdown",
   "metadata": {
    "collapsed": true
   },
   "source": [
    "### CONSEIL DU JOUR\n",
    "Vous travaillez dans RStudio, vous vous souvenez vaguement d'une commande sur R, mais ne vous souvenez plus de sa structure précise ou de son utlisation ? \n",
    "\n",
    "Tapez la commande, précédée d'un \"?\". Exemple : **?readRDS**"
   ]
  },
  {
   "cell_type": "markdown",
   "metadata": {},
   "source": [
    "# EXPERIENCES ALEATOIRES CONTROLEES"
   ]
  },
  {
   "cell_type": "markdown",
   "metadata": {},
   "source": [
    "Nous avons maintenant suffisamment de connaissances du logiciel pour étudier un exemple d'expérience aléatoire contrôlée. \n",
    "\n",
    "L'exercice suivant se base sur l'article de Pascaline Dupas and Jonathan Robinson : \n",
    "\n",
    "\"Savings Constraints and Microenterprise Development: Evidence\n",
    "from a Field Experiment in Kenya\". *American Economic Journal: Applied Economics*, 5(1):163-192, 2013\"\n",
    "\n",
    "Les auteurs souhaitent savoir si l'accès limité à la possibilité d'épargner pour les travailleurs ruraux indépendants empêche le développement de leur petite entreprise (donc in fine la croissance économique et le développement).\n",
    "\n",
    "Pour vérifier cela, ils ont recours à une expérience contrôlée dans le village de Bumala au Kenya. Ils s'intéressent à deux types de microentrepreneurs : les taxi-bicyclettes (buda), et les vendeurs de rue. "
   ]
  },
  {
   "cell_type": "markdown",
   "metadata": {},
   "source": [
    "### 1. Données\n",
    "\n",
    "Dans une **première étape**, les enquêteurs sur place à Bumala dressent une liste la plus exhaustive possible des vendeurs de rue et des taxi-bicyclettes en les accostant.\n",
    "\n",
    "Ouvrir la base de données: **TD5_database.dta** et l'inspecter grâce à un résumé rapide de statistiques descriptives."
   ]
  },
  {
   "cell_type": "code",
   "execution_count": null,
   "metadata": {},
   "outputs": [],
   "source": []
  },
  {
   "cell_type": "markdown",
   "metadata": {},
   "source": [
    "*Occupation* est la variable qui donne l'occupation des personnes : =1 si buda (homme taxi-bicyclette), =2 si femme vendeuse, =3 si homme vendeur. Transformer la variable en catégorie: \"Buda\", \"Vendeur Femme\", \"Vendeur Homme\"."
   ]
  },
  {
   "cell_type": "code",
   "execution_count": null,
   "metadata": {},
   "outputs": [],
   "source": []
  },
  {
   "cell_type": "markdown",
   "metadata": {},
   "source": [
    "Combien de vendeuses, vendeurs et taxis ont été recensés au début de l'expérience et intégrés à notre échantillon initial (variable *occupation*) ? Quelle est leur proportion respective dans l'échantillon ? "
   ]
  },
  {
   "cell_type": "code",
   "execution_count": null,
   "metadata": {},
   "outputs": [],
   "source": []
  },
  {
   "cell_type": "markdown",
   "metadata": {},
   "source": [
    "Ces individus sont ensuite affectés de manière aléatoire entre groupe de traitement et groupe de contrôle suivant une stratification par genre et occupation (homme/femme, et vendeur/taxi-bicyclette). \n",
    "\n",
    "a) Définir la stratification. Pourquoi stratifier l'échantillon par genre et occupation ? \n",
    "\n",
    "b) Combien a-t-on d'hommes taxi-bicyclette dans le groupe de traitement/contrôle (variables *occupation* et *treatment* ? Quelle est la proportion des hommes taxi dans le groupe de traitement ?  Note: traitement = 1, contrôle = 0."
   ]
  },
  {
   "cell_type": "code",
   "execution_count": null,
   "metadata": {},
   "outputs": [],
   "source": []
  },
  {
   "cell_type": "markdown",
   "metadata": {},
   "source": [
    "### 2. Design de l'expérience \n",
    "Au groupe de traitement est donnée la possibilité d'ouvrir un compte épargne gratuitement (ce qui est normalement payant, et plutôt cher). Au groupe de contrôle n'est pas offerte cette possibilité. Ensuite, les individus des deux groupes reportent chaque jour pendant trois mois des informations détaillées sur leur revenu, leurs dépenses, les transferts monétaires, leurs heures de travail dans un livret."
   ]
  },
  {
   "cell_type": "markdown",
   "metadata": {},
   "source": [
    "Selon vous, quels sont les différents problèmes posés par le design de cette expérience ?"
   ]
  },
  {
   "cell_type": "code",
   "execution_count": null,
   "metadata": {},
   "outputs": [],
   "source": []
  },
  {
   "cell_type": "markdown",
   "metadata": {},
   "source": [
    "En général, dans quel cas l'attrition pose-t-elle un problème ? Donner un exemple ici."
   ]
  },
  {
   "cell_type": "code",
   "execution_count": null,
   "metadata": {},
   "outputs": [],
   "source": []
  },
  {
   "cell_type": "markdown",
   "metadata": {},
   "source": [
    "Calculer le taux d'attrition pour les femmes et les hommes, puis pour les femmes et les\n",
    "hommes par groupe de traitement/contrôle. On utilise pour cela la variable *bg_gender* qui vaut 1 si la personne est un homme, 0 sinon. On utilise aussi la variable *inlogs* qui vaut 1 si la personne a rempli son livret jusqu'au bout, 0 sinon. Commenter."
   ]
  },
  {
   "cell_type": "code",
   "execution_count": null,
   "metadata": {},
   "outputs": [],
   "source": []
  },
  {
   "cell_type": "markdown",
   "metadata": {},
   "source": [
    "Comment vérifier que la procédure d'assignation aléatoire (randomization) n'est pas\n",
    "remise en cause par l'attrition ? Conduire ce test pour la sous-population des hommes\n",
    "qui ont rempli leur livret, puis des femmes. \n",
    "\n",
    "On devrait appliquer ce test à l'ensemble des variables de baseline : *bg_age*, *bg_married*, *bg_num_children*, *bg_educ*, *bg_rosca*, *bg_rosca_contrib_lyr*. **Mais pour être plus bref on fera le test sur deux variables : *bg_age*, et *bg_educ***. Conclure."
   ]
  },
  {
   "cell_type": "code",
   "execution_count": null,
   "metadata": {},
   "outputs": [],
   "source": []
  },
  {
   "cell_type": "markdown",
   "metadata": {},
   "source": [
    "On dispose de la variable d'ouverture du compte : *opened_acct* = 1 si le compte épargne a été ouvert par l'individu, 0 sinon. L'adhésion au traitement (ouverture effective d'un compte-épargne suite à assignation\n",
    "au traitement) est-elle parfaite ?"
   ]
  },
  {
   "cell_type": "code",
   "execution_count": null,
   "metadata": {},
   "outputs": [],
   "source": []
  },
  {
   "cell_type": "markdown",
   "metadata": {},
   "source": [
    "On aurait souhaité imposer que tous les traités adoptent le compte épargne, tandis\n",
    "qu'aucun des individus du groupe de contrôle n'y ait accès. Quel est le problème que\n",
    "poserait une telle expérience ?"
   ]
  },
  {
   "cell_type": "markdown",
   "metadata": {},
   "source": [
    "### 3. Analyse des résultats\n",
    "\n",
    "On s'intéresse maintenant à l'effet du programme de gratuité du compte\n",
    "épargne sur le niveau d'épargne, et au delà sur le niveau d'investissement dans la microentreprise.\n",
    "\n",
    "Soient :\n",
    "- $Y_i$ la variable dépendante (niveau d'épargne : *bank_savings*, niveau d'investissement : *investment_t5*, nombre d'heures travaillées : *total_hours*, revenus de l'entreprise : *revenues_t5*) ;\n",
    "- $D_i$ une variable qui vaut 1 si l'individu a été assigné au groupe de traitement : *treatment*,\n",
    "- $X_i$ la matrice de l'ensemble des variables de contrôle : statut marital *bg_married*, nombre d'enfants *bg_num_children*, âge *bg_age*, alphabétisation *bg_kis_read*, et enfin les variables de stratification : hommes vendeurs *bg_malevendor*, taxi-bicyclettes\n",
    "*bg_boda*."
   ]
  },
  {
   "cell_type": "markdown",
   "metadata": {},
   "source": [
    "On se retreint au sous-échantillon des personnes qui ont rempli lelivret jusqu'à la fin (*inlogs*=\"Rempli\"). On estime d'abord un modèle très simple par MCO : $Y_{i} = \\alpha +  \\gamma D_{i} + \\epsilon_{i}$\n",
    "\n",
    "a) Mesure-t-on le TOT ou l'ITT ?\n",
    "\n",
    "b) Estimer avec comme variable dépendante l'épargne : *bank_savings*. Interpréter.\n",
    "\n",
    "c) Calculer le TOT. Est-ce logique qu'il soit plus élevé que l'ITT ?"
   ]
  },
  {
   "cell_type": "code",
   "execution_count": null,
   "metadata": {},
   "outputs": [],
   "source": []
  },
  {
   "cell_type": "markdown",
   "metadata": {},
   "source": [
    "On estime ensuite l'ITT avec un modèle linéaire multiple: $Y_{i} = \\alpha + X_{i} \\beta + \\gamma D_{i} + \\epsilon_{i}$. \n",
    "\n",
    "a) Pourquoi ajouter des variables de contrôle à la régression simple?\n",
    "\n",
    "b) Estimer (cf. ci-dessus pour définition de $X_i$) et interpréter. \n",
    "\n",
    "c) Ajouter \"femmes vendeurs\" ($bg\\_femalevendor$, soit la troisième catégorie de stratification avec hommes vendeurs et taxi-bicyclette) dans la matrice des variables de contrôle $X_{i}$. Que se passe-t-il? Pourquoi?"
   ]
  },
  {
   "cell_type": "code",
   "execution_count": null,
   "metadata": {},
   "outputs": [],
   "source": []
  },
  {
   "cell_type": "markdown",
   "metadata": {},
   "source": [
    "Représentez côte à côte dans un graphique l'effet causal mesuré das le modèle simple et dans le modèle multiple. "
   ]
  },
  {
   "cell_type": "code",
   "execution_count": null,
   "metadata": {},
   "outputs": [],
   "source": []
  },
  {
   "cell_type": "markdown",
   "metadata": {},
   "source": [
    "### 4. Réflexion\n",
    "\n",
    "Il s'avère que ce compte épargne n'est pas comme un compte standard : il ne rapporte pas d'intérêt, et il comporte même un coût de dépôt et de retrait ; pour ainsi dire, le taux d'intérêt\n",
    "réel est négatif ( !)\n",
    "\n",
    "Pourquoi utiliser ce compte dans ces conditions ? Au delà de l'étude de la causalité, l'économiste doit chercher à expliquer le mécanisme qui amène les individus à bénéficier d'un compte épargne même à taux d'intéret négatif.\n",
    "\n",
    "a) Selon vous, quelles peuvent être les motivations des individus pour épargner sur ce compte au lieu de réinvestir directement dans leur entreprise (ce qui leur éviterait le taux négatif) ?\n",
    "\n",
    "b) Selon vous, quelles peuvent être les motivations des individus pour épargner sur ce compte au lieu d'épargner chez soi ?"
   ]
  },
  {
   "cell_type": "code",
   "execution_count": null,
   "metadata": {},
   "outputs": [],
   "source": []
  }
 ],
 "metadata": {
  "kernelspec": {
   "display_name": "R",
   "language": "R",
   "name": "ir"
  },
  "language_info": {
   "codemirror_mode": "r",
   "file_extension": ".r",
   "mimetype": "text/x-r-source",
   "name": "R",
   "pygments_lexer": "r",
   "version": "3.6.1"
  }
 },
 "nbformat": 4,
 "nbformat_minor": 2
}
